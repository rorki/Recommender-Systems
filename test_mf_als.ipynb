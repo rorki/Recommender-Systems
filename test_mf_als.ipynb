{
 "cells": [
  {
   "cell_type": "code",
   "execution_count": 64,
   "metadata": {},
   "outputs": [
    {
     "data": {
      "text/plain": [
       "<module 'mf_als' from 'C:\\\\Users\\\\irina\\\\Dev\\\\master\\\\mf_als.py'>"
      ]
     },
     "execution_count": 64,
     "metadata": {},
     "output_type": "execute_result"
    }
   ],
   "source": [
    "import pandas as pd\n",
    "#init random seed\n",
    "import numpy as np\n",
    "from sklearn.model_selection import train_test_split\n",
    "from matrix_factorization_with_als import MF\n",
    "import mf_als\n",
    "from sklearn.metrics import mean_squared_error, mean_absolute_error\n",
    "from imp import reload\n",
    "reload(mf_als)"
   ]
  },
  {
   "cell_type": "code",
   "execution_count": 65,
   "metadata": {},
   "outputs": [],
   "source": [
    "df = pd.read_json(r'D:\\Datasets\\amazon_reviews\\processed\\reviews_Toys_and_Games_5.json')"
   ]
  },
  {
   "cell_type": "code",
   "execution_count": 66,
   "metadata": {},
   "outputs": [],
   "source": [
    "df_train, df_test = train_test_split(df, test_size = 0.3, stratify=df['reviewerID'], random_state=42)"
   ]
  },
  {
   "cell_type": "code",
   "execution_count": 67,
   "metadata": {},
   "outputs": [],
   "source": [
    "pivoted = df_train.pivot(index = 'reviewerID', columns = 'asin', values = 'overall')\n",
    "pivoted = pivoted.fillna(0.)"
   ]
  },
  {
   "cell_type": "code",
   "execution_count": 68,
   "metadata": {},
   "outputs": [],
   "source": [
    "rating_matrix = pivoted.values"
   ]
  },
  {
   "cell_type": "code",
   "execution_count": 69,
   "metadata": {},
   "outputs": [],
   "source": [
    "mf = mf_als.MF(k=15, rating_matrix=rating_matrix, lambda_u=0.01, lambda_v=0.01)"
   ]
  },
  {
   "cell_type": "code",
   "execution_count": 70,
   "metadata": {},
   "outputs": [
    {
     "name": "stdout",
     "output_type": "stream",
     "text": [
      "Epoch  0  error  4.11723306607147\n",
      "MSE: 1.5175759578683083\n",
      "MAE: 1.1223835490811394\n",
      "Epoch  1  error  4.080536321675118\n",
      "Epoch  2  error  4.060242996077528\n",
      "Epoch  3  error  4.046898040138394\n",
      "Epoch  4  error  4.0367987437324055\n",
      "Epoch  5  error  4.028512115878082\n",
      "MSE: 1.357399358683545\n",
      "MAE: 1.0325139620266515\n",
      "Epoch  6  error  4.021301945556858\n",
      "Epoch  7  error  4.014845710302877\n",
      "Epoch  8  error  4.008942131827233\n",
      "Epoch  9  error  4.0034867839691515\n",
      "Epoch  10  error  3.998371935896285\n",
      "MSE: 1.3314376641181118\n",
      "MAE: 1.0178810101975415\n",
      "Epoch  11  error  3.99355636255975\n",
      "Epoch  12  error  3.9889661588685805\n",
      "Epoch  13  error  3.984590875030638\n",
      "Epoch  14  error  3.980400208633726\n",
      "Epoch  15  error  3.976381006874041\n",
      "MSE: 1.3142085303953326\n",
      "MAE: 1.0082200206749934\n",
      "Epoch  16  error  3.9725156014150116\n",
      "Epoch  17  error  3.9687925128114507\n",
      "Epoch  18  error  3.965199652165322\n",
      "Epoch  19  error  3.961728652153048\n",
      "Epoch  20  error  3.9583715100745835\n",
      "MSE: 1.3014679913493472\n",
      "MAE: 1.0011349734592805\n",
      "Epoch  21  error  3.955121452215338\n",
      "Epoch  22  error  3.9519698553014004\n",
      "Epoch  23  error  3.9489101147851233\n",
      "Epoch  24  error  3.945937350524569\n",
      "Epoch  25  error  3.9430473934722516\n",
      "MSE: 1.291326766275553\n",
      "MAE: 0.9956626185927682\n",
      "Epoch  26  error  3.940236576306506\n",
      "Epoch  27  error  3.93750085167148\n",
      "Epoch  28  error  3.934835381722545\n",
      "Epoch  29  error  3.9322361631846943\n",
      "Epoch  30  error  3.9297004658167176\n",
      "MSE: 1.283016711578873\n",
      "MAE: 0.9912900193532499\n",
      "Epoch  31  error  3.927225943840147\n",
      "Epoch  32  error  3.9248102932716047\n",
      "Epoch  33  error  3.922451156870235\n",
      "Epoch  34  error  3.9201462123961983\n",
      "Epoch  35  error  3.9178932169503162\n",
      "MSE: 1.2760548457349306\n",
      "MAE: 0.9876785390779135\n",
      "Epoch  36  error  3.9156899801258813\n",
      "Epoch  37  error  3.9135343497032875\n",
      "Epoch  38  error  3.9114242573139464\n",
      "Epoch  39  error  3.90935782940948\n",
      "Epoch  40  error  3.9073334921279694\n",
      "MSE: 1.2700284261038757\n",
      "MAE: 0.9845912250479837\n",
      "Epoch  41  error  3.905349845074716\n",
      "Epoch  42  error  3.903405435475375\n",
      "Epoch  43  error  3.9014987346462684\n",
      "Epoch  44  error  3.899628232688338\n"
     ]
    },
    {
     "ename": "MemoryError",
     "evalue": "",
     "output_type": "error",
     "traceback": [
      "\u001b[0;31m---------------------------------------------------------------------------\u001b[0m",
      "\u001b[0;31mMemoryError\u001b[0m                               Traceback (most recent call last)",
      "\u001b[0;32m<ipython-input-70-19d42dd830b2>\u001b[0m in \u001b[0;36m<module>\u001b[0;34m()\u001b[0m\n\u001b[1;32m      1\u001b[0m \u001b[0;32mfor\u001b[0m \u001b[0me\u001b[0m \u001b[0;32min\u001b[0m \u001b[0mrange\u001b[0m\u001b[0;34m(\u001b[0m\u001b[0;36m200\u001b[0m\u001b[0;34m)\u001b[0m\u001b[0;34m:\u001b[0m\u001b[0;34m\u001b[0m\u001b[0m\n\u001b[0;32m----> 2\u001b[0;31m     \u001b[0mU\u001b[0m \u001b[0;34m,\u001b[0m \u001b[0mV\u001b[0m\u001b[0;34m,\u001b[0m \u001b[0mbeta_u\u001b[0m\u001b[0;34m,\u001b[0m \u001b[0mbeta_v\u001b[0m\u001b[0;34m,\u001b[0m \u001b[0merr\u001b[0m \u001b[0;34m=\u001b[0m \u001b[0mmf\u001b[0m\u001b[0;34m.\u001b[0m\u001b[0mALS\u001b[0m\u001b[0;34m(\u001b[0m\u001b[0;34m)\u001b[0m\u001b[0;34m\u001b[0m\u001b[0m\n\u001b[0m\u001b[1;32m      3\u001b[0m     \u001b[0mprint\u001b[0m\u001b[0;34m(\u001b[0m\u001b[0;34m'Epoch '\u001b[0m\u001b[0;34m,\u001b[0m \u001b[0me\u001b[0m\u001b[0;34m,\u001b[0m \u001b[0;34m' error '\u001b[0m\u001b[0;34m,\u001b[0m \u001b[0merr\u001b[0m\u001b[0;34m)\u001b[0m\u001b[0;34m\u001b[0m\u001b[0m\n\u001b[1;32m      4\u001b[0m \u001b[0;34m\u001b[0m\u001b[0m\n\u001b[1;32m      5\u001b[0m     \u001b[0;32mif\u001b[0m \u001b[0me\u001b[0m \u001b[0;34m%\u001b[0m \u001b[0;36m5\u001b[0m \u001b[0;34m==\u001b[0m \u001b[0;36m0\u001b[0m\u001b[0;34m:\u001b[0m\u001b[0;34m\u001b[0m\u001b[0m\n",
      "\u001b[0;32mC:\\Users\\irina\\Dev\\master\\mf_als.py\u001b[0m in \u001b[0;36mALS\u001b[0;34m(self)\u001b[0m\n\u001b[1;32m     40\u001b[0m \u001b[0;34m\u001b[0m\u001b[0m\n\u001b[1;32m     41\u001b[0m         \u001b[0mpred\u001b[0m \u001b[0;34m=\u001b[0m \u001b[0mnp\u001b[0m\u001b[0;34m.\u001b[0m\u001b[0mdot\u001b[0m\u001b[0;34m(\u001b[0m\u001b[0mself\u001b[0m\u001b[0;34m.\u001b[0m\u001b[0mX\u001b[0m\u001b[0;34m,\u001b[0m  \u001b[0mself\u001b[0m\u001b[0;34m.\u001b[0m\u001b[0mY\u001b[0m\u001b[0;34m.\u001b[0m\u001b[0mT\u001b[0m\u001b[0;34m)\u001b[0m \u001b[0;34m+\u001b[0m \u001b[0mself\u001b[0m\u001b[0;34m.\u001b[0m\u001b[0mbeta_y\u001b[0m \u001b[0;34m+\u001b[0m \u001b[0mself\u001b[0m\u001b[0;34m.\u001b[0m\u001b[0mbeta_x\u001b[0m\u001b[0;34m.\u001b[0m\u001b[0mreshape\u001b[0m\u001b[0;34m(\u001b[0m\u001b[0;34m-\u001b[0m\u001b[0;36m1\u001b[0m\u001b[0;34m,\u001b[0m \u001b[0;36m1\u001b[0m\u001b[0;34m)\u001b[0m\u001b[0;34m\u001b[0m\u001b[0m\n\u001b[0;32m---> 42\u001b[0;31m         \u001b[0merr\u001b[0m \u001b[0;34m=\u001b[0m \u001b[0mmean_squared_error\u001b[0m\u001b[0;34m(\u001b[0m\u001b[0mself\u001b[0m\u001b[0;34m.\u001b[0m\u001b[0mQ\u001b[0m\u001b[0;34m,\u001b[0m \u001b[0mpred\u001b[0m\u001b[0;34m)\u001b[0m \u001b[0;34m**\u001b[0m \u001b[0;36m0.5\u001b[0m\u001b[0;34m\u001b[0m\u001b[0m\n\u001b[0m\u001b[1;32m     43\u001b[0m         \u001b[0;32mreturn\u001b[0m \u001b[0mself\u001b[0m\u001b[0;34m.\u001b[0m\u001b[0mX\u001b[0m\u001b[0;34m,\u001b[0m \u001b[0mself\u001b[0m\u001b[0;34m.\u001b[0m\u001b[0mY\u001b[0m\u001b[0;34m,\u001b[0m \u001b[0mself\u001b[0m\u001b[0;34m.\u001b[0m\u001b[0mbeta_x\u001b[0m\u001b[0;34m,\u001b[0m \u001b[0mself\u001b[0m\u001b[0;34m.\u001b[0m\u001b[0mbeta_y\u001b[0m\u001b[0;34m,\u001b[0m \u001b[0merr\u001b[0m\u001b[0;34m\u001b[0m\u001b[0m\n\u001b[1;32m     44\u001b[0m \u001b[0;34m\u001b[0m\u001b[0m\n",
      "\u001b[0;32mC:\\Users\\irina\\Miniconda3\\envs\\exmc\\lib\\site-packages\\sklearn\\metrics\\regression.py\u001b[0m in \u001b[0;36mmean_squared_error\u001b[0;34m(y_true, y_pred, sample_weight, multioutput)\u001b[0m\n\u001b[1;32m    237\u001b[0m     y_type, y_true, y_pred, multioutput = _check_reg_targets(\n\u001b[1;32m    238\u001b[0m         y_true, y_pred, multioutput)\n\u001b[0;32m--> 239\u001b[0;31m     output_errors = np.average((y_true - y_pred) ** 2, axis=0,\n\u001b[0m\u001b[1;32m    240\u001b[0m                                weights=sample_weight)\n\u001b[1;32m    241\u001b[0m     \u001b[0;32mif\u001b[0m \u001b[0misinstance\u001b[0m\u001b[0;34m(\u001b[0m\u001b[0mmultioutput\u001b[0m\u001b[0;34m,\u001b[0m \u001b[0mstring_types\u001b[0m\u001b[0;34m)\u001b[0m\u001b[0;34m:\u001b[0m\u001b[0;34m\u001b[0m\u001b[0m\n",
      "\u001b[0;31mMemoryError\u001b[0m: "
     ]
    }
   ],
   "source": [
    "for e in range(200):\n",
    "    U , V, beta_u, beta_v, err = mf.ALS()\n",
    "    print('Epoch ', e, ' error ', err)\n",
    "    \n",
    "    if e % 5 == 0:\n",
    "        test()"
   ]
  },
  {
   "cell_type": "code",
   "execution_count": 51,
   "metadata": {},
   "outputs": [],
   "source": [
    "predictions = np.mean(rating_matrix) +  np.dot(U, V.T) + beta_u.reshape(-1, 1) + beta_v"
   ]
  },
  {
   "cell_type": "code",
   "execution_count": 52,
   "metadata": {},
   "outputs": [
    {
     "name": "stdout",
     "output_type": "stream",
     "text": [
      "MSE (non zero): 0.10411304602241836\n",
      "MAE (non zero): 3.9231425063914873\n"
     ]
    }
   ],
   "source": [
    "# train set\n",
    "print(\"MSE (non zero): %s\" % mean_squared_error(rating_matrix[rating_matrix > 0], predictions[rating_matrix > 0]) ** 0.5)\n",
    "print(\"MAE (non zero): %s\" % mean_absolute_error(rating_matrix[rating_matrix > 0], predictions[rating_matrix > 0]))"
   ]
  },
  {
   "cell_type": "code",
   "execution_count": 29,
   "metadata": {},
   "outputs": [],
   "source": [
    "# test set\n",
    "def test():\n",
    "    predictions = np.mean(rating_matrix) + np.dot(U, V.T) + beta_v + beta_u.reshape(-1, 1)\n",
    "    preds_df_unmelt = pd.DataFrame(predictions, columns = pivoted.columns, index = pivoted.index)\n",
    "    preds_df_unmelt.index.name = 'reviewerID'\n",
    "    preds_df_unmelt.columns.name = 'asin'\n",
    "    df_test_val = df_test.copy()\n",
    "    df_test_val['value'] = 0\n",
    "\n",
    "    def get_val(x):\n",
    "        if x['reviewerID'] in preds_df_unmelt.index:\n",
    "            if x['asin'] in preds_df_unmelt.columns:\n",
    "                return preds_df_unmelt.loc[x['reviewerID'], x['asin']]\n",
    "        return None\n",
    "\n",
    "    df_test_val['value'] = df_test_val.apply(get_val, axis = 1)\n",
    "\n",
    "    mse = mean_squared_error(df_test_val[~df_test_val.value.isnull()].overall, df_test_val[~df_test_val.value.isnull()].value) ** 0.5\n",
    "    mae = mean_absolute_error(df_test_val[~df_test_val.value.isnull()].overall, df_test_val[~df_test_val.value.isnull()].value)\n",
    "\n",
    "    print(\"MSE: %s\" % mse)\n",
    "    print(\"MAE: %s\" % mae)"
   ]
  },
  {
   "cell_type": "code",
   "execution_count": null,
   "metadata": {},
   "outputs": [],
   "source": [
    "# for lambdas 0.1 => MSE: 1.4\n",
    "    "
   ]
  }
 ],
 "metadata": {
  "kernelspec": {
   "display_name": "Python 3",
   "language": "python",
   "name": "python3"
  },
  "language_info": {
   "codemirror_mode": {
    "name": "ipython",
    "version": 3
   },
   "file_extension": ".py",
   "mimetype": "text/x-python",
   "name": "python",
   "nbconvert_exporter": "python",
   "pygments_lexer": "ipython3",
   "version": "3.5.5"
  }
 },
 "nbformat": 4,
 "nbformat_minor": 2
}
