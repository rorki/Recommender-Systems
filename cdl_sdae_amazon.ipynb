{
 "cells": [
  {
   "cell_type": "markdown",
   "metadata": {},
   "source": [
    "# CDL for Amazon datasets"
   ]
  },
  {
   "cell_type": "code",
   "execution_count": 1,
   "metadata": {},
   "outputs": [],
   "source": [
    "import pickle\n",
    "import tensorflow as tf\n",
    "import pandas as pd\n",
    "from sklearn.metrics import mean_squared_error, mean_absolute_error\n",
    "from helpful_stuff.utils_xp_out import write_to_csv, XPDescription, XPResults\n",
    "from helpful_stuff.utils_metrics import precision_recall_at_k_4arrays\n",
    "from helpful_stuff.utils_model_out import make_out_dirs\n",
    "from models.model_cdl_sdae_sgd import CDL\n",
    "import models.mf_sgd\n",
    "from models.dataset import DataSet"
   ]
  },
  {
   "cell_type": "code",
   "execution_count": 2,
   "metadata": {},
   "outputs": [
    {
     "name": "stdout",
     "output_type": "stream",
     "text": [
      "Out dir of experiment:  D:/Models/thesis/sdae-sgd/test/\n",
      "Out dir of U, V matricies:  D:/Models/thesis/sdae-sgd/test/pickles/\n",
      "Out dir of model parameters:  D:/Models/thesis/sdae-sgd/test/tf/\n"
     ]
    }
   ],
   "source": [
    "### create all necessary dirs for output ###\n",
    "\n",
    "XP_PATH, U_V_PATH, MODEL_PATH = make_out_dirs(model_name='sdae-sgd', xp_name='test') \n",
    "print(\"Out dir of experiment: \", XP_PATH)\n",
    "print(\"Out dir of U, V matricies: \", U_V_PATH)\n",
    "print(\"Out dir of model parameters: \", MODEL_PATH)"
   ]
  },
  {
   "cell_type": "markdown",
   "metadata": {},
   "source": [
    "## Prepare Data"
   ]
  },
  {
   "cell_type": "code",
   "execution_count": 3,
   "metadata": {},
   "outputs": [],
   "source": [
    "df = pd.read_json(r'D:\\Datasets\\amazon_reviews\\processed\\reviews_Video_Games_5.json')"
   ]
  },
  {
   "cell_type": "code",
   "execution_count": 4,
   "metadata": {},
   "outputs": [
    {
     "data": {
      "text/html": [
       "<div>\n",
       "<style scoped>\n",
       "    .dataframe tbody tr th:only-of-type {\n",
       "        vertical-align: middle;\n",
       "    }\n",
       "\n",
       "    .dataframe tbody tr th {\n",
       "        vertical-align: top;\n",
       "    }\n",
       "\n",
       "    .dataframe thead th {\n",
       "        text-align: right;\n",
       "    }\n",
       "</style>\n",
       "<table border=\"1\" class=\"dataframe\">\n",
       "  <thead>\n",
       "    <tr style=\"text-align: right;\">\n",
       "      <th></th>\n",
       "      <th>asin</th>\n",
       "      <th>helpful</th>\n",
       "      <th>overall</th>\n",
       "      <th>reviewText</th>\n",
       "      <th>reviewTextProc</th>\n",
       "      <th>reviewTime</th>\n",
       "      <th>reviewerID</th>\n",
       "      <th>reviewerName</th>\n",
       "      <th>summary</th>\n",
       "      <th>summaryProc</th>\n",
       "      <th>unixReviewTime</th>\n",
       "    </tr>\n",
       "  </thead>\n",
       "  <tbody>\n",
       "    <tr>\n",
       "      <th>0</th>\n",
       "      <td>0700099867</td>\n",
       "      <td>[8, 12]</td>\n",
       "      <td>1</td>\n",
       "      <td>Installing the game was a struggle (because of...</td>\n",
       "      <td>instal game struggle game window live bugs).so...</td>\n",
       "      <td>07 9, 2012</td>\n",
       "      <td>A2HD75EMZR8QLN</td>\n",
       "      <td>123</td>\n",
       "      <td>Pay to unlock content? I don't think so.</td>\n",
       "      <td>pay unlock content i not think</td>\n",
       "      <td>1341792000</td>\n",
       "    </tr>\n",
       "    <tr>\n",
       "      <th>1</th>\n",
       "      <td>0700099867</td>\n",
       "      <td>[0, 0]</td>\n",
       "      <td>4</td>\n",
       "      <td>If you like rally cars get this game you will ...</td>\n",
       "      <td>if like rally car game fun it orient 34;europe...</td>\n",
       "      <td>06 30, 2013</td>\n",
       "      <td>A3UR8NLLY1ZHCX</td>\n",
       "      <td>Alejandro Henao \"Electronic Junky\"</td>\n",
       "      <td>Good rally game</td>\n",
       "      <td>good rally game</td>\n",
       "      <td>1372550400</td>\n",
       "    </tr>\n",
       "  </tbody>\n",
       "</table>\n",
       "</div>"
      ],
      "text/plain": [
       "         asin  helpful  overall  \\\n",
       "0  0700099867  [8, 12]        1   \n",
       "1  0700099867   [0, 0]        4   \n",
       "\n",
       "                                          reviewText  \\\n",
       "0  Installing the game was a struggle (because of...   \n",
       "1  If you like rally cars get this game you will ...   \n",
       "\n",
       "                                      reviewTextProc   reviewTime  \\\n",
       "0  instal game struggle game window live bugs).so...   07 9, 2012   \n",
       "1  if like rally car game fun it orient 34;europe...  06 30, 2013   \n",
       "\n",
       "       reviewerID                        reviewerName  \\\n",
       "0  A2HD75EMZR8QLN                                 123   \n",
       "1  A3UR8NLLY1ZHCX  Alejandro Henao \"Electronic Junky\"   \n",
       "\n",
       "                                    summary                     summaryProc  \\\n",
       "0  Pay to unlock content? I don't think so.  pay unlock content i not think   \n",
       "1                           Good rally game                 good rally game   \n",
       "\n",
       "   unixReviewTime  \n",
       "0      1341792000  \n",
       "1      1372550400  "
      ]
     },
     "execution_count": 4,
     "metadata": {},
     "output_type": "execute_result"
    }
   ],
   "source": [
    "df.head(2)"
   ]
  },
  {
   "cell_type": "code",
   "execution_count": 5,
   "metadata": {},
   "outputs": [],
   "source": [
    "df ['review'] = df.reviewTextProc + ' ' + df.summaryProc\n",
    "reviews = df.groupby('asin').review.agg(' '.join)\n",
    "reviews = pd.DataFrame(reviews)\n",
    "reviews = reviews.reset_index()"
   ]
  },
  {
   "cell_type": "code",
   "execution_count": 6,
   "metadata": {},
   "outputs": [
    {
     "name": "stdout",
     "output_type": "stream",
     "text": [
      "Filled in 0 empty reviews: []...\n"
     ]
    }
   ],
   "source": [
    "ds = DataSet(df_ratings=df, rating_cols=['reviewerID', 'asin', 'overall'], df_reviews=reviews, review_cols=['asin', 'review'])"
   ]
  },
  {
   "cell_type": "code",
   "execution_count": 9,
   "metadata": {},
   "outputs": [],
   "source": [
    "del reviews, df"
   ]
  },
  {
   "cell_type": "markdown",
   "metadata": {},
   "source": [
    "## Training"
   ]
  },
  {
   "cell_type": "code",
   "execution_count": 10,
   "metadata": {},
   "outputs": [
    {
     "name": "stdin",
     "output_type": "stream",
     "text": [
      "Once deleted, variables cannot be recovered. Proceed (y/[n])?  y\n"
     ]
    },
    {
     "name": "stdout",
     "output_type": "stream",
     "text": [
      "Flushing output cache (1 entries)\n"
     ]
    }
   ],
   "source": [
    "%reset Out"
   ]
  },
  {
   "cell_type": "code",
   "execution_count": 11,
   "metadata": {},
   "outputs": [
    {
     "name": "stdout",
     "output_type": "stream",
     "text": [
      "Noising of reviews\n",
      "Start training...\n",
      "EPOCH 1 / 50\n",
      "ALS LOSS RMSE = 1.1505558827879898, MAE = 0.9037118074328621\n",
      "MODEL LOSS 576.12103\n",
      "AUTOENCODER LOSS 135.31882\n",
      "VALIDATION LOSS 1.1592505657665906\n",
      "EPOCH 2 / 50\n",
      "ALS LOSS RMSE = 1.1197453489949587, MAE = 0.8779702279376952\n",
      "MODEL LOSS 135.97928\n",
      "AUTOENCODER LOSS 132.1906\n",
      "VALIDATION LOSS 1.1390084504144624\n",
      "EPOCH 3 / 50\n",
      "ALS LOSS RMSE = 1.0968466609434462, MAE = 0.8586397172751435\n",
      "MODEL LOSS 134.65172\n",
      "AUTOENCODER LOSS 132.1922\n",
      "VALIDATION LOSS 1.1254126374585418\n",
      "EPOCH 4 / 50\n",
      "ALS LOSS RMSE = 1.0783039919143662, MAE = 0.8429767355623358\n",
      "MODEL LOSS 134.40883\n",
      "AUTOENCODER LOSS 132.23149\n",
      "VALIDATION LOSS 1.1153087984142394\n",
      "EPOCH 5 / 50\n",
      "ALS LOSS RMSE = 1.06260920690077, MAE = 0.8296863494894282\n",
      "MODEL LOSS 134.3356\n",
      "AUTOENCODER LOSS 132.30417\n",
      "VALIDATION LOSS 1.1073054268318248\n",
      "EPOCH 6 / 50\n",
      "ALS LOSS RMSE = 1.0489278196253082, MAE = 0.8180280797593228\n",
      "MODEL LOSS 134.18665\n",
      "AUTOENCODER LOSS 132.23872\n",
      "VALIDATION LOSS 1.1007958763428867\n",
      "EPOCH 7 / 50\n",
      "ALS LOSS RMSE = 1.0367887623493763, MAE = 0.8076186676120942\n",
      "MODEL LOSS 134.15463\n",
      "AUTOENCODER LOSS 132.28455\n",
      "VALIDATION LOSS 1.0953186626048705\n",
      "EPOCH 8 / 50\n",
      "ALS LOSS RMSE = 1.0258349812960124, MAE = 0.7981710026630021\n",
      "MODEL LOSS 134.04399\n",
      "AUTOENCODER LOSS 132.19284\n",
      "VALIDATION LOSS 1.0906785674438861\n",
      "EPOCH 9 / 50\n",
      "ALS LOSS RMSE = 1.0159555713945523, MAE = 0.7895569330738682\n",
      "MODEL LOSS 134.0803\n",
      "AUTOENCODER LOSS 132.24843\n",
      "VALIDATION LOSS 1.086671368553716\n",
      "EPOCH 10 / 50\n",
      "ALS LOSS RMSE = 1.0068665727716088, MAE = 0.7816053944379833\n",
      "MODEL LOSS 134.02673\n",
      "AUTOENCODER LOSS 132.22032\n",
      "VALIDATION LOSS 1.0831933025846576\n",
      "EPOCH 11 / 50\n",
      "ALS LOSS RMSE = 0.9985006955453786, MAE = 0.7742156361785917\n",
      "MODEL LOSS 134.05957\n",
      "AUTOENCODER LOSS 132.26698\n",
      "VALIDATION LOSS 1.0801800941215487\n",
      "EPOCH 12 / 50\n",
      "ALS LOSS RMSE = 0.9907452100292036, MAE = 0.767290904578043\n",
      "MODEL LOSS 133.96858\n",
      "AUTOENCODER LOSS 132.19875\n",
      "VALIDATION LOSS 1.0775232375318384\n",
      "EPOCH 13 / 50\n",
      "ALS LOSS RMSE = 0.9834920754449205, MAE = 0.7607961564333081\n",
      "MODEL LOSS 133.9814\n",
      "AUTOENCODER LOSS 132.21547\n",
      "VALIDATION LOSS 1.0751524880017025\n",
      "EPOCH 14 / 50\n",
      "ALS LOSS RMSE = 0.9767337166769607, MAE = 0.7546902641377934\n",
      "MODEL LOSS 134.01593\n",
      "AUTOENCODER LOSS 132.23715\n",
      "VALIDATION LOSS 1.0731392820900072\n",
      "EPOCH 15 / 50\n",
      "ALS LOSS RMSE = 0.9705818979223976, MAE = 0.7491118276841389\n",
      "MODEL LOSS 133.90157\n",
      "AUTOENCODER LOSS 132.12303\n",
      "VALIDATION LOSS 1.0713475500917973\n",
      "EPOCH 16 / 50\n",
      "ALS LOSS RMSE = 0.9647047719482369, MAE = 0.7437522852357926\n",
      "MODEL LOSS 133.93767\n",
      "AUTOENCODER LOSS 132.16486\n",
      "VALIDATION LOSS 1.0697601359037738\n",
      "EPOCH 17 / 50\n",
      "ALS LOSS RMSE = 0.959168677237813, MAE = 0.7386798585842664\n",
      "MODEL LOSS 133.86716\n",
      "AUTOENCODER LOSS 132.09387\n",
      "VALIDATION LOSS 1.0683312695268863\n",
      "EPOCH 18 / 50\n",
      "ALS LOSS RMSE = 0.9538862340702962, MAE = 0.7338099041200208\n",
      "MODEL LOSS 133.95055\n",
      "AUTOENCODER LOSS 132.17155\n",
      "VALIDATION LOSS 1.0671169232903448\n",
      "EPOCH 19 / 50\n",
      "ALS LOSS RMSE = 0.9490591624949862, MAE = 0.7293642597319957\n",
      "MODEL LOSS 133.98749\n",
      "AUTOENCODER LOSS 132.22163\n",
      "VALIDATION LOSS 1.065987381953024\n",
      "EPOCH 20 / 50\n",
      "ALS LOSS RMSE = 0.944302043352877, MAE = 0.7249509214625329\n",
      "MODEL LOSS 133.93704\n",
      "AUTOENCODER LOSS 132.17068\n",
      "VALIDATION LOSS 1.0650194277487808\n",
      "EPOCH 21 / 50\n",
      "ALS LOSS RMSE = 0.9399567330464256, MAE = 0.7209305792885535\n",
      "MODEL LOSS 133.96281\n",
      "AUTOENCODER LOSS 132.19115\n",
      "VALIDATION LOSS 1.0642143461741416\n",
      "EPOCH 22 / 50\n",
      "ALS LOSS RMSE = 0.9359011751916579, MAE = 0.7171690175442916\n",
      "MODEL LOSS 133.8627\n",
      "AUTOENCODER LOSS 132.09763\n",
      "VALIDATION LOSS 1.0635215426707212\n",
      "EPOCH 23 / 50\n",
      "ALS LOSS RMSE = 0.9319154249389483, MAE = 0.7134406111550428\n",
      "MODEL LOSS 133.92255\n",
      "AUTOENCODER LOSS 132.1587\n",
      "VALIDATION LOSS 1.0628217130995188\n",
      "EPOCH 24 / 50\n",
      "ALS LOSS RMSE = 0.9280200385837107, MAE = 0.7097961691687537\n",
      "MODEL LOSS 133.87346\n",
      "AUTOENCODER LOSS 132.09892\n",
      "VALIDATION LOSS 1.0622546592263664\n",
      "EPOCH 25 / 50\n",
      "ALS LOSS RMSE = 0.924515979944198, MAE = 0.7064974795716554\n",
      "MODEL LOSS 133.94128\n",
      "AUTOENCODER LOSS 132.14417\n",
      "VALIDATION LOSS 1.0617216567359646\n",
      "EPOCH 26 / 50\n",
      "ALS LOSS RMSE = 0.9211679933323014, MAE = 0.7033586325618727\n",
      "MODEL LOSS 133.80907\n",
      "AUTOENCODER LOSS 132.03664\n",
      "VALIDATION LOSS 1.0614057115872235\n",
      "EPOCH 27 / 50\n",
      "ALS LOSS RMSE = 0.9179779390644073, MAE = 0.7003541004033106\n",
      "MODEL LOSS 133.8826\n",
      "AUTOENCODER LOSS 132.10208\n",
      "VALIDATION LOSS 1.0611238814512565\n",
      "EPOCH 28 / 50\n",
      "ALS LOSS RMSE = 0.9147832466673274, MAE = 0.6973566771116877\n",
      "MODEL LOSS 133.88425\n",
      "AUTOENCODER LOSS 132.1072\n",
      "VALIDATION LOSS 1.0609009337604876\n",
      "EPOCH 29 / 50\n",
      "ALS LOSS RMSE = 0.9119318506031207, MAE = 0.6946709262591572\n",
      "MODEL LOSS 133.9038\n",
      "AUTOENCODER LOSS 132.11671\n",
      "VALIDATION LOSS 1.0606858410839093\n",
      "EPOCH 30 / 50\n",
      "ALS LOSS RMSE = 0.9092159002505709, MAE = 0.6921241417783467\n",
      "MODEL LOSS 133.9202\n",
      "AUTOENCODER LOSS 132.15366\n",
      "VALIDATION LOSS 1.0605971992104801\n",
      "EPOCH 31 / 50\n",
      "ALS LOSS RMSE = 0.9065122086524501, MAE = 0.6895940162520837\n",
      "MODEL LOSS 133.969\n",
      "AUTOENCODER LOSS 132.19543\n",
      "VALIDATION LOSS 1.0605097093703184\n",
      "EPOCH 32 / 50\n",
      "ALS LOSS RMSE = 0.9037441518919825, MAE = 0.6870058026928549\n",
      "MODEL LOSS 133.92285\n",
      "AUTOENCODER LOSS 132.15157\n",
      "VALIDATION LOSS 1.0603940062892097\n",
      "EPOCH 33 / 50\n",
      "ALS LOSS RMSE = 0.9015923793331407, MAE = 0.6849569985366226\n",
      "MODEL LOSS 133.90137\n",
      "AUTOENCODER LOSS 132.12746\n",
      "VALIDATION LOSS 1.0604551453564857\n",
      "EPOCH 34 / 50\n",
      "Stopping early because loss 1.0603940062892097 is larger than past losses [1.0604551453564857, 1.0604330947752167]\n"
     ]
    }
   ],
   "source": [
    "cdl = CDL(ds, out_path=XP_PATH, k=25, hidden_size=100, \n",
    "          matrix_noise=0.3, drop_ratio=0.1, epochs=50,\n",
    "          lambda_w=1, lambda_v=1, lambda_n=10, lambda_q = 10)\n",
    "mu, pu, qi, bu, bi = cdl.training() #188910"
   ]
  },
  {
   "cell_type": "code",
   "execution_count": 12,
   "metadata": {},
   "outputs": [
    {
     "name": "stdout",
     "output_type": "stream",
     "text": [
      "pu shape: 24303 x 25\n",
      "qi shape: 10672 x 25\n",
      "beta_u shape: 24303\n",
      "beta_i shape: 10672\n"
     ]
    }
   ],
   "source": [
    "## dump U and V matricies to pickle files\n",
    "print(\"pu shape: %s x %s\" % pu.shape)\n",
    "print(\"qi shape: %s x %s\" % qi.shape)\n",
    "\n",
    "print(\"beta_u shape: %s\" % bu.shape)\n",
    "print(\"beta_i shape: %s\" % bi.shape)\n",
    "\n",
    "with open(U_V_PATH + 'mx.pickle', 'wb') as handle:\n",
    "    pickle.dump({'mu':mu, 'pu':pu, 'qi':qi, 'bu':bu, 'bi':bi}, handle, protocol=pickle.HIGHEST_PROTOCOL)"
   ]
  },
  {
   "cell_type": "markdown",
   "metadata": {},
   "source": [
    "## Evaluation"
   ]
  },
  {
   "cell_type": "code",
   "execution_count": 13,
   "metadata": {},
   "outputs": [],
   "source": [
    "test_preds = models.mf_sgd.SGD.predict_dataset_with_params(ds.get_test_rating_matrix(), mu, bu, bi, qi, pu)"
   ]
  },
  {
   "cell_type": "code",
   "execution_count": 14,
   "metadata": {},
   "outputs": [
    {
     "name": "stdout",
     "output_type": "stream",
     "text": [
      "MSE: 1.0673504415211237\n",
      "MAE: 0.8100296409187724\n"
     ]
    }
   ],
   "source": [
    "mse = mean_squared_error(ds.testset.rate__, test_preds) ** 0.5\n",
    "mae = mean_absolute_error(ds.testset.rate__, test_preds)\n",
    "\n",
    "print(\"MSE: %s\" % mse)\n",
    "print(\"MAE: %s\" % mae)"
   ]
  },
  {
   "cell_type": "code",
   "execution_count": 28,
   "metadata": {},
   "outputs": [],
   "source": [
    "k_prec = {}\n",
    "k_rec = {}\n",
    "\n",
    "for k in range(0, 200):\n",
    "    precisions, recalls = precision_recall_at_k_4arrays(ds.testset.uid__, test_preds, ds.testset.rate__, k=k, threshold=3) \n",
    "    p_mean = np.mean(list(precisions.values()))\n",
    "    r_mean = np.mean(list(recalls.values()))\n",
    "    k_prec[k] = p_mean\n",
    "    k_rec[k] = r_mean"
   ]
  },
  {
   "cell_type": "code",
   "execution_count": 29,
   "metadata": {},
   "outputs": [],
   "source": [
    "row = XPResults(dataset='Video Games', xpdata=XPDescription(predictor=None, label='CDL-SDAE-SGD', nfactors=25), rmse=mse, mae=mae, precision=k_prec, recall=k_rec)"
   ]
  },
  {
   "cell_type": "code",
   "execution_count": 30,
   "metadata": {},
   "outputs": [],
   "source": [
    "write_to_csv(row, 'amazon', 'sdae_sgd_optim')"
   ]
  },
  {
   "cell_type": "markdown",
   "metadata": {},
   "source": [
    "## Optimization"
   ]
  },
  {
   "cell_type": "code",
   "execution_count": 195,
   "metadata": {},
   "outputs": [
    {
     "name": "stdin",
     "output_type": "stream",
     "text": [
      "Once deleted, variables cannot be recovered. Proceed (y/[n])?  y\n"
     ]
    },
    {
     "name": "stdout",
     "output_type": "stream",
     "text": [
      "Flushing output cache (12 entries)\n"
     ]
    }
   ],
   "source": [
    "if not os.path.isdir('./optimiz/'):\n",
    "    os.mkdir('./optimiz/')\n",
    "    \n",
    "%reset Out"
   ]
  },
  {
   "cell_type": "code",
   "execution_count": 196,
   "metadata": {},
   "outputs": [],
   "source": [
    "params = {\n",
    "    \"hidden_size\": [100, 150],\n",
    "    \"k\": [25, 50],\n",
    "    \"matrix_noise\": [0.3],\n",
    "    \"drop_ratio\": [0.1],\n",
    "    \"lambda_q\": [1, 10, 100],\n",
    "    \"lambda_v\": [0.1, 1],\n",
    "    \"lambda_w\": [1],\n",
    "    \"lambda_n\": [10, 100]\n",
    "}\n",
    "\n",
    "# k=50, hidden_size=150, matrix_noise=0.3, drop_ratio=0.1, \n",
    "# lambda_w=20, lambda_v=100, lambda_n=10, lambda_q = 0.01"
   ]
  },
  {
   "cell_type": "code",
   "execution_count": 197,
   "metadata": {},
   "outputs": [],
   "source": [
    "sorted_keys = sorted(params)\n",
    "combinations = list(it.product(*(params[key] for key in sorted_keys)))"
   ]
  },
  {
   "cell_type": "code",
   "execution_count": 198,
   "metadata": {},
   "outputs": [
    {
     "name": "stdout",
     "output_type": "stream",
     "text": [
      "Num of combinations: 48\n"
     ]
    }
   ],
   "source": [
    "print(\"Num of combinations: %s\" % len(combinations))"
   ]
  },
  {
   "cell_type": "code",
   "execution_count": 199,
   "metadata": {},
   "outputs": [],
   "source": [
    "# write header row\n",
    "write_row('./optimiz/cdl_sdae_sgd_5.csv', sorted_keys + ['rmse_train', 'mae_train', 'rmse_test', 'mae_test'])"
   ]
  },
  {
   "cell_type": "code",
   "execution_count": null,
   "metadata": {},
   "outputs": [],
   "source": [
    "for ps in combinations:\n",
    "    tf.reset_default_graph()\n",
    "    hyper_params = dict(zip(sorted_keys, ps))\n",
    "    \n",
    "    print(\"Start testing hyper params: \", hyper_params)\n",
    "    cdl = CDL(ds, out_path=None, epochs=50, **hyper_params)\n",
    "    \n",
    "    mu, pu, qi, bu, bi = cdl.training(verbose=False) #188910\n",
    "    \n",
    "    preds = mf_sgd.SGD.predict_dataset_with_params(dataset.values, mu, bu, bi, qi, pu)\n",
    "    train_rmse = mean_squared_error(df_train.overall, preds) ** 0.5\n",
    "    train_mae = mean_absolute_error(df_train.overall, preds)\n",
    "    print(\"MSE (non zero, train set): %s\" % train_rmse)\n",
    "    print(\"MAE (non zero, train set): %s\" % train_mae)\n",
    "    \n",
    "    preds = mf_sgd.SGD.predict_dataset_with_params(testset.values, mu, bu, bi, qi, pu)\n",
    "    test_rmse = mean_squared_error(df_test.overall, preds) ** 0.5\n",
    "    test_mae = mean_absolute_error(df_test.overall, preds)\n",
    "    print(\"MSE (test set): %s\" % test_rmse)\n",
    "    print(\"MAE (test set): %s\" % test_mae)\n",
    "    \n",
    "    print(\"Stop testing hyper params: \", hyper_params)\n",
    "    \n",
    "    # write to file\n",
    "    write_row('./optimiz/cdl_sdae_sgd_5.csv', [hyper_params[k] for k in sorted_keys] + [train_rmse, train_mae, test_rmse, test_mae] )"
   ]
  },
  {
   "cell_type": "code",
   "execution_count": null,
   "metadata": {},
   "outputs": [],
   "source": []
  }
 ],
 "metadata": {
  "kernelspec": {
   "display_name": "Python 3",
   "language": "python",
   "name": "python3"
  },
  "language_info": {
   "codemirror_mode": {
    "name": "ipython",
    "version": 3
   },
   "file_extension": ".py",
   "mimetype": "text/x-python",
   "name": "python",
   "nbconvert_exporter": "python",
   "pygments_lexer": "ipython3",
   "version": "3.5.5"
  }
 },
 "nbformat": 4,
 "nbformat_minor": 2
}
