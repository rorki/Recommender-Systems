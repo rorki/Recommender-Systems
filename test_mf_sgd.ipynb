{
 "cells": [
  {
   "cell_type": "markdown",
   "metadata": {},
   "source": [
    "## Test code for Matrix Factorization with SGD"
   ]
  },
  {
   "cell_type": "code",
   "execution_count": 29,
   "metadata": {},
   "outputs": [],
   "source": [
    "from mf_sgd import SGD\n",
    "import pandas as pd\n",
    "from sklearn.model_selection import train_test_split"
   ]
  },
  {
   "cell_type": "markdown",
   "metadata": {},
   "source": [
    "### Load and prepare data"
   ]
  },
  {
   "cell_type": "code",
   "execution_count": 30,
   "metadata": {},
   "outputs": [],
   "source": [
    "df = pd.read_json(r'D:\\Datasets\\amazon_reviews\\processed\\reviews_Toys_and_Games_5.json')\n",
    "df_train, df_test = train_test_split(df, test_size = 0.3, stratify=df['reviewerID'], random_state=42)"
   ]
  },
  {
   "cell_type": "code",
   "execution_count": 31,
   "metadata": {},
   "outputs": [],
   "source": [
    "df_train = df_train.copy()\n",
    "df_test = df_test.copy()"
   ]
  },
  {
   "cell_type": "code",
   "execution_count": 32,
   "metadata": {},
   "outputs": [],
   "source": [
    "asins_map = {v:k for k,v in enumerate(df_train['asin'].unique())}\n",
    "reviewers_map = {v:k for k,v in enumerate(df_train['reviewerID'].unique())}"
   ]
  },
  {
   "cell_type": "code",
   "execution_count": 33,
   "metadata": {},
   "outputs": [],
   "source": [
    "df_train['in_asin'] = df_train['asin'].map(asins_map)\n",
    "df_train['in_revID'] = df_train['reviewerID'].map(reviewers_map)\n",
    "\n",
    "df_test['in_asin'] = df_test['asin'].map(asins_map)\n",
    "df_test['in_revID'] = df_test['reviewerID'].map(reviewers_map)"
   ]
  },
  {
   "cell_type": "code",
   "execution_count": 34,
   "metadata": {},
   "outputs": [],
   "source": [
    "dataset = df_train[['in_asin', 'in_revID', 'overall']]\n",
    "df_test = df_test.dropna(subset=['in_asin'])\n",
    "df_test = df_test.astype({\"in_asin\": int})"
   ]
  },
  {
   "cell_type": "markdown",
   "metadata": {},
   "source": [
    "### Train MF with SGD"
   ]
  },
  {
   "cell_type": "code",
   "execution_count": 35,
   "metadata": {},
   "outputs": [],
   "source": [
    "sgd = SGD(dataset=dataset.values, n_users = len(reviewers_map), n_items = len(asins_map), n_factors=15)"
   ]
  },
  {
   "cell_type": "code",
   "execution_count": 36,
   "metadata": {},
   "outputs": [
    {
     "name": "stdout",
     "output_type": "stream",
     "text": [
      "Epoch 1\\25\n",
      "Running SGD...\n",
      "Epoch 2\\25\n",
      "Running SGD...\n",
      "Epoch 3\\25\n",
      "Running SGD...\n",
      "Epoch 4\\25\n",
      "Running SGD...\n",
      "Epoch 5\\25\n",
      "Running SGD...\n",
      "Epoch 6\\25\n",
      "Running SGD...\n",
      "Epoch 7\\25\n",
      "Running SGD...\n",
      "Epoch 8\\25\n",
      "Running SGD...\n",
      "Epoch 9\\25\n",
      "Running SGD...\n",
      "Epoch 10\\25\n",
      "Running SGD...\n",
      "Epoch 11\\25\n",
      "Running SGD...\n",
      "Epoch 12\\25\n",
      "Running SGD...\n",
      "Epoch 13\\25\n",
      "Running SGD...\n",
      "Epoch 14\\25\n",
      "Running SGD...\n",
      "Epoch 15\\25\n",
      "Running SGD...\n",
      "Epoch 16\\25\n",
      "Running SGD...\n",
      "Epoch 17\\25\n",
      "Running SGD...\n",
      "Epoch 18\\25\n",
      "Running SGD...\n",
      "Epoch 19\\25\n",
      "Running SGD...\n",
      "Epoch 20\\25\n",
      "Running SGD...\n",
      "Epoch 21\\25\n",
      "Running SGD...\n",
      "Epoch 22\\25\n",
      "Running SGD...\n",
      "Epoch 23\\25\n",
      "Running SGD...\n",
      "Epoch 24\\25\n",
      "Running SGD...\n",
      "Epoch 25\\25\n",
      "Running SGD...\n"
     ]
    }
   ],
   "source": [
    "mu, pu, qi, bu, bi = sgd.train(n_epochs=25)"
   ]
  },
  {
   "cell_type": "code",
   "execution_count": 37,
   "metadata": {},
   "outputs": [
    {
     "name": "stdout",
     "output_type": "stream",
     "text": [
      "Train RMSE 0.7403648948497228\n",
      "Train MAE 0.5440157673812007\n"
     ]
    }
   ],
   "source": [
    "rmse, mae = sgd.current_error()\n",
    "print('Train RMSE', rmse)\n",
    "print('Train MAE', mae)"
   ]
  },
  {
   "cell_type": "markdown",
   "metadata": {},
   "source": [
    "### Evaluate on test set"
   ]
  },
  {
   "cell_type": "code",
   "execution_count": 41,
   "metadata": {},
   "outputs": [],
   "source": [
    "test_preds = sgd.predict_dataset(df_test[['in_asin', 'in_revID', 'overall']].values)"
   ]
  },
  {
   "cell_type": "code",
   "execution_count": 43,
   "metadata": {},
   "outputs": [
    {
     "name": "stdout",
     "output_type": "stream",
     "text": [
      "RMSE 0.8954389666073621\n",
      "MAE 0.6567749586599209\n"
     ]
    }
   ],
   "source": [
    "print('RMSE', mean_squared_error(df_test.overall, test_preds) ** 0.5)\n",
    "print('MAE', mean_absolute_error(df_test.overall, test_preds))"
   ]
  }
 ],
 "metadata": {
  "kernelspec": {
   "display_name": "Python 3",
   "language": "python",
   "name": "python3"
  },
  "language_info": {
   "codemirror_mode": {
    "name": "ipython",
    "version": 3
   },
   "file_extension": ".py",
   "mimetype": "text/x-python",
   "name": "python",
   "nbconvert_exporter": "python",
   "pygments_lexer": "ipython3",
   "version": "3.5.5"
  }
 },
 "nbformat": 4,
 "nbformat_minor": 2
}
