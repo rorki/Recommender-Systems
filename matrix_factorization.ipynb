{
 "cells": [
  {
   "cell_type": "markdown",
   "metadata": {},
   "source": [
    "# Data loading & preprocessing\n"
   ]
  },
  {
   "cell_type": "code",
   "execution_count": 1,
   "metadata": {},
   "outputs": [],
   "source": [
    "import pandas as pd\n",
    "import numpy as np\n",
    "from scipy.sparse.linalg import svds\n",
    "from sklearn.model_selection import train_test_split\n",
    "from sklearn.metrics import mean_squared_error\n",
    "from scipy.sparse import csr_matrix\n",
    "from pandas.api.types import CategoricalDtype"
   ]
  },
  {
   "cell_type": "code",
   "execution_count": 2,
   "metadata": {},
   "outputs": [],
   "source": [
    "data_file = 'D:/Datasets/amazon_reviews/Video_Games_5.json'"
   ]
  },
  {
   "cell_type": "code",
   "execution_count": 3,
   "metadata": {},
   "outputs": [],
   "source": [
    "df = pd.read_json(data_file, lines = True)"
   ]
  },
  {
   "cell_type": "code",
   "execution_count": 4,
   "metadata": {},
   "outputs": [
    {
     "data": {
      "text/html": [
       "<div>\n",
       "<style scoped>\n",
       "    .dataframe tbody tr th:only-of-type {\n",
       "        vertical-align: middle;\n",
       "    }\n",
       "\n",
       "    .dataframe tbody tr th {\n",
       "        vertical-align: top;\n",
       "    }\n",
       "\n",
       "    .dataframe thead th {\n",
       "        text-align: right;\n",
       "    }\n",
       "</style>\n",
       "<table border=\"1\" class=\"dataframe\">\n",
       "  <thead>\n",
       "    <tr style=\"text-align: right;\">\n",
       "      <th></th>\n",
       "      <th>asin</th>\n",
       "      <th>helpful</th>\n",
       "      <th>overall</th>\n",
       "      <th>reviewText</th>\n",
       "      <th>reviewTime</th>\n",
       "      <th>reviewerID</th>\n",
       "      <th>reviewerName</th>\n",
       "      <th>summary</th>\n",
       "      <th>unixReviewTime</th>\n",
       "    </tr>\n",
       "  </thead>\n",
       "  <tbody>\n",
       "    <tr>\n",
       "      <th>0</th>\n",
       "      <td>0700099867</td>\n",
       "      <td>[8, 12]</td>\n",
       "      <td>1</td>\n",
       "      <td>Installing the game was a struggle (because of...</td>\n",
       "      <td>07 9, 2012</td>\n",
       "      <td>A2HD75EMZR8QLN</td>\n",
       "      <td>123</td>\n",
       "      <td>Pay to unlock content? I don't think so.</td>\n",
       "      <td>1341792000</td>\n",
       "    </tr>\n",
       "    <tr>\n",
       "      <th>1</th>\n",
       "      <td>0700099867</td>\n",
       "      <td>[0, 0]</td>\n",
       "      <td>4</td>\n",
       "      <td>If you like rally cars get this game you will ...</td>\n",
       "      <td>06 30, 2013</td>\n",
       "      <td>A3UR8NLLY1ZHCX</td>\n",
       "      <td>Alejandro Henao \"Electronic Junky\"</td>\n",
       "      <td>Good rally game</td>\n",
       "      <td>1372550400</td>\n",
       "    </tr>\n",
       "  </tbody>\n",
       "</table>\n",
       "</div>"
      ],
      "text/plain": [
       "         asin  helpful  overall  \\\n",
       "0  0700099867  [8, 12]        1   \n",
       "1  0700099867   [0, 0]        4   \n",
       "\n",
       "                                          reviewText   reviewTime  \\\n",
       "0  Installing the game was a struggle (because of...   07 9, 2012   \n",
       "1  If you like rally cars get this game you will ...  06 30, 2013   \n",
       "\n",
       "       reviewerID                        reviewerName  \\\n",
       "0  A2HD75EMZR8QLN                                 123   \n",
       "1  A3UR8NLLY1ZHCX  Alejandro Henao \"Electronic Junky\"   \n",
       "\n",
       "                                    summary  unixReviewTime  \n",
       "0  Pay to unlock content? I don't think so.      1341792000  \n",
       "1                           Good rally game      1372550400  "
      ]
     },
     "execution_count": 4,
     "metadata": {},
     "output_type": "execute_result"
    }
   ],
   "source": [
    "df.head(2)"
   ]
  },
  {
   "cell_type": "code",
   "execution_count": 5,
   "metadata": {},
   "outputs": [
    {
     "data": {
      "text/plain": [
       "10672"
      ]
     },
     "execution_count": 5,
     "metadata": {},
     "output_type": "execute_result"
    }
   ],
   "source": [
    "df['asin'].nunique()"
   ]
  },
  {
   "cell_type": "code",
   "execution_count": 6,
   "metadata": {},
   "outputs": [
    {
     "data": {
      "text/plain": [
       "24303"
      ]
     },
     "execution_count": 6,
     "metadata": {},
     "output_type": "execute_result"
    }
   ],
   "source": [
    "df['reviewerID'].nunique()"
   ]
  },
  {
   "cell_type": "code",
   "execution_count": 19,
   "metadata": {},
   "outputs": [],
   "source": [
    "df_train, df_test = train_test_split(df, test_size=0.25, random_state=42)"
   ]
  },
  {
   "cell_type": "code",
   "execution_count": 20,
   "metadata": {},
   "outputs": [],
   "source": [
    "df_train = df_train.copy()"
   ]
  },
  {
   "cell_type": "code",
   "execution_count": 21,
   "metadata": {},
   "outputs": [
    {
     "data": {
      "text/plain": [
       "1564515"
      ]
     },
     "execution_count": 21,
     "metadata": {},
     "output_type": "execute_result"
    }
   ],
   "source": [
    "df_train.size"
   ]
  },
  {
   "cell_type": "code",
   "execution_count": 22,
   "metadata": {},
   "outputs": [
    {
     "data": {
      "text/plain": [
       "521505"
      ]
     },
     "execution_count": 22,
     "metadata": {},
     "output_type": "execute_result"
    }
   ],
   "source": [
    "df_test.size"
   ]
  },
  {
   "cell_type": "code",
   "execution_count": 23,
   "metadata": {},
   "outputs": [],
   "source": [
    "indexes = df_train.overall > 0"
   ]
  },
  {
   "cell_type": "code",
   "execution_count": 24,
   "metadata": {},
   "outputs": [],
   "source": [
    "mean_ = df_train[indexes].groupby('asin')['overall'].mean()"
   ]
  },
  {
   "cell_type": "code",
   "execution_count": 25,
   "metadata": {},
   "outputs": [],
   "source": [
    "df_train['overall'] = df_train.apply(lambda x: x.overall - mean_[x.asin] if x.overall != 0 else 0, axis = 1)"
   ]
  },
  {
   "cell_type": "code",
   "execution_count": 27,
   "metadata": {},
   "outputs": [
    {
     "data": {
      "text/html": [
       "<div>\n",
       "<style scoped>\n",
       "    .dataframe tbody tr th:only-of-type {\n",
       "        vertical-align: middle;\n",
       "    }\n",
       "\n",
       "    .dataframe tbody tr th {\n",
       "        vertical-align: top;\n",
       "    }\n",
       "\n",
       "    .dataframe thead th {\n",
       "        text-align: right;\n",
       "    }\n",
       "</style>\n",
       "<table border=\"1\" class=\"dataframe\">\n",
       "  <thead>\n",
       "    <tr style=\"text-align: right;\">\n",
       "      <th></th>\n",
       "      <th>asin</th>\n",
       "      <th>helpful</th>\n",
       "      <th>overall</th>\n",
       "      <th>reviewText</th>\n",
       "      <th>reviewTime</th>\n",
       "      <th>reviewerID</th>\n",
       "      <th>reviewerName</th>\n",
       "      <th>summary</th>\n",
       "      <th>unixReviewTime</th>\n",
       "    </tr>\n",
       "  </thead>\n",
       "  <tbody>\n",
       "    <tr>\n",
       "      <th>164069</th>\n",
       "      <td>B003XDRIYC</td>\n",
       "      <td>[0, 0]</td>\n",
       "      <td>0.300000</td>\n",
       "      <td>These Game reminds of Different Games from the...</td>\n",
       "      <td>01 15, 2013</td>\n",
       "      <td>ALG4EPVIH8MNY</td>\n",
       "      <td>Cindi Svoboda \"Daniel J\"</td>\n",
       "      <td>A Fun and Awesome Game.</td>\n",
       "      <td>1358208000</td>\n",
       "    </tr>\n",
       "    <tr>\n",
       "      <th>190366</th>\n",
       "      <td>B0056WJA6M</td>\n",
       "      <td>[1, 1]</td>\n",
       "      <td>0.885714</td>\n",
       "      <td>Def as good as the first one. It was a nice ch...</td>\n",
       "      <td>03 16, 2013</td>\n",
       "      <td>A2T7VQOECHJ5JW</td>\n",
       "      <td>Tammi Timmons</td>\n",
       "      <td>Great game</td>\n",
       "      <td>1363392000</td>\n",
       "    </tr>\n",
       "    <tr>\n",
       "      <th>10576</th>\n",
       "      <td>B00004SVTL</td>\n",
       "      <td>[0, 0]</td>\n",
       "      <td>0.750000</td>\n",
       "      <td>I legitimately remember saying that to my moth...</td>\n",
       "      <td>03 9, 2014</td>\n",
       "      <td>A26W7B1A24LBJM</td>\n",
       "      <td>OhNoMyTurn</td>\n",
       "      <td>\"I want to be a Rad Racer!\"</td>\n",
       "      <td>1394323200</td>\n",
       "    </tr>\n",
       "    <tr>\n",
       "      <th>66439</th>\n",
       "      <td>B000F1WDHW</td>\n",
       "      <td>[0, 0]</td>\n",
       "      <td>-0.224138</td>\n",
       "      <td>Not a bad option for 360 headset. Plug is not ...</td>\n",
       "      <td>10 18, 2009</td>\n",
       "      <td>A17LDNW8GIFID1</td>\n",
       "      <td>J. Moore</td>\n",
       "      <td>Serviceable</td>\n",
       "      <td>1255824000</td>\n",
       "    </tr>\n",
       "    <tr>\n",
       "      <th>169601</th>\n",
       "      <td>B004CVQUGQ</td>\n",
       "      <td>[0, 0]</td>\n",
       "      <td>-0.705882</td>\n",
       "      <td>Champion mode is a complete joke.  It's like t...</td>\n",
       "      <td>03 21, 2012</td>\n",
       "      <td>A1H5XDZZQLFLFT</td>\n",
       "      <td>Super</td>\n",
       "      <td>Expected so much more</td>\n",
       "      <td>1332288000</td>\n",
       "    </tr>\n",
       "  </tbody>\n",
       "</table>\n",
       "</div>"
      ],
      "text/plain": [
       "              asin helpful   overall  \\\n",
       "164069  B003XDRIYC  [0, 0]  0.300000   \n",
       "190366  B0056WJA6M  [1, 1]  0.885714   \n",
       "10576   B00004SVTL  [0, 0]  0.750000   \n",
       "66439   B000F1WDHW  [0, 0] -0.224138   \n",
       "169601  B004CVQUGQ  [0, 0] -0.705882   \n",
       "\n",
       "                                               reviewText   reviewTime  \\\n",
       "164069  These Game reminds of Different Games from the...  01 15, 2013   \n",
       "190366  Def as good as the first one. It was a nice ch...  03 16, 2013   \n",
       "10576   I legitimately remember saying that to my moth...   03 9, 2014   \n",
       "66439   Not a bad option for 360 headset. Plug is not ...  10 18, 2009   \n",
       "169601  Champion mode is a complete joke.  It's like t...  03 21, 2012   \n",
       "\n",
       "            reviewerID              reviewerName                      summary  \\\n",
       "164069   ALG4EPVIH8MNY  Cindi Svoboda \"Daniel J\"      A Fun and Awesome Game.   \n",
       "190366  A2T7VQOECHJ5JW             Tammi Timmons                   Great game   \n",
       "10576   A26W7B1A24LBJM                OhNoMyTurn  \"I want to be a Rad Racer!\"   \n",
       "66439   A17LDNW8GIFID1                  J. Moore                  Serviceable   \n",
       "169601  A1H5XDZZQLFLFT                     Super        Expected so much more   \n",
       "\n",
       "        unixReviewTime  \n",
       "164069      1358208000  \n",
       "190366      1363392000  \n",
       "10576       1394323200  \n",
       "66439       1255824000  \n",
       "169601      1332288000  "
      ]
     },
     "execution_count": 27,
     "metadata": {},
     "output_type": "execute_result"
    }
   ],
   "source": [
    "df_train.head(5)"
   ]
  },
  {
   "cell_type": "markdown",
   "metadata": {},
   "source": [
    "# Simple model with CF"
   ]
  },
  {
   "cell_type": "code",
   "execution_count": 28,
   "metadata": {},
   "outputs": [],
   "source": [
    "asin = CategoricalDtype(sorted(df_train.asin.unique()), ordered=True)\n",
    "rev_id = CategoricalDtype(sorted(df_train.reviewerID.unique()), ordered=True)\n",
    "\n",
    "row_cat = df_train.reviewerID.astype(rev_id).cat\n",
    "col_cat = df_train.asin.astype(asin).cat\n",
    "\n",
    "row = row_cat.codes\n",
    "col = col_cat.codes\n",
    "\n",
    "sparse_matrix = csr_matrix((df_train[\"overall\"], (row, col)), \\\n",
    "                           shape=(rev_id.categories.size, asin.categories.size), dtype = 'd')"
   ]
  },
  {
   "cell_type": "code",
   "execution_count": 29,
   "metadata": {},
   "outputs": [],
   "source": [
    "rating_mx = sparse_matrix"
   ]
  },
  {
   "cell_type": "code",
   "execution_count": 14,
   "metadata": {},
   "outputs": [
    {
     "ename": "ValueError",
     "evalue": "shape mismatch in assignment",
     "output_type": "error",
     "traceback": [
      "\u001b[0;31m---------------------------------------------------------------------------\u001b[0m",
      "\u001b[0;31mValueError\u001b[0m                                Traceback (most recent call last)",
      "\u001b[0;32m<ipython-input-14-eb2b36ffba04>\u001b[0m in \u001b[0;36m<module>\u001b[0;34m()\u001b[0m\n\u001b[0;32m----> 1\u001b[0;31m \u001b[0mrating_mx\u001b[0m\u001b[0;34m[\u001b[0m\u001b[0mrating_mx\u001b[0m \u001b[0;34m>\u001b[0m \u001b[0;36m0\u001b[0m\u001b[0;34m]\u001b[0m \u001b[0;34m=\u001b[0m \u001b[0mrating_mx\u001b[0m\u001b[0;34m[\u001b[0m\u001b[0mrating_mx\u001b[0m \u001b[0;34m>\u001b[0m \u001b[0;36m0\u001b[0m\u001b[0;34m]\u001b[0m \u001b[0;34m-\u001b[0m \u001b[0muser_ratings_mean\u001b[0m\u001b[0;34m\u001b[0m\u001b[0m\n\u001b[0m",
      "\u001b[0;32mC:\\Users\\irina\\Miniconda3\\envs\\exmc\\lib\\site-packages\\scipy\\sparse\\compressed.py\u001b[0m in \u001b[0;36m__setitem__\u001b[0;34m(self, index, x)\u001b[0m\n\u001b[1;32m    660\u001b[0m \u001b[0;34m\u001b[0m\u001b[0m\n\u001b[1;32m    661\u001b[0m             \u001b[0;32mif\u001b[0m \u001b[0mx\u001b[0m\u001b[0;34m.\u001b[0m\u001b[0mshape\u001b[0m \u001b[0;34m!=\u001b[0m \u001b[0mi\u001b[0m\u001b[0;34m.\u001b[0m\u001b[0mshape\u001b[0m\u001b[0;34m:\u001b[0m\u001b[0;34m\u001b[0m\u001b[0m\n\u001b[0;32m--> 662\u001b[0;31m                 \u001b[0;32mraise\u001b[0m \u001b[0mValueError\u001b[0m\u001b[0;34m(\u001b[0m\u001b[0;34m\"shape mismatch in assignment\"\u001b[0m\u001b[0;34m)\u001b[0m\u001b[0;34m\u001b[0m\u001b[0m\n\u001b[0m\u001b[1;32m    663\u001b[0m \u001b[0;34m\u001b[0m\u001b[0m\n\u001b[1;32m    664\u001b[0m         \u001b[0;32mif\u001b[0m \u001b[0mnp\u001b[0m\u001b[0;34m.\u001b[0m\u001b[0msize\u001b[0m\u001b[0;34m(\u001b[0m\u001b[0mx\u001b[0m\u001b[0;34m)\u001b[0m \u001b[0;34m==\u001b[0m \u001b[0;36m0\u001b[0m\u001b[0;34m:\u001b[0m\u001b[0;34m\u001b[0m\u001b[0m\n",
      "\u001b[0;31mValueError\u001b[0m: shape mismatch in assignment"
     ]
    }
   ],
   "source": [
    "rating_mx[rating_mx > 0] = rating_mx[rating_mx > 0] - user_ratings_mean"
   ]
  },
  {
   "cell_type": "code",
   "execution_count": 13,
   "metadata": {},
   "outputs": [],
   "source": [
    "#rating_mx = df_pivot.values\n",
    "user_ratings_mean =  rating_mx.sum(1) / (rating_mx > 0).sum(1)\n",
    "#rating_mx = rating_mx - user_ratings_mean # - user_ratings_mean.reshape(-1, 1)"
   ]
  },
  {
   "cell_type": "code",
   "execution_count": 60,
   "metadata": {},
   "outputs": [
    {
     "name": "stdout",
     "output_type": "stream",
     "text": [
      "Mean user rating: \n",
      "[[5.        ]\n",
      " [4.28571429]\n",
      " [4.66666667]\n",
      " ...\n",
      " [3.4       ]\n",
      " [4.33333333]\n",
      " [4.28571429]]\n"
     ]
    }
   ],
   "source": [
    "print(\"Mean user rating: \\n\" + str(user_ratings_mean))"
   ]
  },
  {
   "cell_type": "code",
   "execution_count": 30,
   "metadata": {},
   "outputs": [],
   "source": [
    "U, sigma, Vt = svds(rating_mx, k = 50)\n",
    "sigma = np.diag(sigma)"
   ]
  },
  {
   "cell_type": "code",
   "execution_count": 31,
   "metadata": {},
   "outputs": [
    {
     "name": "stdout",
     "output_type": "stream",
     "text": [
      "Shapes: \n",
      "U \t (24293, 50)\n",
      "sigma \t (50, 50)\n",
      "Vt \t (50, 10671)\n"
     ]
    }
   ],
   "source": [
    "print ('Shapes: ')\n",
    "print ('U \\t {0}'.format(U.shape))\n",
    "print ('sigma \\t {0}'.format(sigma.shape))\n",
    "print ('Vt \\t {0}'.format(Vt.shape))\n"
   ]
  },
  {
   "cell_type": "markdown",
   "metadata": {},
   "source": [
    "# Make predictions"
   ]
  },
  {
   "cell_type": "code",
   "execution_count": 32,
   "metadata": {},
   "outputs": [],
   "source": [
    "all_user_predicted_ratings = csr_matrix(U) * csr_matrix(sigma) * csr_matrix(Vt)\n",
    "#all_user_predicted_ratings = np.dot(np.dot(U, sigma), Vt) + user_ratings_mean.reshape(-1, 1)"
   ]
  },
  {
   "cell_type": "code",
   "execution_count": null,
   "metadata": {},
   "outputs": [],
   "source": [
    "all_user_predicted_ratings = all_user_predicted_ratings + user_ratings_mean"
   ]
  },
  {
   "cell_type": "code",
   "execution_count": 33,
   "metadata": {},
   "outputs": [],
   "source": [
    "reviewers = df_train.reviewerID.astype(rev_id).cat.categories\n",
    "asins = df_train.asin.astype(asin).cat.categories\n",
    "\n",
    "preds_df = pd.DataFrame(all_user_predicted_ratings.todense(), columns = asins, index = reviewers)"
   ]
  },
  {
   "cell_type": "code",
   "execution_count": 34,
   "metadata": {},
   "outputs": [
    {
     "data": {
      "text/html": [
       "<div>\n",
       "<style scoped>\n",
       "    .dataframe tbody tr th:only-of-type {\n",
       "        vertical-align: middle;\n",
       "    }\n",
       "\n",
       "    .dataframe tbody tr th {\n",
       "        vertical-align: top;\n",
       "    }\n",
       "\n",
       "    .dataframe thead th {\n",
       "        text-align: right;\n",
       "    }\n",
       "</style>\n",
       "<table border=\"1\" class=\"dataframe\">\n",
       "  <thead>\n",
       "    <tr style=\"text-align: right;\">\n",
       "      <th>asin</th>\n",
       "      <th>0700099867</th>\n",
       "      <th>6050036071</th>\n",
       "      <th>7100027950</th>\n",
       "      <th>7293000936</th>\n",
       "      <th>8176503290</th>\n",
       "      <th>907843905X</th>\n",
       "      <th>9625990674</th>\n",
       "      <th>9861019731</th>\n",
       "      <th>9882155456</th>\n",
       "      <th>B000003SQQ</th>\n",
       "      <th>...</th>\n",
       "      <th>B00J128FPA</th>\n",
       "      <th>B00J226358</th>\n",
       "      <th>B00J6DLPLK</th>\n",
       "      <th>B00J9P3KBS</th>\n",
       "      <th>B00JM3R6M6</th>\n",
       "      <th>B00JQ8YH6A</th>\n",
       "      <th>B00JQHU9RC</th>\n",
       "      <th>B00JXW6GE0</th>\n",
       "      <th>B00KAI3KW2</th>\n",
       "      <th>B00KHECZXO</th>\n",
       "    </tr>\n",
       "    <tr>\n",
       "      <th>reviewerID</th>\n",
       "      <th></th>\n",
       "      <th></th>\n",
       "      <th></th>\n",
       "      <th></th>\n",
       "      <th></th>\n",
       "      <th></th>\n",
       "      <th></th>\n",
       "      <th></th>\n",
       "      <th></th>\n",
       "      <th></th>\n",
       "      <th></th>\n",
       "      <th></th>\n",
       "      <th></th>\n",
       "      <th></th>\n",
       "      <th></th>\n",
       "      <th></th>\n",
       "      <th></th>\n",
       "      <th></th>\n",
       "      <th></th>\n",
       "      <th></th>\n",
       "      <th></th>\n",
       "    </tr>\n",
       "  </thead>\n",
       "  <tbody>\n",
       "    <tr>\n",
       "      <th>A00263941WP7WCIL7AKWL</th>\n",
       "      <td>-1.889716e-07</td>\n",
       "      <td>4.796539e-08</td>\n",
       "      <td>3.580005e-07</td>\n",
       "      <td>-3.177841e-08</td>\n",
       "      <td>-3.373070e-08</td>\n",
       "      <td>-4.712821e-08</td>\n",
       "      <td>2.988064e-08</td>\n",
       "      <td>3.547024e-22</td>\n",
       "      <td>2.967329e-07</td>\n",
       "      <td>4.054175e-22</td>\n",
       "      <td>...</td>\n",
       "      <td>-5.208379e-07</td>\n",
       "      <td>0.000005</td>\n",
       "      <td>3.586771e-07</td>\n",
       "      <td>6.892489e-08</td>\n",
       "      <td>0.000003</td>\n",
       "      <td>-8.733546e-08</td>\n",
       "      <td>2.452015e-07</td>\n",
       "      <td>1.906143e-07</td>\n",
       "      <td>0.000003</td>\n",
       "      <td>-1.032144e-07</td>\n",
       "    </tr>\n",
       "    <tr>\n",
       "      <th>A005481137I9SCAWEF7ON</th>\n",
       "      <td>-1.870730e-03</td>\n",
       "      <td>1.284753e-04</td>\n",
       "      <td>8.128109e-04</td>\n",
       "      <td>-1.451596e-04</td>\n",
       "      <td>-8.025300e-05</td>\n",
       "      <td>-7.605974e-05</td>\n",
       "      <td>1.346054e-04</td>\n",
       "      <td>4.382931e-19</td>\n",
       "      <td>2.535152e-04</td>\n",
       "      <td>4.547477e-19</td>\n",
       "      <td>...</td>\n",
       "      <td>-3.029652e-04</td>\n",
       "      <td>0.002961</td>\n",
       "      <td>5.642068e-05</td>\n",
       "      <td>-3.238605e-04</td>\n",
       "      <td>0.000887</td>\n",
       "      <td>-1.622220e-05</td>\n",
       "      <td>-3.670354e-04</td>\n",
       "      <td>2.608258e-04</td>\n",
       "      <td>-0.004388</td>\n",
       "      <td>-5.659587e-05</td>\n",
       "    </tr>\n",
       "  </tbody>\n",
       "</table>\n",
       "<p>2 rows × 10671 columns</p>\n",
       "</div>"
      ],
      "text/plain": [
       "asin                     0700099867    6050036071    7100027950    7293000936  \\\n",
       "reviewerID                                                                      \n",
       "A00263941WP7WCIL7AKWL -1.889716e-07  4.796539e-08  3.580005e-07 -3.177841e-08   \n",
       "A005481137I9SCAWEF7ON -1.870730e-03  1.284753e-04  8.128109e-04 -1.451596e-04   \n",
       "\n",
       "asin                     8176503290    907843905X    9625990674    9861019731  \\\n",
       "reviewerID                                                                      \n",
       "A00263941WP7WCIL7AKWL -3.373070e-08 -4.712821e-08  2.988064e-08  3.547024e-22   \n",
       "A005481137I9SCAWEF7ON -8.025300e-05 -7.605974e-05  1.346054e-04  4.382931e-19   \n",
       "\n",
       "asin                     9882155456    B000003SQQ      ...         B00J128FPA  \\\n",
       "reviewerID                                             ...                      \n",
       "A00263941WP7WCIL7AKWL  2.967329e-07  4.054175e-22      ...      -5.208379e-07   \n",
       "A005481137I9SCAWEF7ON  2.535152e-04  4.547477e-19      ...      -3.029652e-04   \n",
       "\n",
       "asin                   B00J226358    B00J6DLPLK    B00J9P3KBS  B00JM3R6M6  \\\n",
       "reviewerID                                                                  \n",
       "A00263941WP7WCIL7AKWL    0.000005  3.586771e-07  6.892489e-08    0.000003   \n",
       "A005481137I9SCAWEF7ON    0.002961  5.642068e-05 -3.238605e-04    0.000887   \n",
       "\n",
       "asin                     B00JQ8YH6A    B00JQHU9RC    B00JXW6GE0  B00KAI3KW2  \\\n",
       "reviewerID                                                                    \n",
       "A00263941WP7WCIL7AKWL -8.733546e-08  2.452015e-07  1.906143e-07    0.000003   \n",
       "A005481137I9SCAWEF7ON -1.622220e-05 -3.670354e-04  2.608258e-04   -0.004388   \n",
       "\n",
       "asin                     B00KHECZXO  \n",
       "reviewerID                           \n",
       "A00263941WP7WCIL7AKWL -1.032144e-07  \n",
       "A005481137I9SCAWEF7ON -5.659587e-05  \n",
       "\n",
       "[2 rows x 10671 columns]"
      ]
     },
     "execution_count": 34,
     "metadata": {},
     "output_type": "execute_result"
    }
   ],
   "source": [
    "preds_df.index.name = 'reviewerID'\n",
    "preds_df.columns.name = 'asin'\n",
    "\n",
    "preds_df.head(2)"
   ]
  },
  {
   "cell_type": "code",
   "execution_count": 35,
   "metadata": {},
   "outputs": [],
   "source": [
    "preds = preds_df.reset_index().melt('reviewerID', var_name='asin')"
   ]
  },
  {
   "cell_type": "code",
   "execution_count": 38,
   "metadata": {},
   "outputs": [
    {
     "data": {
      "text/html": [
       "<div>\n",
       "<style scoped>\n",
       "    .dataframe tbody tr th:only-of-type {\n",
       "        vertical-align: middle;\n",
       "    }\n",
       "\n",
       "    .dataframe tbody tr th {\n",
       "        vertical-align: top;\n",
       "    }\n",
       "\n",
       "    .dataframe thead th {\n",
       "        text-align: right;\n",
       "    }\n",
       "</style>\n",
       "<table border=\"1\" class=\"dataframe\">\n",
       "  <thead>\n",
       "    <tr style=\"text-align: right;\">\n",
       "      <th></th>\n",
       "      <th>reviewerID</th>\n",
       "      <th>asin</th>\n",
       "      <th>value</th>\n",
       "    </tr>\n",
       "  </thead>\n",
       "  <tbody>\n",
       "    <tr>\n",
       "      <th>0</th>\n",
       "      <td>A00263941WP7WCIL7AKWL</td>\n",
       "      <td>0700099867</td>\n",
       "      <td>-1.889716e-07</td>\n",
       "    </tr>\n",
       "    <tr>\n",
       "      <th>1</th>\n",
       "      <td>A005481137I9SCAWEF7ON</td>\n",
       "      <td>0700099867</td>\n",
       "      <td>-1.870730e-03</td>\n",
       "    </tr>\n",
       "  </tbody>\n",
       "</table>\n",
       "</div>"
      ],
      "text/plain": [
       "              reviewerID        asin         value\n",
       "0  A00263941WP7WCIL7AKWL  0700099867 -1.889716e-07\n",
       "1  A005481137I9SCAWEF7ON  0700099867 -1.870730e-03"
      ]
     },
     "execution_count": 38,
     "metadata": {},
     "output_type": "execute_result"
    }
   ],
   "source": [
    "preds.head(2)"
   ]
  },
  {
   "cell_type": "code",
   "execution_count": 40,
   "metadata": {},
   "outputs": [
    {
     "data": {
      "text/plain": [
       "(259230603, 3)"
      ]
     },
     "execution_count": 40,
     "metadata": {},
     "output_type": "execute_result"
    }
   ],
   "source": [
    "preds.shape"
   ]
  },
  {
   "cell_type": "code",
   "execution_count": 41,
   "metadata": {},
   "outputs": [
    {
     "ename": "MemoryError",
     "evalue": "",
     "output_type": "error",
     "traceback": [
      "\u001b[0;31m---------------------------------------------------------------------------\u001b[0m",
      "\u001b[0;31mMemoryError\u001b[0m                               Traceback (most recent call last)",
      "\u001b[0;32m<ipython-input-41-df5e1298bfb7>\u001b[0m in \u001b[0;36m<module>\u001b[0;34m()\u001b[0m\n\u001b[0;32m----> 1\u001b[0;31m \u001b[0mpreds\u001b[0m\u001b[0;34m[\u001b[0m\u001b[0;34m'value_meaned'\u001b[0m\u001b[0;34m]\u001b[0m \u001b[0;34m=\u001b[0m \u001b[0;36m0\u001b[0m\u001b[0;34m\u001b[0m\u001b[0m\n\u001b[0m",
      "\u001b[0;32mC:\\Users\\irina\\Miniconda3\\envs\\exmc\\lib\\site-packages\\pandas\\core\\frame.py\u001b[0m in \u001b[0;36m__setitem__\u001b[0;34m(self, key, value)\u001b[0m\n\u001b[1;32m   3117\u001b[0m         \u001b[0;32melse\u001b[0m\u001b[0;34m:\u001b[0m\u001b[0;34m\u001b[0m\u001b[0m\n\u001b[1;32m   3118\u001b[0m             \u001b[0;31m# set column\u001b[0m\u001b[0;34m\u001b[0m\u001b[0;34m\u001b[0m\u001b[0m\n\u001b[0;32m-> 3119\u001b[0;31m             \u001b[0mself\u001b[0m\u001b[0;34m.\u001b[0m\u001b[0m_set_item\u001b[0m\u001b[0;34m(\u001b[0m\u001b[0mkey\u001b[0m\u001b[0;34m,\u001b[0m \u001b[0mvalue\u001b[0m\u001b[0;34m)\u001b[0m\u001b[0;34m\u001b[0m\u001b[0m\n\u001b[0m\u001b[1;32m   3120\u001b[0m \u001b[0;34m\u001b[0m\u001b[0m\n\u001b[1;32m   3121\u001b[0m     \u001b[0;32mdef\u001b[0m \u001b[0m_setitem_slice\u001b[0m\u001b[0;34m(\u001b[0m\u001b[0mself\u001b[0m\u001b[0;34m,\u001b[0m \u001b[0mkey\u001b[0m\u001b[0;34m,\u001b[0m \u001b[0mvalue\u001b[0m\u001b[0;34m)\u001b[0m\u001b[0;34m:\u001b[0m\u001b[0;34m\u001b[0m\u001b[0m\n",
      "\u001b[0;32mC:\\Users\\irina\\Miniconda3\\envs\\exmc\\lib\\site-packages\\pandas\\core\\frame.py\u001b[0m in \u001b[0;36m_set_item\u001b[0;34m(self, key, value)\u001b[0m\n\u001b[1;32m   3192\u001b[0m \u001b[0;34m\u001b[0m\u001b[0m\n\u001b[1;32m   3193\u001b[0m         \u001b[0mself\u001b[0m\u001b[0;34m.\u001b[0m\u001b[0m_ensure_valid_index\u001b[0m\u001b[0;34m(\u001b[0m\u001b[0mvalue\u001b[0m\u001b[0;34m)\u001b[0m\u001b[0;34m\u001b[0m\u001b[0m\n\u001b[0;32m-> 3194\u001b[0;31m         \u001b[0mvalue\u001b[0m \u001b[0;34m=\u001b[0m \u001b[0mself\u001b[0m\u001b[0;34m.\u001b[0m\u001b[0m_sanitize_column\u001b[0m\u001b[0;34m(\u001b[0m\u001b[0mkey\u001b[0m\u001b[0;34m,\u001b[0m \u001b[0mvalue\u001b[0m\u001b[0;34m)\u001b[0m\u001b[0;34m\u001b[0m\u001b[0m\n\u001b[0m\u001b[1;32m   3195\u001b[0m         \u001b[0mNDFrame\u001b[0m\u001b[0;34m.\u001b[0m\u001b[0m_set_item\u001b[0m\u001b[0;34m(\u001b[0m\u001b[0mself\u001b[0m\u001b[0;34m,\u001b[0m \u001b[0mkey\u001b[0m\u001b[0;34m,\u001b[0m \u001b[0mvalue\u001b[0m\u001b[0;34m)\u001b[0m\u001b[0;34m\u001b[0m\u001b[0m\n\u001b[1;32m   3196\u001b[0m \u001b[0;34m\u001b[0m\u001b[0m\n",
      "\u001b[0;32mC:\\Users\\irina\\Miniconda3\\envs\\exmc\\lib\\site-packages\\pandas\\core\\frame.py\u001b[0m in \u001b[0;36m_sanitize_column\u001b[0;34m(self, key, value, broadcast)\u001b[0m\n\u001b[1;32m   3408\u001b[0m         \u001b[0;32melse\u001b[0m\u001b[0;34m:\u001b[0m\u001b[0;34m\u001b[0m\u001b[0m\n\u001b[1;32m   3409\u001b[0m             \u001b[0;31m# upcast the scalar\u001b[0m\u001b[0;34m\u001b[0m\u001b[0;34m\u001b[0m\u001b[0m\n\u001b[0;32m-> 3410\u001b[0;31m             \u001b[0mvalue\u001b[0m \u001b[0;34m=\u001b[0m \u001b[0mcast_scalar_to_array\u001b[0m\u001b[0;34m(\u001b[0m\u001b[0mlen\u001b[0m\u001b[0;34m(\u001b[0m\u001b[0mself\u001b[0m\u001b[0;34m.\u001b[0m\u001b[0mindex\u001b[0m\u001b[0;34m)\u001b[0m\u001b[0;34m,\u001b[0m \u001b[0mvalue\u001b[0m\u001b[0;34m)\u001b[0m\u001b[0;34m\u001b[0m\u001b[0m\n\u001b[0m\u001b[1;32m   3411\u001b[0m             \u001b[0mvalue\u001b[0m \u001b[0;34m=\u001b[0m \u001b[0mmaybe_cast_to_datetime\u001b[0m\u001b[0;34m(\u001b[0m\u001b[0mvalue\u001b[0m\u001b[0;34m,\u001b[0m \u001b[0mvalue\u001b[0m\u001b[0;34m.\u001b[0m\u001b[0mdtype\u001b[0m\u001b[0;34m)\u001b[0m\u001b[0;34m\u001b[0m\u001b[0m\n\u001b[1;32m   3412\u001b[0m \u001b[0;34m\u001b[0m\u001b[0m\n",
      "\u001b[0;32mC:\\Users\\irina\\Miniconda3\\envs\\exmc\\lib\\site-packages\\pandas\\core\\dtypes\\cast.py\u001b[0m in \u001b[0;36mcast_scalar_to_array\u001b[0;34m(shape, value, dtype)\u001b[0m\n\u001b[1;32m   1164\u001b[0m         \u001b[0mfill_value\u001b[0m \u001b[0;34m=\u001b[0m \u001b[0mvalue\u001b[0m\u001b[0;34m\u001b[0m\u001b[0m\n\u001b[1;32m   1165\u001b[0m \u001b[0;34m\u001b[0m\u001b[0m\n\u001b[0;32m-> 1166\u001b[0;31m     \u001b[0mvalues\u001b[0m \u001b[0;34m=\u001b[0m \u001b[0mnp\u001b[0m\u001b[0;34m.\u001b[0m\u001b[0mempty\u001b[0m\u001b[0;34m(\u001b[0m\u001b[0mshape\u001b[0m\u001b[0;34m,\u001b[0m \u001b[0mdtype\u001b[0m\u001b[0;34m=\u001b[0m\u001b[0mdtype\u001b[0m\u001b[0;34m)\u001b[0m\u001b[0;34m\u001b[0m\u001b[0m\n\u001b[0m\u001b[1;32m   1167\u001b[0m     \u001b[0mvalues\u001b[0m\u001b[0;34m.\u001b[0m\u001b[0mfill\u001b[0m\u001b[0;34m(\u001b[0m\u001b[0mfill_value\u001b[0m\u001b[0;34m)\u001b[0m\u001b[0;34m\u001b[0m\u001b[0m\n\u001b[1;32m   1168\u001b[0m \u001b[0;34m\u001b[0m\u001b[0m\n",
      "\u001b[0;31mMemoryError\u001b[0m: "
     ]
    }
   ],
   "source": [
    "preds['value_meaned'] = 0"
   ]
  },
  {
   "cell_type": "code",
   "execution_count": 45,
   "metadata": {},
   "outputs": [
    {
     "ename": "KeyboardInterrupt",
     "evalue": "",
     "output_type": "error",
     "traceback": [
      "\u001b[0;31m---------------------------------------------------------------------------\u001b[0m",
      "\u001b[0;31mKeyboardInterrupt\u001b[0m                         Traceback (most recent call last)",
      "\u001b[0;32m<ipython-input-45-fd80db2b38a5>\u001b[0m in \u001b[0;36m<module>\u001b[0;34m()\u001b[0m\n\u001b[0;32m----> 1\u001b[0;31m \u001b[0mpreds\u001b[0m\u001b[0;34m[\u001b[0m\u001b[0;34m'value_meaned'\u001b[0m\u001b[0;34m]\u001b[0m \u001b[0;34m=\u001b[0m \u001b[0mpreds\u001b[0m\u001b[0;34m.\u001b[0m\u001b[0mapply\u001b[0m\u001b[0;34m(\u001b[0m\u001b[0;32mlambda\u001b[0m \u001b[0mx\u001b[0m\u001b[0;34m:\u001b[0m \u001b[0mx\u001b[0m\u001b[0;34m.\u001b[0m\u001b[0mvalue\u001b[0m \u001b[0;34m+\u001b[0m \u001b[0mmean_\u001b[0m\u001b[0;34m[\u001b[0m\u001b[0mx\u001b[0m\u001b[0;34m.\u001b[0m\u001b[0masin\u001b[0m\u001b[0;34m]\u001b[0m\u001b[0;34m,\u001b[0m \u001b[0maxis\u001b[0m \u001b[0;34m=\u001b[0m \u001b[0;36m1\u001b[0m\u001b[0;34m)\u001b[0m\u001b[0;34m\u001b[0m\u001b[0m\n\u001b[0m",
      "\u001b[0;32mC:\\Users\\irina\\Miniconda3\\envs\\exmc\\lib\\site-packages\\pandas\\core\\frame.py\u001b[0m in \u001b[0;36mapply\u001b[0;34m(self, func, axis, broadcast, raw, reduce, result_type, args, **kwds)\u001b[0m\n\u001b[1;32m   6012\u001b[0m                          \u001b[0margs\u001b[0m\u001b[0;34m=\u001b[0m\u001b[0margs\u001b[0m\u001b[0;34m,\u001b[0m\u001b[0;34m\u001b[0m\u001b[0m\n\u001b[1;32m   6013\u001b[0m                          kwds=kwds)\n\u001b[0;32m-> 6014\u001b[0;31m         \u001b[0;32mreturn\u001b[0m \u001b[0mop\u001b[0m\u001b[0;34m.\u001b[0m\u001b[0mget_result\u001b[0m\u001b[0;34m(\u001b[0m\u001b[0;34m)\u001b[0m\u001b[0;34m\u001b[0m\u001b[0m\n\u001b[0m\u001b[1;32m   6015\u001b[0m \u001b[0;34m\u001b[0m\u001b[0m\n\u001b[1;32m   6016\u001b[0m     \u001b[0;32mdef\u001b[0m \u001b[0mapplymap\u001b[0m\u001b[0;34m(\u001b[0m\u001b[0mself\u001b[0m\u001b[0;34m,\u001b[0m \u001b[0mfunc\u001b[0m\u001b[0;34m)\u001b[0m\u001b[0;34m:\u001b[0m\u001b[0;34m\u001b[0m\u001b[0m\n",
      "\u001b[0;32mC:\\Users\\irina\\Miniconda3\\envs\\exmc\\lib\\site-packages\\pandas\\core\\apply.py\u001b[0m in \u001b[0;36mget_result\u001b[0;34m(self)\u001b[0m\n\u001b[1;32m    140\u001b[0m             \u001b[0;32mreturn\u001b[0m \u001b[0mself\u001b[0m\u001b[0;34m.\u001b[0m\u001b[0mapply_raw\u001b[0m\u001b[0;34m(\u001b[0m\u001b[0;34m)\u001b[0m\u001b[0;34m\u001b[0m\u001b[0m\n\u001b[1;32m    141\u001b[0m \u001b[0;34m\u001b[0m\u001b[0m\n\u001b[0;32m--> 142\u001b[0;31m         \u001b[0;32mreturn\u001b[0m \u001b[0mself\u001b[0m\u001b[0;34m.\u001b[0m\u001b[0mapply_standard\u001b[0m\u001b[0;34m(\u001b[0m\u001b[0;34m)\u001b[0m\u001b[0;34m\u001b[0m\u001b[0m\n\u001b[0m\u001b[1;32m    143\u001b[0m \u001b[0;34m\u001b[0m\u001b[0m\n\u001b[1;32m    144\u001b[0m     \u001b[0;32mdef\u001b[0m \u001b[0mapply_empty_result\u001b[0m\u001b[0;34m(\u001b[0m\u001b[0mself\u001b[0m\u001b[0;34m)\u001b[0m\u001b[0;34m:\u001b[0m\u001b[0;34m\u001b[0m\u001b[0m\n",
      "\u001b[0;32mC:\\Users\\irina\\Miniconda3\\envs\\exmc\\lib\\site-packages\\pandas\\core\\apply.py\u001b[0m in \u001b[0;36mapply_standard\u001b[0;34m(self)\u001b[0m\n\u001b[1;32m    240\u001b[0m                                           \u001b[0maxis\u001b[0m\u001b[0;34m=\u001b[0m\u001b[0mself\u001b[0m\u001b[0;34m.\u001b[0m\u001b[0maxis\u001b[0m\u001b[0;34m,\u001b[0m\u001b[0;34m\u001b[0m\u001b[0m\n\u001b[1;32m    241\u001b[0m                                           \u001b[0mdummy\u001b[0m\u001b[0;34m=\u001b[0m\u001b[0mdummy\u001b[0m\u001b[0;34m,\u001b[0m\u001b[0;34m\u001b[0m\u001b[0m\n\u001b[0;32m--> 242\u001b[0;31m                                           labels=labels)\n\u001b[0m\u001b[1;32m    243\u001b[0m                 \u001b[0;32mreturn\u001b[0m \u001b[0mself\u001b[0m\u001b[0;34m.\u001b[0m\u001b[0mobj\u001b[0m\u001b[0;34m.\u001b[0m\u001b[0m_constructor_sliced\u001b[0m\u001b[0;34m(\u001b[0m\u001b[0mresult\u001b[0m\u001b[0;34m,\u001b[0m \u001b[0mindex\u001b[0m\u001b[0;34m=\u001b[0m\u001b[0mlabels\u001b[0m\u001b[0;34m)\u001b[0m\u001b[0;34m\u001b[0m\u001b[0m\n\u001b[1;32m    244\u001b[0m             \u001b[0;32mexcept\u001b[0m \u001b[0mException\u001b[0m\u001b[0;34m:\u001b[0m\u001b[0;34m\u001b[0m\u001b[0m\n",
      "\u001b[0;32mpandas\\_libs\\reduction.pyx\u001b[0m in \u001b[0;36mpandas._libs.reduction.reduce\u001b[0;34m()\u001b[0m\n",
      "\u001b[0;32mpandas\\_libs\\reduction.pyx\u001b[0m in \u001b[0;36mpandas._libs.reduction.Reducer.get_result\u001b[0;34m()\u001b[0m\n",
      "\u001b[0;32m<ipython-input-45-fd80db2b38a5>\u001b[0m in \u001b[0;36m<lambda>\u001b[0;34m(x)\u001b[0m\n\u001b[0;32m----> 1\u001b[0;31m \u001b[0mpreds\u001b[0m\u001b[0;34m[\u001b[0m\u001b[0;34m'value_meaned'\u001b[0m\u001b[0;34m]\u001b[0m \u001b[0;34m=\u001b[0m \u001b[0mpreds\u001b[0m\u001b[0;34m.\u001b[0m\u001b[0mapply\u001b[0m\u001b[0;34m(\u001b[0m\u001b[0;32mlambda\u001b[0m \u001b[0mx\u001b[0m\u001b[0;34m:\u001b[0m \u001b[0mx\u001b[0m\u001b[0;34m.\u001b[0m\u001b[0mvalue\u001b[0m \u001b[0;34m+\u001b[0m \u001b[0mmean_\u001b[0m\u001b[0;34m[\u001b[0m\u001b[0mx\u001b[0m\u001b[0;34m.\u001b[0m\u001b[0masin\u001b[0m\u001b[0;34m]\u001b[0m\u001b[0;34m,\u001b[0m \u001b[0maxis\u001b[0m \u001b[0;34m=\u001b[0m \u001b[0;36m1\u001b[0m\u001b[0;34m)\u001b[0m\u001b[0;34m\u001b[0m\u001b[0m\n\u001b[0m",
      "\u001b[0;32mC:\\Users\\irina\\Miniconda3\\envs\\exmc\\lib\\site-packages\\pandas\\core\\series.py\u001b[0m in \u001b[0;36m__getitem__\u001b[0;34m(self, key)\u001b[0m\n\u001b[1;32m    765\u001b[0m         \u001b[0mkey\u001b[0m \u001b[0;34m=\u001b[0m \u001b[0mcom\u001b[0m\u001b[0;34m.\u001b[0m\u001b[0m_apply_if_callable\u001b[0m\u001b[0;34m(\u001b[0m\u001b[0mkey\u001b[0m\u001b[0;34m,\u001b[0m \u001b[0mself\u001b[0m\u001b[0;34m)\u001b[0m\u001b[0;34m\u001b[0m\u001b[0m\n\u001b[1;32m    766\u001b[0m         \u001b[0;32mtry\u001b[0m\u001b[0;34m:\u001b[0m\u001b[0;34m\u001b[0m\u001b[0m\n\u001b[0;32m--> 767\u001b[0;31m             \u001b[0mresult\u001b[0m \u001b[0;34m=\u001b[0m \u001b[0mself\u001b[0m\u001b[0;34m.\u001b[0m\u001b[0mindex\u001b[0m\u001b[0;34m.\u001b[0m\u001b[0mget_value\u001b[0m\u001b[0;34m(\u001b[0m\u001b[0mself\u001b[0m\u001b[0;34m,\u001b[0m \u001b[0mkey\u001b[0m\u001b[0;34m)\u001b[0m\u001b[0;34m\u001b[0m\u001b[0m\n\u001b[0m\u001b[1;32m    768\u001b[0m \u001b[0;34m\u001b[0m\u001b[0m\n\u001b[1;32m    769\u001b[0m             \u001b[0;32mif\u001b[0m \u001b[0;32mnot\u001b[0m \u001b[0mis_scalar\u001b[0m\u001b[0;34m(\u001b[0m\u001b[0mresult\u001b[0m\u001b[0;34m)\u001b[0m\u001b[0;34m:\u001b[0m\u001b[0;34m\u001b[0m\u001b[0m\n",
      "\u001b[0;32mC:\\Users\\irina\\Miniconda3\\envs\\exmc\\lib\\site-packages\\pandas\\core\\indexes\\base.py\u001b[0m in \u001b[0;36mget_value\u001b[0;34m(self, series, key)\u001b[0m\n\u001b[1;32m   3110\u001b[0m                     \u001b[0;32mreturn\u001b[0m \u001b[0ms\u001b[0m\u001b[0;34m[\u001b[0m\u001b[0mkey\u001b[0m\u001b[0;34m]\u001b[0m\u001b[0;34m\u001b[0m\u001b[0m\n\u001b[1;32m   3111\u001b[0m \u001b[0;34m\u001b[0m\u001b[0m\n\u001b[0;32m-> 3112\u001b[0;31m         \u001b[0ms\u001b[0m \u001b[0;34m=\u001b[0m \u001b[0mcom\u001b[0m\u001b[0;34m.\u001b[0m\u001b[0m_values_from_object\u001b[0m\u001b[0;34m(\u001b[0m\u001b[0mseries\u001b[0m\u001b[0;34m)\u001b[0m\u001b[0;34m\u001b[0m\u001b[0m\n\u001b[0m\u001b[1;32m   3113\u001b[0m         \u001b[0mk\u001b[0m \u001b[0;34m=\u001b[0m \u001b[0mcom\u001b[0m\u001b[0;34m.\u001b[0m\u001b[0m_values_from_object\u001b[0m\u001b[0;34m(\u001b[0m\u001b[0mkey\u001b[0m\u001b[0;34m)\u001b[0m\u001b[0;34m\u001b[0m\u001b[0m\n\u001b[1;32m   3114\u001b[0m \u001b[0;34m\u001b[0m\u001b[0m\n",
      "\u001b[0;31mKeyboardInterrupt\u001b[0m: "
     ]
    }
   ],
   "source": [
    "preds['value_meaned'] = preds.apply(lambda x: x.value + mean_[x.asin], axis = 1)"
   ]
  },
  {
   "cell_type": "code",
   "execution_count": null,
   "metadata": {},
   "outputs": [],
   "source": []
  },
  {
   "cell_type": "code",
   "execution_count": null,
   "metadata": {},
   "outputs": [],
   "source": [
    "preds.head(10)"
   ]
  },
  {
   "cell_type": "code",
   "execution_count": null,
   "metadata": {},
   "outputs": [],
   "source": [
    "preds.to_json('D:/Datasets/amazon_reviews/preds.json')"
   ]
  },
  {
   "cell_type": "code",
   "execution_count": null,
   "metadata": {},
   "outputs": [],
   "source": []
  },
  {
   "cell_type": "code",
   "execution_count": null,
   "metadata": {},
   "outputs": [],
   "source": []
  },
  {
   "cell_type": "code",
   "execution_count": null,
   "metadata": {},
   "outputs": [],
   "source": []
  },
  {
   "cell_type": "code",
   "execution_count": 60,
   "metadata": {},
   "outputs": [
    {
     "data": {
      "text/plain": [
       "(57945, 10)"
      ]
     },
     "execution_count": 60,
     "metadata": {},
     "output_type": "execute_result"
    }
   ],
   "source": [
    "df_test.shape"
   ]
  },
  {
   "cell_type": "code",
   "execution_count": 74,
   "metadata": {},
   "outputs": [],
   "source": [
    "col_cat_map = dict((v, k) for k, v in enumerate(col_cat.categories))\n",
    "row_cat_map = dict((v, k) for k, v in enumerate(row_cat.categories))"
   ]
  },
  {
   "cell_type": "code",
   "execution_count": 45,
   "metadata": {},
   "outputs": [
    {
     "name": "stderr",
     "output_type": "stream",
     "text": [
      "C:\\Users\\irina\\Miniconda3\\envs\\exmc\\lib\\site-packages\\ipykernel_launcher.py:1: SettingWithCopyWarning: \n",
      "A value is trying to be set on a copy of a slice from a DataFrame.\n",
      "Try using .loc[row_indexer,col_indexer] = value instead\n",
      "\n",
      "See the caveats in the documentation: http://pandas.pydata.org/pandas-docs/stable/indexing.html#indexing-view-versus-copy\n",
      "  \"\"\"Entry point for launching an IPython kernel.\n"
     ]
    }
   ],
   "source": [
    "df_test['pred'] = 0"
   ]
  },
  {
   "cell_type": "code",
   "execution_count": 73,
   "metadata": {},
   "outputs": [
    {
     "ename": "KeyError",
     "evalue": "('A142CS0PXYWZSM', 'occurred at index 146182')",
     "output_type": "error",
     "traceback": [
      "\u001b[0;31m---------------------------------------------------------------------------\u001b[0m",
      "\u001b[0;31mKeyError\u001b[0m                                  Traceback (most recent call last)",
      "\u001b[0;32m<ipython-input-73-25fa86dec37b>\u001b[0m in \u001b[0;36m<module>\u001b[0;34m()\u001b[0m\n\u001b[1;32m     12\u001b[0m     \u001b[0;32mreturn\u001b[0m \u001b[0mrate\u001b[0m\u001b[0;34m\u001b[0m\u001b[0m\n\u001b[1;32m     13\u001b[0m \u001b[0;34m\u001b[0m\u001b[0m\n\u001b[0;32m---> 14\u001b[0;31m \u001b[0mdf_test\u001b[0m\u001b[0;34m.\u001b[0m\u001b[0mapply\u001b[0m\u001b[0;34m(\u001b[0m\u001b[0mxexe\u001b[0m\u001b[0;34m,\u001b[0m \u001b[0maxis\u001b[0m \u001b[0;34m=\u001b[0m \u001b[0;36m1\u001b[0m\u001b[0;34m)\u001b[0m\u001b[0;34m\u001b[0m\u001b[0m\n\u001b[0m\u001b[1;32m     15\u001b[0m \u001b[0;31m#all_user_predicted_ratings = csr_matrix(U) * csr_matrix(sigma) * csr_matrix(Vt)\u001b[0m\u001b[0;34m\u001b[0m\u001b[0;34m\u001b[0m\u001b[0m\n\u001b[1;32m     16\u001b[0m \u001b[0;31m#all_user_predicted_ratings = np.dot(np.dot(U, sigma), Vt) + user_ratings_mean.reshape(-1, 1)\u001b[0m\u001b[0;34m\u001b[0m\u001b[0;34m\u001b[0m\u001b[0m\n",
      "\u001b[0;32mC:\\Users\\irina\\Miniconda3\\envs\\exmc\\lib\\site-packages\\pandas\\core\\frame.py\u001b[0m in \u001b[0;36mapply\u001b[0;34m(self, func, axis, broadcast, raw, reduce, result_type, args, **kwds)\u001b[0m\n\u001b[1;32m   6012\u001b[0m                          \u001b[0margs\u001b[0m\u001b[0;34m=\u001b[0m\u001b[0margs\u001b[0m\u001b[0;34m,\u001b[0m\u001b[0;34m\u001b[0m\u001b[0m\n\u001b[1;32m   6013\u001b[0m                          kwds=kwds)\n\u001b[0;32m-> 6014\u001b[0;31m         \u001b[0;32mreturn\u001b[0m \u001b[0mop\u001b[0m\u001b[0;34m.\u001b[0m\u001b[0mget_result\u001b[0m\u001b[0;34m(\u001b[0m\u001b[0;34m)\u001b[0m\u001b[0;34m\u001b[0m\u001b[0m\n\u001b[0m\u001b[1;32m   6015\u001b[0m \u001b[0;34m\u001b[0m\u001b[0m\n\u001b[1;32m   6016\u001b[0m     \u001b[0;32mdef\u001b[0m \u001b[0mapplymap\u001b[0m\u001b[0;34m(\u001b[0m\u001b[0mself\u001b[0m\u001b[0;34m,\u001b[0m \u001b[0mfunc\u001b[0m\u001b[0;34m)\u001b[0m\u001b[0;34m:\u001b[0m\u001b[0;34m\u001b[0m\u001b[0m\n",
      "\u001b[0;32mC:\\Users\\irina\\Miniconda3\\envs\\exmc\\lib\\site-packages\\pandas\\core\\apply.py\u001b[0m in \u001b[0;36mget_result\u001b[0;34m(self)\u001b[0m\n\u001b[1;32m    140\u001b[0m             \u001b[0;32mreturn\u001b[0m \u001b[0mself\u001b[0m\u001b[0;34m.\u001b[0m\u001b[0mapply_raw\u001b[0m\u001b[0;34m(\u001b[0m\u001b[0;34m)\u001b[0m\u001b[0;34m\u001b[0m\u001b[0m\n\u001b[1;32m    141\u001b[0m \u001b[0;34m\u001b[0m\u001b[0m\n\u001b[0;32m--> 142\u001b[0;31m         \u001b[0;32mreturn\u001b[0m \u001b[0mself\u001b[0m\u001b[0;34m.\u001b[0m\u001b[0mapply_standard\u001b[0m\u001b[0;34m(\u001b[0m\u001b[0;34m)\u001b[0m\u001b[0;34m\u001b[0m\u001b[0m\n\u001b[0m\u001b[1;32m    143\u001b[0m \u001b[0;34m\u001b[0m\u001b[0m\n\u001b[1;32m    144\u001b[0m     \u001b[0;32mdef\u001b[0m \u001b[0mapply_empty_result\u001b[0m\u001b[0;34m(\u001b[0m\u001b[0mself\u001b[0m\u001b[0;34m)\u001b[0m\u001b[0;34m:\u001b[0m\u001b[0;34m\u001b[0m\u001b[0m\n",
      "\u001b[0;32mC:\\Users\\irina\\Miniconda3\\envs\\exmc\\lib\\site-packages\\pandas\\core\\apply.py\u001b[0m in \u001b[0;36mapply_standard\u001b[0;34m(self)\u001b[0m\n\u001b[1;32m    246\u001b[0m \u001b[0;34m\u001b[0m\u001b[0m\n\u001b[1;32m    247\u001b[0m         \u001b[0;31m# compute the result using the series generator\u001b[0m\u001b[0;34m\u001b[0m\u001b[0;34m\u001b[0m\u001b[0m\n\u001b[0;32m--> 248\u001b[0;31m         \u001b[0mself\u001b[0m\u001b[0;34m.\u001b[0m\u001b[0mapply_series_generator\u001b[0m\u001b[0;34m(\u001b[0m\u001b[0;34m)\u001b[0m\u001b[0;34m\u001b[0m\u001b[0m\n\u001b[0m\u001b[1;32m    249\u001b[0m \u001b[0;34m\u001b[0m\u001b[0m\n\u001b[1;32m    250\u001b[0m         \u001b[0;31m# wrap results\u001b[0m\u001b[0;34m\u001b[0m\u001b[0;34m\u001b[0m\u001b[0m\n",
      "\u001b[0;32mC:\\Users\\irina\\Miniconda3\\envs\\exmc\\lib\\site-packages\\pandas\\core\\apply.py\u001b[0m in \u001b[0;36mapply_series_generator\u001b[0;34m(self)\u001b[0m\n\u001b[1;32m    275\u001b[0m             \u001b[0;32mtry\u001b[0m\u001b[0;34m:\u001b[0m\u001b[0;34m\u001b[0m\u001b[0m\n\u001b[1;32m    276\u001b[0m                 \u001b[0;32mfor\u001b[0m \u001b[0mi\u001b[0m\u001b[0;34m,\u001b[0m \u001b[0mv\u001b[0m \u001b[0;32min\u001b[0m \u001b[0menumerate\u001b[0m\u001b[0;34m(\u001b[0m\u001b[0mseries_gen\u001b[0m\u001b[0;34m)\u001b[0m\u001b[0;34m:\u001b[0m\u001b[0;34m\u001b[0m\u001b[0m\n\u001b[0;32m--> 277\u001b[0;31m                     \u001b[0mresults\u001b[0m\u001b[0;34m[\u001b[0m\u001b[0mi\u001b[0m\u001b[0;34m]\u001b[0m \u001b[0;34m=\u001b[0m \u001b[0mself\u001b[0m\u001b[0;34m.\u001b[0m\u001b[0mf\u001b[0m\u001b[0;34m(\u001b[0m\u001b[0mv\u001b[0m\u001b[0;34m)\u001b[0m\u001b[0;34m\u001b[0m\u001b[0m\n\u001b[0m\u001b[1;32m    278\u001b[0m                     \u001b[0mkeys\u001b[0m\u001b[0;34m.\u001b[0m\u001b[0mappend\u001b[0m\u001b[0;34m(\u001b[0m\u001b[0mv\u001b[0m\u001b[0;34m.\u001b[0m\u001b[0mname\u001b[0m\u001b[0;34m)\u001b[0m\u001b[0;34m\u001b[0m\u001b[0m\n\u001b[1;32m    279\u001b[0m             \u001b[0;32mexcept\u001b[0m \u001b[0mException\u001b[0m \u001b[0;32mas\u001b[0m \u001b[0me\u001b[0m\u001b[0;34m:\u001b[0m\u001b[0;34m\u001b[0m\u001b[0m\n",
      "\u001b[0;32m<ipython-input-73-25fa86dec37b>\u001b[0m in \u001b[0;36mxexe\u001b[0;34m(x)\u001b[0m\n\u001b[1;32m      5\u001b[0m     \u001b[0m_revID\u001b[0m \u001b[0;34m=\u001b[0m \u001b[0mx\u001b[0m\u001b[0;34m.\u001b[0m\u001b[0mreviewerID\u001b[0m\u001b[0;34m\u001b[0m\u001b[0m\n\u001b[1;32m      6\u001b[0m \u001b[0;34m\u001b[0m\u001b[0m\n\u001b[0;32m----> 7\u001b[0;31m     \u001b[0mrow_ind\u001b[0m \u001b[0;34m=\u001b[0m \u001b[0mrow_cat_map\u001b[0m\u001b[0;34m[\u001b[0m\u001b[0m_revID\u001b[0m\u001b[0;34m]\u001b[0m\u001b[0;34m\u001b[0m\u001b[0m\n\u001b[0m\u001b[1;32m      8\u001b[0m     \u001b[0mcol_ind\u001b[0m \u001b[0;34m=\u001b[0m \u001b[0mcol_cat_map\u001b[0m\u001b[0;34m[\u001b[0m\u001b[0m_asin\u001b[0m\u001b[0;34m]\u001b[0m\u001b[0;34m\u001b[0m\u001b[0m\n\u001b[1;32m      9\u001b[0m \u001b[0;34m\u001b[0m\u001b[0m\n",
      "\u001b[0;31mKeyError\u001b[0m: ('A142CS0PXYWZSM', 'occurred at index 146182')"
     ]
    }
   ],
   "source": [
    "i = 0\n",
    "\n",
    "def xexe(x):\n",
    "    _asin = x.asin\n",
    "    _revID = x.reviewerID\n",
    "    \n",
    "    row_ind = row_cat_map[_revID]\n",
    "    col_ind = col_cat_map[_asin]\n",
    "    \n",
    "    rate = U[row_ind] * sigma * Vt[:, col_ind]\n",
    "    \n",
    "    return rate\n",
    "\n",
    "df_test.apply(xexe, axis = 1)\n"
   ]
  },
  {
   "cell_type": "code",
   "execution_count": 75,
   "metadata": {},
   "outputs": [
    {
     "ename": "NameError",
     "evalue": "name 'all_user_predicted_ratings' is not defined",
     "output_type": "error",
     "traceback": [
      "\u001b[0;31m---------------------------------------------------------------------------\u001b[0m",
      "\u001b[0;31mNameError\u001b[0m                                 Traceback (most recent call last)",
      "\u001b[0;32m<ipython-input-75-17f739ced43c>\u001b[0m in \u001b[0;36m<module>\u001b[0;34m()\u001b[0m\n\u001b[0;32m----> 1\u001b[0;31m \u001b[0mall_user_predicted_ratings\u001b[0m\u001b[0;34m.\u001b[0m\u001b[0mshape\u001b[0m\u001b[0;34m\u001b[0m\u001b[0m\n\u001b[0m",
      "\u001b[0;31mNameError\u001b[0m: name 'all_user_predicted_ratings' is not defined"
     ]
    }
   ],
   "source": [
    "all_user_predicted_ratings.shape"
   ]
  },
  {
   "cell_type": "code",
   "execution_count": 85,
   "metadata": {},
   "outputs": [
    {
     "data": {
      "text/plain": [
       "False"
      ]
     },
     "execution_count": 85,
     "metadata": {},
     "output_type": "execute_result"
    }
   ],
   "source": [
    "'A2T7VQOECHJ5JW' in df_train.reviewerID"
   ]
  },
  {
   "cell_type": "code",
   "execution_count": 89,
   "metadata": {},
   "outputs": [
    {
     "data": {
      "text/plain": [
       "164069     ALG4EPVIH8MNY\n",
       "190366    A2T7VQOECHJ5JW\n",
       "10576     A26W7B1A24LBJM\n",
       "66439     A17LDNW8GIFID1\n",
       "169601    A1H5XDZZQLFLFT\n",
       "116846    A2FTHCGH06O4Y5\n",
       "69845      AO9DI9XIIMY5A\n",
       "14875      A96JD9312DHWC\n",
       "210471     A1K97WR63DBXV\n",
       "22114     A2BH04B9G9LOYA\n",
       "140175    A2FYX0BC3D214U\n",
       "165472    A3BEELRT5V9REJ\n",
       "44847     A3T3C3B8POTJ8M\n",
       "75136     A3KQE3BCGDP75D\n",
       "94173     A27Z9FV4D0EYHT\n",
       "183721    A1QUF25ZMY25V3\n",
       "215096     AVEFL9T9PJF1T\n",
       "139695    A2NH6XSE79X3VY\n",
       "30317      AZ3SMS383Q9ZD\n",
       "202065    A2KT5MP35EMH7Q\n",
       "109004    A3DPA4KUC2E7HZ\n",
       "138065    A1510WM4V9MICG\n",
       "217581    A29OLG6AJZLKNN\n",
       "114459    A25NSTXNN16KG8\n",
       "107182    A3V6Z4RCDGRC44\n",
       "104712    A1AQ03L7J8MG4T\n",
       "66053     A1JV3E2M4AOOOV\n",
       "190417    A26DQMYF5E0GL6\n",
       "214190    A208G0AAI1XURB\n",
       "194873    A3GTHY4BJ334L1\n",
       "               ...      \n",
       "85305     A1P9RKER6DKZWU\n",
       "184779     A4GSQJBIIWK5I\n",
       "214176    A2AXJVLQ5O5S20\n",
       "103355    A1YLB3KK98OXNL\n",
       "5311       A7I064UDWGSYE\n",
       "199041    A1TR1KNR3VKPHY\n",
       "64925      AXWPSHRQL910I\n",
       "194027    A3VIKS0DB6M2V1\n",
       "59735     A367OB1E03A8QM\n",
       "769       A1LBU9OBPDY0B7\n",
       "64820     A3RYKKYS9E76LR\n",
       "67221     A2EB8GCB7WA6MT\n",
       "41090     A14F106N1M9AAQ\n",
       "16023     A2PK4H3UK51SJ1\n",
       "191335    A15PIAQT55GNCA\n",
       "175203    A39DPMMS1HHNIL\n",
       "126324     AOYGPHW4YMYEO\n",
       "112727    A3MK3YW2QKBAO5\n",
       "87498     A14TQRT70DPFQP\n",
       "168266     AM3PBGE3QGD4A\n",
       "213458      ADXFVKQLSL1K\n",
       "137337     AC2VI1QYHPSO2\n",
       "54886     A2FXQ0APU9ZLP1\n",
       "207892    A2BLQEV8TG4TLG\n",
       "110268     AFT4I4KKUPEQP\n",
       "119879    A3IR3FJKPRHF2Q\n",
       "103694    A323H8HF1AI48K\n",
       "131932     AAPCOHESO4EVX\n",
       "146867    A3F2VVIQIY6U64\n",
       "121958    A2WGXE8JPTWYUL\n",
       "Name: reviewerID, Length: 173835, dtype: object"
      ]
     },
     "execution_count": 89,
     "metadata": {},
     "output_type": "execute_result"
    }
   ],
   "source": [
    "df_train.reviewerID.astype(str)"
   ]
  },
  {
   "cell_type": "code",
   "execution_count": 67,
   "metadata": {},
   "outputs": [],
   "source": [
    "reviewers = df_train.reviewerID.astype(rev_id).cat.categories\n",
    "asins = df_train.reviewerID.astype(asin).cat.categories\n",
    "preds_df = pd.DataFrame(all_user_predicted_ratings.todense(), columns = asins, index = reviewers)"
   ]
  },
  {
   "cell_type": "code",
   "execution_count": 76,
   "metadata": {},
   "outputs": [
    {
     "data": {
      "text/html": [
       "<div>\n",
       "<style scoped>\n",
       "    .dataframe tbody tr th:only-of-type {\n",
       "        vertical-align: middle;\n",
       "    }\n",
       "\n",
       "    .dataframe tbody tr th {\n",
       "        vertical-align: top;\n",
       "    }\n",
       "\n",
       "    .dataframe thead th {\n",
       "        text-align: right;\n",
       "    }\n",
       "</style>\n",
       "<table border=\"1\" class=\"dataframe\">\n",
       "  <thead>\n",
       "    <tr style=\"text-align: right;\">\n",
       "      <th>asin</th>\n",
       "      <th>0700099867</th>\n",
       "      <th>6050036071</th>\n",
       "      <th>7100027950</th>\n",
       "      <th>7293000936</th>\n",
       "      <th>8176503290</th>\n",
       "      <th>907843905X</th>\n",
       "      <th>9625990674</th>\n",
       "      <th>9861019731</th>\n",
       "      <th>9882155456</th>\n",
       "      <th>B000003SQQ</th>\n",
       "      <th>...</th>\n",
       "      <th>B00J128FPA</th>\n",
       "      <th>B00J226358</th>\n",
       "      <th>B00J6DLPLK</th>\n",
       "      <th>B00J9P3KBS</th>\n",
       "      <th>B00JM3R6M6</th>\n",
       "      <th>B00JQ8YH6A</th>\n",
       "      <th>B00JQHU9RC</th>\n",
       "      <th>B00JXW6GE0</th>\n",
       "      <th>B00KAI3KW2</th>\n",
       "      <th>B00KHECZXO</th>\n",
       "    </tr>\n",
       "    <tr>\n",
       "      <th>reviewerID</th>\n",
       "      <th></th>\n",
       "      <th></th>\n",
       "      <th></th>\n",
       "      <th></th>\n",
       "      <th></th>\n",
       "      <th></th>\n",
       "      <th></th>\n",
       "      <th></th>\n",
       "      <th></th>\n",
       "      <th></th>\n",
       "      <th></th>\n",
       "      <th></th>\n",
       "      <th></th>\n",
       "      <th></th>\n",
       "      <th></th>\n",
       "      <th></th>\n",
       "      <th></th>\n",
       "      <th></th>\n",
       "      <th></th>\n",
       "      <th></th>\n",
       "      <th></th>\n",
       "    </tr>\n",
       "  </thead>\n",
       "  <tbody>\n",
       "    <tr>\n",
       "      <th>A00263941WP7WCIL7AKWL</th>\n",
       "      <td>-0.000064</td>\n",
       "      <td>0.000005</td>\n",
       "      <td>0.000089</td>\n",
       "      <td>0.000040</td>\n",
       "      <td>4.584626e-07</td>\n",
       "      <td>-0.000001</td>\n",
       "      <td>0.000019</td>\n",
       "      <td>0.000023</td>\n",
       "      <td>-0.000053</td>\n",
       "      <td>-0.000043</td>\n",
       "      <td>...</td>\n",
       "      <td>-0.00002</td>\n",
       "      <td>0.000083</td>\n",
       "      <td>-0.000095</td>\n",
       "      <td>0.000056</td>\n",
       "      <td>-0.000076</td>\n",
       "      <td>-0.000003</td>\n",
       "      <td>0.000322</td>\n",
       "      <td>0.000088</td>\n",
       "      <td>0.000072</td>\n",
       "      <td>0.000006</td>\n",
       "    </tr>\n",
       "    <tr>\n",
       "      <th>A005481137I9SCAWEF7ON</th>\n",
       "      <td>-0.004291</td>\n",
       "      <td>-0.001798</td>\n",
       "      <td>-0.000342</td>\n",
       "      <td>-0.001443</td>\n",
       "      <td>4.256465e-04</td>\n",
       "      <td>-0.000340</td>\n",
       "      <td>-0.002150</td>\n",
       "      <td>-0.000423</td>\n",
       "      <td>0.004522</td>\n",
       "      <td>0.004788</td>\n",
       "      <td>...</td>\n",
       "      <td>0.00212</td>\n",
       "      <td>-0.000838</td>\n",
       "      <td>-0.000335</td>\n",
       "      <td>0.003907</td>\n",
       "      <td>-0.003498</td>\n",
       "      <td>-0.000072</td>\n",
       "      <td>0.005431</td>\n",
       "      <td>0.006670</td>\n",
       "      <td>0.003296</td>\n",
       "      <td>0.001924</td>\n",
       "    </tr>\n",
       "  </tbody>\n",
       "</table>\n",
       "<p>2 rows × 10671 columns</p>\n",
       "</div>"
      ],
      "text/plain": [
       "asin                   0700099867  6050036071  7100027950  7293000936  \\\n",
       "reviewerID                                                              \n",
       "A00263941WP7WCIL7AKWL   -0.000064    0.000005    0.000089    0.000040   \n",
       "A005481137I9SCAWEF7ON   -0.004291   -0.001798   -0.000342   -0.001443   \n",
       "\n",
       "asin                     8176503290  907843905X  9625990674  9861019731  \\\n",
       "reviewerID                                                                \n",
       "A00263941WP7WCIL7AKWL  4.584626e-07   -0.000001    0.000019    0.000023   \n",
       "A005481137I9SCAWEF7ON  4.256465e-04   -0.000340   -0.002150   -0.000423   \n",
       "\n",
       "asin                   9882155456  B000003SQQ     ...      B00J128FPA  \\\n",
       "reviewerID                                        ...                   \n",
       "A00263941WP7WCIL7AKWL   -0.000053   -0.000043     ...        -0.00002   \n",
       "A005481137I9SCAWEF7ON    0.004522    0.004788     ...         0.00212   \n",
       "\n",
       "asin                   B00J226358  B00J6DLPLK  B00J9P3KBS  B00JM3R6M6  \\\n",
       "reviewerID                                                              \n",
       "A00263941WP7WCIL7AKWL    0.000083   -0.000095    0.000056   -0.000076   \n",
       "A005481137I9SCAWEF7ON   -0.000838   -0.000335    0.003907   -0.003498   \n",
       "\n",
       "asin                   B00JQ8YH6A  B00JQHU9RC  B00JXW6GE0  B00KAI3KW2  \\\n",
       "reviewerID                                                              \n",
       "A00263941WP7WCIL7AKWL   -0.000003    0.000322    0.000088    0.000072   \n",
       "A005481137I9SCAWEF7ON   -0.000072    0.005431    0.006670    0.003296   \n",
       "\n",
       "asin                   B00KHECZXO  \n",
       "reviewerID                         \n",
       "A00263941WP7WCIL7AKWL    0.000006  \n",
       "A005481137I9SCAWEF7ON    0.001924  \n",
       "\n",
       "[2 rows x 10671 columns]"
      ]
     },
     "execution_count": 76,
     "metadata": {},
     "output_type": "execute_result"
    }
   ],
   "source": [
    "preds_df.index.name = 'reviewerID'\n",
    "preds_df.columns.name = 'asin'\n",
    "preds_df.head(2)"
   ]
  },
  {
   "cell_type": "code",
   "execution_count": 77,
   "metadata": {},
   "outputs": [],
   "source": [
    "preds = preds_df.reset_index().melt('reviewerID', var_name='asin')"
   ]
  },
  {
   "cell_type": "code",
   "execution_count": 78,
   "metadata": {},
   "outputs": [
    {
     "data": {
      "text/html": [
       "<div>\n",
       "<style scoped>\n",
       "    .dataframe tbody tr th:only-of-type {\n",
       "        vertical-align: middle;\n",
       "    }\n",
       "\n",
       "    .dataframe tbody tr th {\n",
       "        vertical-align: top;\n",
       "    }\n",
       "\n",
       "    .dataframe thead th {\n",
       "        text-align: right;\n",
       "    }\n",
       "</style>\n",
       "<table border=\"1\" class=\"dataframe\">\n",
       "  <thead>\n",
       "    <tr style=\"text-align: right;\">\n",
       "      <th></th>\n",
       "      <th>reviewerID</th>\n",
       "      <th>asin</th>\n",
       "      <th>value</th>\n",
       "    </tr>\n",
       "  </thead>\n",
       "  <tbody>\n",
       "    <tr>\n",
       "      <th>0</th>\n",
       "      <td>A00263941WP7WCIL7AKWL</td>\n",
       "      <td>0700099867</td>\n",
       "      <td>-0.000064</td>\n",
       "    </tr>\n",
       "    <tr>\n",
       "      <th>1</th>\n",
       "      <td>A005481137I9SCAWEF7ON</td>\n",
       "      <td>0700099867</td>\n",
       "      <td>-0.004291</td>\n",
       "    </tr>\n",
       "  </tbody>\n",
       "</table>\n",
       "</div>"
      ],
      "text/plain": [
       "              reviewerID        asin     value\n",
       "0  A00263941WP7WCIL7AKWL  0700099867 -0.000064\n",
       "1  A005481137I9SCAWEF7ON  0700099867 -0.004291"
      ]
     },
     "execution_count": 78,
     "metadata": {},
     "output_type": "execute_result"
    }
   ],
   "source": [
    "preds.head(2)"
   ]
  },
  {
   "cell_type": "code",
   "execution_count": 79,
   "metadata": {},
   "outputs": [
    {
     "data": {
      "text/plain": [
       "8332"
      ]
     },
     "execution_count": 79,
     "metadata": {},
     "output_type": "execute_result"
    }
   ],
   "source": [
    "np.sum(all_user_predicted_ratings > 3)"
   ]
  },
  {
   "cell_type": "code",
   "execution_count": 72,
   "metadata": {},
   "outputs": [
    {
     "ename": "NameError",
     "evalue": "name 'df_pivot' is not defined",
     "output_type": "error",
     "traceback": [
      "\u001b[0;31m---------------------------------------------------------------------------\u001b[0m",
      "\u001b[0;31mNameError\u001b[0m                                 Traceback (most recent call last)",
      "\u001b[0;32m<ipython-input-72-09ac3a25c85a>\u001b[0m in \u001b[0;36m<module>\u001b[0;34m()\u001b[0m\n\u001b[0;32m----> 1\u001b[0;31m \u001b[0mnp\u001b[0m\u001b[0;34m.\u001b[0m\u001b[0msum\u001b[0m\u001b[0;34m(\u001b[0m\u001b[0mdf_pivot\u001b[0m\u001b[0;34m.\u001b[0m\u001b[0mvalues\u001b[0m \u001b[0;34m>\u001b[0m \u001b[0;36m3\u001b[0m\u001b[0;34m)\u001b[0m\u001b[0;34m\u001b[0m\u001b[0m\n\u001b[0m",
      "\u001b[0;31mNameError\u001b[0m: name 'df_pivot' is not defined"
     ]
    }
   ],
   "source": [
    "np.sum(df_pivot.values > 3)"
   ]
  },
  {
   "cell_type": "code",
   "execution_count": 62,
   "metadata": {},
   "outputs": [],
   "source": [
    "# test\n",
    "r = np.array([[0, 3, 0, 5], [3, 2, 1, 0], [0, 4, 5, 5], [2, 0, 1, 0]], dtype = 'd')\n",
    "m = np.mean(r, axis = 1).reshape(-1, 1)\n",
    "_U, _sigma, _Vt = svds(r-m, k = 2)"
   ]
  },
  {
   "cell_type": "code",
   "execution_count": 63,
   "metadata": {},
   "outputs": [
    {
     "data": {
      "text/plain": [
       "array([[-5.26723614e-03,  3.01980648e+00, -2.54126749e-03,\n",
       "         4.98800202e+00],\n",
       "       [ 3.19639590e+00,  1.26148892e+00,  1.09475453e+00,\n",
       "         4.47360644e-01],\n",
       "       [ 6.02917758e-02,  3.77328374e+00,  5.02908879e+00,\n",
       "         5.13733570e+00],\n",
       "       [ 1.87926551e+00,  4.54000098e-01,  9.41749597e-01,\n",
       "        -2.75015207e-01]])"
      ]
     },
     "execution_count": 63,
     "metadata": {},
     "output_type": "execute_result"
    }
   ],
   "source": [
    "_sigma = np.diag(_sigma)\n",
    "np.dot(np.dot(_U, _sigma), _Vt) + m"
   ]
  },
  {
   "cell_type": "markdown",
   "metadata": {},
   "source": [
    "# Metrics"
   ]
  },
  {
   "cell_type": "code",
   "execution_count": 46,
   "metadata": {},
   "outputs": [
    {
     "name": "stdout",
     "output_type": "stream",
     "text": [
      "Once deleted, variables cannot be recovered. Proceed (y/[n])? y\n",
      "Flushing output cache (1 entries)\n"
     ]
    }
   ],
   "source": [
    "%reset Out"
   ]
  },
  {
   "cell_type": "code",
   "execution_count": 43,
   "metadata": {},
   "outputs": [],
   "source": [
    "df_merged = df_test.merge(preds, on=['reviewerID', 'asin'])"
   ]
  },
  {
   "cell_type": "code",
   "execution_count": 47,
   "metadata": {},
   "outputs": [
    {
     "data": {
      "text/html": [
       "<div>\n",
       "<style scoped>\n",
       "    .dataframe tbody tr th:only-of-type {\n",
       "        vertical-align: middle;\n",
       "    }\n",
       "\n",
       "    .dataframe tbody tr th {\n",
       "        vertical-align: top;\n",
       "    }\n",
       "\n",
       "    .dataframe thead th {\n",
       "        text-align: right;\n",
       "    }\n",
       "</style>\n",
       "<table border=\"1\" class=\"dataframe\">\n",
       "  <thead>\n",
       "    <tr style=\"text-align: right;\">\n",
       "      <th></th>\n",
       "      <th>asin</th>\n",
       "      <th>helpful</th>\n",
       "      <th>overall</th>\n",
       "      <th>reviewText</th>\n",
       "      <th>reviewTime</th>\n",
       "      <th>reviewerID</th>\n",
       "      <th>reviewerName</th>\n",
       "      <th>summary</th>\n",
       "      <th>unixReviewTime</th>\n",
       "      <th>value</th>\n",
       "    </tr>\n",
       "  </thead>\n",
       "  <tbody>\n",
       "    <tr>\n",
       "      <th>0</th>\n",
       "      <td>B0047TLIBU</td>\n",
       "      <td>[31, 43]</td>\n",
       "      <td>5</td>\n",
       "      <td>Been playing this for two days now, and I am v...</td>\n",
       "      <td>03 10, 2011</td>\n",
       "      <td>A17M1HL6U2GS7M</td>\n",
       "      <td>Storylover</td>\n",
       "      <td>It feels like hanging out with old friends aga...</td>\n",
       "      <td>1299715200</td>\n",
       "      <td>-8.699664e-04</td>\n",
       "    </tr>\n",
       "    <tr>\n",
       "      <th>1</th>\n",
       "      <td>B0053BCP40</td>\n",
       "      <td>[0, 0]</td>\n",
       "      <td>4</td>\n",
       "      <td>I really enjoyed playing this game, although i...</td>\n",
       "      <td>02 27, 2014</td>\n",
       "      <td>A1FGU7F9UJ264N</td>\n",
       "      <td>Kelly Randall</td>\n",
       "      <td>Fun game</td>\n",
       "      <td>1393459200</td>\n",
       "      <td>2.010041e-02</td>\n",
       "    </tr>\n",
       "    <tr>\n",
       "      <th>2</th>\n",
       "      <td>B000WCQWR6</td>\n",
       "      <td>[0, 0]</td>\n",
       "      <td>3</td>\n",
       "      <td>This was kind of a gamble and was looking for ...</td>\n",
       "      <td>07 7, 2013</td>\n",
       "      <td>A3R7M2EP1EYNVT</td>\n",
       "      <td>Thomas B. Hileman Jr.</td>\n",
       "      <td>Shoot em up</td>\n",
       "      <td>1373155200</td>\n",
       "      <td>7.363616e-05</td>\n",
       "    </tr>\n",
       "    <tr>\n",
       "      <th>3</th>\n",
       "      <td>B00498T500</td>\n",
       "      <td>[4, 4]</td>\n",
       "      <td>4</td>\n",
       "      <td>***Updated 7/7/2011 - update marked below***I ...</td>\n",
       "      <td>04 10, 2011</td>\n",
       "      <td>A369KP0JV77JYT</td>\n",
       "      <td>Jon</td>\n",
       "      <td>Fun for a group, don't pay too much for it</td>\n",
       "      <td>1302393600</td>\n",
       "      <td>-3.260203e-04</td>\n",
       "    </tr>\n",
       "    <tr>\n",
       "      <th>4</th>\n",
       "      <td>B00005BIG7</td>\n",
       "      <td>[3, 3]</td>\n",
       "      <td>5</td>\n",
       "      <td>It looks like we've come a long way from past ...</td>\n",
       "      <td>07 13, 2001</td>\n",
       "      <td>ABIKTKAWOMY8</td>\n",
       "      <td>Chance Farley</td>\n",
       "      <td>One of the best fps's to ever hit a console</td>\n",
       "      <td>994982400</td>\n",
       "      <td>6.254228e-03</td>\n",
       "    </tr>\n",
       "    <tr>\n",
       "      <th>5</th>\n",
       "      <td>B002CYWJWO</td>\n",
       "      <td>[7, 8]</td>\n",
       "      <td>4</td>\n",
       "      <td>Tellurye, here with another review brought to ...</td>\n",
       "      <td>10 30, 2009</td>\n",
       "      <td>A2SYA663GK3EEJ</td>\n",
       "      <td>R. Stevens \"Fedora Technologies\"</td>\n",
       "      <td>Does the Saw universe justice, but controls ma...</td>\n",
       "      <td>1256860800</td>\n",
       "      <td>3.067033e-04</td>\n",
       "    </tr>\n",
       "    <tr>\n",
       "      <th>6</th>\n",
       "      <td>B001V9PTVE</td>\n",
       "      <td>[2, 2]</td>\n",
       "      <td>4</td>\n",
       "      <td>Fallout 2 is worth the price alone... but if y...</td>\n",
       "      <td>09 6, 2009</td>\n",
       "      <td>A39AUQ3IP3C8KI</td>\n",
       "      <td>J. Nicholson</td>\n",
       "      <td>Worth it (even if it was just FO2)</td>\n",
       "      <td>1252195200</td>\n",
       "      <td>-1.380123e-05</td>\n",
       "    </tr>\n",
       "    <tr>\n",
       "      <th>7</th>\n",
       "      <td>B00DBDPOZ4</td>\n",
       "      <td>[1, 1]</td>\n",
       "      <td>5</td>\n",
       "      <td>As I'm not a fan of AA batteries, this accesso...</td>\n",
       "      <td>12 4, 2013</td>\n",
       "      <td>A22N09ZP9D77DM</td>\n",
       "      <td>D. Alvarado</td>\n",
       "      <td>Great upgrade over the Xbox 360 version.</td>\n",
       "      <td>1386115200</td>\n",
       "      <td>-5.349924e-02</td>\n",
       "    </tr>\n",
       "    <tr>\n",
       "      <th>8</th>\n",
       "      <td>B0009A4EV2</td>\n",
       "      <td>[4, 4]</td>\n",
       "      <td>5</td>\n",
       "      <td>Next to the Final Fantasy series, the Dragon Q...</td>\n",
       "      <td>03 22, 2007</td>\n",
       "      <td>AJKWF4W7QD4NS</td>\n",
       "      <td>N. Durham \"Big Evil\"</td>\n",
       "      <td>One of the best games, ever, for the PS2</td>\n",
       "      <td>1174521600</td>\n",
       "      <td>8.465834e-02</td>\n",
       "    </tr>\n",
       "    <tr>\n",
       "      <th>9</th>\n",
       "      <td>B00002EQAP</td>\n",
       "      <td>[0, 0]</td>\n",
       "      <td>5</td>\n",
       "      <td>This game is so great, not just for the crazy ...</td>\n",
       "      <td>08 20, 2013</td>\n",
       "      <td>A1T4HGVX32QIYC</td>\n",
       "      <td>Will Ramirez</td>\n",
       "      <td>Great Game</td>\n",
       "      <td>1376956800</td>\n",
       "      <td>3.304022e-07</td>\n",
       "    </tr>\n",
       "  </tbody>\n",
       "</table>\n",
       "</div>"
      ],
      "text/plain": [
       "         asin   helpful  overall  \\\n",
       "0  B0047TLIBU  [31, 43]        5   \n",
       "1  B0053BCP40    [0, 0]        4   \n",
       "2  B000WCQWR6    [0, 0]        3   \n",
       "3  B00498T500    [4, 4]        4   \n",
       "4  B00005BIG7    [3, 3]        5   \n",
       "5  B002CYWJWO    [7, 8]        4   \n",
       "6  B001V9PTVE    [2, 2]        4   \n",
       "7  B00DBDPOZ4    [1, 1]        5   \n",
       "8  B0009A4EV2    [4, 4]        5   \n",
       "9  B00002EQAP    [0, 0]        5   \n",
       "\n",
       "                                          reviewText   reviewTime  \\\n",
       "0  Been playing this for two days now, and I am v...  03 10, 2011   \n",
       "1  I really enjoyed playing this game, although i...  02 27, 2014   \n",
       "2  This was kind of a gamble and was looking for ...   07 7, 2013   \n",
       "3  ***Updated 7/7/2011 - update marked below***I ...  04 10, 2011   \n",
       "4  It looks like we've come a long way from past ...  07 13, 2001   \n",
       "5  Tellurye, here with another review brought to ...  10 30, 2009   \n",
       "6  Fallout 2 is worth the price alone... but if y...   09 6, 2009   \n",
       "7  As I'm not a fan of AA batteries, this accesso...   12 4, 2013   \n",
       "8  Next to the Final Fantasy series, the Dragon Q...  03 22, 2007   \n",
       "9  This game is so great, not just for the crazy ...  08 20, 2013   \n",
       "\n",
       "       reviewerID                      reviewerName  \\\n",
       "0  A17M1HL6U2GS7M                        Storylover   \n",
       "1  A1FGU7F9UJ264N                     Kelly Randall   \n",
       "2  A3R7M2EP1EYNVT             Thomas B. Hileman Jr.   \n",
       "3  A369KP0JV77JYT                               Jon   \n",
       "4    ABIKTKAWOMY8                     Chance Farley   \n",
       "5  A2SYA663GK3EEJ  R. Stevens \"Fedora Technologies\"   \n",
       "6  A39AUQ3IP3C8KI                      J. Nicholson   \n",
       "7  A22N09ZP9D77DM                       D. Alvarado   \n",
       "8   AJKWF4W7QD4NS              N. Durham \"Big Evil\"   \n",
       "9  A1T4HGVX32QIYC                      Will Ramirez   \n",
       "\n",
       "                                             summary  unixReviewTime  \\\n",
       "0  It feels like hanging out with old friends aga...      1299715200   \n",
       "1                                           Fun game      1393459200   \n",
       "2                                        Shoot em up      1373155200   \n",
       "3         Fun for a group, don't pay too much for it      1302393600   \n",
       "4        One of the best fps's to ever hit a console       994982400   \n",
       "5  Does the Saw universe justice, but controls ma...      1256860800   \n",
       "6                 Worth it (even if it was just FO2)      1252195200   \n",
       "7           Great upgrade over the Xbox 360 version.      1386115200   \n",
       "8           One of the best games, ever, for the PS2      1174521600   \n",
       "9                                         Great Game      1376956800   \n",
       "\n",
       "          value  \n",
       "0 -8.699664e-04  \n",
       "1  2.010041e-02  \n",
       "2  7.363616e-05  \n",
       "3 -3.260203e-04  \n",
       "4  6.254228e-03  \n",
       "5  3.067033e-04  \n",
       "6 -1.380123e-05  \n",
       "7 -5.349924e-02  \n",
       "8  8.465834e-02  \n",
       "9  3.304022e-07  "
      ]
     },
     "execution_count": 47,
     "metadata": {},
     "output_type": "execute_result"
    }
   ],
   "source": [
    "df_merged.head(10)"
   ]
  },
  {
   "cell_type": "code",
   "execution_count": 49,
   "metadata": {},
   "outputs": [],
   "source": [
    "df_merged['value_meaned'] = df_merged.apply(lambda x: x.value + mean_[x.asin], axis = 1)"
   ]
  },
  {
   "cell_type": "code",
   "execution_count": 50,
   "metadata": {},
   "outputs": [
    {
     "data": {
      "text/html": [
       "<div>\n",
       "<style scoped>\n",
       "    .dataframe tbody tr th:only-of-type {\n",
       "        vertical-align: middle;\n",
       "    }\n",
       "\n",
       "    .dataframe tbody tr th {\n",
       "        vertical-align: top;\n",
       "    }\n",
       "\n",
       "    .dataframe thead th {\n",
       "        text-align: right;\n",
       "    }\n",
       "</style>\n",
       "<table border=\"1\" class=\"dataframe\">\n",
       "  <thead>\n",
       "    <tr style=\"text-align: right;\">\n",
       "      <th></th>\n",
       "      <th>asin</th>\n",
       "      <th>helpful</th>\n",
       "      <th>overall</th>\n",
       "      <th>reviewText</th>\n",
       "      <th>reviewTime</th>\n",
       "      <th>reviewerID</th>\n",
       "      <th>reviewerName</th>\n",
       "      <th>summary</th>\n",
       "      <th>unixReviewTime</th>\n",
       "      <th>value</th>\n",
       "      <th>value_meaned</th>\n",
       "    </tr>\n",
       "  </thead>\n",
       "  <tbody>\n",
       "    <tr>\n",
       "      <th>0</th>\n",
       "      <td>B0047TLIBU</td>\n",
       "      <td>[31, 43]</td>\n",
       "      <td>5</td>\n",
       "      <td>Been playing this for two days now, and I am v...</td>\n",
       "      <td>03 10, 2011</td>\n",
       "      <td>A17M1HL6U2GS7M</td>\n",
       "      <td>Storylover</td>\n",
       "      <td>It feels like hanging out with old friends aga...</td>\n",
       "      <td>1299715200</td>\n",
       "      <td>-8.699664e-04</td>\n",
       "      <td>3.660420</td>\n",
       "    </tr>\n",
       "    <tr>\n",
       "      <th>1</th>\n",
       "      <td>B0053BCP40</td>\n",
       "      <td>[0, 0]</td>\n",
       "      <td>4</td>\n",
       "      <td>I really enjoyed playing this game, although i...</td>\n",
       "      <td>02 27, 2014</td>\n",
       "      <td>A1FGU7F9UJ264N</td>\n",
       "      <td>Kelly Randall</td>\n",
       "      <td>Fun game</td>\n",
       "      <td>1393459200</td>\n",
       "      <td>2.010041e-02</td>\n",
       "      <td>4.487492</td>\n",
       "    </tr>\n",
       "    <tr>\n",
       "      <th>2</th>\n",
       "      <td>B000WCQWR6</td>\n",
       "      <td>[0, 0]</td>\n",
       "      <td>3</td>\n",
       "      <td>This was kind of a gamble and was looking for ...</td>\n",
       "      <td>07 7, 2013</td>\n",
       "      <td>A3R7M2EP1EYNVT</td>\n",
       "      <td>Thomas B. Hileman Jr.</td>\n",
       "      <td>Shoot em up</td>\n",
       "      <td>1373155200</td>\n",
       "      <td>7.363616e-05</td>\n",
       "      <td>3.975074</td>\n",
       "    </tr>\n",
       "    <tr>\n",
       "      <th>3</th>\n",
       "      <td>B00498T500</td>\n",
       "      <td>[4, 4]</td>\n",
       "      <td>4</td>\n",
       "      <td>***Updated 7/7/2011 - update marked below***I ...</td>\n",
       "      <td>04 10, 2011</td>\n",
       "      <td>A369KP0JV77JYT</td>\n",
       "      <td>Jon</td>\n",
       "      <td>Fun for a group, don't pay too much for it</td>\n",
       "      <td>1302393600</td>\n",
       "      <td>-3.260203e-04</td>\n",
       "      <td>4.666341</td>\n",
       "    </tr>\n",
       "    <tr>\n",
       "      <th>4</th>\n",
       "      <td>B00005BIG7</td>\n",
       "      <td>[3, 3]</td>\n",
       "      <td>5</td>\n",
       "      <td>It looks like we've come a long way from past ...</td>\n",
       "      <td>07 13, 2001</td>\n",
       "      <td>ABIKTKAWOMY8</td>\n",
       "      <td>Chance Farley</td>\n",
       "      <td>One of the best fps's to ever hit a console</td>\n",
       "      <td>994982400</td>\n",
       "      <td>6.254228e-03</td>\n",
       "      <td>4.373601</td>\n",
       "    </tr>\n",
       "    <tr>\n",
       "      <th>5</th>\n",
       "      <td>B002CYWJWO</td>\n",
       "      <td>[7, 8]</td>\n",
       "      <td>4</td>\n",
       "      <td>Tellurye, here with another review brought to ...</td>\n",
       "      <td>10 30, 2009</td>\n",
       "      <td>A2SYA663GK3EEJ</td>\n",
       "      <td>R. Stevens \"Fedora Technologies\"</td>\n",
       "      <td>Does the Saw universe justice, but controls ma...</td>\n",
       "      <td>1256860800</td>\n",
       "      <td>3.067033e-04</td>\n",
       "      <td>3.714592</td>\n",
       "    </tr>\n",
       "    <tr>\n",
       "      <th>6</th>\n",
       "      <td>B001V9PTVE</td>\n",
       "      <td>[2, 2]</td>\n",
       "      <td>4</td>\n",
       "      <td>Fallout 2 is worth the price alone... but if y...</td>\n",
       "      <td>09 6, 2009</td>\n",
       "      <td>A39AUQ3IP3C8KI</td>\n",
       "      <td>J. Nicholson</td>\n",
       "      <td>Worth it (even if it was just FO2)</td>\n",
       "      <td>1252195200</td>\n",
       "      <td>-1.380123e-05</td>\n",
       "      <td>3.588221</td>\n",
       "    </tr>\n",
       "    <tr>\n",
       "      <th>7</th>\n",
       "      <td>B00DBDPOZ4</td>\n",
       "      <td>[1, 1]</td>\n",
       "      <td>5</td>\n",
       "      <td>As I'm not a fan of AA batteries, this accesso...</td>\n",
       "      <td>12 4, 2013</td>\n",
       "      <td>A22N09ZP9D77DM</td>\n",
       "      <td>D. Alvarado</td>\n",
       "      <td>Great upgrade over the Xbox 360 version.</td>\n",
       "      <td>1386115200</td>\n",
       "      <td>-5.349924e-02</td>\n",
       "      <td>4.397481</td>\n",
       "    </tr>\n",
       "    <tr>\n",
       "      <th>8</th>\n",
       "      <td>B0009A4EV2</td>\n",
       "      <td>[4, 4]</td>\n",
       "      <td>5</td>\n",
       "      <td>Next to the Final Fantasy series, the Dragon Q...</td>\n",
       "      <td>03 22, 2007</td>\n",
       "      <td>AJKWF4W7QD4NS</td>\n",
       "      <td>N. Durham \"Big Evil\"</td>\n",
       "      <td>One of the best games, ever, for the PS2</td>\n",
       "      <td>1174521600</td>\n",
       "      <td>8.465834e-02</td>\n",
       "      <td>4.474489</td>\n",
       "    </tr>\n",
       "    <tr>\n",
       "      <th>9</th>\n",
       "      <td>B00002EQAP</td>\n",
       "      <td>[0, 0]</td>\n",
       "      <td>5</td>\n",
       "      <td>This game is so great, not just for the crazy ...</td>\n",
       "      <td>08 20, 2013</td>\n",
       "      <td>A1T4HGVX32QIYC</td>\n",
       "      <td>Will Ramirez</td>\n",
       "      <td>Great Game</td>\n",
       "      <td>1376956800</td>\n",
       "      <td>3.304022e-07</td>\n",
       "      <td>3.333334</td>\n",
       "    </tr>\n",
       "  </tbody>\n",
       "</table>\n",
       "</div>"
      ],
      "text/plain": [
       "         asin   helpful  overall  \\\n",
       "0  B0047TLIBU  [31, 43]        5   \n",
       "1  B0053BCP40    [0, 0]        4   \n",
       "2  B000WCQWR6    [0, 0]        3   \n",
       "3  B00498T500    [4, 4]        4   \n",
       "4  B00005BIG7    [3, 3]        5   \n",
       "5  B002CYWJWO    [7, 8]        4   \n",
       "6  B001V9PTVE    [2, 2]        4   \n",
       "7  B00DBDPOZ4    [1, 1]        5   \n",
       "8  B0009A4EV2    [4, 4]        5   \n",
       "9  B00002EQAP    [0, 0]        5   \n",
       "\n",
       "                                          reviewText   reviewTime  \\\n",
       "0  Been playing this for two days now, and I am v...  03 10, 2011   \n",
       "1  I really enjoyed playing this game, although i...  02 27, 2014   \n",
       "2  This was kind of a gamble and was looking for ...   07 7, 2013   \n",
       "3  ***Updated 7/7/2011 - update marked below***I ...  04 10, 2011   \n",
       "4  It looks like we've come a long way from past ...  07 13, 2001   \n",
       "5  Tellurye, here with another review brought to ...  10 30, 2009   \n",
       "6  Fallout 2 is worth the price alone... but if y...   09 6, 2009   \n",
       "7  As I'm not a fan of AA batteries, this accesso...   12 4, 2013   \n",
       "8  Next to the Final Fantasy series, the Dragon Q...  03 22, 2007   \n",
       "9  This game is so great, not just for the crazy ...  08 20, 2013   \n",
       "\n",
       "       reviewerID                      reviewerName  \\\n",
       "0  A17M1HL6U2GS7M                        Storylover   \n",
       "1  A1FGU7F9UJ264N                     Kelly Randall   \n",
       "2  A3R7M2EP1EYNVT             Thomas B. Hileman Jr.   \n",
       "3  A369KP0JV77JYT                               Jon   \n",
       "4    ABIKTKAWOMY8                     Chance Farley   \n",
       "5  A2SYA663GK3EEJ  R. Stevens \"Fedora Technologies\"   \n",
       "6  A39AUQ3IP3C8KI                      J. Nicholson   \n",
       "7  A22N09ZP9D77DM                       D. Alvarado   \n",
       "8   AJKWF4W7QD4NS              N. Durham \"Big Evil\"   \n",
       "9  A1T4HGVX32QIYC                      Will Ramirez   \n",
       "\n",
       "                                             summary  unixReviewTime  \\\n",
       "0  It feels like hanging out with old friends aga...      1299715200   \n",
       "1                                           Fun game      1393459200   \n",
       "2                                        Shoot em up      1373155200   \n",
       "3         Fun for a group, don't pay too much for it      1302393600   \n",
       "4        One of the best fps's to ever hit a console       994982400   \n",
       "5  Does the Saw universe justice, but controls ma...      1256860800   \n",
       "6                 Worth it (even if it was just FO2)      1252195200   \n",
       "7           Great upgrade over the Xbox 360 version.      1386115200   \n",
       "8           One of the best games, ever, for the PS2      1174521600   \n",
       "9                                         Great Game      1376956800   \n",
       "\n",
       "          value  value_meaned  \n",
       "0 -8.699664e-04      3.660420  \n",
       "1  2.010041e-02      4.487492  \n",
       "2  7.363616e-05      3.975074  \n",
       "3 -3.260203e-04      4.666341  \n",
       "4  6.254228e-03      4.373601  \n",
       "5  3.067033e-04      3.714592  \n",
       "6 -1.380123e-05      3.588221  \n",
       "7 -5.349924e-02      4.397481  \n",
       "8  8.465834e-02      4.474489  \n",
       "9  3.304022e-07      3.333334  "
      ]
     },
     "execution_count": 50,
     "metadata": {},
     "output_type": "execute_result"
    }
   ],
   "source": [
    "df_merged.head(10)"
   ]
  },
  {
   "cell_type": "code",
   "execution_count": 52,
   "metadata": {},
   "outputs": [
    {
     "data": {
      "text/plain": [
       "1.3006931297897357"
      ]
     },
     "execution_count": 52,
     "metadata": {},
     "output_type": "execute_result"
    }
   ],
   "source": [
    "mean_squared_error(df_merged['overall'], df_merged['value_meaned'])  "
   ]
  },
  {
   "cell_type": "markdown",
   "metadata": {},
   "source": [
    "# optimizations\n",
    "50 dim = mse 17.454677326070133\n",
    "150 dim = mse 17.465798414170884"
   ]
  }
 ],
 "metadata": {
  "kernelspec": {
   "display_name": "Python 3",
   "language": "python",
   "name": "python3"
  },
  "language_info": {
   "codemirror_mode": {
    "name": "ipython",
    "version": 3
   },
   "file_extension": ".py",
   "mimetype": "text/x-python",
   "name": "python",
   "nbconvert_exporter": "python",
   "pygments_lexer": "ipython3",
   "version": "3.7.2"
  }
 },
 "nbformat": 4,
 "nbformat_minor": 2
}
