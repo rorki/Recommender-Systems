{
 "cells": [
  {
   "cell_type": "markdown",
   "metadata": {},
   "source": [
    "## EDA of Amazon Dataset"
   ]
  },
  {
   "cell_type": "code",
   "execution_count": 1,
   "metadata": {},
   "outputs": [],
   "source": [
    "import pandas as pd\n",
    "import numpy as np\n",
    "import matplotlib.pyplot as plt\n",
    "import seaborn as sns\n",
    "from pathlib import Path\n",
    "import glob\n",
    "%matplotlib inline\n",
    "sns.set()\n",
    "sns.set_style(style='whitegrid')\n",
    "#sns.set_palette('muted')"
   ]
  },
  {
   "cell_type": "code",
   "execution_count": 2,
   "metadata": {},
   "outputs": [],
   "source": [
    "parent_path = r'D:\\Datasets\\amazon_reviews\\gzips'"
   ]
  },
  {
   "cell_type": "code",
   "execution_count": 16,
   "metadata": {},
   "outputs": [],
   "source": [
    "# info: category, num of items, num of users, num of grades, num of 5th, num of 4th, etc"
   ]
  },
  {
   "cell_type": "code",
   "execution_count": 3,
   "metadata": {},
   "outputs": [
    {
     "name": "stdout",
     "output_type": "stream",
     "text": [
      "Processing: Books\n",
      "Chunk #1\n",
      "Chunk #2\n",
      "Chunk #3\n",
      "Chunk #4\n",
      "Chunk #5\n",
      "Chunk #6\n",
      "Chunk #7\n",
      "Chunk #8\n",
      "Chunk #9\n",
      "Processing: CDs and Vinyl\n",
      "Chunk #1\n",
      "Chunk #2\n",
      "Processing: Cell Phones and Accessories\n",
      "Chunk #1\n",
      "Processing: Clothing Shoes and Jewelry\n",
      "Chunk #1\n",
      "Processing: Electronics\n",
      "Chunk #1\n",
      "Chunk #2\n",
      "Processing: Health and Personal Care\n",
      "Chunk #1\n",
      "Processing: Home and Kitchen\n",
      "Chunk #1\n",
      "Processing: Kindle Store\n",
      "Chunk #1\n",
      "Processing: Movies and TV\n",
      "Chunk #1\n",
      "Chunk #2\n",
      "Processing: Sports and Outdoors\n",
      "Chunk #1\n",
      "Processing: Toys and Games\n",
      "Chunk #1\n",
      "Processing: Video Games\n",
      "Chunk #1\n"
     ]
    }
   ],
   "source": [
    "files = [Path(f) for f in glob.glob(parent_path  + r\"\\*.gz\", recursive=False)]\n",
    "\n",
    "datasets_info = {}\n",
    "\n",
    "reviewers = set()\n",
    "asins = set()\n",
    "\n",
    "for file in files:\n",
    "    label = ' '.join(file.stem.split('_')[1:-1])\n",
    "    print('Processing: ' + label)\n",
    "\n",
    "    num_grades = 0\n",
    "    counts = 0\n",
    "    set_reviewers = set()\n",
    "    set_asins = set()\n",
    "\n",
    "    chunk_num = 1        \n",
    "    for df_chunky in pd.read_json(str(file), lines=True, compression = 'gzip', chunksize=1000000):\n",
    "        print('Chunk #%s' % chunk_num)\n",
    "        chunk_num += 1\n",
    "        \n",
    "        set_asins.update(df_chunky['asin'].unique())\n",
    "        set_reviewers.update(df_chunky['reviewerID'].unique())\n",
    "    \n",
    "        num_grades += df_chunky.shape[0]\n",
    "        counts += df_chunky.overall.value_counts(sort=False)\n",
    "    \n",
    "    datasets_info[label] = {'Unique ASINs': len(set_asins), 'Unique Reviewers': len(set_reviewers), 'Num of Scores': num_grades, 'Counts': counts}\n",
    "    reviewers.update(set_reviewers)\n",
    "    asins.update(set_asins)\n",
    "    "
   ]
  },
  {
   "cell_type": "code",
   "execution_count": 4,
   "metadata": {},
   "outputs": [
    {
     "name": "stdout",
     "output_type": "stream",
     "text": [
      "Total reviewers #1009235\n",
      "Total asins #663413\n"
     ]
    }
   ],
   "source": [
    "print('Total reviewers #%s' % len(reviewers))\n",
    "print('Total asins #%s' % len(asins))"
   ]
  },
  {
   "cell_type": "code",
   "execution_count": 4,
   "metadata": {},
   "outputs": [
    {
     "name": "stdout",
     "output_type": "stream",
     "text": [
      "dict_keys(['Cell Phones and Accessories', 'Video Games', 'Home and Kitchen', 'Kindle Store', 'Health and Personal Care', 'Clothing Shoes and Jewelry', 'Books', 'CDs and Vinyl', 'Movies and TV', 'Electronics', 'Toys and Games', 'Sports and Outdoors'])\n"
     ]
    }
   ],
   "source": [
    "# print all categories\n",
    "print(datasets_info.keys())"
   ]
  },
  {
   "cell_type": "code",
   "execution_count": 5,
   "metadata": {},
   "outputs": [],
   "source": [
    "df_data = [(i, datasets_info[i]['Num of Scores'], datasets_info[i]['Unique ASINs'], datasets_info[i]['Unique Reviewers']) + s for i in datasets_info.keys() for s in zip(datasets_info[i]['Counts'].index, datasets_info[i]['Counts'])]\n",
    "df = pd.DataFrame(df_data, columns = ['Category', 'Num of Scores', 'Unique ASINs', 'Unique Reviewers', 'Rate', 'Rate Count'])"
   ]
  },
  {
   "cell_type": "markdown",
   "metadata": {},
   "source": [
    "### Calculate sparsity"
   ]
  },
  {
   "cell_type": "code",
   "execution_count": 64,
   "metadata": {},
   "outputs": [],
   "source": [
    "# sparsity = 1 - #non_zero(A) / #total(A)\n",
    "sparsity = [(key, 1 - datasets_info[key]['Num of Scores']/(datasets_info[key]['Unique ASINs'] * datasets_info[key]['Unique Reviewers'])) for key in datasets_info.keys()]"
   ]
  },
  {
   "cell_type": "code",
   "execution_count": 69,
   "metadata": {},
   "outputs": [],
   "source": [
    "sparsity_df = pd.DataFrame.from_dict(dict(enumerate(sparsity)), orient='index', columns=['Category','Sparsity'])"
   ]
  },
  {
   "cell_type": "code",
   "execution_count": 70,
   "metadata": {},
   "outputs": [
    {
     "data": {
      "text/html": [
       "<div>\n",
       "<style scoped>\n",
       "    .dataframe tbody tr th:only-of-type {\n",
       "        vertical-align: middle;\n",
       "    }\n",
       "\n",
       "    .dataframe tbody tr th {\n",
       "        vertical-align: top;\n",
       "    }\n",
       "\n",
       "    .dataframe thead th {\n",
       "        text-align: right;\n",
       "    }\n",
       "</style>\n",
       "<table border=\"1\" class=\"dataframe\">\n",
       "  <thead>\n",
       "    <tr style=\"text-align: right;\">\n",
       "      <th></th>\n",
       "      <th>Category</th>\n",
       "      <th>Sparsity</th>\n",
       "    </tr>\n",
       "  </thead>\n",
       "  <tbody>\n",
       "    <tr>\n",
       "      <th>0</th>\n",
       "      <td>Movies and TV</td>\n",
       "      <td>0.999726</td>\n",
       "    </tr>\n",
       "    <tr>\n",
       "      <th>1</th>\n",
       "      <td>Video Games</td>\n",
       "      <td>0.999106</td>\n",
       "    </tr>\n",
       "    <tr>\n",
       "      <th>2</th>\n",
       "      <td>Books</td>\n",
       "      <td>0.999960</td>\n",
       "    </tr>\n",
       "    <tr>\n",
       "      <th>3</th>\n",
       "      <td>Electronics</td>\n",
       "      <td>0.999861</td>\n",
       "    </tr>\n",
       "    <tr>\n",
       "      <th>4</th>\n",
       "      <td>Kindle Store</td>\n",
       "      <td>0.999767</td>\n",
       "    </tr>\n",
       "    <tr>\n",
       "      <th>5</th>\n",
       "      <td>Toys and Games</td>\n",
       "      <td>0.999276</td>\n",
       "    </tr>\n",
       "    <tr>\n",
       "      <th>6</th>\n",
       "      <td>Sports and Outdoors</td>\n",
       "      <td>0.999547</td>\n",
       "    </tr>\n",
       "    <tr>\n",
       "      <th>7</th>\n",
       "      <td>CDs and Vinyl</td>\n",
       "      <td>0.999774</td>\n",
       "    </tr>\n",
       "    <tr>\n",
       "      <th>8</th>\n",
       "      <td>Health and Personal Care</td>\n",
       "      <td>0.999516</td>\n",
       "    </tr>\n",
       "    <tr>\n",
       "      <th>9</th>\n",
       "      <td>Clothing Shoes and Jewelry</td>\n",
       "      <td>0.999693</td>\n",
       "    </tr>\n",
       "    <tr>\n",
       "      <th>10</th>\n",
       "      <td>Home and Kitchen</td>\n",
       "      <td>0.999706</td>\n",
       "    </tr>\n",
       "    <tr>\n",
       "      <th>11</th>\n",
       "      <td>Cell Phones and Accessories</td>\n",
       "      <td>0.999331</td>\n",
       "    </tr>\n",
       "  </tbody>\n",
       "</table>\n",
       "</div>"
      ],
      "text/plain": [
       "                       Category  Sparsity\n",
       "0                 Movies and TV  0.999726\n",
       "1                   Video Games  0.999106\n",
       "2                         Books  0.999960\n",
       "3                   Electronics  0.999861\n",
       "4                  Kindle Store  0.999767\n",
       "5                Toys and Games  0.999276\n",
       "6           Sports and Outdoors  0.999547\n",
       "7                 CDs and Vinyl  0.999774\n",
       "8      Health and Personal Care  0.999516\n",
       "9    Clothing Shoes and Jewelry  0.999693\n",
       "10             Home and Kitchen  0.999706\n",
       "11  Cell Phones and Accessories  0.999331"
      ]
     },
     "execution_count": 70,
     "metadata": {},
     "output_type": "execute_result"
    }
   ],
   "source": [
    "sparsity_df"
   ]
  },
  {
   "cell_type": "code",
   "execution_count": 80,
   "metadata": {},
   "outputs": [
    {
     "data": {
      "text/plain": [
       "<matplotlib.axes._subplots.AxesSubplot at 0x1820e8f4a58>"
      ]
     },
     "execution_count": 80,
     "metadata": {},
     "output_type": "execute_result"
    },
    {
     "data": {
      "image/png": "[encoded data removed]",
      "text/plain": [
       "<Figure size 432x288 with 1 Axes>"
      ]
     },
     "metadata": {},
     "output_type": "display_data"
    }
   ],
   "source": [
    "f, ax = plt.subplots()#figsize=(8, 5))\n",
    "ax.set(xlim=(0.998, 1.0))\n",
    "sns.barplot(y='Category', x = 'Sparsity', palette='deep', data=sparsity_df, orient = 'h', ax = ax)"
   ]
  },
  {
   "cell_type": "markdown",
   "metadata": {},
   "source": [
    "### Rates distributions"
   ]
  },
  {
   "cell_type": "code",
   "execution_count": 12,
   "metadata": {},
   "outputs": [
    {
     "data": {
      "image/png": "[encoded data removed]",
      "text/plain": [
       "<Figure size 432x288 with 1 Axes>"
      ]
     },
     "metadata": {},
     "output_type": "display_data"
    }
   ],
   "source": [
    "f, ax = plt.subplots()#figsize=(8, 5))\n",
    "\n",
    "df_percentages = df[df['Category'].isin(['Movies and TV', 'Books', 'CDs and Vinyl', 'Electronics', 'Video Games'])].copy()\n",
    "sums = df_percentages.groupby('Category')['Rate Count'].sum()\n",
    "df_percentages['Counts'] = df_percentages.apply(lambda row: row['Rate Count']/sums[row['Category']], axis = 1)\n",
    "\n",
    "ax = sns.barplot(x=\"Rate\", y=\"Counts\", hue=\"Category\", data=df_percentages, ax = ax)\n",
    "ax.set(xlabel='Rating', ylabel='Normalized #')\n",
    "plt.tight_layout()\n",
    "f.savefig('images/count_distrib.pdf')"
   ]
  },
  {
   "cell_type": "code",
   "execution_count": 28,
   "metadata": {},
   "outputs": [
    {
     "name": "stdout",
     "output_type": "stream",
     "text": [
      "Average dataset rate: 4.24\n"
     ]
    }
   ],
   "source": [
    "avg = 0\n",
    "total = 0\n",
    "for rate in range(1, 6):\n",
    "    rate_counts = df[df['Rate'] == rate]['Rate Count'].sum()\n",
    "    total += rate_counts\n",
    "    avg += rate_counts * rate\n",
    "print(\"Average dataset rate: %0.2f\" % (avg/total))"
   ]
  },
  {
   "cell_type": "markdown",
   "metadata": {},
   "source": [
    "### Sizes"
   ]
  },
  {
   "cell_type": "code",
   "execution_count": 107,
   "metadata": {},
   "outputs": [
    {
     "name": "stderr",
     "output_type": "stream",
     "text": [
      "C:\\Users\\irina\\Miniconda3\\envs\\exmc\\lib\\site-packages\\scipy\\stats\\stats.py:1713: FutureWarning: Using a non-tuple sequence for multidimensional indexing is deprecated; use `arr[tuple(seq)]` instead of `arr[seq]`. In the future this will be interpreted as an array index, `arr[np.array(seq)]`, which will result either in an error or a different result.\n",
      "  return np.add.reduce(sorted[indexer] * weights, axis=axis) / sumval\n"
     ]
    },
    {
     "data": {
      "image/png": "[encoded data removed]",
      "text/plain": [
       "<Figure size 432x288 with 1 Axes>"
      ]
     },
     "metadata": {},
     "output_type": "display_data"
    }
   ],
   "source": [
    "f, ax = plt.subplots()#figsize=(8, 5))\n",
    "sns.barplot(y='Category', x = 'Num of Scores', data=df, orient = 'h', ax = ax, palette='deep', order = sorted(df['Category'].unique()))\n",
    "\n",
    "ax.set(xscale=\"log\", xlabel='# of Ratings')\n",
    "plt.tight_layout()\n",
    "f.savefig('images/ratings_per_cat.pdf')"
   ]
  }
 ],
 "metadata": {
  "kernelspec": {
   "display_name": "Python 3",
   "language": "python",
   "name": "python3"
  },
  "language_info": {
   "codemirror_mode": {
    "name": "ipython",
    "version": 3
   },
   "file_extension": ".py",
   "mimetype": "text/x-python",
   "name": "python",
   "nbconvert_exporter": "python",
   "pygments_lexer": "ipython3",
   "version": "3.5.5"
  }
 },
 "nbformat": 4,
 "nbformat_minor": 2
}
