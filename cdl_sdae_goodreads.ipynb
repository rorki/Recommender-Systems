{
 "cells": [
  {
   "cell_type": "markdown",
   "metadata": {},
   "source": [
    "# CDL for Goodreads datasets"
   ]
  },
  {
   "cell_type": "code",
   "execution_count": 1,
   "metadata": {},
   "outputs": [
    {
     "data": {
      "text/plain": [
       "<module 'models.model_cdl_sdae_sgd' from 'C:\\\\Users\\\\irina\\\\Dev\\\\master\\\\models\\\\model_cdl_sdae_sgd.py'>"
      ]
     },
     "execution_count": 1,
     "metadata": {},
     "output_type": "execute_result"
    }
   ],
   "source": [
    "import pickle\n",
    "import tensorflow as tf\n",
    "import pandas as pd\n",
    "import numpy as np\n",
    "from sklearn.metrics import mean_squared_error, mean_absolute_error\n",
    "from helpful_stuff.utils_xp_out import write_to_csv, XPDescription, XPResults, _write_row\n",
    "from helpful_stuff.utils_metrics import precision_recall_at_k_4arrays\n",
    "from helpful_stuff.utils_model_out import make_out_dirs\n",
    "import models.model_cdl_sdae_sgd\n",
    "import models.mf_sgd\n",
    "import models.dataset\n",
    "import os\n",
    "import itertools as it\n",
    "\n",
    "from importlib import reload\n",
    "reload(models.dataset)\n",
    "reload(models.model_cdl_sdae_sgd)"
   ]
  },
  {
   "cell_type": "code",
   "execution_count": 2,
   "metadata": {},
   "outputs": [
    {
     "name": "stdout",
     "output_type": "stream",
     "text": [
      "Out dir of experiment:  D:/Models/thesis/sdae-sgd/goodreads_test/\n",
      "Out dir of U, V matricies:  D:/Models/thesis/sdae-sgd/goodreads_test/pickles/\n",
      "Out dir of model parameters:  D:/Models/thesis/sdae-sgd/goodreads_test/tf/\n"
     ]
    }
   ],
   "source": [
    "### create all necessary dirs for output ###\n",
    "\n",
    "XP_PATH, U_V_PATH, MODEL_PATH = make_out_dirs(model_name='sdae-sgd', xp_name='goodreads_test') \n",
    "print(\"Out dir of experiment: \", XP_PATH)\n",
    "print(\"Out dir of U, V matricies: \", U_V_PATH)\n",
    "print(\"Out dir of model parameters: \", MODEL_PATH)"
   ]
  },
  {
   "cell_type": "markdown",
   "metadata": {},
   "source": [
    "## Prepare dataset"
   ]
  },
  {
   "cell_type": "code",
   "execution_count": 3,
   "metadata": {},
   "outputs": [],
   "source": [
    "df_rates = pd.read_json('D:/Datasets/goodreads_reviews/processed/goodreads_interactions_children.json')\n",
    "df_rev = pd.read_json('D:/Datasets/goodreads_reviews/processed/goodreads_reviews_children.json')"
   ]
  },
  {
   "cell_type": "code",
   "execution_count": 4,
   "metadata": {},
   "outputs": [
    {
     "data": {
      "text/html": [
       "<div>\n",
       "<style scoped>\n",
       "    .dataframe tbody tr th:only-of-type {\n",
       "        vertical-align: middle;\n",
       "    }\n",
       "\n",
       "    .dataframe tbody tr th {\n",
       "        vertical-align: top;\n",
       "    }\n",
       "\n",
       "    .dataframe thead th {\n",
       "        text-align: right;\n",
       "    }\n",
       "</style>\n",
       "<table border=\"1\" class=\"dataframe\">\n",
       "  <thead>\n",
       "    <tr style=\"text-align: right;\">\n",
       "      <th></th>\n",
       "      <th>book_id</th>\n",
       "      <th>rating</th>\n",
       "      <th>user_id</th>\n",
       "    </tr>\n",
       "  </thead>\n",
       "  <tbody>\n",
       "    <tr>\n",
       "      <th>0</th>\n",
       "      <td>23310161</td>\n",
       "      <td>4</td>\n",
       "      <td>8842281e1d1347389f2ab93d60773d4d</td>\n",
       "    </tr>\n",
       "    <tr>\n",
       "      <th>1</th>\n",
       "      <td>18296097</td>\n",
       "      <td>5</td>\n",
       "      <td>8842281e1d1347389f2ab93d60773d4d</td>\n",
       "    </tr>\n",
       "  </tbody>\n",
       "</table>\n",
       "</div>"
      ],
      "text/plain": [
       "    book_id  rating                           user_id\n",
       "0  23310161       4  8842281e1d1347389f2ab93d60773d4d\n",
       "1  18296097       5  8842281e1d1347389f2ab93d60773d4d"
      ]
     },
     "execution_count": 4,
     "metadata": {},
     "output_type": "execute_result"
    }
   ],
   "source": [
    "df_rates.head(2)"
   ]
  },
  {
   "cell_type": "code",
   "execution_count": 5,
   "metadata": {},
   "outputs": [
    {
     "data": {
      "text/html": [
       "<div>\n",
       "<style scoped>\n",
       "    .dataframe tbody tr th:only-of-type {\n",
       "        vertical-align: middle;\n",
       "    }\n",
       "\n",
       "    .dataframe tbody tr th {\n",
       "        vertical-align: top;\n",
       "    }\n",
       "\n",
       "    .dataframe thead th {\n",
       "        text-align: right;\n",
       "    }\n",
       "</style>\n",
       "<table border=\"1\" class=\"dataframe\">\n",
       "  <thead>\n",
       "    <tr style=\"text-align: right;\">\n",
       "      <th></th>\n",
       "      <th>book_id</th>\n",
       "      <th>date_added</th>\n",
       "      <th>date_updated</th>\n",
       "      <th>n_comments</th>\n",
       "      <th>n_votes</th>\n",
       "      <th>rating</th>\n",
       "      <th>read_at</th>\n",
       "      <th>review_id</th>\n",
       "      <th>review_text</th>\n",
       "      <th>review_text_proc</th>\n",
       "      <th>started_at</th>\n",
       "      <th>user_id</th>\n",
       "    </tr>\n",
       "  </thead>\n",
       "  <tbody>\n",
       "    <tr>\n",
       "      <th>0</th>\n",
       "      <td>23310161</td>\n",
       "      <td>Tue Nov 17 11:37:35 -0800 2015</td>\n",
       "      <td>Tue Nov 17 11:38:05 -0800 2015</td>\n",
       "      <td>0</td>\n",
       "      <td>7</td>\n",
       "      <td>4</td>\n",
       "      <td></td>\n",
       "      <td>f4b4b050f4be00e9283c92a814af2670</td>\n",
       "      <td>Fun sequel to the original.</td>\n",
       "      <td>fun sequel original</td>\n",
       "      <td></td>\n",
       "      <td>8842281e1d1347389f2ab93d60773d4d</td>\n",
       "    </tr>\n",
       "    <tr>\n",
       "      <th>1</th>\n",
       "      <td>17290220</td>\n",
       "      <td>Sat Nov 08 08:54:03 -0800 2014</td>\n",
       "      <td>Wed Jan 25 13:56:12 -0800 2017</td>\n",
       "      <td>0</td>\n",
       "      <td>4</td>\n",
       "      <td>5</td>\n",
       "      <td>Tue Jan 24 00:00:00 -0800 2017</td>\n",
       "      <td>22d424a2b0057b18fb6ecf017af7be92</td>\n",
       "      <td>One of my favorite books to read to my 5 year ...</td>\n",
       "      <td>one favorite book read 5 year old rosie learn ...</td>\n",
       "      <td></td>\n",
       "      <td>8842281e1d1347389f2ab93d60773d4d</td>\n",
       "    </tr>\n",
       "  </tbody>\n",
       "</table>\n",
       "</div>"
      ],
      "text/plain": [
       "    book_id                      date_added                    date_updated  \\\n",
       "0  23310161  Tue Nov 17 11:37:35 -0800 2015  Tue Nov 17 11:38:05 -0800 2015   \n",
       "1  17290220  Sat Nov 08 08:54:03 -0800 2014  Wed Jan 25 13:56:12 -0800 2017   \n",
       "\n",
       "   n_comments  n_votes  rating                         read_at  \\\n",
       "0           0        7       4                                   \n",
       "1           0        4       5  Tue Jan 24 00:00:00 -0800 2017   \n",
       "\n",
       "                          review_id  \\\n",
       "0  f4b4b050f4be00e9283c92a814af2670   \n",
       "1  22d424a2b0057b18fb6ecf017af7be92   \n",
       "\n",
       "                                         review_text  \\\n",
       "0                        Fun sequel to the original.   \n",
       "1  One of my favorite books to read to my 5 year ...   \n",
       "\n",
       "                                    review_text_proc started_at  \\\n",
       "0                                fun sequel original              \n",
       "1  one favorite book read 5 year old rosie learn ...              \n",
       "\n",
       "                            user_id  \n",
       "0  8842281e1d1347389f2ab93d60773d4d  \n",
       "1  8842281e1d1347389f2ab93d60773d4d  "
      ]
     },
     "execution_count": 5,
     "metadata": {},
     "output_type": "execute_result"
    }
   ],
   "source": [
    "df_rev.head(2)"
   ]
  },
  {
   "cell_type": "code",
   "execution_count": 6,
   "metadata": {},
   "outputs": [],
   "source": [
    "reviews = df_rev.groupby('book_id').review_text_proc.agg(' '.join)\n",
    "reviews = pd.DataFrame(reviews)\n",
    "reviews = reviews.reset_index()"
   ]
  },
  {
   "cell_type": "code",
   "execution_count": 7,
   "metadata": {},
   "outputs": [
    {
     "name": "stdout",
     "output_type": "stream",
     "text": [
      "Filled in 135 empty reviews: [2817, 127768, 193412, 194874, 265833]...\n",
      "Noising of reviews\n"
     ]
    }
   ],
   "source": [
    "ds = models.dataset.DataSet(df_ratings=df_rates, rating_cols=['user_id', 'book_id', 'rating'], df_reviews=reviews, review_cols=['book_id', 'review_text_proc'], noise_reviews=True)"
   ]
  },
  {
   "cell_type": "code",
   "execution_count": 8,
   "metadata": {},
   "outputs": [],
   "source": [
    "del reviews, df_rates, df_rev"
   ]
  },
  {
   "cell_type": "markdown",
   "metadata": {},
   "source": [
    "## Train model"
   ]
  },
  {
   "cell_type": "code",
   "execution_count": 8,
   "metadata": {},
   "outputs": [
    {
     "name": "stdin",
     "output_type": "stream",
     "text": [
      "Once deleted, variables cannot be recovered. Proceed (y/[n])?  y\n"
     ]
    },
    {
     "name": "stdout",
     "output_type": "stream",
     "text": [
      "Flushing output cache (3 entries)\n"
     ]
    }
   ],
   "source": [
    "%reset Out "
   ]
  },
  {
   "cell_type": "code",
   "execution_count": null,
   "metadata": {},
   "outputs": [],
   "source": [
    "cdl = models.model_cdl_sdae_sgd.CDL(ds, out_path=XP_PATH, k=50, hidden_size=250, \n",
    "          matrix_noise=0.3, drop_ratio=0.2, epochs=60,\n",
    "          lambda_w=1, lambda_v=1, lambda_n=10, lambda_q = 10)\n",
    "mu, pu, qi, bu, bi = cdl.training() #188910"
   ]
  },
  {
   "cell_type": "code",
   "execution_count": 13,
   "metadata": {},
   "outputs": [
    {
     "name": "stdout",
     "output_type": "stream",
     "text": [
      "pu shape: 474296 x 50\n",
      "qi shape: 123196 x 50\n",
      "beta_u shape: 474296\n",
      "beta_i shape: 123196\n"
     ]
    }
   ],
   "source": [
    "## dump U and V matricies to pickle files\n",
    "print(\"pu shape: %s x %s\" % pu.shape)\n",
    "print(\"qi shape: %s x %s\" % qi.shape)\n",
    "\n",
    "print(\"beta_u shape: %s\" % bu.shape)\n",
    "print(\"beta_i shape: %s\" % bi.shape)\n",
    "\n",
    "with open(U_V_PATH + 'mx.pickle', 'wb') as handle:\n",
    "    pickle.dump({'mu':mu, 'pu':pu, 'qi':qi, 'bu':bu, 'bi':bi}, handle, protocol=pickle.HIGHEST_PROTOCOL)"
   ]
  },
  {
   "cell_type": "code",
   "execution_count": null,
   "metadata": {},
   "outputs": [],
   "source": [
    "with open(U_V_PATH + 'item_ids_map.pickle', 'wb') as handle:\n",
    "    pickle.dump(ds., handle, protocol=pickle.HIGHEST_PROTOCOL)"
   ]
  },
  {
   "cell_type": "markdown",
   "metadata": {},
   "source": [
    "## Evaluate model\n"
   ]
  },
  {
   "cell_type": "code",
   "execution_count": 14,
   "metadata": {},
   "outputs": [],
   "source": [
    "test_preds = models.mf_sgd.SGD.predict_dataset_with_params(ds.get_test_rating_matrix(), mu, bu, bi, qi, pu)"
   ]
  },
  {
   "cell_type": "code",
   "execution_count": 15,
   "metadata": {},
   "outputs": [
    {
     "name": "stdout",
     "output_type": "stream",
     "text": [
      "MSE: 0.9815240577602424\n",
      "MAE: 0.7168159081593866\n"
     ]
    }
   ],
   "source": [
    "mse = mean_squared_error(ds.testset.rate__, test_preds) ** 0.5\n",
    "mae = mean_absolute_error(ds.testset.rate__, test_preds)\n",
    "\n",
    "print(\"MSE: %s\" % mse)\n",
    "print(\"MAE: %s\" % mae)"
   ]
  },
  {
   "cell_type": "code",
   "execution_count": 16,
   "metadata": {},
   "outputs": [],
   "source": [
    "k_prec = {}\n",
    "k_rec = {}\n",
    "\n",
    "for k in range(0, 200):\n",
    "    precisions, recalls = precision_recall_at_k_4arrays(ds.testset.uid__, test_preds, ds.testset.rate__, k=k, threshold=3) \n",
    "    p_mean = np.mean(list(precisions.values()))\n",
    "    r_mean = np.mean(list(recalls.values()))\n",
    "    k_prec[k] = p_mean\n",
    "    k_rec[k] = r_mean"
   ]
  },
  {
   "cell_type": "code",
   "execution_count": 17,
   "metadata": {},
   "outputs": [],
   "source": [
    "row = XPResults(dataset='Goodreads_Kids', xpdata=XPDescription(predictor=None, label='CDL-SDAE-SGD', nfactors=25), rmse=mse, mae=mae, precision=k_prec, recall=k_rec)"
   ]
  },
  {
   "cell_type": "code",
   "execution_count": 18,
   "metadata": {},
   "outputs": [],
   "source": [
    "write_to_csv(row, 'goodreads', 'sdae_sgd_optim')"
   ]
  },
  {
   "cell_type": "markdown",
   "metadata": {},
   "source": [
    "## Optimization"
   ]
  },
  {
   "cell_type": "code",
   "execution_count": 14,
   "metadata": {},
   "outputs": [
    {
     "name": "stdin",
     "output_type": "stream",
     "text": [
      "Once deleted, variables cannot be recovered. Proceed (y/[n])?  y\n"
     ]
    },
    {
     "name": "stdout",
     "output_type": "stream",
     "text": [
      "Flushing output cache (0 entries)\n"
     ]
    }
   ],
   "source": [
    "parent_path = 'D:/Optimizations/master/goodreads/cdl_sdae/'\n",
    "if not os.path.isdir(parent_path):\n",
    "    os.mkdir(parent_path)\n",
    "    \n",
    "%reset Out"
   ]
  },
  {
   "cell_type": "code",
   "execution_count": 15,
   "metadata": {},
   "outputs": [],
   "source": [
    "params = {\n",
    "    \"hidden_size\": [250, 300, 350],\n",
    "    \"k\": [150, 200],\n",
    "    \"drop_ratio\": [0.2],\n",
    "    \"lambda_q\": [0.1],\n",
    "    \"lambda_v\": [0.1],\n",
    "    \"lambda_w\": [0.1],\n",
    "    \"lambda_n\": [10]\n",
    "}"
   ]
  },
  {
   "cell_type": "code",
   "execution_count": 16,
   "metadata": {},
   "outputs": [
    {
     "name": "stdout",
     "output_type": "stream",
     "text": [
      "Num of combinations: 6\n"
     ]
    }
   ],
   "source": [
    "sorted_keys = sorted(params)\n",
    "combinations = list(it.product(*(params[key] for key in sorted_keys)))\n",
    "print(\"Num of combinations: %s\" % len(combinations))"
   ]
  },
  {
   "cell_type": "code",
   "execution_count": 18,
   "metadata": {},
   "outputs": [],
   "source": [
    "# write header row\n",
    "_write_row(parent_path + 'cdl_sdae_sgd.csv', sorted_keys + ['rmse_train', 'mae_train', 'rmse_test', 'mae_test'])"
   ]
  },
  {
   "cell_type": "code",
   "execution_count": 19,
   "metadata": {},
   "outputs": [
    {
     "name": "stdout",
     "output_type": "stream",
     "text": [
      "Start testing 1\\6 hyper params {'lambda_q': 0.1, 'lambda_n': 10, 'lambda_w': 0.1, 'drop_ratio': 0.2, 'k': 150, 'lambda_v': 0.1, 'hidden_size': 250}\n",
      "Start training...\n",
      "EPOCH 1 / 70\n",
      "EPOCH 2 / 70\n",
      "EPOCH 3 / 70\n",
      "EPOCH 4 / 70\n",
      "EPOCH 5 / 70\n",
      "EPOCH 6 / 70\n",
      "EPOCH 7 / 70\n",
      "EPOCH 8 / 70\n",
      "EPOCH 9 / 70\n",
      "EPOCH 10 / 70\n",
      "EPOCH 11 / 70\n",
      "EPOCH 12 / 70\n"
     ]
    },
    {
     "ename": "KeyboardInterrupt",
     "evalue": "",
     "output_type": "error",
     "traceback": [
      "\u001b[0;31m---------------------------------------------------------------------------\u001b[0m",
      "\u001b[0;31mKeyboardInterrupt\u001b[0m                         Traceback (most recent call last)",
      "\u001b[0;32m<ipython-input-19-781e33708ccd>\u001b[0m in \u001b[0;36m<module>\u001b[0;34m()\u001b[0m\n\u001b[1;32m     14\u001b[0m     \u001b[0mcdl\u001b[0m \u001b[0;34m=\u001b[0m \u001b[0mmodels\u001b[0m\u001b[0;34m.\u001b[0m\u001b[0mmodel_cdl_sdae_sgd\u001b[0m\u001b[0;34m.\u001b[0m\u001b[0mCDL\u001b[0m\u001b[0;34m(\u001b[0m\u001b[0mds\u001b[0m\u001b[0;34m,\u001b[0m \u001b[0mout_path\u001b[0m\u001b[0;34m=\u001b[0m\u001b[0;32mNone\u001b[0m\u001b[0;34m,\u001b[0m \u001b[0mepochs\u001b[0m\u001b[0;34m=\u001b[0m\u001b[0;36m70\u001b[0m\u001b[0;34m,\u001b[0m \u001b[0;34m**\u001b[0m\u001b[0mhyper_params\u001b[0m\u001b[0;34m)\u001b[0m\u001b[0;34m\u001b[0m\u001b[0m\n\u001b[1;32m     15\u001b[0m \u001b[0;34m\u001b[0m\u001b[0m\n\u001b[0;32m---> 16\u001b[0;31m     \u001b[0mmu\u001b[0m\u001b[0;34m,\u001b[0m \u001b[0mpu\u001b[0m\u001b[0;34m,\u001b[0m \u001b[0mqi\u001b[0m\u001b[0;34m,\u001b[0m \u001b[0mbu\u001b[0m\u001b[0;34m,\u001b[0m \u001b[0mbi\u001b[0m \u001b[0;34m=\u001b[0m \u001b[0mcdl\u001b[0m\u001b[0;34m.\u001b[0m\u001b[0mtraining\u001b[0m\u001b[0;34m(\u001b[0m\u001b[0mverbose\u001b[0m\u001b[0;34m=\u001b[0m\u001b[0;32mFalse\u001b[0m\u001b[0;34m)\u001b[0m \u001b[0;31m#188910\u001b[0m\u001b[0;34m\u001b[0m\u001b[0m\n\u001b[0m\u001b[1;32m     17\u001b[0m \u001b[0;34m\u001b[0m\u001b[0m\n\u001b[1;32m     18\u001b[0m     \u001b[0mpreds\u001b[0m \u001b[0;34m=\u001b[0m \u001b[0mmodels\u001b[0m\u001b[0;34m.\u001b[0m\u001b[0mmf_sgd\u001b[0m\u001b[0;34m.\u001b[0m\u001b[0mSGD\u001b[0m\u001b[0;34m.\u001b[0m\u001b[0mpredict_dataset_with_params\u001b[0m\u001b[0;34m(\u001b[0m\u001b[0mds\u001b[0m\u001b[0;34m.\u001b[0m\u001b[0mget_train_rating_matrix\u001b[0m\u001b[0;34m(\u001b[0m\u001b[0;34m)\u001b[0m\u001b[0;34m,\u001b[0m \u001b[0mmu\u001b[0m\u001b[0;34m,\u001b[0m \u001b[0mbu\u001b[0m\u001b[0;34m,\u001b[0m \u001b[0mbi\u001b[0m\u001b[0;34m,\u001b[0m \u001b[0mqi\u001b[0m\u001b[0;34m,\u001b[0m \u001b[0mpu\u001b[0m\u001b[0;34m)\u001b[0m\u001b[0;34m\u001b[0m\u001b[0m\n",
      "\u001b[0;32mC:\\Users\\irina\\Dev\\master\\models\\model_cdl_sdae_sgd.py\u001b[0m in \u001b[0;36mtraining\u001b[0;34m(self, verbose)\u001b[0m\n\u001b[1;32m    120\u001b[0m                                                       self.model_drop_ratio: self.drop_ratio})\n\u001b[1;32m    121\u001b[0m             \u001b[0;31m# calc and print ALS loss every N epochs\u001b[0m\u001b[0;34m\u001b[0m\u001b[0;34m\u001b[0m\u001b[0m\n\u001b[0;32m--> 122\u001b[0;31m             \u001b[0mmu\u001b[0m\u001b[0;34m,\u001b[0m \u001b[0mpu\u001b[0m\u001b[0;34m,\u001b[0m \u001b[0mqi\u001b[0m\u001b[0;34m,\u001b[0m \u001b[0mbu\u001b[0m\u001b[0;34m,\u001b[0m \u001b[0mbi\u001b[0m \u001b[0;34m=\u001b[0m \u001b[0mmf\u001b[0m\u001b[0;34m.\u001b[0m\u001b[0mrun_epoch\u001b[0m\u001b[0;34m(\u001b[0m\u001b[0mqi_cdl\u001b[0m\u001b[0;34m=\u001b[0m\u001b[0mv_sdae\u001b[0m\u001b[0;34m)\u001b[0m\u001b[0;34m\u001b[0m\u001b[0m\n\u001b[0m\u001b[1;32m    123\u001b[0m             \u001b[0merr_rmse\u001b[0m\u001b[0;34m,\u001b[0m \u001b[0merr_mae\u001b[0m \u001b[0;34m=\u001b[0m \u001b[0mmf\u001b[0m\u001b[0;34m.\u001b[0m\u001b[0mcurrent_error\u001b[0m\u001b[0;34m(\u001b[0m\u001b[0;34m)\u001b[0m\u001b[0;34m\u001b[0m\u001b[0m\n\u001b[1;32m    124\u001b[0m \u001b[0;34m\u001b[0m\u001b[0m\n",
      "\u001b[0;32mC:\\Users\\irina\\Dev\\master\\models\\mf_sgd.py\u001b[0m in \u001b[0;36mrun_epoch\u001b[0;34m(self, qi_cdl)\u001b[0m\n\u001b[1;32m     69\u001b[0m             \u001b[0mdelta_q\u001b[0m \u001b[0;34m=\u001b[0m \u001b[0;36m0\u001b[0m\u001b[0;34m\u001b[0m\u001b[0m\n\u001b[1;32m     70\u001b[0m             \u001b[0;32mif\u001b[0m \u001b[0mqi_cdl\u001b[0m \u001b[0;32mis\u001b[0m \u001b[0;32mnot\u001b[0m \u001b[0;32mNone\u001b[0m\u001b[0;34m:\u001b[0m\u001b[0;34m\u001b[0m\u001b[0m\n\u001b[0;32m---> 71\u001b[0;31m                 \u001b[0mdelta_q\u001b[0m \u001b[0;34m=\u001b[0m \u001b[0mself\u001b[0m\u001b[0;34m.\u001b[0m\u001b[0mlambda_q\u001b[0m \u001b[0;34m*\u001b[0m \u001b[0;34m(\u001b[0m\u001b[0mqi_cdl\u001b[0m\u001b[0;34m[\u001b[0m\u001b[0mi\u001b[0m\u001b[0;34m]\u001b[0m \u001b[0;34m-\u001b[0m \u001b[0mself\u001b[0m\u001b[0;34m.\u001b[0m\u001b[0mqi\u001b[0m\u001b[0;34m[\u001b[0m\u001b[0mi\u001b[0m\u001b[0;34m]\u001b[0m\u001b[0;34m)\u001b[0m\u001b[0;34m\u001b[0m\u001b[0m\n\u001b[0m\u001b[1;32m     72\u001b[0m \u001b[0;34m\u001b[0m\u001b[0m\n\u001b[1;32m     73\u001b[0m             \u001b[0mpu_temp\u001b[0m \u001b[0;34m=\u001b[0m \u001b[0mself\u001b[0m\u001b[0;34m.\u001b[0m\u001b[0mlr_pu\u001b[0m \u001b[0;34m*\u001b[0m \u001b[0;34m(\u001b[0m\u001b[0merr\u001b[0m \u001b[0;34m*\u001b[0m \u001b[0mself\u001b[0m\u001b[0;34m.\u001b[0m\u001b[0mqi\u001b[0m\u001b[0;34m[\u001b[0m\u001b[0mi\u001b[0m\u001b[0;34m]\u001b[0m \u001b[0;34m-\u001b[0m \u001b[0mself\u001b[0m\u001b[0;34m.\u001b[0m\u001b[0mreg_pu\u001b[0m \u001b[0;34m*\u001b[0m \u001b[0mself\u001b[0m\u001b[0;34m.\u001b[0m\u001b[0mpu\u001b[0m\u001b[0;34m[\u001b[0m\u001b[0mu\u001b[0m\u001b[0;34m]\u001b[0m\u001b[0;34m)\u001b[0m\u001b[0;34m\u001b[0m\u001b[0m\n",
      "\u001b[0;31mKeyboardInterrupt\u001b[0m: "
     ]
    }
   ],
   "source": [
    "best_rmse = 1000\n",
    "best_mae = 1000\n",
    "\n",
    "best_mae_params = None\n",
    "best_rmse_params = None\n",
    "\n",
    "i = 0\n",
    "for ps in combinations:\n",
    "    tf.reset_default_graph()\n",
    "    hyper_params = dict(zip(sorted_keys, ps))\n",
    "    \n",
    "    i += 1\n",
    "    print(\"Start testing %s\\%s hyper params %s\" % (i, len(combinations),hyper_params))\n",
    "    cdl = models.model_cdl_sdae_sgd.CDL(ds, out_path=None, epochs=70, **hyper_params)\n",
    "    \n",
    "    mu, pu, qi, bu, bi = cdl.training(verbose=False) #188910\n",
    "    \n",
    "    preds = models.mf_sgd.SGD.predict_dataset_with_params(ds.get_train_rating_matrix(), mu, bu, bi, qi, pu)\n",
    "    train_rmse = mean_squared_error(ds.trainset.rate__, preds) ** 0.5\n",
    "    train_mae = mean_absolute_error(ds.trainset.rate__, preds)\n",
    "    \n",
    "    preds = models.mf_sgd.SGD.predict_dataset_with_params(ds.get_test_rating_matrix(), mu, bu, bi, qi, pu)\n",
    "    test_rmse = mean_squared_error(ds.testset.rate__, preds) ** 0.5\n",
    "    test_mae =  mean_absolute_error(ds.testset.rate__, preds)\n",
    "    \n",
    "    if test_rmse < best_rmse:\n",
    "        print(\"New best RMSE (test set): %s\" % test_rmse)\n",
    "        best_rmse = test_rmse\n",
    "        best_rmse_params = hyper_params\n",
    "        \n",
    "    if test_mae < best_mae:\n",
    "        print(\"New best MAE (test set): %s\" % test_mae)\n",
    "        best_mae = test_mae\n",
    "        best_mae_params = hyper_params\n",
    "        \n",
    "    print(\"Stop testing hyper params: \", hyper_params)\n",
    "    \n",
    "    # write to file\n",
    "    _write_row(parent_path + 'cdl_sdae_sgd.csv', [hyper_params[k] for k in sorted_keys] + [train_rmse, train_mae, test_rmse, test_mae] )\n",
    "    del cdl, preds"
   ]
  },
  {
   "cell_type": "code",
   "execution_count": null,
   "metadata": {},
   "outputs": [],
   "source": [
    "print('BEST RMSE %s for params %s' % (best_rmse, best_rmse_params))\n",
    "print('BEST MAE %s for params %s' % (best_mae, best_mae_params))"
   ]
  },
  {
   "cell_type": "code",
   "execution_count": null,
   "metadata": {},
   "outputs": [],
   "source": []
  }
 ],
 "metadata": {
  "kernelspec": {
   "display_name": "Python 3",
   "language": "python",
   "name": "python3"
  },
  "language_info": {
   "codemirror_mode": {
    "name": "ipython",
    "version": 3
   },
   "file_extension": ".py",
   "mimetype": "text/x-python",
   "name": "python",
   "nbconvert_exporter": "python",
   "pygments_lexer": "ipython3",
   "version": "3.5.5"
  }
 },
 "nbformat": 4,
 "nbformat_minor": 2
}
