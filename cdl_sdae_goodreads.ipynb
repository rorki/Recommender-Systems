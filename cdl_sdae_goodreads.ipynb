{
 "cells": [
  {
   "cell_type": "markdown",
   "metadata": {},
   "source": [
    "# CDL for Goodreads datasets"
   ]
  },
  {
   "cell_type": "code",
   "execution_count": 2,
   "metadata": {},
   "outputs": [
    {
     "data": {
      "text/plain": [
       "<module 'models.model_cdl_sdae_sgd' from 'C:\\\\Users\\\\irina\\\\Dev\\\\master\\\\models\\\\model_cdl_sdae_sgd.py'>"
      ]
     },
     "execution_count": 2,
     "metadata": {},
     "output_type": "execute_result"
    }
   ],
   "source": [
    "import pickle\n",
    "import tensorflow as tf\n",
    "import pandas as pd\n",
    "import numpy as np\n",
    "from sklearn.metrics import mean_squared_error, mean_absolute_error\n",
    "from helpful_stuff.utils_xp_out import write_to_csv, XPDescription, XPResults\n",
    "from helpful_stuff.utils_metrics import precision_recall_at_k_4arrays\n",
    "from helpful_stuff.utils_model_out import make_out_dirs\n",
    "import models.model_cdl_sdae_sgd\n",
    "import models.mf_sgd\n",
    "import models.dataset\n",
    "\n",
    "from importlib import reload\n",
    "reload(models.dataset)\n",
    "reload(models.model_cdl_sdae_sgd)"
   ]
  },
  {
   "cell_type": "code",
   "execution_count": 3,
   "metadata": {},
   "outputs": [
    {
     "name": "stdout",
     "output_type": "stream",
     "text": [
      "Out dir of experiment:  D:/Models/thesis/sdae-sgd/goodreads_test/\n",
      "Out dir of U, V matricies:  D:/Models/thesis/sdae-sgd/goodreads_test/pickles/\n",
      "Out dir of model parameters:  D:/Models/thesis/sdae-sgd/goodreads_test/tf/\n"
     ]
    }
   ],
   "source": [
    "### create all necessary dirs for output ###\n",
    "\n",
    "XP_PATH, U_V_PATH, MODEL_PATH = make_out_dirs(model_name='sdae-sgd', xp_name='goodreads_test') \n",
    "print(\"Out dir of experiment: \", XP_PATH)\n",
    "print(\"Out dir of U, V matricies: \", U_V_PATH)\n",
    "print(\"Out dir of model parameters: \", MODEL_PATH)"
   ]
  },
  {
   "cell_type": "markdown",
   "metadata": {},
   "source": [
    "## Prepare dataset"
   ]
  },
  {
   "cell_type": "code",
   "execution_count": 4,
   "metadata": {},
   "outputs": [],
   "source": [
    "df_rates = pd.read_json('D:/Datasets/goodreads_reviews/processed/goodreads_interactions_children.json')\n",
    "df_rev = pd.read_json('D:/Datasets/goodreads_reviews/processed/goodreads_reviews_children.json')"
   ]
  },
  {
   "cell_type": "code",
   "execution_count": 5,
   "metadata": {},
   "outputs": [
    {
     "data": {
      "text/html": [
       "<div>\n",
       "<style scoped>\n",
       "    .dataframe tbody tr th:only-of-type {\n",
       "        vertical-align: middle;\n",
       "    }\n",
       "\n",
       "    .dataframe tbody tr th {\n",
       "        vertical-align: top;\n",
       "    }\n",
       "\n",
       "    .dataframe thead th {\n",
       "        text-align: right;\n",
       "    }\n",
       "</style>\n",
       "<table border=\"1\" class=\"dataframe\">\n",
       "  <thead>\n",
       "    <tr style=\"text-align: right;\">\n",
       "      <th></th>\n",
       "      <th>book_id</th>\n",
       "      <th>rating</th>\n",
       "      <th>user_id</th>\n",
       "    </tr>\n",
       "  </thead>\n",
       "  <tbody>\n",
       "    <tr>\n",
       "      <th>0</th>\n",
       "      <td>23310161</td>\n",
       "      <td>4</td>\n",
       "      <td>8842281e1d1347389f2ab93d60773d4d</td>\n",
       "    </tr>\n",
       "    <tr>\n",
       "      <th>1</th>\n",
       "      <td>18296097</td>\n",
       "      <td>5</td>\n",
       "      <td>8842281e1d1347389f2ab93d60773d4d</td>\n",
       "    </tr>\n",
       "  </tbody>\n",
       "</table>\n",
       "</div>"
      ],
      "text/plain": [
       "    book_id  rating                           user_id\n",
       "0  23310161       4  8842281e1d1347389f2ab93d60773d4d\n",
       "1  18296097       5  8842281e1d1347389f2ab93d60773d4d"
      ]
     },
     "execution_count": 5,
     "metadata": {},
     "output_type": "execute_result"
    }
   ],
   "source": [
    "df_rates.head(2)"
   ]
  },
  {
   "cell_type": "code",
   "execution_count": 6,
   "metadata": {},
   "outputs": [
    {
     "data": {
      "text/html": [
       "<div>\n",
       "<style scoped>\n",
       "    .dataframe tbody tr th:only-of-type {\n",
       "        vertical-align: middle;\n",
       "    }\n",
       "\n",
       "    .dataframe tbody tr th {\n",
       "        vertical-align: top;\n",
       "    }\n",
       "\n",
       "    .dataframe thead th {\n",
       "        text-align: right;\n",
       "    }\n",
       "</style>\n",
       "<table border=\"1\" class=\"dataframe\">\n",
       "  <thead>\n",
       "    <tr style=\"text-align: right;\">\n",
       "      <th></th>\n",
       "      <th>book_id</th>\n",
       "      <th>date_added</th>\n",
       "      <th>date_updated</th>\n",
       "      <th>n_comments</th>\n",
       "      <th>n_votes</th>\n",
       "      <th>rating</th>\n",
       "      <th>read_at</th>\n",
       "      <th>review_id</th>\n",
       "      <th>review_text</th>\n",
       "      <th>review_text_proc</th>\n",
       "      <th>started_at</th>\n",
       "      <th>user_id</th>\n",
       "    </tr>\n",
       "  </thead>\n",
       "  <tbody>\n",
       "    <tr>\n",
       "      <th>0</th>\n",
       "      <td>23310161</td>\n",
       "      <td>Tue Nov 17 11:37:35 -0800 2015</td>\n",
       "      <td>Tue Nov 17 11:38:05 -0800 2015</td>\n",
       "      <td>0</td>\n",
       "      <td>7</td>\n",
       "      <td>4</td>\n",
       "      <td></td>\n",
       "      <td>f4b4b050f4be00e9283c92a814af2670</td>\n",
       "      <td>Fun sequel to the original.</td>\n",
       "      <td>fun sequel original</td>\n",
       "      <td></td>\n",
       "      <td>8842281e1d1347389f2ab93d60773d4d</td>\n",
       "    </tr>\n",
       "    <tr>\n",
       "      <th>1</th>\n",
       "      <td>17290220</td>\n",
       "      <td>Sat Nov 08 08:54:03 -0800 2014</td>\n",
       "      <td>Wed Jan 25 13:56:12 -0800 2017</td>\n",
       "      <td>0</td>\n",
       "      <td>4</td>\n",
       "      <td>5</td>\n",
       "      <td>Tue Jan 24 00:00:00 -0800 2017</td>\n",
       "      <td>22d424a2b0057b18fb6ecf017af7be92</td>\n",
       "      <td>One of my favorite books to read to my 5 year ...</td>\n",
       "      <td>one favorite book read 5 year old rosie learn ...</td>\n",
       "      <td></td>\n",
       "      <td>8842281e1d1347389f2ab93d60773d4d</td>\n",
       "    </tr>\n",
       "  </tbody>\n",
       "</table>\n",
       "</div>"
      ],
      "text/plain": [
       "    book_id                      date_added                    date_updated  \\\n",
       "0  23310161  Tue Nov 17 11:37:35 -0800 2015  Tue Nov 17 11:38:05 -0800 2015   \n",
       "1  17290220  Sat Nov 08 08:54:03 -0800 2014  Wed Jan 25 13:56:12 -0800 2017   \n",
       "\n",
       "   n_comments  n_votes  rating                         read_at  \\\n",
       "0           0        7       4                                   \n",
       "1           0        4       5  Tue Jan 24 00:00:00 -0800 2017   \n",
       "\n",
       "                          review_id  \\\n",
       "0  f4b4b050f4be00e9283c92a814af2670   \n",
       "1  22d424a2b0057b18fb6ecf017af7be92   \n",
       "\n",
       "                                         review_text  \\\n",
       "0                        Fun sequel to the original.   \n",
       "1  One of my favorite books to read to my 5 year ...   \n",
       "\n",
       "                                    review_text_proc started_at  \\\n",
       "0                                fun sequel original              \n",
       "1  one favorite book read 5 year old rosie learn ...              \n",
       "\n",
       "                            user_id  \n",
       "0  8842281e1d1347389f2ab93d60773d4d  \n",
       "1  8842281e1d1347389f2ab93d60773d4d  "
      ]
     },
     "execution_count": 6,
     "metadata": {},
     "output_type": "execute_result"
    }
   ],
   "source": [
    "df_rev.head(2)"
   ]
  },
  {
   "cell_type": "code",
   "execution_count": 7,
   "metadata": {},
   "outputs": [],
   "source": [
    "reviews = df_rev.groupby('book_id').review_text_proc.agg(' '.join)\n",
    "reviews = pd.DataFrame(reviews)\n",
    "reviews = reviews.reset_index()"
   ]
  },
  {
   "cell_type": "code",
   "execution_count": 8,
   "metadata": {},
   "outputs": [
    {
     "name": "stdout",
     "output_type": "stream",
     "text": [
      "Filled in 135 empty reviews: [2817, 127768, 193412, 194874, 265833]...\n"
     ]
    }
   ],
   "source": [
    "ds = models.dataset.DataSet(df_ratings=df_rates, rating_cols=['user_id', 'book_id', 'rating'], df_reviews=reviews, review_cols=['book_id', 'review_text_proc'])"
   ]
  },
  {
   "cell_type": "code",
   "execution_count": 10,
   "metadata": {},
   "outputs": [],
   "source": [
    "del reviews, df_rates, df_rev"
   ]
  },
  {
   "cell_type": "markdown",
   "metadata": {},
   "source": [
    "## Train model"
   ]
  },
  {
   "cell_type": "code",
   "execution_count": 11,
   "metadata": {},
   "outputs": [
    {
     "name": "stdin",
     "output_type": "stream",
     "text": [
      "Once deleted, variables cannot be recovered. Proceed (y/[n])?  y\n"
     ]
    },
    {
     "name": "stdout",
     "output_type": "stream",
     "text": [
      "Flushing output cache (4 entries)\n"
     ]
    }
   ],
   "source": [
    "%reset Out "
   ]
  },
  {
   "cell_type": "code",
   "execution_count": 12,
   "metadata": {},
   "outputs": [
    {
     "name": "stdout",
     "output_type": "stream",
     "text": [
      "Noising of reviews\n",
      "Start training...\n",
      "EPOCH 1 / 60\n",
      "ALS LOSS RMSE = 1.0773835784579748, MAE = 0.8043562550003153\n",
      "MODEL LOSS 832.48773\n",
      "AUTOENCODER LOSS 306.33704\n",
      "VALIDATION LOSS 1.0766787445791401\n",
      "EPOCH 2 / 60\n",
      "ALS LOSS RMSE = 1.047620455870552, MAE = 0.7803526635693512\n",
      "MODEL LOSS 315.40857\n",
      "AUTOENCODER LOSS 303.38553\n",
      "VALIDATION LOSS 1.051371612212707\n",
      "EPOCH 3 / 60\n",
      "ALS LOSS RMSE = 1.028919003686254, MAE = 0.764898507203547\n",
      "MODEL LOSS 311.3222\n",
      "AUTOENCODER LOSS 303.2918\n",
      "VALIDATION LOSS 1.0365650646448084\n",
      "EPOCH 4 / 60\n",
      "ALS LOSS RMSE = 1.015280502736367, MAE = 0.7535648524303195\n",
      "MODEL LOSS 310.3518\n",
      "AUTOENCODER LOSS 303.2943\n",
      "VALIDATION LOSS 1.0264365236679605\n",
      "EPOCH 5 / 60\n",
      "ALS LOSS RMSE = 1.0045973036391522, MAE = 0.7446678850280272\n",
      "MODEL LOSS 309.63425\n",
      "AUTOENCODER LOSS 303.25046\n",
      "VALIDATION LOSS 1.0189580306768156\n",
      "EPOCH 6 / 60\n",
      "ALS LOSS RMSE = 0.9958543351477882, MAE = 0.7373792162057118\n",
      "MODEL LOSS 309.13\n",
      "AUTOENCODER LOSS 303.2558\n",
      "VALIDATION LOSS 1.0131775438225445\n",
      "EPOCH 7 / 60\n",
      "ALS LOSS RMSE = 0.9884921630573668, MAE = 0.7312413952160596\n",
      "MODEL LOSS 308.73032\n",
      "AUTOENCODER LOSS 303.24738\n",
      "VALIDATION LOSS 1.008569370237466\n",
      "EPOCH 8 / 60\n",
      "ALS LOSS RMSE = 0.9821545417628184, MAE = 0.7259629826964864\n",
      "MODEL LOSS 308.39783\n",
      "AUTOENCODER LOSS 303.2398\n",
      "VALIDATION LOSS 1.0048081310478845\n",
      "EPOCH 9 / 60\n",
      "ALS LOSS RMSE = 0.9766109574872532, MAE = 0.7213483179748558\n",
      "MODEL LOSS 308.14536\n",
      "AUTOENCODER LOSS 303.24603\n",
      "VALIDATION LOSS 1.001688041005025\n",
      "EPOCH 10 / 60\n",
      "ALS LOSS RMSE = 0.9716943638833861, MAE = 0.7172615572897881\n",
      "MODEL LOSS 307.93384\n",
      "AUTOENCODER LOSS 303.25143\n",
      "VALIDATION LOSS 0.999067982451383\n",
      "EPOCH 11 / 60\n",
      "ALS LOSS RMSE = 0.9672837428966932, MAE = 0.7135999617948409\n",
      "MODEL LOSS 307.74707\n",
      "AUTOENCODER LOSS 303.24402\n",
      "VALIDATION LOSS 0.996832324489756\n",
      "EPOCH 12 / 60\n",
      "ALS LOSS RMSE = 0.9633039363234687, MAE = 0.7103013790927549\n",
      "MODEL LOSS 307.605\n",
      "AUTOENCODER LOSS 303.25208\n",
      "VALIDATION LOSS 0.9949256056223634\n",
      "EPOCH 13 / 60\n",
      "ALS LOSS RMSE = 0.9596761039489808, MAE = 0.7073003616661717\n",
      "MODEL LOSS 307.4685\n",
      "AUTOENCODER LOSS 303.24585\n",
      "VALIDATION LOSS 0.9932753862128632\n",
      "EPOCH 14 / 60\n",
      "ALS LOSS RMSE = 0.9563438993485975, MAE = 0.7045490460139402\n",
      "MODEL LOSS 307.32825\n",
      "AUTOENCODER LOSS 303.215\n",
      "VALIDATION LOSS 0.9918396706031116\n",
      "EPOCH 15 / 60\n",
      "ALS LOSS RMSE = 0.9532802994693377, MAE = 0.7020225094267623\n",
      "MODEL LOSS 307.25375\n",
      "AUTOENCODER LOSS 303.24493\n",
      "VALIDATION LOSS 0.990591111351815\n",
      "EPOCH 16 / 60\n",
      "ALS LOSS RMSE = 0.9504407109288245, MAE = 0.6996848414004277\n",
      "MODEL LOSS 307.15387\n",
      "AUTOENCODER LOSS 303.22934\n",
      "VALIDATION LOSS 0.9894912824137345\n",
      "EPOCH 17 / 60\n",
      "ALS LOSS RMSE = 0.9478010884411794, MAE = 0.6975134247936224\n",
      "MODEL LOSS 307.08624\n",
      "AUTOENCODER LOSS 303.2337\n",
      "VALIDATION LOSS 0.9885310809338687\n",
      "EPOCH 18 / 60\n",
      "ALS LOSS RMSE = 0.9453343463029951, MAE = 0.6954889136822082\n",
      "MODEL LOSS 307.0204\n",
      "AUTOENCODER LOSS 303.2306\n",
      "VALIDATION LOSS 0.9876796086161499\n",
      "EPOCH 19 / 60\n",
      "ALS LOSS RMSE = 0.9430244603570568, MAE = 0.6935921765210499\n",
      "MODEL LOSS 306.9526\n",
      "AUTOENCODER LOSS 303.21768\n",
      "VALIDATION LOSS 0.9869303105318245\n",
      "EPOCH 20 / 60\n",
      "ALS LOSS RMSE = 0.940847398642541, MAE = 0.6918111057656692\n",
      "MODEL LOSS 306.9087\n",
      "AUTOENCODER LOSS 303.21863\n",
      "VALIDATION LOSS 0.9862671083731273\n",
      "EPOCH 21 / 60\n",
      "ALS LOSS RMSE = 0.9388024411391067, MAE = 0.690136731286332\n",
      "MODEL LOSS 306.84824\n",
      "AUTOENCODER LOSS 303.212\n",
      "VALIDATION LOSS 0.9856833588383133\n",
      "EPOCH 22 / 60\n",
      "ALS LOSS RMSE = 0.9368704770113141, MAE = 0.688554990339935\n",
      "MODEL LOSS 306.82968\n",
      "AUTOENCODER LOSS 303.23495\n",
      "VALIDATION LOSS 0.9851634321097048\n",
      "EPOCH 23 / 60\n",
      "ALS LOSS RMSE = 0.9350396789169158, MAE = 0.6870580217260976\n",
      "MODEL LOSS 306.76773\n",
      "AUTOENCODER LOSS 303.2041\n",
      "VALIDATION LOSS 0.9847042296436399\n",
      "EPOCH 24 / 60\n",
      "ALS LOSS RMSE = 0.9333097528093754, MAE = 0.6856464872482536\n",
      "MODEL LOSS 306.76465\n",
      "AUTOENCODER LOSS 303.23187\n",
      "VALIDATION LOSS 0.9842968575909992\n",
      "EPOCH 25 / 60\n",
      "ALS LOSS RMSE = 0.9316446847809694, MAE = 0.6842891931854458\n",
      "MODEL LOSS 306.71933\n",
      "AUTOENCODER LOSS 303.2175\n",
      "VALIDATION LOSS 0.9839380911971773\n",
      "EPOCH 26 / 60\n",
      "ALS LOSS RMSE = 0.9300684594271222, MAE = 0.6830058560112368\n",
      "MODEL LOSS 306.71136\n",
      "AUTOENCODER LOSS 303.23645\n",
      "VALIDATION LOSS 0.9836206748398826\n",
      "EPOCH 27 / 60\n",
      "ALS LOSS RMSE = 0.928579333914744, MAE = 0.6817894759021061\n",
      "MODEL LOSS 306.67538\n",
      "AUTOENCODER LOSS 303.22278\n",
      "VALIDATION LOSS 0.9833412691158077\n",
      "EPOCH 28 / 60\n",
      "ALS LOSS RMSE = 0.927136036293949, MAE = 0.6806148069328518\n",
      "MODEL LOSS 306.6557\n",
      "AUTOENCODER LOSS 303.21817\n",
      "VALIDATION LOSS 0.9830992306531665\n",
      "EPOCH 29 / 60\n",
      "ALS LOSS RMSE = 0.9257724840070525, MAE = 0.6795032677934789\n",
      "MODEL LOSS 306.6431\n",
      "AUTOENCODER LOSS 303.22122\n",
      "VALIDATION LOSS 0.982882191342631\n",
      "EPOCH 30 / 60\n",
      "ALS LOSS RMSE = 0.9244554822738041, MAE = 0.6784286253608597\n",
      "MODEL LOSS 306.6197\n",
      "AUTOENCODER LOSS 303.20847\n",
      "VALIDATION LOSS 0.9826938724483214\n",
      "EPOCH 31 / 60\n",
      "ALS LOSS RMSE = 0.9231882186023427, MAE = 0.677397561861478\n",
      "MODEL LOSS 306.62845\n",
      "AUTOENCODER LOSS 303.23535\n",
      "VALIDATION LOSS 0.9825373024818329\n",
      "EPOCH 32 / 60\n",
      "ALS LOSS RMSE = 0.9219839365026561, MAE = 0.676415381591726\n",
      "MODEL LOSS 306.58606\n",
      "AUTOENCODER LOSS 303.21008\n",
      "VALIDATION LOSS 0.9823995210012054\n",
      "EPOCH 33 / 60\n",
      "ALS LOSS RMSE = 0.9208131838255335, MAE = 0.6754593474828832\n",
      "MODEL LOSS 306.60422\n",
      "AUTOENCODER LOSS 303.23837\n",
      "VALIDATION LOSS 0.9822840093057633\n",
      "EPOCH 34 / 60\n",
      "ALS LOSS RMSE = 0.9196946345248703, MAE = 0.6745461281461066\n",
      "MODEL LOSS 306.57404\n",
      "AUTOENCODER LOSS 303.2187\n",
      "VALIDATION LOSS 0.982187934068087\n",
      "EPOCH 35 / 60\n",
      "ALS LOSS RMSE = 0.9186121492739655, MAE = 0.6736611387483211\n",
      "MODEL LOSS 306.5613\n",
      "AUTOENCODER LOSS 303.217\n",
      "VALIDATION LOSS 0.9821055431834032\n",
      "EPOCH 36 / 60\n",
      "ALS LOSS RMSE = 0.9175704378553979, MAE = 0.6728128285724845\n",
      "MODEL LOSS 306.55103\n",
      "AUTOENCODER LOSS 303.21487\n",
      "VALIDATION LOSS 0.98204298132439\n",
      "EPOCH 37 / 60\n",
      "ALS LOSS RMSE = 0.9165623382064214, MAE = 0.6719912232844936\n",
      "MODEL LOSS 306.54474\n",
      "AUTOENCODER LOSS 303.213\n",
      "VALIDATION LOSS 0.981995787214425\n",
      "EPOCH 38 / 60\n",
      "ALS LOSS RMSE = 0.915592105093396, MAE = 0.6711959238074479\n",
      "MODEL LOSS 306.51913\n",
      "AUTOENCODER LOSS 303.19354\n",
      "VALIDATION LOSS 0.9819623020551964\n",
      "EPOCH 39 / 60\n",
      "ALS LOSS RMSE = 0.9146631037525302, MAE = 0.6704359430300746\n",
      "MODEL LOSS 306.52988\n",
      "AUTOENCODER LOSS 303.2137\n",
      "VALIDATION LOSS 0.9819377115981307\n",
      "EPOCH 40 / 60\n",
      "ALS LOSS RMSE = 0.9137461251836135, MAE = 0.6696860017188615\n",
      "MODEL LOSS 306.52835\n",
      "AUTOENCODER LOSS 303.2206\n",
      "VALIDATION LOSS 0.9819306007134153\n",
      "EPOCH 41 / 60\n",
      "ALS LOSS RMSE = 0.9128692875200136, MAE = 0.6689687184675113\n",
      "MODEL LOSS 306.49985\n",
      "AUTOENCODER LOSS 303.18384\n",
      "VALIDATION LOSS 0.981930320905115\n",
      "EPOCH 42 / 60\n",
      "ALS LOSS RMSE = 0.9120194357026551, MAE = 0.6682718285837\n",
      "MODEL LOSS 306.505\n",
      "AUTOENCODER LOSS 303.20258\n",
      "VALIDATION LOSS 0.9819334614640579\n",
      "EPOCH 43 / 60\n",
      "Stopping early because loss 0.981930320905115 is larger than past losses [0.9819334614640579, 0.9819554994249]\n"
     ]
    }
   ],
   "source": [
    "cdl = models.model_cdl_sdae_sgd.CDL(ds, out_path=XP_PATH, k=50, hidden_size=250, \n",
    "          matrix_noise=0.3, drop_ratio=0.2, epochs=60,\n",
    "          lambda_w=1, lambda_v=1, lambda_n=10, lambda_q = 10)\n",
    "mu, pu, qi, bu, bi = cdl.training() #188910"
   ]
  },
  {
   "cell_type": "code",
   "execution_count": 13,
   "metadata": {},
   "outputs": [
    {
     "name": "stdout",
     "output_type": "stream",
     "text": [
      "pu shape: 474296 x 50\n",
      "qi shape: 123196 x 50\n",
      "beta_u shape: 474296\n",
      "beta_i shape: 123196\n"
     ]
    }
   ],
   "source": [
    "## dump U and V matricies to pickle files\n",
    "print(\"pu shape: %s x %s\" % pu.shape)\n",
    "print(\"qi shape: %s x %s\" % qi.shape)\n",
    "\n",
    "print(\"beta_u shape: %s\" % bu.shape)\n",
    "print(\"beta_i shape: %s\" % bi.shape)\n",
    "\n",
    "with open(U_V_PATH + 'mx.pickle', 'wb') as handle:\n",
    "    pickle.dump({'mu':mu, 'pu':pu, 'qi':qi, 'bu':bu, 'bi':bi}, handle, protocol=pickle.HIGHEST_PROTOCOL)"
   ]
  },
  {
   "cell_type": "code",
   "execution_count": null,
   "metadata": {},
   "outputs": [],
   "source": [
    "with open(U_V_PATH + 'item_ids_map.pickle', 'wb') as handle:\n",
    "    pickle.dump(ds., handle, protocol=pickle.HIGHEST_PROTOCOL)"
   ]
  },
  {
   "cell_type": "markdown",
   "metadata": {},
   "source": [
    "## Evaluate model\n"
   ]
  },
  {
   "cell_type": "code",
   "execution_count": 14,
   "metadata": {},
   "outputs": [],
   "source": [
    "test_preds = models.mf_sgd.SGD.predict_dataset_with_params(ds.get_test_rating_matrix(), mu, bu, bi, qi, pu)"
   ]
  },
  {
   "cell_type": "code",
   "execution_count": 15,
   "metadata": {},
   "outputs": [
    {
     "name": "stdout",
     "output_type": "stream",
     "text": [
      "MSE: 0.9815240577602424\n",
      "MAE: 0.7168159081593866\n"
     ]
    }
   ],
   "source": [
    "mse = mean_squared_error(ds.testset.rate__, test_preds) ** 0.5\n",
    "mae = mean_absolute_error(ds.testset.rate__, test_preds)\n",
    "\n",
    "print(\"MSE: %s\" % mse)\n",
    "print(\"MAE: %s\" % mae)"
   ]
  },
  {
   "cell_type": "code",
   "execution_count": null,
   "metadata": {},
   "outputs": [],
   "source": [
    "k_prec = {}\n",
    "k_rec = {}\n",
    "\n",
    "for k in range(0, 200):\n",
    "    precisions, recalls = precision_recall_at_k_4arrays(ds.testset.uid__, test_preds, ds.testset.rate__, k=k, threshold=3) \n",
    "    p_mean = np.mean(list(precisions.values()))\n",
    "    r_mean = np.mean(list(recalls.values()))\n",
    "    k_prec[k] = p_mean\n",
    "    k_rec[k] = r_mean"
   ]
  },
  {
   "cell_type": "code",
   "execution_count": null,
   "metadata": {},
   "outputs": [],
   "source": [
    "row = XPResults(dataset='Goodreads_Kids', xpdata=XPDescription(predictor=None, label='CDL-SDAE-SGD', nfactors=25), rmse=mse, mae=mae, precision=k_prec, recall=k_rec)"
   ]
  },
  {
   "cell_type": "code",
   "execution_count": null,
   "metadata": {},
   "outputs": [],
   "source": [
    "write_to_csv(row, 'goodreads', 'sdae_sgd_optim')"
   ]
  }
 ],
 "metadata": {
  "kernelspec": {
   "display_name": "Python 3",
   "language": "python",
   "name": "python3"
  },
  "language_info": {
   "codemirror_mode": {
    "name": "ipython",
    "version": 3
   },
   "file_extension": ".py",
   "mimetype": "text/x-python",
   "name": "python",
   "nbconvert_exporter": "python",
   "pygments_lexer": "ipython3",
   "version": "3.5.5"
  }
 },
 "nbformat": 4,
 "nbformat_minor": 2
}
