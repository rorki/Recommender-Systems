{
 "cells": [
  {
   "cell_type": "markdown",
   "metadata": {},
   "source": [
    "# CDL for Goodreads datasets"
   ]
  },
  {
   "cell_type": "code",
   "execution_count": 1,
   "metadata": {},
   "outputs": [
    {
     "data": {
      "text/plain": [
       "<module 'models.model_cdl_sdae_sgd' from 'C:\\\\Users\\\\irina\\\\Dev\\\\master\\\\models\\\\model_cdl_sdae_sgd.py'>"
      ]
     },
     "execution_count": 1,
     "metadata": {},
     "output_type": "execute_result"
    }
   ],
   "source": [
    "import pickle\n",
    "import tensorflow as tf\n",
    "import pandas as pd\n",
    "import numpy as np\n",
    "from sklearn.metrics import mean_squared_error, mean_absolute_error\n",
    "from helpful_stuff.utils_xp_out import write_to_csv, XPDescription, XPResults\n",
    "from helpful_stuff.utils_metrics import precision_recall_at_k_4df\n",
    "from helpful_stuff.utils_model_out import make_out_dirs\n",
    "import models.model_cdl_sdae_sgd\n",
    "import models.mf_sgd\n",
    "import models.dataset\n",
    "\n",
    "from importlib import reload\n",
    "reload(models.dataset)\n",
    "reload(models.model_cdl_sdae_sgd)"
   ]
  },
  {
   "cell_type": "code",
   "execution_count": 2,
   "metadata": {},
   "outputs": [
    {
     "name": "stdout",
     "output_type": "stream",
     "text": [
      "Out dir of experiment:  D:/Models/thesis/sdae-sgd/goodreads_test/\n",
      "Out dir of U, V matricies:  D:/Models/thesis/sdae-sgd/goodreads_test/pickles/\n",
      "Out dir of model parameters:  D:/Models/thesis/sdae-sgd/goodreads_test/tf/\n"
     ]
    }
   ],
   "source": [
    "### create all necessary dirs for output ###\n",
    "\n",
    "XP_PATH, U_V_PATH, MODEL_PATH = make_out_dirs(model_name='sdae-sgd', xp_name='goodreads_test') \n",
    "print(\"Out dir of experiment: \", XP_PATH)\n",
    "print(\"Out dir of U, V matricies: \", U_V_PATH)\n",
    "print(\"Out dir of model parameters: \", MODEL_PATH)"
   ]
  },
  {
   "cell_type": "markdown",
   "metadata": {},
   "source": [
    "## Prepare dataset"
   ]
  },
  {
   "cell_type": "code",
   "execution_count": null,
   "metadata": {},
   "outputs": [],
   "source": [
    "df_rates = pd.read_json('D:/Datasets/goodreads_reviews/processed/goodreads_interactions_children.json')\n",
    "df_rev = pd.read_json('D:/Datasets/goodreads_reviews/processed/goodreads_reviews_children.json')"
   ]
  },
  {
   "cell_type": "code",
   "execution_count": null,
   "metadata": {},
   "outputs": [],
   "source": [
    "df_rates.head(2)"
   ]
  },
  {
   "cell_type": "code",
   "execution_count": null,
   "metadata": {},
   "outputs": [],
   "source": [
    "df_rev.head(2)"
   ]
  },
  {
   "cell_type": "code",
   "execution_count": null,
   "metadata": {},
   "outputs": [],
   "source": [
    "reviews = df_rev.groupby('book_id').review_text_proc.agg(' '.join)\n",
    "reviews = pd.DataFrame(reviews)\n",
    "reviews = reviews.reset_index()"
   ]
  },
  {
   "cell_type": "code",
   "execution_count": null,
   "metadata": {},
   "outputs": [],
   "source": [
    "ds = models.dataset.DataSet(df_ratings=df_rates, rating_cols=['user_id', 'book_id', 'rating'], df_reviews=reviews, review_cols=['book_id', 'review_text_proc'])"
   ]
  },
  {
   "cell_type": "code",
   "execution_count": null,
   "metadata": {},
   "outputs": [],
   "source": [
    "ds.train_item_num()"
   ]
  },
  {
   "cell_type": "code",
   "execution_count": null,
   "metadata": {},
   "outputs": [],
   "source": [
    "ds.review_matrix.shape"
   ]
  },
  {
   "cell_type": "code",
   "execution_count": null,
   "metadata": {},
   "outputs": [],
   "source": [
    "del reviews, df_rates, df_rev"
   ]
  },
  {
   "cell_type": "markdown",
   "metadata": {},
   "source": [
    "## Train model"
   ]
  },
  {
   "cell_type": "code",
   "execution_count": null,
   "metadata": {},
   "outputs": [],
   "source": [
    "%reset Out "
   ]
  },
  {
   "cell_type": "code",
   "execution_count": null,
   "metadata": {},
   "outputs": [
    {
     "name": "stdout",
     "output_type": "stream",
     "text": [
      "Noising of reviews\n",
      "Start training...\n",
      "EPOCH 1 / 50\n",
      "v_batch (28, 25)\n",
      "x_batch (28, 10000)\n",
      "y_batch (28, 10000)\n",
      "ALS LOSS RMSE = 1.0777410432015937, MAE = 0.8045781860611942\n",
      "MODEL LOSS 194.34715\n",
      "AUTOENCODER LOSS 152.82315\n",
      "VALIDATION LOSS 1.0766537580560767\n",
      "EPOCH 2 / 50\n",
      "v_batch (28, 25)\n",
      "x_batch (28, 10000)\n",
      "y_batch (28, 10000)\n",
      "ALS LOSS RMSE = 1.047743944313262, MAE = 0.7803514890220751\n",
      "MODEL LOSS 155.99887\n",
      "AUTOENCODER LOSS 153.0903\n",
      "VALIDATION LOSS 1.051096351345143\n",
      "EPOCH 3 / 50\n",
      "v_batch (28, 25)\n",
      "x_batch (28, 10000)\n",
      "y_batch (28, 10000)\n",
      "ALS LOSS RMSE = 1.0288393297004748, MAE = 0.7647227453668742\n",
      "MODEL LOSS 155.69511\n",
      "AUTOENCODER LOSS 153.10727\n",
      "VALIDATION LOSS 1.0361149065310051\n",
      "EPOCH 4 / 50\n"
     ]
    }
   ],
   "source": [
    "cdl = models.model_cdl_sdae_sgd.CDL(ds, out_path=XP_PATH, k=50, hidden_size=250, \n",
    "          matrix_noise=0.3, drop_ratio=0.2, epochs=60,\n",
    "          lambda_w=1, lambda_v=1, lambda_n=10, lambda_q = 10)\n",
    "mu, pu, qi, bu, bi = cdl.training() #188910"
   ]
  },
  {
   "cell_type": "code",
   "execution_count": null,
   "metadata": {},
   "outputs": [],
   "source": [
    "## dump U and V matricies to pickle files\n",
    "print(\"pu shape: %s x %s\" % pu.shape)\n",
    "print(\"qi shape: %s x %s\" % qi.shape)\n",
    "\n",
    "print(\"beta_u shape: %s\" % bu.shape)\n",
    "print(\"beta_i shape: %s\" % bi.shape)\n",
    "\n",
    "with open(U_V_PATH + 'mx.pickle', 'wb') as handle:\n",
    "    pickle.dump({'mu':mu, 'pu':pu, 'qi':qi, 'bu':bu, 'bi':bi}, handle, protocol=pickle.HIGHEST_PROTOCOL)"
   ]
  },
  {
   "cell_type": "code",
   "execution_count": 19,
   "metadata": {},
   "outputs": [
    {
     "data": {
      "text/plain": [
       "array([[0., 0., 0., ..., 0., 0., 0.],\n",
       "       [0., 0., 0., ..., 0., 0., 0.],\n",
       "       [0., 0., 0., ..., 0., 0., 0.],\n",
       "       ...,\n",
       "       [0., 0., 0., ..., 0., 0., 0.],\n",
       "       [0., 0., 0., ..., 0., 0., 0.],\n",
       "       [0., 0., 0., ..., 0., 0., 0.]])"
      ]
     },
     "execution_count": 19,
     "metadata": {},
     "output_type": "execute_result"
    }
   ],
   "source": [
    "ds.review_matrix\n"
   ]
  },
  {
   "cell_type": "code",
   "execution_count": 12,
   "metadata": {},
   "outputs": [
    {
     "data": {
      "text/plain": [
       "123197"
      ]
     },
     "execution_count": 12,
     "metadata": {},
     "output_type": "execute_result"
    }
   ],
   "source": [
    "ds.train_item_num()"
   ]
  },
  {
   "cell_type": "code",
   "execution_count": 14,
   "metadata": {},
   "outputs": [
    {
     "data": {
      "text/plain": [
       "123196"
      ]
     },
     "execution_count": 14,
     "metadata": {},
     "output_type": "execute_result"
    }
   ],
   "source": [
    "len(ds.iid_map)"
   ]
  }
 ],
 "metadata": {
  "kernelspec": {
   "display_name": "Python 3",
   "language": "python",
   "name": "python3"
  },
  "language_info": {
   "codemirror_mode": {
    "name": "ipython",
    "version": 3
   },
   "file_extension": ".py",
   "mimetype": "text/x-python",
   "name": "python",
   "nbconvert_exporter": "python",
   "pygments_lexer": "ipython3",
   "version": "3.5.5"
  }
 },
 "nbformat": 4,
 "nbformat_minor": 2
}
