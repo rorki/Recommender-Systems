{
 "cells": [
  {
   "cell_type": "markdown",
   "metadata": {},
   "source": [
    "# CDL for Goodreads datasets"
   ]
  },
  {
   "cell_type": "code",
   "execution_count": 31,
   "metadata": {},
   "outputs": [
    {
     "data": {
      "text/plain": [
       "<module 'helpful_stuff.utils_xp_out' from 'C:\\\\Users\\\\irina\\\\Dev\\\\master\\\\helpful_stuff\\\\utils_xp_out.py'>"
      ]
     },
     "execution_count": 31,
     "metadata": {},
     "output_type": "execute_result"
    }
   ],
   "source": [
    "import pickle\n",
    "import tensorflow as tf\n",
    "import pandas as pd\n",
    "import numpy as np\n",
    "from sklearn.metrics import mean_squared_error, mean_absolute_error\n",
    "from helpful_stuff.utils_xp_out import write_to_csv, XPDescription, XPResults\n",
    "from helpful_stuff.utils_metrics import precision_recall_at_k_4arrays\n",
    "from helpful_stuff.utils_model_out import make_out_dirs\n",
    "import models.model_cdl_sdae_sgd\n",
    "import models.mf_sgd\n",
    "import models.dataset\n",
    "\n",
    "from importlib import reload\n",
    "reload(models.dataset)\n",
    "reload(models.model_cdl_sdae_sgd)\n",
    "reload(helpful_stuff.utils_xp_out )"
   ]
  },
  {
   "cell_type": "code",
   "execution_count": 2,
   "metadata": {},
   "outputs": [
    {
     "name": "stdout",
     "output_type": "stream",
     "text": [
      "Out dir of experiment:  D:/Models/thesis/sdae-sgd/goodreads_test/\n",
      "Out dir of U, V matricies:  D:/Models/thesis/sdae-sgd/goodreads_test/pickles/\n",
      "Out dir of model parameters:  D:/Models/thesis/sdae-sgd/goodreads_test/tf/\n"
     ]
    }
   ],
   "source": [
    "### create all necessary dirs for output ###\n",
    "\n",
    "XP_PATH, U_V_PATH, MODEL_PATH = make_out_dirs(model_name='sdae-sgd', xp_name='goodreads_test') \n",
    "print(\"Out dir of experiment: \", XP_PATH)\n",
    "print(\"Out dir of U, V matricies: \", U_V_PATH)\n",
    "print(\"Out dir of model parameters: \", MODEL_PATH)"
   ]
  },
  {
   "cell_type": "markdown",
   "metadata": {},
   "source": [
    "## Prepare dataset"
   ]
  },
  {
   "cell_type": "code",
   "execution_count": 3,
   "metadata": {},
   "outputs": [],
   "source": [
    "df_rates = pd.read_json('D:/Datasets/goodreads_reviews/processed/goodreads_interactions_children.json')\n",
    "df_rev = pd.read_json('D:/Datasets/goodreads_reviews/processed/goodreads_reviews_children.json')"
   ]
  },
  {
   "cell_type": "code",
   "execution_count": 4,
   "metadata": {},
   "outputs": [
    {
     "data": {
      "text/html": [
       "<div>\n",
       "<style scoped>\n",
       "    .dataframe tbody tr th:only-of-type {\n",
       "        vertical-align: middle;\n",
       "    }\n",
       "\n",
       "    .dataframe tbody tr th {\n",
       "        vertical-align: top;\n",
       "    }\n",
       "\n",
       "    .dataframe thead th {\n",
       "        text-align: right;\n",
       "    }\n",
       "</style>\n",
       "<table border=\"1\" class=\"dataframe\">\n",
       "  <thead>\n",
       "    <tr style=\"text-align: right;\">\n",
       "      <th></th>\n",
       "      <th>book_id</th>\n",
       "      <th>rating</th>\n",
       "      <th>user_id</th>\n",
       "    </tr>\n",
       "  </thead>\n",
       "  <tbody>\n",
       "    <tr>\n",
       "      <th>0</th>\n",
       "      <td>23310161</td>\n",
       "      <td>4</td>\n",
       "      <td>8842281e1d1347389f2ab93d60773d4d</td>\n",
       "    </tr>\n",
       "    <tr>\n",
       "      <th>1</th>\n",
       "      <td>18296097</td>\n",
       "      <td>5</td>\n",
       "      <td>8842281e1d1347389f2ab93d60773d4d</td>\n",
       "    </tr>\n",
       "  </tbody>\n",
       "</table>\n",
       "</div>"
      ],
      "text/plain": [
       "    book_id  rating                           user_id\n",
       "0  23310161       4  8842281e1d1347389f2ab93d60773d4d\n",
       "1  18296097       5  8842281e1d1347389f2ab93d60773d4d"
      ]
     },
     "execution_count": 4,
     "metadata": {},
     "output_type": "execute_result"
    }
   ],
   "source": [
    "df_rates.head(2)"
   ]
  },
  {
   "cell_type": "code",
   "execution_count": 5,
   "metadata": {},
   "outputs": [
    {
     "data": {
      "text/html": [
       "<div>\n",
       "<style scoped>\n",
       "    .dataframe tbody tr th:only-of-type {\n",
       "        vertical-align: middle;\n",
       "    }\n",
       "\n",
       "    .dataframe tbody tr th {\n",
       "        vertical-align: top;\n",
       "    }\n",
       "\n",
       "    .dataframe thead th {\n",
       "        text-align: right;\n",
       "    }\n",
       "</style>\n",
       "<table border=\"1\" class=\"dataframe\">\n",
       "  <thead>\n",
       "    <tr style=\"text-align: right;\">\n",
       "      <th></th>\n",
       "      <th>book_id</th>\n",
       "      <th>date_added</th>\n",
       "      <th>date_updated</th>\n",
       "      <th>n_comments</th>\n",
       "      <th>n_votes</th>\n",
       "      <th>rating</th>\n",
       "      <th>read_at</th>\n",
       "      <th>review_id</th>\n",
       "      <th>review_text</th>\n",
       "      <th>review_text_proc</th>\n",
       "      <th>started_at</th>\n",
       "      <th>user_id</th>\n",
       "    </tr>\n",
       "  </thead>\n",
       "  <tbody>\n",
       "    <tr>\n",
       "      <th>0</th>\n",
       "      <td>23310161</td>\n",
       "      <td>Tue Nov 17 11:37:35 -0800 2015</td>\n",
       "      <td>Tue Nov 17 11:38:05 -0800 2015</td>\n",
       "      <td>0</td>\n",
       "      <td>7</td>\n",
       "      <td>4</td>\n",
       "      <td></td>\n",
       "      <td>f4b4b050f4be00e9283c92a814af2670</td>\n",
       "      <td>Fun sequel to the original.</td>\n",
       "      <td>fun sequel original</td>\n",
       "      <td></td>\n",
       "      <td>8842281e1d1347389f2ab93d60773d4d</td>\n",
       "    </tr>\n",
       "    <tr>\n",
       "      <th>1</th>\n",
       "      <td>17290220</td>\n",
       "      <td>Sat Nov 08 08:54:03 -0800 2014</td>\n",
       "      <td>Wed Jan 25 13:56:12 -0800 2017</td>\n",
       "      <td>0</td>\n",
       "      <td>4</td>\n",
       "      <td>5</td>\n",
       "      <td>Tue Jan 24 00:00:00 -0800 2017</td>\n",
       "      <td>22d424a2b0057b18fb6ecf017af7be92</td>\n",
       "      <td>One of my favorite books to read to my 5 year ...</td>\n",
       "      <td>one favorite book read 5 year old rosie learn ...</td>\n",
       "      <td></td>\n",
       "      <td>8842281e1d1347389f2ab93d60773d4d</td>\n",
       "    </tr>\n",
       "  </tbody>\n",
       "</table>\n",
       "</div>"
      ],
      "text/plain": [
       "    book_id                      date_added                    date_updated  \\\n",
       "0  23310161  Tue Nov 17 11:37:35 -0800 2015  Tue Nov 17 11:38:05 -0800 2015   \n",
       "1  17290220  Sat Nov 08 08:54:03 -0800 2014  Wed Jan 25 13:56:12 -0800 2017   \n",
       "\n",
       "   n_comments  n_votes  rating                         read_at  \\\n",
       "0           0        7       4                                   \n",
       "1           0        4       5  Tue Jan 24 00:00:00 -0800 2017   \n",
       "\n",
       "                          review_id  \\\n",
       "0  f4b4b050f4be00e9283c92a814af2670   \n",
       "1  22d424a2b0057b18fb6ecf017af7be92   \n",
       "\n",
       "                                         review_text  \\\n",
       "0                        Fun sequel to the original.   \n",
       "1  One of my favorite books to read to my 5 year ...   \n",
       "\n",
       "                                    review_text_proc started_at  \\\n",
       "0                                fun sequel original              \n",
       "1  one favorite book read 5 year old rosie learn ...              \n",
       "\n",
       "                            user_id  \n",
       "0  8842281e1d1347389f2ab93d60773d4d  \n",
       "1  8842281e1d1347389f2ab93d60773d4d  "
      ]
     },
     "execution_count": 5,
     "metadata": {},
     "output_type": "execute_result"
    }
   ],
   "source": [
    "df_rev.head(2)"
   ]
  },
  {
   "cell_type": "code",
   "execution_count": 6,
   "metadata": {},
   "outputs": [],
   "source": [
    "reviews = df_rev.groupby('book_id').review_text_proc.agg(' '.join)\n",
    "reviews = pd.DataFrame(reviews)\n",
    "reviews = reviews.reset_index()"
   ]
  },
  {
   "cell_type": "code",
   "execution_count": 7,
   "metadata": {},
   "outputs": [
    {
     "name": "stdout",
     "output_type": "stream",
     "text": [
      "Filled in 135 empty reviews: [2817, 127768, 193412, 194874, 265833]...\n"
     ]
    }
   ],
   "source": [
    "ds = models.dataset.DataSet(df_ratings=df_rates, rating_cols=['user_id', 'book_id', 'rating'], df_reviews=reviews, review_cols=['book_id', 'review_text_proc'])"
   ]
  },
  {
   "cell_type": "code",
   "execution_count": 8,
   "metadata": {},
   "outputs": [
    {
     "data": {
      "text/plain": [
       "123196"
      ]
     },
     "execution_count": 8,
     "metadata": {},
     "output_type": "execute_result"
    }
   ],
   "source": [
    "ds.train_item_num()"
   ]
  },
  {
   "cell_type": "code",
   "execution_count": 9,
   "metadata": {},
   "outputs": [
    {
     "data": {
      "text/plain": [
       "(123196, 10000)"
      ]
     },
     "execution_count": 9,
     "metadata": {},
     "output_type": "execute_result"
    }
   ],
   "source": [
    "ds.review_matrix.shape"
   ]
  },
  {
   "cell_type": "code",
   "execution_count": 10,
   "metadata": {},
   "outputs": [],
   "source": [
    "del reviews, df_rates, df_rev"
   ]
  },
  {
   "cell_type": "markdown",
   "metadata": {},
   "source": [
    "## Train model"
   ]
  },
  {
   "cell_type": "code",
   "execution_count": 11,
   "metadata": {},
   "outputs": [
    {
     "name": "stdin",
     "output_type": "stream",
     "text": [
      "Once deleted, variables cannot be recovered. Proceed (y/[n])?  y\n"
     ]
    },
    {
     "name": "stdout",
     "output_type": "stream",
     "text": [
      "Flushing output cache (5 entries)\n"
     ]
    }
   ],
   "source": [
    "%reset Out "
   ]
  },
  {
   "cell_type": "code",
   "execution_count": 12,
   "metadata": {},
   "outputs": [
    {
     "name": "stdout",
     "output_type": "stream",
     "text": [
      "Noising of reviews\n",
      "Start training...\n",
      "EPOCH 1 / 60\n",
      "ALS LOSS RMSE = 1.0773848468526617, MAE = 0.8043484302815428\n",
      "MODEL LOSS 184.17877\n",
      "AUTOENCODER LOSS 153.61919\n",
      "VALIDATION LOSS 1.0766844327801834\n",
      "EPOCH 2 / 60\n",
      "ALS LOSS RMSE = 1.0473788537505908, MAE = 0.7801591157371685\n",
      "MODEL LOSS 158.66368\n",
      "AUTOENCODER LOSS 153.9476\n",
      "VALIDATION LOSS 1.0512135330778036\n",
      "EPOCH 3 / 60\n",
      "ALS LOSS RMSE = 1.0284960080794563, MAE = 0.7645541138625669\n",
      "MODEL LOSS 158.04439\n",
      "AUTOENCODER LOSS 153.96994\n",
      "VALIDATION LOSS 1.0362707565148002\n",
      "EPOCH 4 / 60\n",
      "ALS LOSS RMSE = 1.0147257944314436, MAE = 0.7530884288983686\n",
      "MODEL LOSS 157.60797\n",
      "AUTOENCODER LOSS 153.97136\n",
      "VALIDATION LOSS 1.026073892041676\n",
      "EPOCH 5 / 60\n",
      "ALS LOSS RMSE = 1.0039418320820397, MAE = 0.7441122694393938\n",
      "MODEL LOSS 157.30333\n",
      "AUTOENCODER LOSS 153.99321\n",
      "VALIDATION LOSS 1.0185549574896011\n",
      "EPOCH 6 / 60\n",
      "ALS LOSS RMSE = 0.9951858013224775, MAE = 0.7368119714779886\n",
      "MODEL LOSS 157.07916\n",
      "AUTOENCODER LOSS 154.01245\n",
      "VALIDATION LOSS 1.0127887352419742\n",
      "EPOCH 7 / 60\n",
      "ALS LOSS RMSE = 0.9877831831869628, MAE = 0.7306442539531183\n",
      "MODEL LOSS 156.88042\n",
      "AUTOENCODER LOSS 154.0073\n",
      "VALIDATION LOSS 1.008160100528839\n",
      "EPOCH 8 / 60\n",
      "ALS LOSS RMSE = 0.9813912572102406, MAE = 0.7253050676398265\n",
      "MODEL LOSS 156.76227\n",
      "AUTOENCODER LOSS 154.05418\n",
      "VALIDATION LOSS 1.0043803965312197\n",
      "EPOCH 9 / 60\n",
      "ALS LOSS RMSE = 0.9758172743807855, MAE = 0.720675603162522\n",
      "MODEL LOSS 156.61574\n",
      "AUTOENCODER LOSS 154.01833\n",
      "VALIDATION LOSS 1.0012782857598812\n",
      "EPOCH 10 / 60\n",
      "ALS LOSS RMSE = 0.9708376691085723, MAE = 0.7165280584240371\n",
      "MODEL LOSS 156.50919\n",
      "AUTOENCODER LOSS 154.0124\n",
      "VALIDATION LOSS 0.9986474692139232\n",
      "EPOCH 11 / 60\n",
      "ALS LOSS RMSE = 0.9663921365322979, MAE = 0.7128288992397387\n",
      "MODEL LOSS 156.42233\n",
      "AUTOENCODER LOSS 154.01009\n",
      "VALIDATION LOSS 0.996422607875018\n",
      "EPOCH 12 / 60\n",
      "ALS LOSS RMSE = 0.9623717830910602, MAE = 0.7094873910358911\n",
      "MODEL LOSS 156.337\n",
      "AUTOENCODER LOSS 153.99281\n",
      "VALIDATION LOSS 0.9945336064090923\n",
      "EPOCH 13 / 60\n",
      "ALS LOSS RMSE = 0.9587250377416203, MAE = 0.706479595822189\n",
      "MODEL LOSS 156.25732\n",
      "AUTOENCODER LOSS 153.98257\n",
      "VALIDATION LOSS 0.9928929517366631\n",
      "EPOCH 14 / 60\n",
      "ALS LOSS RMSE = 0.955502580934244, MAE = 0.7038328713630103\n",
      "MODEL LOSS 156.2213\n",
      "AUTOENCODER LOSS 154.00262\n",
      "VALIDATION LOSS 0.9914696388913832\n",
      "EPOCH 15 / 60\n",
      "ALS LOSS RMSE = 0.9523469862975064, MAE = 0.7012398060738892\n",
      "MODEL LOSS 156.15341\n",
      "AUTOENCODER LOSS 153.97919\n",
      "VALIDATION LOSS 0.9902222979537235\n",
      "EPOCH 16 / 60\n",
      "ALS LOSS RMSE = 0.9494634939294317, MAE = 0.6988422013374387\n",
      "MODEL LOSS 156.14127\n",
      "AUTOENCODER LOSS 154.0112\n",
      "VALIDATION LOSS 0.9891190135365301\n",
      "EPOCH 17 / 60\n",
      "ALS LOSS RMSE = 0.9468347334329112, MAE = 0.6966881708461146\n",
      "MODEL LOSS 156.09473\n",
      "AUTOENCODER LOSS 153.99434\n",
      "VALIDATION LOSS 0.9881635715147484\n",
      "EPOCH 18 / 60\n",
      "ALS LOSS RMSE = 0.9443682777734144, MAE = 0.6946699855055458\n",
      "MODEL LOSS 156.07198\n",
      "AUTOENCODER LOSS 154.00043\n",
      "VALIDATION LOSS 0.9873219524611931\n",
      "EPOCH 19 / 60\n",
      "ALS LOSS RMSE = 0.941992237280099, MAE = 0.6927019091449722\n",
      "MODEL LOSS 156.07019\n",
      "AUTOENCODER LOSS 154.03813\n",
      "VALIDATION LOSS 0.9865953108757921\n",
      "EPOCH 20 / 60\n",
      "ALS LOSS RMSE = 0.9398491327748514, MAE = 0.6909416714268476\n",
      "MODEL LOSS 156.04526\n",
      "AUTOENCODER LOSS 154.04005\n",
      "VALIDATION LOSS 0.9859472699015225\n",
      "EPOCH 21 / 60\n",
      "ALS LOSS RMSE = 0.9377427191911442, MAE = 0.6892287339527369\n",
      "MODEL LOSS 156.01144\n",
      "AUTOENCODER LOSS 154.01915\n",
      "VALIDATION LOSS 0.9853929898157269\n",
      "EPOCH 22 / 60\n",
      "ALS LOSS RMSE = 0.9358936080021342, MAE = 0.6877237702099389\n",
      "MODEL LOSS 155.99736\n",
      "AUTOENCODER LOSS 154.03635\n",
      "VALIDATION LOSS 0.9848533026865361\n",
      "EPOCH 23 / 60\n",
      "ALS LOSS RMSE = 0.9340348293769661, MAE = 0.6862059457162359\n",
      "MODEL LOSS 155.97469\n",
      "AUTOENCODER LOSS 154.01863\n",
      "VALIDATION LOSS 0.9844303232294538\n",
      "EPOCH 24 / 60\n",
      "ALS LOSS RMSE = 0.9322607427267567, MAE = 0.684747703681741\n",
      "MODEL LOSS 155.9527\n",
      "AUTOENCODER LOSS 154.01\n",
      "VALIDATION LOSS 0.9840064562015397\n",
      "EPOCH 25 / 60\n",
      "ALS LOSS RMSE = 0.9306613262333872, MAE = 0.6834556348704904\n",
      "MODEL LOSS 155.93643\n",
      "AUTOENCODER LOSS 154.01393\n",
      "VALIDATION LOSS 0.9836480776270696\n",
      "EPOCH 26 / 60\n",
      "ALS LOSS RMSE = 0.9290670195587879, MAE = 0.6821589705336171\n",
      "MODEL LOSS 155.92844\n",
      "AUTOENCODER LOSS 154.01819\n",
      "VALIDATION LOSS 0.983378312870417\n",
      "EPOCH 27 / 60\n",
      "ALS LOSS RMSE = 0.9274598438663281, MAE = 0.6808209444806941\n",
      "MODEL LOSS 155.87703\n",
      "AUTOENCODER LOSS 153.96857\n",
      "VALIDATION LOSS 0.9830902454843362\n",
      "EPOCH 28 / 60\n",
      "ALS LOSS RMSE = 0.9261384988097755, MAE = 0.679753920413764\n",
      "MODEL LOSS 155.88403\n",
      "AUTOENCODER LOSS 153.99115\n",
      "VALIDATION LOSS 0.98285836305515\n",
      "EPOCH 29 / 60\n",
      "ALS LOSS RMSE = 0.924645595209447, MAE = 0.6785440244560246\n",
      "MODEL LOSS 155.885\n",
      "AUTOENCODER LOSS 153.99425\n",
      "VALIDATION LOSS 0.9826252252862046\n",
      "EPOCH 30 / 60\n",
      "ALS LOSS RMSE = 0.9232082631110272, MAE = 0.6773719777187274\n",
      "MODEL LOSS 155.8752\n",
      "AUTOENCODER LOSS 153.98912\n",
      "VALIDATION LOSS 0.9824458332277142\n",
      "EPOCH 31 / 60\n",
      "ALS LOSS RMSE = 0.9221045799640621, MAE = 0.676470640677709\n",
      "MODEL LOSS 155.88116\n",
      "AUTOENCODER LOSS 153.99815\n",
      "VALIDATION LOSS 0.9822845160137712\n",
      "EPOCH 32 / 60\n",
      "ALS LOSS RMSE = 0.9207484128580401, MAE = 0.6753486192977172\n",
      "MODEL LOSS 155.93475\n",
      "AUTOENCODER LOSS 154.06229\n",
      "VALIDATION LOSS 0.9821392250535624\n",
      "EPOCH 33 / 60\n",
      "ALS LOSS RMSE = 0.9197056049339292, MAE = 0.6745112853615332\n",
      "MODEL LOSS 155.94514\n",
      "AUTOENCODER LOSS 154.08029\n",
      "VALIDATION LOSS 0.9820478572999807\n",
      "EPOCH 34 / 60\n",
      "ALS LOSS RMSE = 0.9185043225147987, MAE = 0.6735420561879757\n",
      "MODEL LOSS 155.96555\n",
      "AUTOENCODER LOSS 154.11021\n",
      "VALIDATION LOSS 0.981952194083183\n",
      "EPOCH 35 / 60\n",
      "ALS LOSS RMSE = 0.9174425296264378, MAE = 0.6726560280363716\n",
      "MODEL LOSS 155.96829\n",
      "AUTOENCODER LOSS 154.11888\n",
      "VALIDATION LOSS 0.9818651387801052\n",
      "EPOCH 36 / 60\n",
      "ALS LOSS RMSE = 0.9163008004196623, MAE = 0.6717308994518412\n",
      "MODEL LOSS 155.95412\n",
      "AUTOENCODER LOSS 154.09555\n",
      "VALIDATION LOSS 0.9818408663608506\n",
      "EPOCH 37 / 60\n",
      "ALS LOSS RMSE = 0.9152604146239673, MAE = 0.6708875612434605\n",
      "MODEL LOSS 155.97568\n",
      "AUTOENCODER LOSS 154.13142\n",
      "VALIDATION LOSS 0.9818184840337668\n",
      "EPOCH 38 / 60\n",
      "ALS LOSS RMSE = 0.9143959514654647, MAE = 0.6702019945211188\n",
      "MODEL LOSS 155.9478\n",
      "AUTOENCODER LOSS 154.09709\n",
      "VALIDATION LOSS 0.9817445189914729\n",
      "EPOCH 39 / 60\n",
      "ALS LOSS RMSE = 0.913386822855795, MAE = 0.6693512432356039\n",
      "MODEL LOSS 155.91194\n",
      "AUTOENCODER LOSS 154.06313\n",
      "VALIDATION LOSS 0.9817317753154972\n",
      "EPOCH 40 / 60\n",
      "ALS LOSS RMSE = 0.9124008188805014, MAE = 0.6685385138738126\n",
      "MODEL LOSS 155.8649\n",
      "AUTOENCODER LOSS 154.01445\n",
      "VALIDATION LOSS 0.9817282157022538\n",
      "EPOCH 41 / 60\n",
      "ALS LOSS RMSE = 0.9115665473423744, MAE = 0.6678530542648008\n",
      "MODEL LOSS 155.87929\n",
      "AUTOENCODER LOSS 154.03072\n",
      "VALIDATION LOSS 0.9817318911263824\n",
      "EPOCH 42 / 60\n",
      "Stopping early because loss 0.9817282157022538 is larger than past losses [0.9817318911263824, 0.9817639179326692]\n"
     ]
    }
   ],
   "source": [
    "cdl = models.model_cdl_sdae_sgd.CDL(ds, out_path=XP_PATH, k=50, hidden_size=250, \n",
    "          matrix_noise=0.3, drop_ratio=0.2, epochs=60,\n",
    "          lambda_w=1, lambda_v=1, lambda_n=10, lambda_q = 10)\n",
    "mu, pu, qi, bu, bi = cdl.training() #188910"
   ]
  },
  {
   "cell_type": "code",
   "execution_count": 13,
   "metadata": {},
   "outputs": [
    {
     "name": "stdout",
     "output_type": "stream",
     "text": [
      "pu shape: 474296 x 50\n",
      "qi shape: 123196 x 50\n",
      "beta_u shape: 474296\n",
      "beta_i shape: 123196\n"
     ]
    }
   ],
   "source": [
    "## dump U and V matricies to pickle files\n",
    "print(\"pu shape: %s x %s\" % pu.shape)\n",
    "print(\"qi shape: %s x %s\" % qi.shape)\n",
    "\n",
    "print(\"beta_u shape: %s\" % bu.shape)\n",
    "print(\"beta_i shape: %s\" % bi.shape)\n",
    "\n",
    "with open(U_V_PATH + 'mx.pickle', 'wb') as handle:\n",
    "    pickle.dump({'mu':mu, 'pu':pu, 'qi':qi, 'bu':bu, 'bi':bi}, handle, protocol=pickle.HIGHEST_PROTOCOL)"
   ]
  },
  {
   "cell_type": "markdown",
   "metadata": {},
   "source": [
    "## Evaluate model\n"
   ]
  },
  {
   "cell_type": "code",
   "execution_count": 14,
   "metadata": {},
   "outputs": [],
   "source": [
    "test_preds = models.mf_sgd.SGD.predict_dataset_with_params(ds.get_test_rating_matrix(), mu, bu, bi, qi, pu)"
   ]
  },
  {
   "cell_type": "code",
   "execution_count": 16,
   "metadata": {},
   "outputs": [
    {
     "name": "stdout",
     "output_type": "stream",
     "text": [
      "MSE: 0.9813336353465684\n",
      "MAE: 0.7166283343220166\n"
     ]
    }
   ],
   "source": [
    "mse = mean_squared_error(ds.testset.rate__, test_preds) ** 0.5\n",
    "mae = mean_absolute_error(ds.testset.rate__, test_preds)\n",
    "\n",
    "print(\"MSE: %s\" % mse)\n",
    "print(\"MAE: %s\" % mae)"
   ]
  },
  {
   "cell_type": "code",
   "execution_count": 29,
   "metadata": {},
   "outputs": [
    {
     "ename": "KeyboardInterrupt",
     "evalue": "",
     "output_type": "error",
     "traceback": [
      "\u001b[0;31m---------------------------------------------------------------------------\u001b[0m",
      "\u001b[0;31mKeyboardInterrupt\u001b[0m                         Traceback (most recent call last)",
      "\u001b[0;32m<ipython-input-29-e0b32ffcf886>\u001b[0m in \u001b[0;36m<module>\u001b[0;34m()\u001b[0m\n\u001b[1;32m      3\u001b[0m \u001b[0;34m\u001b[0m\u001b[0m\n\u001b[1;32m      4\u001b[0m \u001b[0;32mfor\u001b[0m \u001b[0mk\u001b[0m \u001b[0;32min\u001b[0m \u001b[0mrange\u001b[0m\u001b[0;34m(\u001b[0m\u001b[0;36m0\u001b[0m\u001b[0;34m,\u001b[0m \u001b[0;36m200\u001b[0m\u001b[0;34m)\u001b[0m\u001b[0;34m:\u001b[0m\u001b[0;34m\u001b[0m\u001b[0m\n\u001b[0;32m----> 5\u001b[0;31m     \u001b[0mprecisions\u001b[0m\u001b[0;34m,\u001b[0m \u001b[0mrecalls\u001b[0m \u001b[0;34m=\u001b[0m \u001b[0mprecision_recall_at_k_4arrays\u001b[0m\u001b[0;34m(\u001b[0m\u001b[0mds\u001b[0m\u001b[0;34m.\u001b[0m\u001b[0mtestset\u001b[0m\u001b[0;34m.\u001b[0m\u001b[0muid__\u001b[0m\u001b[0;34m,\u001b[0m \u001b[0mtest_preds\u001b[0m\u001b[0;34m,\u001b[0m \u001b[0mds\u001b[0m\u001b[0;34m.\u001b[0m\u001b[0mtestset\u001b[0m\u001b[0;34m.\u001b[0m\u001b[0mrate__\u001b[0m\u001b[0;34m,\u001b[0m \u001b[0mk\u001b[0m\u001b[0;34m=\u001b[0m\u001b[0mk\u001b[0m\u001b[0;34m,\u001b[0m \u001b[0mthreshold\u001b[0m\u001b[0;34m=\u001b[0m\u001b[0;36m3\u001b[0m\u001b[0;34m)\u001b[0m\u001b[0;34m\u001b[0m\u001b[0m\n\u001b[0m\u001b[1;32m      6\u001b[0m     \u001b[0mp_mean\u001b[0m \u001b[0;34m=\u001b[0m \u001b[0mnp\u001b[0m\u001b[0;34m.\u001b[0m\u001b[0mmean\u001b[0m\u001b[0;34m(\u001b[0m\u001b[0mlist\u001b[0m\u001b[0;34m(\u001b[0m\u001b[0mprecisions\u001b[0m\u001b[0;34m.\u001b[0m\u001b[0mvalues\u001b[0m\u001b[0;34m(\u001b[0m\u001b[0;34m)\u001b[0m\u001b[0;34m)\u001b[0m\u001b[0;34m)\u001b[0m\u001b[0;34m\u001b[0m\u001b[0m\n\u001b[1;32m      7\u001b[0m     \u001b[0mr_mean\u001b[0m \u001b[0;34m=\u001b[0m \u001b[0mnp\u001b[0m\u001b[0;34m.\u001b[0m\u001b[0mmean\u001b[0m\u001b[0;34m(\u001b[0m\u001b[0mlist\u001b[0m\u001b[0;34m(\u001b[0m\u001b[0mrecalls\u001b[0m\u001b[0;34m.\u001b[0m\u001b[0mvalues\u001b[0m\u001b[0;34m(\u001b[0m\u001b[0;34m)\u001b[0m\u001b[0;34m)\u001b[0m\u001b[0;34m)\u001b[0m\u001b[0;34m\u001b[0m\u001b[0m\n",
      "\u001b[0;32mC:\\Users\\irina\\Dev\\master\\helpful_stuff\\utils_metrics.py\u001b[0m in \u001b[0;36mprecision_recall_at_k_4arrays\u001b[0;34m(uids, estimations, real_values, k, threshold)\u001b[0m\n\u001b[1;32m     20\u001b[0m         \u001b[0muser_est_true\u001b[0m\u001b[0;34m[\u001b[0m\u001b[0muid\u001b[0m\u001b[0;34m]\u001b[0m\u001b[0;34m.\u001b[0m\u001b[0mappend\u001b[0m\u001b[0;34m(\u001b[0m\u001b[0;34m(\u001b[0m\u001b[0mest\u001b[0m\u001b[0;34m,\u001b[0m \u001b[0mtrue_r\u001b[0m\u001b[0;34m)\u001b[0m\u001b[0;34m)\u001b[0m\u001b[0;34m\u001b[0m\u001b[0m\n\u001b[1;32m     21\u001b[0m \u001b[0;34m\u001b[0m\u001b[0m\n\u001b[0;32m---> 22\u001b[0;31m     \u001b[0;32mreturn\u001b[0m \u001b[0mprecision_recall_at_k\u001b[0m\u001b[0;34m(\u001b[0m\u001b[0muser_est_true\u001b[0m\u001b[0;34m,\u001b[0m \u001b[0mk\u001b[0m\u001b[0;34m,\u001b[0m \u001b[0mthreshold\u001b[0m\u001b[0;34m)\u001b[0m\u001b[0;34m\u001b[0m\u001b[0m\n\u001b[0m\u001b[1;32m     23\u001b[0m \u001b[0;34m\u001b[0m\u001b[0m\n\u001b[1;32m     24\u001b[0m \u001b[0;34m\u001b[0m\u001b[0m\n",
      "\u001b[0;32mC:\\Users\\irina\\Dev\\master\\helpful_stuff\\utils_metrics.py\u001b[0m in \u001b[0;36mprecision_recall_at_k\u001b[0;34m(user_est_true, k, threshold)\u001b[0m\n\u001b[1;32m     76\u001b[0m         \u001b[0;31m# Number of relevant and recommended items in top k\u001b[0m\u001b[0;34m\u001b[0m\u001b[0;34m\u001b[0m\u001b[0m\n\u001b[1;32m     77\u001b[0m         n_rel_and_rec_k = sum(((true_r >= threshold) and (est >= threshold))\n\u001b[0;32m---> 78\u001b[0;31m                               for (est, true_r) in user_ratings[:k])\n\u001b[0m\u001b[1;32m     79\u001b[0m \u001b[0;34m\u001b[0m\u001b[0m\n\u001b[1;32m     80\u001b[0m         \u001b[0;31m# Precision@K: Proportion of recommended items that are relevant\u001b[0m\u001b[0;34m\u001b[0m\u001b[0;34m\u001b[0m\u001b[0m\n",
      "\u001b[0;32mC:\\Users\\irina\\Dev\\master\\helpful_stuff\\utils_metrics.py\u001b[0m in \u001b[0;36m<genexpr>\u001b[0;34m(.0)\u001b[0m\n\u001b[1;32m     76\u001b[0m         \u001b[0;31m# Number of relevant and recommended items in top k\u001b[0m\u001b[0;34m\u001b[0m\u001b[0;34m\u001b[0m\u001b[0m\n\u001b[1;32m     77\u001b[0m         n_rel_and_rec_k = sum(((true_r >= threshold) and (est >= threshold))\n\u001b[0;32m---> 78\u001b[0;31m                               for (est, true_r) in user_ratings[:k])\n\u001b[0m\u001b[1;32m     79\u001b[0m \u001b[0;34m\u001b[0m\u001b[0m\n\u001b[1;32m     80\u001b[0m         \u001b[0;31m# Precision@K: Proportion of recommended items that are relevant\u001b[0m\u001b[0;34m\u001b[0m\u001b[0;34m\u001b[0m\u001b[0m\n",
      "\u001b[0;31mKeyboardInterrupt\u001b[0m: "
     ]
    }
   ],
   "source": [
    "k_prec = {}\n",
    "k_rec = {}\n",
    "\n",
    "for k in range(0, 200):\n",
    "    precisions, recalls = precision_recall_at_k_4arrays(ds.testset.uid__, test_preds, ds.testset.rate__, k=k, threshold=3) \n",
    "    p_mean = np.mean(list(precisions.values()))\n",
    "    r_mean = np.mean(list(recalls.values()))\n",
    "    k_prec[k] = p_mean\n",
    "    k_rec[k] = r_mean"
   ]
  },
  {
   "cell_type": "code",
   "execution_count": 35,
   "metadata": {},
   "outputs": [],
   "source": [
    "row = XPResults(dataset='Goodreads_Kids', xpdata=XPDescription(predictor=None, label='CDL-SDAE-SGD', nfactors=25), rmse=mse, mae=mae, precision=k_prec, recall=k_rec)"
   ]
  },
  {
   "cell_type": "code",
   "execution_count": 36,
   "metadata": {},
   "outputs": [],
   "source": [
    "write_to_csv(row, 'goodreads', 'sdae_sgd_optim')"
   ]
  }
 ],
 "metadata": {
  "kernelspec": {
   "display_name": "Python 3",
   "language": "python",
   "name": "python3"
  },
  "language_info": {
   "codemirror_mode": {
    "name": "ipython",
    "version": 3
   },
   "file_extension": ".py",
   "mimetype": "text/x-python",
   "name": "python",
   "nbconvert_exporter": "python",
   "pygments_lexer": "ipython3",
   "version": "3.5.5"
  }
 },
 "nbformat": 4,
 "nbformat_minor": 2
}
