{
 "cells": [
  {
   "cell_type": "markdown",
   "metadata": {},
   "source": [
    "## Evaluation of CDL_* predictions"
   ]
  },
  {
   "cell_type": "code",
   "execution_count": 6,
   "metadata": {},
   "outputs": [],
   "source": [
    "import pickle\n",
    "import numpy as np\n",
    "from sklearn.metrics import mean_squared_error, mean_absolute_error\n",
    "from collections import defaultdict, namedtuple\n",
    "from experiment_out_utils import precision_recall_at_k_4df, write_to_csv, XPData, XPRow, write_row\n",
    "import pandas as pd\n",
    "from sklearn.model_selection import train_test_split"
   ]
  },
  {
   "cell_type": "markdown",
   "metadata": {},
   "source": [
    "### Load data"
   ]
  },
  {
   "cell_type": "code",
   "execution_count": null,
   "metadata": {},
   "outputs": [],
   "source": [
    "## define paths\n",
    "df = pd.read_json(r'D:\\Datasets\\amazon_reviews\\processed\\reviews_Video_Games_5.json')\n",
    "XP_PATH = 'D:/Models/thesis/conv_mf/test1/'\n",
    "# XP_PATH = 'D:/Models/thesis/sdae/sdae_optimized/'\n",
    "U_V_PATH = '%spickles/' % XP_PATH"
   ]
  },
  {
   "cell_type": "code",
   "execution_count": 9,
   "metadata": {},
   "outputs": [],
   "source": [
    "df_train, df_test = train_test_split(df, test_size = 0.3, stratify=df['reviewerID'], random_state=42)"
   ]
  },
  {
   "cell_type": "code",
   "execution_count": 10,
   "metadata": {},
   "outputs": [
    {
     "data": {
      "text/html": [
       "<div>\n",
       "<style scoped>\n",
       "    .dataframe tbody tr th:only-of-type {\n",
       "        vertical-align: middle;\n",
       "    }\n",
       "\n",
       "    .dataframe tbody tr th {\n",
       "        vertical-align: top;\n",
       "    }\n",
       "\n",
       "    .dataframe thead th {\n",
       "        text-align: right;\n",
       "    }\n",
       "</style>\n",
       "<table border=\"1\" class=\"dataframe\">\n",
       "  <thead>\n",
       "    <tr style=\"text-align: right;\">\n",
       "      <th></th>\n",
       "      <th>asin</th>\n",
       "      <th>helpful</th>\n",
       "      <th>overall</th>\n",
       "      <th>reviewText</th>\n",
       "      <th>reviewTextProc</th>\n",
       "      <th>reviewTime</th>\n",
       "      <th>reviewerID</th>\n",
       "      <th>reviewerName</th>\n",
       "      <th>summary</th>\n",
       "      <th>summaryProc</th>\n",
       "      <th>unixReviewTime</th>\n",
       "    </tr>\n",
       "  </thead>\n",
       "  <tbody>\n",
       "    <tr>\n",
       "      <th>147833</th>\n",
       "      <td>B002WSR8CQ</td>\n",
       "      <td>[0, 0]</td>\n",
       "      <td>4</td>\n",
       "      <td>I BROUGHT THIS GAME FOR MY SON AND HE LOVES IT...</td>\n",
       "      <td>i bring this game for my son and he love it th...</td>\n",
       "      <td>01 7, 2011</td>\n",
       "      <td>A3P3XF9FS9AJCH</td>\n",
       "      <td>C. SESSIONS</td>\n",
       "      <td>VERY FUN</td>\n",
       "      <td>very fun</td>\n",
       "      <td>1294358400</td>\n",
       "    </tr>\n",
       "    <tr>\n",
       "      <th>95387</th>\n",
       "      <td>B000X1TC0U</td>\n",
       "      <td>[4, 4]</td>\n",
       "      <td>5</td>\n",
       "      <td>I'm very late to the party with this review, s...</td>\n",
       "      <td>i be late party review i will informal short i...</td>\n",
       "      <td>01 20, 2009</td>\n",
       "      <td>A3KKM0T1KY42HA</td>\n",
       "      <td>Sky</td>\n",
       "      <td>Aliens</td>\n",
       "      <td>alien</td>\n",
       "      <td>1232409600</td>\n",
       "    </tr>\n",
       "  </tbody>\n",
       "</table>\n",
       "</div>"
      ],
      "text/plain": [
       "              asin helpful  overall  \\\n",
       "147833  B002WSR8CQ  [0, 0]        4   \n",
       "95387   B000X1TC0U  [4, 4]        5   \n",
       "\n",
       "                                               reviewText  \\\n",
       "147833  I BROUGHT THIS GAME FOR MY SON AND HE LOVES IT...   \n",
       "95387   I'm very late to the party with this review, s...   \n",
       "\n",
       "                                           reviewTextProc   reviewTime  \\\n",
       "147833  i bring this game for my son and he love it th...   01 7, 2011   \n",
       "95387   i be late party review i will informal short i...  01 20, 2009   \n",
       "\n",
       "            reviewerID reviewerName   summary summaryProc  unixReviewTime  \n",
       "147833  A3P3XF9FS9AJCH  C. SESSIONS  VERY FUN    very fun      1294358400  \n",
       "95387   A3KKM0T1KY42HA          Sky    Aliens       alien      1232409600  "
      ]
     },
     "execution_count": 10,
     "metadata": {},
     "output_type": "execute_result"
    }
   ],
   "source": [
    "df_train.head(2)"
   ]
  },
  {
   "cell_type": "code",
   "execution_count": 11,
   "metadata": {},
   "outputs": [],
   "source": [
    "pivoted = df_train.pivot(index = 'reviewerID', columns = 'asin', values = 'overall')\n",
    "pivoted = pivoted.fillna(0.)"
   ]
  },
  {
   "cell_type": "code",
   "execution_count": 12,
   "metadata": {},
   "outputs": [],
   "source": [
    "## Load matricies\n",
    "with open(U_V_PATH + 'U_final.pickle', 'rb') as handle:\n",
    "    U = pickle.load(handle)  \n",
    "    \n",
    "with open(U_V_PATH + 'V_final.pickle', 'rb') as handle:\n",
    "    V = pickle.load(handle)\n",
    "    \n",
    "with open(U_V_PATH + 'beta_u_final.pickle', 'rb') as handle:\n",
    "    beta_u = pickle.load(handle)\n",
    "    \n",
    "with open(U_V_PATH + 'beta_v_final.pickle', 'rb') as handle:\n",
    "    beta_v = pickle.load(handle)\n",
    "    \n",
    "with open(XP_PATH + 'rating_matrix.pickle', 'rb') as handle:\n",
    "    rating_matrix = pickle.load(handle)"
   ]
  },
  {
   "cell_type": "code",
   "execution_count": 13,
   "metadata": {},
   "outputs": [],
   "source": [
    "predictions = np.dot(U, V.T) + beta_u.reshape(-1, 1) + beta_v.reshape(1, -1)"
   ]
  },
  {
   "cell_type": "code",
   "execution_count": 14,
   "metadata": {},
   "outputs": [
    {
     "name": "stdout",
     "output_type": "stream",
     "text": [
      "Shape of rating matrix: 24303 x 10668\n",
      "Shape of predicted matrix: 24303 x 10668\n"
     ]
    }
   ],
   "source": [
    "print(\"Shape of rating matrix: %s x %s\" % rating_matrix.shape)\n",
    "print(\"Shape of predicted matrix: %s x %s\" % predictions.shape)"
   ]
  },
  {
   "cell_type": "markdown",
   "metadata": {},
   "source": [
    "### For training set"
   ]
  },
  {
   "cell_type": "code",
   "execution_count": 15,
   "metadata": {},
   "outputs": [
    {
     "name": "stdout",
     "output_type": "stream",
     "text": [
      "MSE (non zero): 0.11504065707800937\n",
      "MAE (non zero): 0.2913370284785628\n"
     ]
    }
   ],
   "source": [
    "print(\"MSE (non zero): %s\" % mean_squared_error(rating_matrix[rating_matrix > 0], predictions[rating_matrix > 0]) ** 0.5)\n",
    "print(\"MAE (non zero): %s\" % mean_absolute_error(rating_matrix[rating_matrix > 0], predictions[rating_matrix > 0]) ** 0.5)"
   ]
  },
  {
   "cell_type": "code",
   "execution_count": 16,
   "metadata": {},
   "outputs": [
    {
     "name": "stdout",
     "output_type": "stream",
     "text": [
      "MSE (all): 3.824807636110569\n",
      "MAE (all): 1.922837208995061\n"
     ]
    }
   ],
   "source": [
    "print(\"MSE (all): %s\" % mean_squared_error(rating_matrix, predictions) ** 0.5)\n",
    "print(\"MAE (all): %s\" % mean_absolute_error(rating_matrix, predictions) ** 0.5)"
   ]
  },
  {
   "cell_type": "markdown",
   "metadata": {},
   "source": [
    "### For test set"
   ]
  },
  {
   "cell_type": "code",
   "execution_count": 17,
   "metadata": {},
   "outputs": [
    {
     "data": {
      "text/html": [
       "<div>\n",
       "<style scoped>\n",
       "    .dataframe tbody tr th:only-of-type {\n",
       "        vertical-align: middle;\n",
       "    }\n",
       "\n",
       "    .dataframe tbody tr th {\n",
       "        vertical-align: top;\n",
       "    }\n",
       "\n",
       "    .dataframe thead th {\n",
       "        text-align: right;\n",
       "    }\n",
       "</style>\n",
       "<table border=\"1\" class=\"dataframe\">\n",
       "  <thead>\n",
       "    <tr style=\"text-align: right;\">\n",
       "      <th>asin</th>\n",
       "      <th>0700099867</th>\n",
       "      <th>6050036071</th>\n",
       "      <th>7100027950</th>\n",
       "      <th>7293000936</th>\n",
       "      <th>8176503290</th>\n",
       "      <th>907843905X</th>\n",
       "      <th>9625990674</th>\n",
       "      <th>9861019731</th>\n",
       "      <th>9882155456</th>\n",
       "      <th>B000003SQQ</th>\n",
       "      <th>...</th>\n",
       "      <th>B00J128FPA</th>\n",
       "      <th>B00J226358</th>\n",
       "      <th>B00J6DLPLK</th>\n",
       "      <th>B00J9P3KBS</th>\n",
       "      <th>B00JM3R6M6</th>\n",
       "      <th>B00JQ8YH6A</th>\n",
       "      <th>B00JQHU9RC</th>\n",
       "      <th>B00JXW6GE0</th>\n",
       "      <th>B00KAI3KW2</th>\n",
       "      <th>B00KHECZXO</th>\n",
       "    </tr>\n",
       "    <tr>\n",
       "      <th>reviewerID</th>\n",
       "      <th></th>\n",
       "      <th></th>\n",
       "      <th></th>\n",
       "      <th></th>\n",
       "      <th></th>\n",
       "      <th></th>\n",
       "      <th></th>\n",
       "      <th></th>\n",
       "      <th></th>\n",
       "      <th></th>\n",
       "      <th></th>\n",
       "      <th></th>\n",
       "      <th></th>\n",
       "      <th></th>\n",
       "      <th></th>\n",
       "      <th></th>\n",
       "      <th></th>\n",
       "      <th></th>\n",
       "      <th></th>\n",
       "      <th></th>\n",
       "      <th></th>\n",
       "    </tr>\n",
       "  </thead>\n",
       "  <tbody>\n",
       "    <tr>\n",
       "      <th>A00263941WP7WCIL7AKWL</th>\n",
       "      <td>3.438583</td>\n",
       "      <td>4.737486</td>\n",
       "      <td>5.069465</td>\n",
       "      <td>4.760501</td>\n",
       "      <td>4.416206</td>\n",
       "      <td>4.603362</td>\n",
       "      <td>4.607568</td>\n",
       "      <td>4.417330</td>\n",
       "      <td>4.658463</td>\n",
       "      <td>4.228462</td>\n",
       "      <td>...</td>\n",
       "      <td>4.731280</td>\n",
       "      <td>4.118770</td>\n",
       "      <td>4.264728</td>\n",
       "      <td>3.847696</td>\n",
       "      <td>4.567197</td>\n",
       "      <td>3.485262</td>\n",
       "      <td>5.257329</td>\n",
       "      <td>4.517510</td>\n",
       "      <td>4.459819</td>\n",
       "      <td>4.171296</td>\n",
       "    </tr>\n",
       "    <tr>\n",
       "      <th>A005481137I9SCAWEF7ON</th>\n",
       "      <td>4.650667</td>\n",
       "      <td>4.708318</td>\n",
       "      <td>4.905160</td>\n",
       "      <td>4.701447</td>\n",
       "      <td>4.779674</td>\n",
       "      <td>3.157856</td>\n",
       "      <td>4.814225</td>\n",
       "      <td>4.043312</td>\n",
       "      <td>5.464767</td>\n",
       "      <td>4.098143</td>\n",
       "      <td>...</td>\n",
       "      <td>4.336104</td>\n",
       "      <td>4.246659</td>\n",
       "      <td>1.325666</td>\n",
       "      <td>4.744281</td>\n",
       "      <td>2.786003</td>\n",
       "      <td>3.878325</td>\n",
       "      <td>5.332501</td>\n",
       "      <td>4.119889</td>\n",
       "      <td>4.632941</td>\n",
       "      <td>3.221304</td>\n",
       "    </tr>\n",
       "  </tbody>\n",
       "</table>\n",
       "<p>2 rows × 10668 columns</p>\n",
       "</div>"
      ],
      "text/plain": [
       "asin                   0700099867  6050036071  7100027950  7293000936  \\\n",
       "reviewerID                                                              \n",
       "A00263941WP7WCIL7AKWL    3.438583    4.737486    5.069465    4.760501   \n",
       "A005481137I9SCAWEF7ON    4.650667    4.708318    4.905160    4.701447   \n",
       "\n",
       "asin                   8176503290  907843905X  9625990674  9861019731  \\\n",
       "reviewerID                                                              \n",
       "A00263941WP7WCIL7AKWL    4.416206    4.603362    4.607568    4.417330   \n",
       "A005481137I9SCAWEF7ON    4.779674    3.157856    4.814225    4.043312   \n",
       "\n",
       "asin                   9882155456  B000003SQQ     ...      B00J128FPA  \\\n",
       "reviewerID                                        ...                   \n",
       "A00263941WP7WCIL7AKWL    4.658463    4.228462     ...        4.731280   \n",
       "A005481137I9SCAWEF7ON    5.464767    4.098143     ...        4.336104   \n",
       "\n",
       "asin                   B00J226358  B00J6DLPLK  B00J9P3KBS  B00JM3R6M6  \\\n",
       "reviewerID                                                              \n",
       "A00263941WP7WCIL7AKWL    4.118770    4.264728    3.847696    4.567197   \n",
       "A005481137I9SCAWEF7ON    4.246659    1.325666    4.744281    2.786003   \n",
       "\n",
       "asin                   B00JQ8YH6A  B00JQHU9RC  B00JXW6GE0  B00KAI3KW2  \\\n",
       "reviewerID                                                              \n",
       "A00263941WP7WCIL7AKWL    3.485262    5.257329    4.517510    4.459819   \n",
       "A005481137I9SCAWEF7ON    3.878325    5.332501    4.119889    4.632941   \n",
       "\n",
       "asin                   B00KHECZXO  \n",
       "reviewerID                         \n",
       "A00263941WP7WCIL7AKWL    4.171296  \n",
       "A005481137I9SCAWEF7ON    3.221304  \n",
       "\n",
       "[2 rows x 10668 columns]"
      ]
     },
     "execution_count": 17,
     "metadata": {},
     "output_type": "execute_result"
    }
   ],
   "source": [
    "preds_df_unmelt = pd.DataFrame(predictions, columns = pivoted.columns, index = pivoted.index)\n",
    "preds_df_unmelt.index.name = 'reviewerID'\n",
    "preds_df_unmelt.columns.name = 'asin'\n",
    "preds_df_unmelt.head(2)"
   ]
  },
  {
   "cell_type": "code",
   "execution_count": 18,
   "metadata": {},
   "outputs": [],
   "source": [
    "df_test_val = df_test.copy()\n",
    "df_test_val['value'] = 0"
   ]
  },
  {
   "cell_type": "code",
   "execution_count": 19,
   "metadata": {},
   "outputs": [],
   "source": [
    "def get_val(x):\n",
    "    if x['reviewerID'] in preds_df_unmelt.index:\n",
    "        if x['asin'] in preds_df_unmelt.columns:\n",
    "            return preds_df_unmelt.loc[x['reviewerID'], x['asin']]\n",
    "    return None"
   ]
  },
  {
   "cell_type": "code",
   "execution_count": 20,
   "metadata": {},
   "outputs": [],
   "source": [
    "df_test_val['value'] = df_test_val.apply(get_val, axis = 1)"
   ]
  },
  {
   "cell_type": "code",
   "execution_count": 21,
   "metadata": {},
   "outputs": [
    {
     "data": {
      "text/html": [
       "<div>\n",
       "<style scoped>\n",
       "    .dataframe tbody tr th:only-of-type {\n",
       "        vertical-align: middle;\n",
       "    }\n",
       "\n",
       "    .dataframe tbody tr th {\n",
       "        vertical-align: top;\n",
       "    }\n",
       "\n",
       "    .dataframe thead th {\n",
       "        text-align: right;\n",
       "    }\n",
       "</style>\n",
       "<table border=\"1\" class=\"dataframe\">\n",
       "  <thead>\n",
       "    <tr style=\"text-align: right;\">\n",
       "      <th></th>\n",
       "      <th>overall</th>\n",
       "      <th>value</th>\n",
       "    </tr>\n",
       "  </thead>\n",
       "  <tbody>\n",
       "    <tr>\n",
       "      <th>193452</th>\n",
       "      <td>4</td>\n",
       "      <td>4.623163</td>\n",
       "    </tr>\n",
       "    <tr>\n",
       "      <th>166816</th>\n",
       "      <td>4</td>\n",
       "      <td>4.366657</td>\n",
       "    </tr>\n",
       "    <tr>\n",
       "      <th>65300</th>\n",
       "      <td>5</td>\n",
       "      <td>4.025418</td>\n",
       "    </tr>\n",
       "    <tr>\n",
       "      <th>156132</th>\n",
       "      <td>4</td>\n",
       "      <td>3.072125</td>\n",
       "    </tr>\n",
       "    <tr>\n",
       "      <th>125773</th>\n",
       "      <td>1</td>\n",
       "      <td>2.303838</td>\n",
       "    </tr>\n",
       "    <tr>\n",
       "      <th>206313</th>\n",
       "      <td>4</td>\n",
       "      <td>4.616288</td>\n",
       "    </tr>\n",
       "    <tr>\n",
       "      <th>160819</th>\n",
       "      <td>5</td>\n",
       "      <td>3.340348</td>\n",
       "    </tr>\n",
       "    <tr>\n",
       "      <th>105469</th>\n",
       "      <td>2</td>\n",
       "      <td>0.797860</td>\n",
       "    </tr>\n",
       "    <tr>\n",
       "      <th>217821</th>\n",
       "      <td>4</td>\n",
       "      <td>4.359666</td>\n",
       "    </tr>\n",
       "    <tr>\n",
       "      <th>63640</th>\n",
       "      <td>2</td>\n",
       "      <td>4.088295</td>\n",
       "    </tr>\n",
       "  </tbody>\n",
       "</table>\n",
       "</div>"
      ],
      "text/plain": [
       "        overall     value\n",
       "193452        4  4.623163\n",
       "166816        4  4.366657\n",
       "65300         5  4.025418\n",
       "156132        4  3.072125\n",
       "125773        1  2.303838\n",
       "206313        4  4.616288\n",
       "160819        5  3.340348\n",
       "105469        2  0.797860\n",
       "217821        4  4.359666\n",
       "63640         2  4.088295"
      ]
     },
     "execution_count": 21,
     "metadata": {},
     "output_type": "execute_result"
    }
   ],
   "source": [
    "df_test_val[['overall', 'value']].head(10)"
   ]
  },
  {
   "cell_type": "code",
   "execution_count": 22,
   "metadata": {},
   "outputs": [
    {
     "data": {
      "text/html": [
       "<div>\n",
       "<style scoped>\n",
       "    .dataframe tbody tr th:only-of-type {\n",
       "        vertical-align: middle;\n",
       "    }\n",
       "\n",
       "    .dataframe tbody tr th {\n",
       "        vertical-align: top;\n",
       "    }\n",
       "\n",
       "    .dataframe thead th {\n",
       "        text-align: right;\n",
       "    }\n",
       "</style>\n",
       "<table border=\"1\" class=\"dataframe\">\n",
       "  <thead>\n",
       "    <tr style=\"text-align: right;\">\n",
       "      <th></th>\n",
       "      <th>asin</th>\n",
       "      <th>helpful</th>\n",
       "      <th>overall</th>\n",
       "      <th>reviewText</th>\n",
       "      <th>reviewTextProc</th>\n",
       "      <th>reviewTime</th>\n",
       "      <th>reviewerID</th>\n",
       "      <th>reviewerName</th>\n",
       "      <th>summary</th>\n",
       "      <th>summaryProc</th>\n",
       "      <th>unixReviewTime</th>\n",
       "      <th>value</th>\n",
       "    </tr>\n",
       "  </thead>\n",
       "  <tbody>\n",
       "    <tr>\n",
       "      <th>193452</th>\n",
       "      <td>B005QA98JS</td>\n",
       "      <td>[1, 1]</td>\n",
       "      <td>4</td>\n",
       "      <td>This is another set of games that sort of surp...</td>\n",
       "      <td>this set game sort surprise good set this set ...</td>\n",
       "      <td>10 18, 2012</td>\n",
       "      <td>AFXTKAO0CB354</td>\n",
       "      <td>C. Weaver</td>\n",
       "      <td>Aonther Set Of Games That Surprised Me....</td>\n",
       "      <td>aonther set of games that surprise me</td>\n",
       "      <td>1350518400</td>\n",
       "      <td>4.623163</td>\n",
       "    </tr>\n",
       "    <tr>\n",
       "      <th>166816</th>\n",
       "      <td>B0043QL2FE</td>\n",
       "      <td>[4, 7]</td>\n",
       "      <td>4</td>\n",
       "      <td>After playing this game a lot more, I have dec...</td>\n",
       "      <td>after play game lot i decide change review ini...</td>\n",
       "      <td>03 16, 2011</td>\n",
       "      <td>A4E0I88T1MS4O</td>\n",
       "      <td>Fani</td>\n",
       "      <td>Solid improvement from Top Spin 3 but still ha...</td>\n",
       "      <td>solid improvement top spin 3 flaw</td>\n",
       "      <td>1300233600</td>\n",
       "      <td>4.366657</td>\n",
       "    </tr>\n",
       "  </tbody>\n",
       "</table>\n",
       "</div>"
      ],
      "text/plain": [
       "              asin helpful  overall  \\\n",
       "193452  B005QA98JS  [1, 1]        4   \n",
       "166816  B0043QL2FE  [4, 7]        4   \n",
       "\n",
       "                                               reviewText  \\\n",
       "193452  This is another set of games that sort of surp...   \n",
       "166816  After playing this game a lot more, I have dec...   \n",
       "\n",
       "                                           reviewTextProc   reviewTime  \\\n",
       "193452  this set game sort surprise good set this set ...  10 18, 2012   \n",
       "166816  after play game lot i decide change review ini...  03 16, 2011   \n",
       "\n",
       "           reviewerID reviewerName  \\\n",
       "193452  AFXTKAO0CB354    C. Weaver   \n",
       "166816  A4E0I88T1MS4O         Fani   \n",
       "\n",
       "                                                  summary  \\\n",
       "193452         Aonther Set Of Games That Surprised Me....   \n",
       "166816  Solid improvement from Top Spin 3 but still ha...   \n",
       "\n",
       "                                  summaryProc  unixReviewTime     value  \n",
       "193452  aonther set of games that surprise me      1350518400  4.623163  \n",
       "166816      solid improvement top spin 3 flaw      1300233600  4.366657  "
      ]
     },
     "execution_count": 22,
     "metadata": {},
     "output_type": "execute_result"
    }
   ],
   "source": [
    "df_test_val[~df_test_val.value.isnull()].head(2)"
   ]
  },
  {
   "cell_type": "code",
   "execution_count": 23,
   "metadata": {},
   "outputs": [
    {
     "name": "stdout",
     "output_type": "stream",
     "text": [
      "MSE: 1.23490158837977\n",
      "MAE: 0.9320325889665328\n"
     ]
    }
   ],
   "source": [
    "mse = mean_squared_error(df_test[~df_test_val.value.isnull()].overall, df_test_val[~df_test_val.value.isnull()].value) ** 0.5\n",
    "mae = mean_absolute_error(df_test[~df_test_val.value.isnull()].overall, df_test_val[~df_test_val.value.isnull()].value)\n",
    "\n",
    "print(\"MSE: %s\" % mse)\n",
    "print(\"MAE: %s\" % mae)"
   ]
  },
  {
   "cell_type": "code",
   "execution_count": 24,
   "metadata": {},
   "outputs": [],
   "source": [
    "k_prec = {}\n",
    "k_rec = {}\n",
    "\n",
    "for k in range(0, 200):\n",
    "    precisions, recalls = precision_recall_at_k_4df(df_test_val, k=k, threshold=3) \n",
    "    p_mean = np.mean(list(precisions.values()))\n",
    "    r_mean = np.mean(list(recalls.values()))\n",
    "    k_prec[k] = p_mean\n",
    "    k_rec[k] = r_mean"
   ]
  },
  {
   "cell_type": "code",
   "execution_count": 35,
   "metadata": {},
   "outputs": [
    {
     "ename": "NameError",
     "evalue": "name 'mse' is not defined",
     "output_type": "error",
     "traceback": [
      "\u001b[0;31m---------------------------------------------------------------------------\u001b[0m",
      "\u001b[0;31mNameError\u001b[0m                                 Traceback (most recent call last)",
      "\u001b[0;32m<ipython-input-35-095a9fda9ec2>\u001b[0m in \u001b[0;36m<module>\u001b[0;34m()\u001b[0m\n\u001b[0;32m----> 1\u001b[0;31m \u001b[0mrow\u001b[0m \u001b[0;34m=\u001b[0m \u001b[0mXPRow\u001b[0m\u001b[0;34m(\u001b[0m\u001b[0mdataset\u001b[0m\u001b[0;34m=\u001b[0m\u001b[0;34m'Video Games'\u001b[0m\u001b[0;34m,\u001b[0m \u001b[0mxpdata\u001b[0m\u001b[0;34m=\u001b[0m\u001b[0mXPData\u001b[0m\u001b[0;34m(\u001b[0m\u001b[0mpredictor\u001b[0m\u001b[0;34m=\u001b[0m\u001b[0;32mNone\u001b[0m\u001b[0;34m,\u001b[0m \u001b[0mlabel\u001b[0m\u001b[0;34m=\u001b[0m\u001b[0;34m'CDL-SDAE'\u001b[0m\u001b[0;34m,\u001b[0m \u001b[0mnfactors\u001b[0m\u001b[0;34m=\u001b[0m\u001b[0;36m10\u001b[0m\u001b[0;34m)\u001b[0m\u001b[0;34m,\u001b[0m \u001b[0mrmse\u001b[0m\u001b[0;34m=\u001b[0m\u001b[0mmse\u001b[0m\u001b[0;34m,\u001b[0m \u001b[0mmae\u001b[0m\u001b[0;34m=\u001b[0m\u001b[0mmae\u001b[0m\u001b[0;34m,\u001b[0m \u001b[0mprecision\u001b[0m\u001b[0;34m=\u001b[0m\u001b[0mk_prec\u001b[0m\u001b[0;34m,\u001b[0m \u001b[0mrecall\u001b[0m\u001b[0;34m=\u001b[0m\u001b[0mk_rec\u001b[0m\u001b[0;34m)\u001b[0m\u001b[0;34m\u001b[0m\u001b[0m\n\u001b[0m",
      "\u001b[0;31mNameError\u001b[0m: name 'mse' is not defined"
     ]
    }
   ],
   "source": [
    "row = XPRow(dataset='Video Games', xpdata=XPData(predictor=None, label='CDL-SDAE', nfactors=10), rmse=mse, mae=mae, precision=k_prec, recall=k_rec)"
   ]
  },
  {
   "cell_type": "code",
   "execution_count": null,
   "metadata": {},
   "outputs": [],
   "source": [
    "write_to_csv(row, XP_NAME)"
   ]
  }
 ],
 "metadata": {
  "kernelspec": {
   "display_name": "Python 3",
   "language": "python",
   "name": "python3"
  },
  "language_info": {
   "codemirror_mode": {
    "name": "ipython",
    "version": 3
   },
   "file_extension": ".py",
   "mimetype": "text/x-python",
   "name": "python",
   "nbconvert_exporter": "python",
   "pygments_lexer": "ipython3",
   "version": "3.5.5"
  }
 },
 "nbformat": 4,
 "nbformat_minor": 2
}
