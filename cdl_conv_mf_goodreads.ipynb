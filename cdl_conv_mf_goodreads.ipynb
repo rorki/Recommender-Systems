{
 "cells": [
  {
   "cell_type": "markdown",
   "metadata": {},
   "source": [
    "# Convolutional Collaborative Filtering"
   ]
  },
  {
   "cell_type": "code",
   "execution_count": 1,
   "metadata": {},
   "outputs": [
    {
     "name": "stderr",
     "output_type": "stream",
     "text": [
      "Using TensorFlow backend.\n"
     ]
    },
    {
     "data": {
      "text/plain": [
       "<module 'models.model_cdl_conf_mf' from 'C:\\\\Users\\\\irina\\\\Dev\\\\master\\\\models\\\\model_cdl_conf_mf.py'>"
      ]
     },
     "execution_count": 1,
     "metadata": {},
     "output_type": "execute_result"
    }
   ],
   "source": [
    "import numpy as np\n",
    "import pandas as pd\n",
    "import gensim\n",
    "from string import punctuation\n",
    "from collections import Counter\n",
    "\n",
    "from keras.preprocessing.text import Tokenizer\n",
    "from keras.preprocessing.sequence import pad_sequences\n",
    "\n",
    "import tensorflow as tf\n",
    "import pickle\n",
    "\n",
    "import models.model_cdl_conf_mf\n",
    "import models.dataset\n",
    "\n",
    "from sklearn.metrics import mean_squared_error, mean_absolute_error\n",
    "from helpful_stuff.utils_xp_out import write_to_csv, XPDescription, XPResults\n",
    "from helpful_stuff.utils_metrics import precision_recall_at_k_4arrays\n",
    "from helpful_stuff.utils_model_out import make_out_dirs\n",
    "\n",
    "import matplotlib.pyplot as plt\n",
    "import seaborn as sns\n",
    "sns.set()\n",
    "%matplotlib inline\n",
    "\n",
    "from importlib import reload\n",
    "reload(models.dataset)\n",
    "reload(models.model_cdl_conf_mf)"
   ]
  },
  {
   "cell_type": "code",
   "execution_count": 2,
   "metadata": {},
   "outputs": [
    {
     "name": "stdout",
     "output_type": "stream",
     "text": [
      "Out dir of experiment:  D:/Models/thesis/sdae-sgd/goodreads_test_1/\n",
      "Out dir of U, V matricies:  D:/Models/thesis/sdae-sgd/goodreads_test_1/pickles/\n",
      "Out dir of model parameters:  D:/Models/thesis/sdae-sgd/goodreads_test_1/tf/\n"
     ]
    }
   ],
   "source": [
    "# make useful dirs\n",
    "XP_PATH, U_V_PATH, MODEL_PATH = make_out_dirs(model_name='sdae-sgd', xp_name='goodreads_test_1') \n",
    "print(\"Out dir of experiment: \", XP_PATH)\n",
    "print(\"Out dir of U, V matricies: \", U_V_PATH)\n",
    "print(\"Out dir of model parameters: \", MODEL_PATH)"
   ]
  },
  {
   "cell_type": "markdown",
   "metadata": {},
   "source": [
    "### Load review texts"
   ]
  },
  {
   "cell_type": "code",
   "execution_count": 3,
   "metadata": {},
   "outputs": [
    {
     "data": {
      "text/html": [
       "<div>\n",
       "<style scoped>\n",
       "    .dataframe tbody tr th:only-of-type {\n",
       "        vertical-align: middle;\n",
       "    }\n",
       "\n",
       "    .dataframe tbody tr th {\n",
       "        vertical-align: top;\n",
       "    }\n",
       "\n",
       "    .dataframe thead th {\n",
       "        text-align: right;\n",
       "    }\n",
       "</style>\n",
       "<table border=\"1\" class=\"dataframe\">\n",
       "  <thead>\n",
       "    <tr style=\"text-align: right;\">\n",
       "      <th></th>\n",
       "      <th>book_id</th>\n",
       "      <th>date_added</th>\n",
       "      <th>date_updated</th>\n",
       "      <th>n_comments</th>\n",
       "      <th>n_votes</th>\n",
       "      <th>rating</th>\n",
       "      <th>read_at</th>\n",
       "      <th>review_id</th>\n",
       "      <th>review_text</th>\n",
       "      <th>review_text_proc</th>\n",
       "      <th>started_at</th>\n",
       "      <th>user_id</th>\n",
       "    </tr>\n",
       "  </thead>\n",
       "  <tbody>\n",
       "    <tr>\n",
       "      <th>0</th>\n",
       "      <td>23310161</td>\n",
       "      <td>Tue Nov 17 11:37:35 -0800 2015</td>\n",
       "      <td>Tue Nov 17 11:38:05 -0800 2015</td>\n",
       "      <td>0</td>\n",
       "      <td>7</td>\n",
       "      <td>4</td>\n",
       "      <td></td>\n",
       "      <td>f4b4b050f4be00e9283c92a814af2670</td>\n",
       "      <td>Fun sequel to the original.</td>\n",
       "      <td>fun sequel original</td>\n",
       "      <td></td>\n",
       "      <td>8842281e1d1347389f2ab93d60773d4d</td>\n",
       "    </tr>\n",
       "    <tr>\n",
       "      <th>1</th>\n",
       "      <td>17290220</td>\n",
       "      <td>Sat Nov 08 08:54:03 -0800 2014</td>\n",
       "      <td>Wed Jan 25 13:56:12 -0800 2017</td>\n",
       "      <td>0</td>\n",
       "      <td>4</td>\n",
       "      <td>5</td>\n",
       "      <td>Tue Jan 24 00:00:00 -0800 2017</td>\n",
       "      <td>22d424a2b0057b18fb6ecf017af7be92</td>\n",
       "      <td>One of my favorite books to read to my 5 year ...</td>\n",
       "      <td>one favorite book read 5 year old rosie learn ...</td>\n",
       "      <td></td>\n",
       "      <td>8842281e1d1347389f2ab93d60773d4d</td>\n",
       "    </tr>\n",
       "  </tbody>\n",
       "</table>\n",
       "</div>"
      ],
      "text/plain": [
       "    book_id                      date_added                    date_updated  \\\n",
       "0  23310161  Tue Nov 17 11:37:35 -0800 2015  Tue Nov 17 11:38:05 -0800 2015   \n",
       "1  17290220  Sat Nov 08 08:54:03 -0800 2014  Wed Jan 25 13:56:12 -0800 2017   \n",
       "\n",
       "   n_comments  n_votes  rating                         read_at  \\\n",
       "0           0        7       4                                   \n",
       "1           0        4       5  Tue Jan 24 00:00:00 -0800 2017   \n",
       "\n",
       "                          review_id  \\\n",
       "0  f4b4b050f4be00e9283c92a814af2670   \n",
       "1  22d424a2b0057b18fb6ecf017af7be92   \n",
       "\n",
       "                                         review_text  \\\n",
       "0                        Fun sequel to the original.   \n",
       "1  One of my favorite books to read to my 5 year ...   \n",
       "\n",
       "                                    review_text_proc started_at  \\\n",
       "0                                fun sequel original              \n",
       "1  one favorite book read 5 year old rosie learn ...              \n",
       "\n",
       "                            user_id  \n",
       "0  8842281e1d1347389f2ab93d60773d4d  \n",
       "1  8842281e1d1347389f2ab93d60773d4d  "
      ]
     },
     "execution_count": 3,
     "metadata": {},
     "output_type": "execute_result"
    }
   ],
   "source": [
    "df_rev = pd.read_json('D:/Datasets/goodreads_reviews/processed/goodreads_reviews_children.json')"
   ]
  },
  {
   "cell_type": "code",
   "execution_count": 4,
   "metadata": {},
   "outputs": [],
   "source": [
    "reviews = df_rev.groupby('book_id').review_text_proc.agg(' '.join)\n",
    "reviews = pd.DataFrame(reviews)\n",
    "reviews = reviews.reset_index()"
   ]
  },
  {
   "cell_type": "code",
   "execution_count": 5,
   "metadata": {},
   "outputs": [
    {
     "data": {
      "text/html": [
       "<div>\n",
       "<style scoped>\n",
       "    .dataframe tbody tr th:only-of-type {\n",
       "        vertical-align: middle;\n",
       "    }\n",
       "\n",
       "    .dataframe tbody tr th {\n",
       "        vertical-align: top;\n",
       "    }\n",
       "\n",
       "    .dataframe thead th {\n",
       "        text-align: right;\n",
       "    }\n",
       "</style>\n",
       "<table border=\"1\" class=\"dataframe\">\n",
       "  <thead>\n",
       "    <tr style=\"text-align: right;\">\n",
       "      <th></th>\n",
       "      <th>book_id</th>\n",
       "      <th>review_text_proc</th>\n",
       "    </tr>\n",
       "  </thead>\n",
       "  <tbody>\n",
       "    <tr>\n",
       "      <th>0</th>\n",
       "      <td>5</td>\n",
       "      <td>i think i enjoy reread book 3 i enjoy book tim...</td>\n",
       "    </tr>\n",
       "    <tr>\n",
       "      <th>1</th>\n",
       "      <td>50</td>\n",
       "      <td>i not survival story brian real i completely w...</td>\n",
       "    </tr>\n",
       "  </tbody>\n",
       "</table>\n",
       "</div>"
      ],
      "text/plain": [
       "   book_id                                   review_text_proc\n",
       "0        5  i think i enjoy reread book 3 i enjoy book tim...\n",
       "1       50  i not survival story brian real i completely w..."
      ]
     },
     "execution_count": 5,
     "metadata": {},
     "output_type": "execute_result"
    }
   ],
   "source": [
    "reviews.head(2)"
   ]
  },
  {
   "cell_type": "markdown",
   "metadata": {},
   "source": [
    "### Tokenize and pad reviews"
   ]
  },
  {
   "cell_type": "code",
   "execution_count": 6,
   "metadata": {},
   "outputs": [],
   "source": [
    "tokenizer = Tokenizer() # nb_words=MAX_NB_WORDS\n",
    "tokenizer.fit_on_texts(reviews.review_text_proc)\n",
    "review_sequences = tokenizer.texts_to_sequences(reviews.review_text_proc)"
   ]
  },
  {
   "cell_type": "code",
   "execution_count": 7,
   "metadata": {},
   "outputs": [
    {
     "name": "stdout",
     "output_type": "stream",
     "text": [
      "Num of train texts: 123946\n",
      "Example of sequence:  [1799, 3491, 519, 519, 149, 83711, 22, 909, 2132, 4513, 60385, 1192, 1678, 54104] ...\n"
     ]
    }
   ],
   "source": [
    "print(\"Num of train texts: %s\" % len(review_sequences))\n",
    "print(\"Example of sequence: \", review_sequences[10][1:15], '...')"
   ]
  },
  {
   "cell_type": "code",
   "execution_count": 8,
   "metadata": {},
   "outputs": [],
   "source": [
    "review_lengths = [len(s) for s in review_sequences]\n",
    "review_lengths_clean = [i for i in review_lengths if i < 5000]"
   ]
  },
  {
   "cell_type": "code",
   "execution_count": 9,
   "metadata": {},
   "outputs": [
    {
     "name": "stdout",
     "output_type": "stream",
     "text": [
      "Num of texts including long 123946 and excluding long ones 123442\n",
      "Text lengths: max=4975, min=0, mean=196.3401192462857\n"
     ]
    }
   ],
   "source": [
    "print(\"Num of texts including long %s and excluding long ones %s\" % (len(review_lengths), len(review_lengths_clean)))\n",
    "print(\"Text lengths: max=%s, min=%s, mean=%s\" % (max(review_lengths_clean), min(review_lengths_clean), np.mean(review_lengths_clean)))"
   ]
  },
  {
   "cell_type": "code",
   "execution_count": 10,
   "metadata": {},
   "outputs": [
    {
     "name": "stderr",
     "output_type": "stream",
     "text": [
      "C:\\Users\\irina\\Miniconda3\\envs\\exmc\\lib\\site-packages\\scipy\\stats\\stats.py:1713: FutureWarning: Using a non-tuple sequence for multidimensional indexing is deprecated; use `arr[tuple(seq)]` instead of `arr[seq]`. In the future this will be interpreted as an array index, `arr[np.array(seq)]`, which will result either in an error or a different result.\n",
      "  return np.add.reduce(sorted[indexer] * weights, axis=axis) / sumval\n"
     ]
    },
    {
     "data": {
      "text/plain": [
       "<matplotlib.axes._subplots.AxesSubplot at 0x1f8b39aeda0>"
      ]
     },
     "execution_count": 10,
     "metadata": {},
     "output_type": "execute_result"
    },
    {
     "data": {
      "image/png": "[encoded data removed]",
      "text/plain": [
       "<Figure size 432x288 with 1 Axes>"
      ]
     },
     "metadata": {},
     "output_type": "display_data"
    }
   ],
   "source": [
    "sns.distplot(review_lengths_clean)"
   ]
  },
  {
   "cell_type": "code",
   "execution_count": 11,
   "metadata": {},
   "outputs": [],
   "source": [
    "padded_review_sequences = pad_sequences(review_sequences, maxlen=5000)"
   ]
  },
  {
   "cell_type": "code",
   "execution_count": 12,
   "metadata": {},
   "outputs": [
    {
     "name": "stdout",
     "output_type": "stream",
     "text": [
      "Shape of padded review Sequences:  (123946, 5000)\n"
     ]
    }
   ],
   "source": [
    "print('Shape of padded review Sequences: ', padded_review_sequences.shape)"
   ]
  },
  {
   "cell_type": "code",
   "execution_count": 13,
   "metadata": {},
   "outputs": [
    {
     "name": "stdout",
     "output_type": "stream",
     "text": [
      "Found 407858 unique tokens.\n",
      "Indexes of common words: you = 155, the = 5, it = 13.\n"
     ]
    }
   ],
   "source": [
    "word_index = tokenizer.word_index\n",
    "print('Found %s unique tokens.' % len(word_index))\n",
    "print('Indexes of common words: you = %s, the = %s, it = %s.' % (word_index['you'], word_index['the'], word_index['it']))"
   ]
  },
  {
   "cell_type": "code",
   "execution_count": 14,
   "metadata": {},
   "outputs": [
    {
     "data": {
      "text/plain": [
       "[('i', 1190055),\n",
       " ('book', 845962),\n",
       " ('read', 418021),\n",
       " ('story', 364450),\n",
       " ('the', 358569),\n",
       " ('be', 348115),\n",
       " (\"'s\", 314218),\n",
       " ('not', 310999),\n",
       " ('love', 250647),\n",
       " ('like', 232436),\n",
       " ('child', 219737),\n",
       " ('this', 216768),\n",
       " ('it', 193538),\n",
       " ('good', 180733),\n",
       " ('kid', 144785),\n",
       " ('little', 140345),\n",
       " ('think', 139538),\n",
       " ('time', 136750),\n",
       " ('great', 132831),\n",
       " ('illustration', 120242)]"
      ]
     },
     "execution_count": 14,
     "metadata": {},
     "output_type": "execute_result"
    }
   ],
   "source": [
    "sorted(tokenizer.word_counts.items(), key=lambda x: x[1], reverse=True)[0:20]"
   ]
  },
  {
   "cell_type": "code",
   "execution_count": 15,
   "metadata": {},
   "outputs": [],
   "source": [
    "reviews['padded_review_seq'] = padded_review_sequences.tolist()"
   ]
  },
  {
   "cell_type": "code",
   "execution_count": 17,
   "metadata": {},
   "outputs": [
    {
     "data": {
      "text/html": [
       "<div>\n",
       "<style scoped>\n",
       "    .dataframe tbody tr th:only-of-type {\n",
       "        vertical-align: middle;\n",
       "    }\n",
       "\n",
       "    .dataframe tbody tr th {\n",
       "        vertical-align: top;\n",
       "    }\n",
       "\n",
       "    .dataframe thead th {\n",
       "        text-align: right;\n",
       "    }\n",
       "</style>\n",
       "<table border=\"1\" class=\"dataframe\">\n",
       "  <thead>\n",
       "    <tr style=\"text-align: right;\">\n",
       "      <th></th>\n",
       "      <th>book_id</th>\n",
       "      <th>review_text_proc</th>\n",
       "      <th>padded_review_seq</th>\n",
       "    </tr>\n",
       "  </thead>\n",
       "  <tbody>\n",
       "    <tr>\n",
       "      <th>0</th>\n",
       "      <td>5</td>\n",
       "      <td>i think i enjoy reread book 3 i enjoy book tim...</td>\n",
       "      <td>[448, 1, 3, 2, 18, 155, 30, 448, 155, 30, 1, 8...</td>\n",
       "    </tr>\n",
       "    <tr>\n",
       "      <th>1</th>\n",
       "      <td>50</td>\n",
       "      <td>i not survival story brian real i completely w...</td>\n",
       "      <td>[17, 1, 3, 32, 419, 50, 106, 12, 2, 8, 228, 1,...</td>\n",
       "    </tr>\n",
       "  </tbody>\n",
       "</table>\n",
       "</div>"
      ],
      "text/plain": [
       "   book_id                                   review_text_proc  \\\n",
       "0        5  i think i enjoy reread book 3 i enjoy book tim...   \n",
       "1       50  i not survival story brian real i completely w...   \n",
       "\n",
       "                                   padded_review_seq  \n",
       "0  [448, 1, 3, 2, 18, 155, 30, 448, 155, 30, 1, 8...  \n",
       "1  [17, 1, 3, 32, 419, 50, 106, 12, 2, 8, 228, 1,...  "
      ]
     },
     "execution_count": 17,
     "metadata": {},
     "output_type": "execute_result"
    }
   ],
   "source": [
    "reviews.head(2)"
   ]
  },
  {
   "cell_type": "markdown",
   "metadata": {},
   "source": [
    "### Prepare embedding matrix"
   ]
  },
  {
   "cell_type": "code",
   "execution_count": 18,
   "metadata": {},
   "outputs": [],
   "source": [
    "# Loading Word2Vec\n",
    "w2v_model = gensim.models.KeyedVectors.load_word2vec_format('D:/Datasets/word2vec/GoogleNews-vectors-negative300.bin', binary=True)"
   ]
  },
  {
   "cell_type": "code",
   "execution_count": 19,
   "metadata": {},
   "outputs": [],
   "source": [
    "EMBEDDING_DIM = 300\n",
    "embedding_matrix = np.zeros((len(word_index) + 1, EMBEDDING_DIM))\n",
    "missed_words = Counter()\n",
    "\n",
    "for word, i in word_index.items():\n",
    "    if word in w2v_model:\n",
    "        embedding_matrix[i] = np.array(w2v_model[word])\n",
    "    else:\n",
    "        missed_words[word] += 1\n",
    "        embedding_matrix[i] = np.random.rand(1, EMBEDDING_DIM)[0]\n",
    "\n",
    "embedding_matrix = embedding_matrix.astype('float32')"
   ]
  },
  {
   "cell_type": "code",
   "execution_count": 20,
   "metadata": {},
   "outputs": [
    {
     "name": "stdout",
     "output_type": "stream",
     "text": [
      "341968\n"
     ]
    },
    {
     "data": {
      "text/plain": [
       "[('pienempana', 1),\n",
       " ('yakuwnu', 1),\n",
       " ('heddis', 1),\n",
       " ('jeogeul', 1),\n",
       " ('garfio', 1),\n",
       " ('tooni', 1),\n",
       " ('rationalitat', 1),\n",
       " ('znaiomoiu', 1),\n",
       " ('zbor', 1),\n",
       " ('fijarse', 1)]"
      ]
     },
     "execution_count": 20,
     "metadata": {},
     "output_type": "execute_result"
    }
   ],
   "source": [
    "print(len(missed_words))\n",
    "missed_words.most_common(10)"
   ]
  },
  {
   "cell_type": "markdown",
   "metadata": {},
   "source": [
    "### Prepare dataset"
   ]
  },
  {
   "cell_type": "code",
   "execution_count": 21,
   "metadata": {},
   "outputs": [
    {
     "data": {
      "text/html": [
       "<div>\n",
       "<style scoped>\n",
       "    .dataframe tbody tr th:only-of-type {\n",
       "        vertical-align: middle;\n",
       "    }\n",
       "\n",
       "    .dataframe tbody tr th {\n",
       "        vertical-align: top;\n",
       "    }\n",
       "\n",
       "    .dataframe thead th {\n",
       "        text-align: right;\n",
       "    }\n",
       "</style>\n",
       "<table border=\"1\" class=\"dataframe\">\n",
       "  <thead>\n",
       "    <tr style=\"text-align: right;\">\n",
       "      <th></th>\n",
       "      <th>book_id</th>\n",
       "      <th>rating</th>\n",
       "      <th>user_id</th>\n",
       "    </tr>\n",
       "  </thead>\n",
       "  <tbody>\n",
       "    <tr>\n",
       "      <th>0</th>\n",
       "      <td>23310161</td>\n",
       "      <td>4</td>\n",
       "      <td>8842281e1d1347389f2ab93d60773d4d</td>\n",
       "    </tr>\n",
       "    <tr>\n",
       "      <th>1</th>\n",
       "      <td>18296097</td>\n",
       "      <td>5</td>\n",
       "      <td>8842281e1d1347389f2ab93d60773d4d</td>\n",
       "    </tr>\n",
       "    <tr>\n",
       "      <th>10</th>\n",
       "      <td>460548</td>\n",
       "      <td>5</td>\n",
       "      <td>8842281e1d1347389f2ab93d60773d4d</td>\n",
       "    </tr>\n",
       "    <tr>\n",
       "      <th>100</th>\n",
       "      <td>24000713</td>\n",
       "      <td>5</td>\n",
       "      <td>fe0df2eff573e75c036eb8287c6b012a</td>\n",
       "    </tr>\n",
       "    <tr>\n",
       "      <th>1000</th>\n",
       "      <td>113946</td>\n",
       "      <td>5</td>\n",
       "      <td>0d8d07544717e84149df654caae803d0</td>\n",
       "    </tr>\n",
       "  </tbody>\n",
       "</table>\n",
       "</div>"
      ],
      "text/plain": [
       "       book_id  rating                           user_id\n",
       "0     23310161       4  8842281e1d1347389f2ab93d60773d4d\n",
       "1     18296097       5  8842281e1d1347389f2ab93d60773d4d\n",
       "10      460548       5  8842281e1d1347389f2ab93d60773d4d\n",
       "100   24000713       5  fe0df2eff573e75c036eb8287c6b012a\n",
       "1000    113946       5  0d8d07544717e84149df654caae803d0"
      ]
     },
     "execution_count": 21,
     "metadata": {},
     "output_type": "execute_result"
    }
   ],
   "source": [
    "df_rates = pd.read_json('D:/Datasets/goodreads_reviews/processed/goodreads_interactions_children.json')\n",
    "df_rates.head(2)"
   ]
  },
  {
   "cell_type": "code",
   "execution_count": 22,
   "metadata": {},
   "outputs": [],
   "source": [
    "reviews = reviews.drop('review_text_proc', axis=1)"
   ]
  },
  {
   "cell_type": "code",
   "execution_count": 23,
   "metadata": {},
   "outputs": [
    {
     "name": "stdout",
     "output_type": "stream",
     "text": [
      "Filled in 135 empty reviews: [2817, 127768, 193412, 194874, 265833]...\n"
     ]
    }
   ],
   "source": [
    "ds = models.dataset.DataSet(df_ratings=df_rates, rating_cols=['user_id', 'book_id', 'rating'], \n",
    "                            df_reviews=reviews, review_cols=['book_id', 'padded_review_seq'],\n",
    "                            vectorize_reviews=False, empty_element=np.zeros(5000))"
   ]
  },
  {
   "cell_type": "code",
   "execution_count": 24,
   "metadata": {},
   "outputs": [],
   "source": [
    "del reviews, df_rates, df_rev, w2v_model, missed_words, padded_review_sequences, word_index, review_lengths, review_lengths_clean"
   ]
  },
  {
   "cell_type": "markdown",
   "metadata": {},
   "source": [
    "### Train model"
   ]
  },
  {
   "cell_type": "code",
   "execution_count": 25,
   "metadata": {},
   "outputs": [
    {
     "name": "stdin",
     "output_type": "stream",
     "text": [
      "Once deleted, variables cannot be recovered. Proceed (y/[n])?  y\n"
     ]
    },
    {
     "name": "stdout",
     "output_type": "stream",
     "text": [
      "Flushing output cache (9 entries)\n"
     ]
    }
   ],
   "source": [
    "%reset Out \n",
    "tf.reset_default_graph()"
   ]
  },
  {
   "cell_type": "code",
   "execution_count": null,
   "metadata": {},
   "outputs": [
    {
     "name": "stdout",
     "output_type": "stream",
     "text": [
      "Shape of embed texts:  (?, 50)\n",
      "Shape of V:  Tensor(\"Placeholder_3:0\", shape=(?, 50), dtype=float32)\n",
      "Trainable params\n",
      "[TensorShape([Dimension(3), Dimension(300), Dimension(1), Dimension(50)]), TensorShape([Dimension(50)]), TensorShape([Dimension(3), Dimension(300), Dimension(1), Dimension(50)]), TensorShape([Dimension(50)]), TensorShape([Dimension(4), Dimension(300), Dimension(1), Dimension(50)]), TensorShape([Dimension(50)]), TensorShape([Dimension(5), Dimension(300), Dimension(1), Dimension(50)]), TensorShape([Dimension(50)]), TensorShape([Dimension(150), Dimension(250)]), TensorShape([Dimension(250)]), TensorShape([Dimension(250), Dimension(50)]), TensorShape([Dimension(50)])]\n",
      "Start training...\n",
      "EPOCH 1 / 60: \n",
      "Initial embedding completed:  (123196, 50)\n",
      "\n",
      "\n",
      "............................................................................................................................\n",
      "\n",
      "............................................................................................................................\n",
      "\n",
      "............................................................................................................................\n",
      "\n",
      "............................................................................................................................\n",
      "\n",
      "............................................................................................................................\n",
      "\n",
      "............................................................................................................................\n",
      "\n",
      "............................................................................................................................\n",
      "\n",
      ".......................................................................................\n",
      "SGD LOSS RMSE = 1.0076633842124574, MAE = 0.7439871324746632\n",
      "REPRESENTATION LOSS 77.36266\n",
      "MODEL LOSS 177.38446\n",
      "VALIDATION LOSS 1.038750963559559\n",
      "EPOCH 2 / 60: \n",
      "Initial embedding completed:  (123196, 50)\n",
      "\n",
      "\n",
      "............................................................................................................................\n",
      "\n",
      "............................................................................................................................\n",
      "\n",
      "............................................................................................................................\n",
      "\n",
      "............................................................................................................................\n",
      "\n",
      "............................................................................................................................\n",
      "\n",
      "............................................................................................................................\n",
      "\n",
      "............................................................................................................................\n",
      "\n",
      ".......................................................................................\n",
      "SGD LOSS RMSE = 1.0410924561753812, MAE = 0.7775491345331477\n",
      "REPRESENTATION LOSS 22.393385\n",
      "MODEL LOSS 93.7544\n",
      "VALIDATION LOSS 1.0478160120659923\n",
      "EPOCH 3 / 60: \n",
      "Initial embedding completed:  (123196, 50)\n",
      "\n",
      "\n",
      "............................................................................................................................\n",
      "\n",
      "............................................................................................................................\n",
      "\n",
      "............................................................................................................................\n",
      "\n",
      "............................................................................................................................\n",
      "\n",
      "............................................................................................................................\n",
      "\n",
      "............................................................................................................................\n",
      "\n",
      "............................................................................................................................\n",
      "\n",
      ".......................................................................................\n",
      "SGD LOSS RMSE = 1.0257955700090173, MAE = 0.764140429271934\n",
      "REPRESENTATION LOSS 15.064005\n",
      "MODEL LOSS 58.750202\n",
      "VALIDATION LOSS 1.035272642016436\n",
      "EPOCH 4 / 60: \n",
      "Initial embedding completed:  (123196, 50)\n",
      "\n",
      "\n",
      "............................................................................................................................\n",
      "\n",
      "............................................................................................................................\n",
      "\n",
      "............................................................................................................................\n",
      "\n",
      "............................................................................................................................\n",
      "\n",
      "............................................................................................................................\n",
      "\n",
      "............................................................................................................................\n",
      "\n",
      "............................................................................................................................\n",
      "\n",
      ".......................................................................................\n",
      "SGD LOSS RMSE = 1.0135414406327106, MAE = 0.7534993833778908\n",
      "REPRESENTATION LOSS 11.913455\n",
      "MODEL LOSS 34.388622\n",
      "VALIDATION LOSS 1.0259139836647035\n",
      "EPOCH 5 / 60: \n",
      "Initial embedding completed:  (123196, 50)\n",
      "\n",
      "\n",
      "............................................................................................................................\n",
      "\n",
      "............................................................................................................................\n",
      "\n",
      "............................................................................................................................\n",
      "\n",
      "............................................................................................................................\n",
      "\n",
      "............................................................................................................................\n",
      "\n",
      "............................................................................................................................\n",
      "\n",
      "............................................................................................................................\n",
      "\n",
      ".......................................................................................\n",
      "SGD LOSS RMSE = 1.00391478231321, MAE = 0.7452232568848782\n",
      "REPRESENTATION LOSS 10.049627\n",
      "MODEL LOSS 19.5138\n",
      "VALIDATION LOSS 1.0190317477823707\n",
      "EPOCH 6 / 60: \n",
      "Initial embedding completed:  (123196, 50)\n",
      "\n",
      "\n",
      "............................................................................................................................\n",
      "\n",
      "............................................................................................................................\n",
      "\n",
      "............................................................................................................................\n",
      "\n",
      "............................................................................................................................\n",
      "\n",
      "............................................................................................................................\n",
      "\n",
      "............................................................................................................................\n",
      "\n",
      "............................................................................................................................\n",
      "\n",
      ".......................................................................................\n",
      "SGD LOSS RMSE = 0.995751457501942, MAE = 0.7382504803724866\n",
      "REPRESENTATION LOSS 8.761042\n",
      "MODEL LOSS 11.973563\n",
      "VALIDATION LOSS 1.013538771483613\n",
      "EPOCH 7 / 60: \n",
      "Initial embedding completed:  (123196, 50)\n",
      "\n",
      "\n",
      "............................................................................................................................\n",
      "\n",
      "............................................................................................................................\n",
      "\n",
      "............................................................................................................................\n",
      "\n",
      "............................................................................................................................\n",
      "\n",
      "............................................................................................................................\n",
      "\n",
      "............................................................................................................................\n",
      "\n",
      "............................................................................................................................\n",
      "\n",
      ".......................................................................................\n",
      "SGD LOSS RMSE = 0.9885328466622609, MAE = 0.7320954315990127\n",
      "REPRESENTATION LOSS 7.8120284\n",
      "MODEL LOSS 8.748533\n",
      "VALIDATION LOSS 1.0089287491079304\n",
      "EPOCH 8 / 60: \n",
      "Initial embedding completed:  (123196, 50)\n",
      "\n",
      "\n",
      "............................................................................................................................\n",
      "\n",
      "............................................................................................................................\n",
      "\n",
      "............................................................................................................................\n",
      "\n",
      "............................................................................................................................\n",
      "\n",
      "............................................................................................................................\n",
      "\n",
      "............................................................................................................................\n",
      "\n",
      "............................................................................................................................\n",
      "\n",
      ".......................................................................................\n",
      "SGD LOSS RMSE = 0.9822009736283733, MAE = 0.7267013147107788\n",
      "REPRESENTATION LOSS 7.0810356\n",
      "MODEL LOSS 7.387084\n",
      "VALIDATION LOSS 1.0051075879433826\n",
      "EPOCH 9 / 60: \n",
      "Initial embedding completed:  (123196, 50)\n",
      "\n",
      "\n",
      "............................................................................................................................\n",
      "\n",
      "............................................................................................................................\n",
      "\n",
      "............................................................................................................................\n",
      "\n",
      "............................................................................................................................\n",
      "\n",
      "............................................................................................................................\n",
      "\n",
      "............................................................................................................................\n",
      "\n",
      "............................................................................................................................\n",
      "\n",
      ".......................................................................................\n",
      "SGD LOSS RMSE = 0.976604684192391, MAE = 0.7219446188923452\n",
      "REPRESENTATION LOSS 6.499942\n",
      "MODEL LOSS 6.642848\n",
      "VALIDATION LOSS 1.0019126824566196\n",
      "EPOCH 10 / 60: \n",
      "Initial embedding completed:  (123196, 50)\n",
      "\n",
      "\n",
      "............................................................................................................................\n",
      "\n",
      "............................................................................................................................\n",
      "\n",
      "............................................................................................................................\n",
      "\n",
      "............................................................................................................................\n",
      "\n",
      "............................................................................................................................\n",
      "\n",
      "............................................................................................................................\n",
      "\n",
      "............................................................................................................................\n",
      "\n",
      ".......................................................................................\n",
      "SGD LOSS RMSE = 0.9715881249054453, MAE = 0.7176768471273665\n",
      "REPRESENTATION LOSS 6.0277495\n",
      "MODEL LOSS 6.1025043\n",
      "VALIDATION LOSS 0.9991980149022955\n",
      "EPOCH 11 / 60: \n",
      "Initial embedding completed:  (123196, 50)\n",
      "\n",
      "\n",
      "............................................................................................................................\n",
      "\n",
      "............................................................................................................................\n",
      "\n",
      "............................................................................................................................\n",
      "\n",
      "............................................................................................................................\n",
      "\n",
      "............................................................................................................................\n",
      "\n",
      "............................................................................................................................\n",
      "\n",
      "............................................................................................................................\n",
      "\n",
      ".......................................................................................\n",
      "SGD LOSS RMSE = 0.9671168472281233, MAE = 0.7138917779660993\n",
      "REPRESENTATION LOSS 5.6369104\n",
      "MODEL LOSS 5.6702685\n",
      "VALIDATION LOSS 0.9969083015371688\n",
      "EPOCH 12 / 60: \n",
      "Initial embedding completed:  (123196, 50)\n",
      "\n",
      "\n",
      "............................................................................................................................\n",
      "\n",
      "............................................................................................................................\n",
      "\n",
      "............................................................................................................................\n",
      "\n",
      "............................................................................................................................\n",
      "\n",
      "............................................................................................................................\n",
      "\n",
      "............................................................................................................................\n",
      "\n",
      "............................................................................................................................\n",
      "\n",
      ".......................................................................................\n",
      "SGD LOSS RMSE = 0.9630933482479438, MAE = 0.7105007561323704\n",
      "REPRESENTATION LOSS 5.3115873\n",
      "MODEL LOSS 5.3287663\n",
      "VALIDATION LOSS 0.9949556413019355\n",
      "EPOCH 13 / 60: \n",
      "Initial embedding completed:  (123196, 50)\n",
      "\n",
      "\n",
      "............................................................................................................................\n",
      "\n",
      "............................................................................................................................\n",
      "\n",
      "............................................................................................................................\n",
      "\n",
      "............................................................................................................................\n",
      "\n",
      "............................................................................................................................\n",
      "\n",
      "............................................................................................................................\n",
      "\n",
      "............................................................................................................................\n",
      "\n",
      ".......................................................................................\n",
      "SGD LOSS RMSE = 0.9594235520596848, MAE = 0.7074146447260766\n",
      "REPRESENTATION LOSS 5.0384107\n",
      "MODEL LOSS 5.052112\n",
      "VALIDATION LOSS 0.9932706252706242\n",
      "EPOCH 14 / 60: \n",
      "Initial embedding completed:  (123196, 50)\n",
      "\n",
      "\n",
      "............................................................................................................................\n",
      "\n",
      "............................................................................................................................\n",
      "\n",
      "............................................................................................................................\n",
      "\n",
      "....................................................................................................."
     ]
    }
   ],
   "source": [
    "cdl = models.model_cdl_conf_mf.ConvolutionalCDL(embedding_matrix, ds,\n",
    "                              out_path=XP_PATH, projection_dim=50, vanilla_dim=250, num_filters = 50, \n",
    "                              drop_ratio=0.2, epochs=60, \n",
    "                              lambda_w=1, lambda_v=1, lambda_q = 10)\n",
    "mu, pu, qi, bu, bi = cdl.training() "
   ]
  },
  {
   "cell_type": "code",
   "execution_count": null,
   "metadata": {},
   "outputs": [],
   "source": [
    "## dump U and V matricies to pickle files\n",
    "print(\"pu shape: %s x %s\" % pu.shape)\n",
    "print(\"qi shape: %s x %s\" % qi.shape)\n",
    "\n",
    "print(\"beta_u shape: %s\" % bu.shape)\n",
    "print(\"beta_i shape: %s\" % bi.shape)\n",
    "\n",
    "with open(U_V_PATH + 'mx.pickle', 'wb') as handle:\n",
    "    pickle.dump({'mu':mu, 'pu':pu, 'qi':qi, 'bu':bu, 'bi':bi}, handle, protocol=pickle.HIGHEST_PROTOCOL)"
   ]
  },
  {
   "cell_type": "code",
   "execution_count": null,
   "metadata": {},
   "outputs": [],
   "source": [
    "with open(U_V_PATH + 'item_ids_map.pickle', 'wb') as handle:\n",
    "    pickle.dump(ds., handle, protocol=pickle.HIGHEST_PROTOCOL)"
   ]
  },
  {
   "cell_type": "markdown",
   "metadata": {},
   "source": [
    "### Evaluate model"
   ]
  },
  {
   "cell_type": "code",
   "execution_count": null,
   "metadata": {},
   "outputs": [],
   "source": [
    "test_preds = models.mf_sgd.SGD.predict_dataset_with_params(ds.get_test_rating_matrix(), mu, bu, bi, qi, pu)"
   ]
  },
  {
   "cell_type": "code",
   "execution_count": null,
   "metadata": {},
   "outputs": [],
   "source": [
    "mse = mean_squared_error(ds.testset.rate__, test_preds) ** 0.5\n",
    "mae = mean_absolute_error(ds.testset.rate__, test_preds)\n",
    "\n",
    "print(\"MSE: %s\" % mse)\n",
    "print(\"MAE: %s\" % mae)"
   ]
  },
  {
   "cell_type": "code",
   "execution_count": null,
   "metadata": {},
   "outputs": [],
   "source": [
    "k_prec = {}\n",
    "k_rec = {}\n",
    "\n",
    "for k in range(0, 200):\n",
    "    precisions, recalls = precision_recall_at_k_4arrays(ds.testset.uid__, test_preds, ds.testset.rate__, k=k, threshold=3) \n",
    "    p_mean = np.mean(list(precisions.values()))\n",
    "    r_mean = np.mean(list(recalls.values()))\n",
    "    k_prec[k] = p_mean\n",
    "    k_rec[k] = r_mean"
   ]
  },
  {
   "cell_type": "code",
   "execution_count": null,
   "metadata": {},
   "outputs": [],
   "source": [
    "row = XPResults(dataset='Goodreads_Kids', xpdata=XPDescription(predictor=None, label='CDL-SDAE-SGD', nfactors=25), rmse=mse, mae=mae, precision=k_prec, recall=k_rec)"
   ]
  },
  {
   "cell_type": "code",
   "execution_count": null,
   "metadata": {},
   "outputs": [],
   "source": [
    "write_to_csv(row, 'goodreads', 'conv_mf_sgd_optim')"
   ]
  }
 ],
 "metadata": {
  "kernelspec": {
   "display_name": "Python 3",
   "language": "python",
   "name": "python3"
  },
  "language_info": {
   "codemirror_mode": {
    "name": "ipython",
    "version": 3
   },
   "file_extension": ".py",
   "mimetype": "text/x-python",
   "name": "python",
   "nbconvert_exporter": "python",
   "pygments_lexer": "ipython3",
   "version": "3.5.5"
  }
 },
 "nbformat": 4,
 "nbformat_minor": 2
}
