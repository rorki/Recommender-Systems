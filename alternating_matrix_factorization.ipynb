{
 "cells": [
  {
   "cell_type": "code",
   "execution_count": 1,
   "metadata": {},
   "outputs": [],
   "source": [
    "import pandas as pd\n",
    "import numpy as np\n",
    "from scipy.sparse.linalg import svds\n",
    "from sklearn.model_selection import train_test_split\n",
    "from sklearn.metrics import mean_squared_error\n",
    "from scipy.sparse import csr_matrix\n",
    "from pandas.api.types import CategoricalDtype\n",
    "import nimfa\n",
    "import pickle"
   ]
  },
  {
   "cell_type": "code",
   "execution_count": 2,
   "metadata": {},
   "outputs": [],
   "source": [
    "data_file = 'D:/Datasets/amazon_reviews/Video_Games_5.json'\n",
    "df = pd.read_json(data_file, lines = True)"
   ]
  },
  {
   "cell_type": "code",
   "execution_count": 3,
   "metadata": {},
   "outputs": [],
   "source": [
    "df_train, df_test = train_test_split(df, test_size=0.25, random_state=42)"
   ]
  },
  {
   "cell_type": "code",
   "execution_count": 4,
   "metadata": {},
   "outputs": [],
   "source": [
    "df_train = df_train.copy()"
   ]
  },
  {
   "cell_type": "code",
   "execution_count": 5,
   "metadata": {},
   "outputs": [],
   "source": [
    "asin = CategoricalDtype(sorted(df_train.asin.unique()), ordered=True)\n",
    "rev_id = CategoricalDtype(sorted(df_train.reviewerID.unique()), ordered=True)\n",
    "\n",
    "row_cat = df_train.reviewerID.astype(rev_id).cat\n",
    "col_cat = df_train.asin.astype(asin).cat\n",
    "\n",
    "row = row_cat.codes\n",
    "col = col_cat.codes\n",
    "\n",
    "sparse_matrix = csr_matrix((df_train[\"overall\"].values, (row, col)), \\\n",
    "                           shape=(rev_id.categories.size, asin.categories.size), dtype = 'd')"
   ]
  },
  {
   "cell_type": "code",
   "execution_count": 6,
   "metadata": {},
   "outputs": [],
   "source": [
    "ratings = sparse_matrix"
   ]
  },
  {
   "cell_type": "code",
   "execution_count": 7,
   "metadata": {},
   "outputs": [
    {
     "data": {
      "text/plain": [
       "<24293x10671 sparse matrix of type '<class 'numpy.float64'>'\n",
       "\twith 173835 stored elements in Compressed Sparse Row format>"
      ]
     },
     "execution_count": 7,
     "metadata": {},
     "output_type": "execute_result"
    }
   ],
   "source": [
    "ratings"
   ]
  },
  {
   "cell_type": "code",
   "execution_count": null,
   "metadata": {},
   "outputs": [],
   "source": [
    "pmf = nimfa.Psmf(ratings, rank=50, max_iter=20, rel_error=1e-5)\n",
    "pmf_fit = pmf()"
   ]
  },
  {
   "cell_type": "code",
   "execution_count": null,
   "metadata": {},
   "outputs": [],
   "source": [
    "\n",
    "with open(r'D:/Datasets/amazon_reviews/nonnorm_basis_mx.pickle', 'wb') as handle:\n",
    "    pickle.dump(pmf_fit.basis(), handle, protocol=pickle.HIGHEST_PROTOCOL)\n",
    "\n",
    "with open(r'D:/Datasets/amazon_reviews/nonnorm_mixture_mx.pickle', 'wb') as handle:\n",
    "    pickle.dump(pmf_fit.coef(), handle, protocol=pickle.HIGHEST_PROTOCOL)"
   ]
  },
  {
   "cell_type": "code",
   "execution_count": null,
   "metadata": {},
   "outputs": [
    {
     "name": "stdout",
     "output_type": "stream",
     "text": [
      "Basis matrix:\n",
      "  (0, 5)\t0.023156722217591585\n",
      "  (1, 20)\t0.7610743557452117\n",
      "  (2, 4)\t0.2992633945594552\n",
      "  (3, 17)\t0.24382222577928242\n",
      "  (4, 27)\t0.19421075821283817\n",
      "  (5, 39)\t0.21971577307553888\n",
      "  (6, 22)\t0.49939520838331686\n",
      "  (7, 38)\t1.6806536784754793\n",
      "  (8, 1)\t0.5479486827884723\n",
      "  (9, 6)\t1.8097367730884228\n",
      "  (10, 47)\t0.13499468148379706\n",
      "  (11, 22)\t1.378917837826323\n",
      "  (12, 35)\t0.7391256854302848\n",
      "  (13, 37)\t0.13628858828728982\n",
      "  (14, 16)\t0.07506045508560898\n",
      "  (15, 47)\t0.7864263301166464\n",
      "  (16, 16)\t0.41231159233822995\n",
      "  (17, 31)\t0.9637507382257064\n",
      "  (18, 17)\t1.0492960026101936\n",
      "  (19, 13)\t0.5465059326552174\n",
      "  (20, 4)\t0.4284801184498929\n",
      "  (21, 3)\t0.4849341005306441\n",
      "  (22, 20)\t0.7244761857325567\n",
      "  (23, 47)\t1.143193366043764\n",
      "  (24, 3)\t1.0308296879293206\n",
      "  :\t:\n",
      "  (24269, 24)\t2.4188285700149534\n",
      "  (24270, 46)\t0.6226047954224774\n",
      "  (24271, 39)\t0.5002874601258571\n",
      "  (24272, 43)\t0.03831876720786253\n",
      "  (24273, 3)\t0.6906479794319914\n",
      "  (24274, 10)\t0.0999041406963953\n",
      "  (24275, 8)\t0.1202608832937059\n",
      "  (24276, 26)\t0.12911951526439286\n",
      "  (24277, 42)\t0.6153390220086904\n",
      "  (24278, 31)\t0.22217004083737904\n",
      "  (24279, 41)\t0.28578595077006175\n",
      "  (24280, 47)\t0.004984008032229848\n",
      "  (24281, 41)\t0.14562379401657324\n",
      "  (24282, 11)\t0.10840922548673468\n",
      "  (24282, 26)\t0.12328192800122667\n",
      "  (24283, 16)\t1.084656172794233\n",
      "  (24284, 8)\t0.046129083036429354\n",
      "  (24285, 18)\t0.2063127772796972\n",
      "  (24286, 4)\t0.2719242356676795\n",
      "  (24287, 27)\t1.0105252642354665\n",
      "  (24288, 17)\t0.09511113685706858\n",
      "  (24289, 27)\t0.6058345093991396\n",
      "  (24290, 3)\t0.06811458375708443\n",
      "  (24291, 33)\t0.6997265448591542\n",
      "  (24292, 34)\t1.5469680090160467\n",
      "Mixture matrix:\n",
      "  (0, 0)\t0.0015048548334964129\n",
      "  (0, 1)\t0.0041964221666732325\n",
      "  (0, 2)\t0.0005951465323740203\n",
      "  (0, 3)\t0.0007376071929663254\n",
      "  (0, 4)\t0.0004005431527581692\n",
      "  (0, 5)\t0.0006888203213402138\n",
      "  (0, 6)\t0.006108018747790449\n",
      "  (0, 7)\t0.0029053713237045067\n",
      "  (0, 8)\t0.007808313552573574\n",
      "  (0, 9)\t0.00014092962223993374\n",
      "  (0, 10)\t0.00234750975571971\n",
      "  (0, 11)\t0.00017799425553918015\n",
      "  (0, 12)\t0.0037178112674023877\n",
      "  (0, 13)\t0.00023724020615967546\n",
      "  (0, 14)\t5.23349993249322e-05\n",
      "  (0, 15)\t0.0004142916931611335\n",
      "  (0, 16)\t0.0015816832381209003\n",
      "  (0, 17)\t0.005210002131091334\n",
      "  (0, 18)\t0.002121736514766081\n",
      "  (0, 19)\t0.0011260323587220721\n",
      "  (0, 20)\t0.0009533760022710653\n",
      "  (0, 21)\t0.006858311221201115\n",
      "  (0, 22)\t0.00890211555580499\n",
      "  (0, 23)\t0.0002278407910659236\n",
      "  (0, 25)\t0.004863052209078948\n",
      "  :\t:\n",
      "  (49, 10644)\t0.00739612235571215\n",
      "  (49, 10645)\t0.004276358344051948\n",
      "  (49, 10646)\t0.0014955905870912309\n",
      "  (49, 10647)\t0.0007078041854221902\n",
      "  (49, 10648)\t0.002004311341006287\n",
      "  (49, 10649)\t0.00857257540495722\n",
      "  (49, 10650)\t0.0012519083837950517\n",
      "  (49, 10652)\t0.0002519776007710854\n",
      "  (49, 10653)\t0.0034691581213675588\n",
      "  (49, 10654)\t0.00018207533032532468\n",
      "  (49, 10655)\t0.010494431228074247\n",
      "  (49, 10656)\t0.00042213997844088303\n",
      "  (49, 10657)\t0.0004892237332058389\n",
      "  (49, 10658)\t0.00038838918432259207\n",
      "  (49, 10660)\t0.0007763448068127154\n",
      "  (49, 10661)\t0.0010871582222795383\n",
      "  (49, 10662)\t0.0048183120382103645\n",
      "  (49, 10663)\t0.004780440985271189\n",
      "  (49, 10664)\t0.004063194806470587\n",
      "  (49, 10665)\t0.0023671956346986403\n",
      "  (49, 10666)\t0.0012582464114133354\n",
      "  (49, 10667)\t0.004977312901567547\n",
      "  (49, 10668)\t0.0010845101323866458\n",
      "  (49, 10669)\t0.006019076747127945\n",
      "  (49, 10670)\t9.593659308592802e-05\n",
      "Euclidean distance: 3135271.500\n"
     ]
    }
   ],
   "source": [
    "W = pmf_fit.basis()\n",
    "print('Basis matrix:\\n%s' % W)\n",
    "\n",
    "H = pmf_fit.coef()\n",
    "print('Mixture matrix:\\n%s' % H)\n",
    "\n",
    "print('Euclidean distance: %5.3f' % pmf_fit.distance(metric='euclidean'))\n",
    "\n",
    "sm = pmf_fit.summary()\n",
    "\n",
    "print('Sparseness Basis: %5.3f  Mixture: %5.3f' % (sm['sparseness'][0], sm['sparseness'][1]))\n",
    "print('Iterations: %d' % sm['n_iter'])\n",
    "#print('Target estimate:\\n%s' % np.dot(W, H))"
   ]
  },
  {
   "cell_type": "code",
   "execution_count": null,
   "metadata": {},
   "outputs": [],
   "source": []
  }
 ],
 "metadata": {
  "kernelspec": {
   "display_name": "Python 3",
   "language": "python",
   "name": "python3"
  },
  "language_info": {
   "codemirror_mode": {
    "name": "ipython",
    "version": 3
   },
   "file_extension": ".py",
   "mimetype": "text/x-python",
   "name": "python",
   "nbconvert_exporter": "python",
   "pygments_lexer": "ipython3",
   "version": "3.5.5"
  }
 },
 "nbformat": 4,
 "nbformat_minor": 2
}
