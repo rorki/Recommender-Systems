{
 "cells": [
  {
   "cell_type": "markdown",
   "metadata": {},
   "source": [
    "## Conventional Matrix Factorization & Random Predictor Baselines"
   ]
  },
  {
   "cell_type": "code",
   "execution_count": 1,
   "metadata": {},
   "outputs": [],
   "source": [
    "# all aux imports\n",
    "import pandas as pd\n",
    "import numpy as np\n",
    "from scipy.sparse.linalg import svds\n",
    "from sklearn.model_selection import train_test_split\n",
    "from sklearn.metrics import mean_squared_error\n",
    "from scipy.sparse import csr_matrix\n",
    "from pandas.api.types import CategoricalDtype\n",
    "from sklearn.metrics import mean_squared_error\n",
    "import pickle\n",
    "import random\n",
    "import glob\n",
    "from pathlib import Path\n",
    "\n",
    "# random seeds\n",
    "random.seed(42)\n",
    "np.random.seed(42)\n",
    "\n",
    "# surplrise lib\n",
    "from surprise import Dataset, Reader, SVD, NormalPredictor, BaselineOnly\n",
    "from surprise.model_selection import cross_validate\n",
    "from surprise.model_selection import train_test_split\n",
    "from surprise import accuracy\n",
    "from surprise.model_selection import GridSearchCV\n",
    "\n",
    "# visualizaion\n",
    "import matplotlib.pyplot as plt\n",
    "%matplotlib inline\n",
    "import seaborn as sns\n",
    "sns.set()"
   ]
  },
  {
   "cell_type": "code",
   "execution_count": 4,
   "metadata": {},
   "outputs": [
    {
     "name": "stdout",
     "output_type": "stream",
     "text": [
      "Processing: Books\n",
      "Chunk #1\n",
      "Chunk #2\n",
      "Chunk #3\n",
      "Chunk #4\n",
      "Chunk #5\n",
      "Chunk #6\n",
      "Chunk #7\n",
      "Chunk #8\n",
      "Chunk #9\n"
     ]
    },
    {
     "ename": "NameError",
     "evalue": "name 'df' is not defined",
     "output_type": "error",
     "traceback": [
      "\u001b[0;31m---------------------------------------------------------------------------\u001b[0m",
      "\u001b[0;31mNameError\u001b[0m                                 Traceback (most recent call last)",
      "\u001b[0;32m<ipython-input-4-a4ffcd0727ee>\u001b[0m in \u001b[0;36m<module>\u001b[0;34m()\u001b[0m\n\u001b[1;32m     15\u001b[0m         \u001b[0mdfs\u001b[0m\u001b[0;34m.\u001b[0m\u001b[0mappend\u001b[0m\u001b[0;34m(\u001b[0m\u001b[0mdf_chunky\u001b[0m\u001b[0;34m[\u001b[0m\u001b[0;34m[\u001b[0m\u001b[0;34m'reviewerID'\u001b[0m\u001b[0;34m,\u001b[0m \u001b[0;34m'asin'\u001b[0m\u001b[0;34m,\u001b[0m \u001b[0;34m'overall'\u001b[0m\u001b[0;34m]\u001b[0m\u001b[0;34m]\u001b[0m\u001b[0;34m.\u001b[0m\u001b[0mcopy\u001b[0m\u001b[0;34m(\u001b[0m\u001b[0;34m)\u001b[0m\u001b[0;34m)\u001b[0m\u001b[0;34m\u001b[0m\u001b[0m\n\u001b[1;32m     16\u001b[0m     \u001b[0mcomplete_df\u001b[0m \u001b[0;34m=\u001b[0m \u001b[0mpd\u001b[0m\u001b[0;34m.\u001b[0m\u001b[0mconcat\u001b[0m\u001b[0;34m(\u001b[0m\u001b[0mdfs\u001b[0m\u001b[0;34m)\u001b[0m\u001b[0;34m\u001b[0m\u001b[0m\n\u001b[0;32m---> 17\u001b[0;31m     \u001b[0mprint\u001b[0m\u001b[0;34m(\u001b[0m\u001b[0;34m\"Processing is completed, df shape %s\"\u001b[0m \u001b[0;34m%\u001b[0m \u001b[0mdf\u001b[0m\u001b[0;34m.\u001b[0m\u001b[0mshape\u001b[0m\u001b[0;34m)\u001b[0m\u001b[0;34m\u001b[0m\u001b[0m\n\u001b[0m\u001b[1;32m     18\u001b[0m \u001b[0;34m\u001b[0m\u001b[0m\n",
      "\u001b[0;31mNameError\u001b[0m: name 'df' is not defined"
     ]
    }
   ],
   "source": [
    "parent_path = r'D:\\Datasets\\amazon_reviews\\gzips'\n",
    "files = [Path(f) for f in glob.glob(parent_path  + r\"\\*.gz\", recursive=False)]\n",
    "\n",
    "for file in files:\n",
    "    label = ' '.join(file.stem.split('_')[1:-1])\n",
    "    print('Processing: ' + label)              \n",
    "    chunk_num = 1 \n",
    "    \n",
    "    dfs = []\n",
    "    for df_chunky in pd.read_json(str(file), lines=True, compression = 'gzip', chunksize=1000000):\n",
    "        print('Chunk #%s' % chunk_num)\n",
    "        chunk_num += 1\n",
    "        dfs.append(df_chunky[['reviewerID', 'asin', 'overall']].copy())\n",
    "        \n",
    "    complete_df = pd.concat(dfs)\n",
    "    print(\"Processing is completed, df shape %s\" % complete_df.shape)\n",
    "        "
   ]
  },
  {
   "cell_type": "markdown",
   "metadata": {},
   "source": [
    "## Surprise Predictions"
   ]
  },
  {
   "cell_type": "code",
   "execution_count": 17,
   "metadata": {},
   "outputs": [],
   "source": [
    "reader = Reader(rating_scale=(1, 5))\n",
    "\n",
    "ds = Dataset.load_from_df(df[['reviewerID', 'asin', 'overall']], reader)\n",
    "training_set, test_set = train_test_split(ds, random_state=42, test_size=0.3)"
   ]
  },
  {
   "cell_type": "code",
   "execution_count": 47,
   "metadata": {},
   "outputs": [
    {
     "name": "stdout",
     "output_type": "stream",
     "text": [
      "Evaluating RMSE, MAE of algorithm SVD on 5 split(s).\n",
      "\n",
      "                  Fold 1  Fold 2  Fold 3  Fold 4  Fold 5  Mean    Std     \n",
      "RMSE (testset)    1.0738  1.0741  1.0788  1.0838  1.0675  1.0756  0.0055  \n",
      "MAE (testset)     0.8249  0.8247  0.8277  0.8329  0.8239  0.8268  0.0033  \n",
      "Fit time          6.02    6.21    6.32    6.03    6.20    6.16    0.12    \n",
      "Test time         0.19    0.23    0.23    0.19    0.72    0.31    0.20    \n"
     ]
    }
   ],
   "source": [
    "# We'll use the famous SVD algorithm.\n",
    "algo = SVD()\n",
    "\n",
    "# Run 5-fold cross-validation and print results\n",
    "res = cross_validate(algo, ds, measures=['RMSE', 'MAE'], cv=5, verbose=True)"
   ]
  },
  {
   "cell_type": "markdown",
   "metadata": {},
   "source": [
    "### Normal Predictor"
   ]
  },
  {
   "cell_type": "code",
   "execution_count": 19,
   "metadata": {},
   "outputs": [],
   "source": [
    "normal_predictor = NormalPredictor()\n",
    "normal_predictor.fit(training_set)\n",
    "predictions = normal_predictor.test(test_set)"
   ]
  },
  {
   "cell_type": "code",
   "execution_count": null,
   "metadata": {},
   "outputs": [],
   "source": [
    "accuracy.rmse(predictions)\n",
    "accuracy.mae(predictions)"
   ]
  },
  {
   "cell_type": "markdown",
   "metadata": {},
   "source": [
    "### Matrix Factorization"
   ]
  },
  {
   "cell_type": "code",
   "execution_count": null,
   "metadata": {},
   "outputs": [],
   "source": [
    "algo = SVD(n_factors = 50, n_epochs = 1200, biased = False)\n",
    "res = algo.fit(tr)"
   ]
  },
  {
   "cell_type": "code",
   "execution_count": 64,
   "metadata": {},
   "outputs": [
    {
     "data": {
      "text/plain": [
       "0.7987746310900994"
      ]
     },
     "execution_count": 64,
     "metadata": {},
     "output_type": "execute_result"
    }
   ],
   "source": [
    "mean_squared_error(ratings, preds) ** 0.05"
   ]
  },
  {
   "cell_type": "code",
   "execution_count": null,
   "metadata": {},
   "outputs": [],
   "source": []
  },
  {
   "cell_type": "code",
   "execution_count": null,
   "metadata": {},
   "outputs": [],
   "source": []
  },
  {
   "cell_type": "code",
   "execution_count": 75,
   "metadata": {},
   "outputs": [
    {
     "data": {
      "text/html": [
       "<div>\n",
       "<style scoped>\n",
       "    .dataframe tbody tr th:only-of-type {\n",
       "        vertical-align: middle;\n",
       "    }\n",
       "\n",
       "    .dataframe tbody tr th {\n",
       "        vertical-align: top;\n",
       "    }\n",
       "\n",
       "    .dataframe thead th {\n",
       "        text-align: right;\n",
       "    }\n",
       "</style>\n",
       "<table border=\"1\" class=\"dataframe\">\n",
       "  <thead>\n",
       "    <tr style=\"text-align: right;\">\n",
       "      <th>asin</th>\n",
       "      <th>0700099867</th>\n",
       "      <th>6050036071</th>\n",
       "      <th>7100027950</th>\n",
       "      <th>7293000936</th>\n",
       "      <th>8176503290</th>\n",
       "      <th>907843905X</th>\n",
       "      <th>9625990674</th>\n",
       "      <th>9861019731</th>\n",
       "      <th>9882155456</th>\n",
       "      <th>B000003SQQ</th>\n",
       "      <th>...</th>\n",
       "      <th>B00J128FPA</th>\n",
       "      <th>B00J226358</th>\n",
       "      <th>B00J6DLPLK</th>\n",
       "      <th>B00J9P3KBS</th>\n",
       "      <th>B00JM3R6M6</th>\n",
       "      <th>B00JQ8YH6A</th>\n",
       "      <th>B00JQHU9RC</th>\n",
       "      <th>B00JXW6GE0</th>\n",
       "      <th>B00KAI3KW2</th>\n",
       "      <th>B00KHECZXO</th>\n",
       "    </tr>\n",
       "    <tr>\n",
       "      <th>reviewerID</th>\n",
       "      <th></th>\n",
       "      <th></th>\n",
       "      <th></th>\n",
       "      <th></th>\n",
       "      <th></th>\n",
       "      <th></th>\n",
       "      <th></th>\n",
       "      <th></th>\n",
       "      <th></th>\n",
       "      <th></th>\n",
       "      <th></th>\n",
       "      <th></th>\n",
       "      <th></th>\n",
       "      <th></th>\n",
       "      <th></th>\n",
       "      <th></th>\n",
       "      <th></th>\n",
       "      <th></th>\n",
       "      <th></th>\n",
       "      <th></th>\n",
       "      <th></th>\n",
       "    </tr>\n",
       "  </thead>\n",
       "  <tbody>\n",
       "    <tr>\n",
       "      <th>A00263941WP7WCIL7AKWL</th>\n",
       "      <td>1.140781e-08</td>\n",
       "      <td>6.479067e-09</td>\n",
       "      <td>3.861577e-09</td>\n",
       "      <td>0.003669</td>\n",
       "      <td>2.945002e-07</td>\n",
       "      <td>2.556105e-09</td>\n",
       "      <td>1.978651e-08</td>\n",
       "      <td>4.670722e-08</td>\n",
       "      <td>9.912429e-07</td>\n",
       "      <td>7.284264e-10</td>\n",
       "      <td>...</td>\n",
       "      <td>5.929648e-09</td>\n",
       "      <td>9.978265e-09</td>\n",
       "      <td>9.835851e-09</td>\n",
       "      <td>1.212900e-08</td>\n",
       "      <td>1.390002e-07</td>\n",
       "      <td>8.875097e-03</td>\n",
       "      <td>2.160884e-08</td>\n",
       "      <td>5.116919e-09</td>\n",
       "      <td>2.111927e-08</td>\n",
       "      <td>1.664742e-09</td>\n",
       "    </tr>\n",
       "    <tr>\n",
       "      <th>A005481137I9SCAWEF7ON</th>\n",
       "      <td>5.843863e-08</td>\n",
       "      <td>3.413003e-08</td>\n",
       "      <td>2.884808e-03</td>\n",
       "      <td>0.000002</td>\n",
       "      <td>5.650788e-06</td>\n",
       "      <td>4.459515e-06</td>\n",
       "      <td>8.162578e-06</td>\n",
       "      <td>7.296751e-07</td>\n",
       "      <td>4.127624e-05</td>\n",
       "      <td>3.806345e-09</td>\n",
       "      <td>...</td>\n",
       "      <td>4.574513e-06</td>\n",
       "      <td>3.954006e-04</td>\n",
       "      <td>7.341937e-06</td>\n",
       "      <td>6.336393e-08</td>\n",
       "      <td>6.583915e-08</td>\n",
       "      <td>1.064613e-07</td>\n",
       "      <td>1.691314e-02</td>\n",
       "      <td>3.088186e-08</td>\n",
       "      <td>1.218786e-07</td>\n",
       "      <td>2.553060e-06</td>\n",
       "    </tr>\n",
       "  </tbody>\n",
       "</table>\n",
       "<p>2 rows × 10668 columns</p>\n",
       "</div>"
      ],
      "text/plain": [
       "asin                     0700099867    6050036071    7100027950  7293000936  \\\n",
       "reviewerID                                                                    \n",
       "A00263941WP7WCIL7AKWL  1.140781e-08  6.479067e-09  3.861577e-09    0.003669   \n",
       "A005481137I9SCAWEF7ON  5.843863e-08  3.413003e-08  2.884808e-03    0.000002   \n",
       "\n",
       "asin                     8176503290    907843905X    9625990674    9861019731  \\\n",
       "reviewerID                                                                      \n",
       "A00263941WP7WCIL7AKWL  2.945002e-07  2.556105e-09  1.978651e-08  4.670722e-08   \n",
       "A005481137I9SCAWEF7ON  5.650788e-06  4.459515e-06  8.162578e-06  7.296751e-07   \n",
       "\n",
       "asin                     9882155456    B000003SQQ  ...    B00J128FPA  \\\n",
       "reviewerID                                         ...                 \n",
       "A00263941WP7WCIL7AKWL  9.912429e-07  7.284264e-10  ...  5.929648e-09   \n",
       "A005481137I9SCAWEF7ON  4.127624e-05  3.806345e-09  ...  4.574513e-06   \n",
       "\n",
       "asin                     B00J226358    B00J6DLPLK    B00J9P3KBS    B00JM3R6M6  \\\n",
       "reviewerID                                                                      \n",
       "A00263941WP7WCIL7AKWL  9.978265e-09  9.835851e-09  1.212900e-08  1.390002e-07   \n",
       "A005481137I9SCAWEF7ON  3.954006e-04  7.341937e-06  6.336393e-08  6.583915e-08   \n",
       "\n",
       "asin                     B00JQ8YH6A    B00JQHU9RC    B00JXW6GE0    B00KAI3KW2  \\\n",
       "reviewerID                                                                      \n",
       "A00263941WP7WCIL7AKWL  8.875097e-03  2.160884e-08  5.116919e-09  2.111927e-08   \n",
       "A005481137I9SCAWEF7ON  1.064613e-07  1.691314e-02  3.088186e-08  1.218786e-07   \n",
       "\n",
       "asin                     B00KHECZXO  \n",
       "reviewerID                           \n",
       "A00263941WP7WCIL7AKWL  1.664742e-09  \n",
       "A005481137I9SCAWEF7ON  2.553060e-06  \n",
       "\n",
       "[2 rows x 10668 columns]"
      ]
     },
     "execution_count": 75,
     "metadata": {},
     "output_type": "execute_result"
    }
   ],
   "source": [
    "preds_df_unmelt = pd.DataFrame(preds, columns = col_cat.categories, index = row_cat.categories)\n",
    "preds_df_unmelt.index.name = 'reviewerID'\n",
    "preds_df_unmelt.columns.name = 'asin'\n",
    "preds_df_unmelt.head(2)"
   ]
  },
  {
   "cell_type": "code",
   "execution_count": 76,
   "metadata": {},
   "outputs": [],
   "source": [
    "preds_df = preds_df_unmelt.reset_index().melt('reviewerID', var_name='asin')"
   ]
  },
  {
   "cell_type": "code",
   "execution_count": 78,
   "metadata": {},
   "outputs": [
    {
     "data": {
      "text/html": [
       "<div>\n",
       "<style scoped>\n",
       "    .dataframe tbody tr th:only-of-type {\n",
       "        vertical-align: middle;\n",
       "    }\n",
       "\n",
       "    .dataframe tbody tr th {\n",
       "        vertical-align: top;\n",
       "    }\n",
       "\n",
       "    .dataframe thead th {\n",
       "        text-align: right;\n",
       "    }\n",
       "</style>\n",
       "<table border=\"1\" class=\"dataframe\">\n",
       "  <thead>\n",
       "    <tr style=\"text-align: right;\">\n",
       "      <th></th>\n",
       "      <th>reviewerID</th>\n",
       "      <th>asin</th>\n",
       "      <th>value</th>\n",
       "    </tr>\n",
       "  </thead>\n",
       "  <tbody>\n",
       "    <tr>\n",
       "      <th>0</th>\n",
       "      <td>A00263941WP7WCIL7AKWL</td>\n",
       "      <td>0700099867</td>\n",
       "      <td>1.140781e-08</td>\n",
       "    </tr>\n",
       "    <tr>\n",
       "      <th>1</th>\n",
       "      <td>A005481137I9SCAWEF7ON</td>\n",
       "      <td>0700099867</td>\n",
       "      <td>5.843863e-08</td>\n",
       "    </tr>\n",
       "  </tbody>\n",
       "</table>\n",
       "</div>"
      ],
      "text/plain": [
       "              reviewerID        asin         value\n",
       "0  A00263941WP7WCIL7AKWL  0700099867  1.140781e-08\n",
       "1  A005481137I9SCAWEF7ON  0700099867  5.843863e-08"
      ]
     },
     "execution_count": 78,
     "metadata": {},
     "output_type": "execute_result"
    }
   ],
   "source": [
    "preds_df.head(2)"
   ]
  },
  {
   "cell_type": "code",
   "execution_count": 100,
   "metadata": {},
   "outputs": [
    {
     "name": "stdout",
     "output_type": "stream",
     "text": [
      "Once deleted, variables cannot be recovered. Proceed (y/[n])? y\n",
      "Flushing output cache (18 entries)\n"
     ]
    }
   ],
   "source": [
    "%reset Out"
   ]
  },
  {
   "cell_type": "code",
   "execution_count": 81,
   "metadata": {},
   "outputs": [],
   "source": [
    "df_merged = df_test.merge(preds_df, on=['reviewerID', 'asin'])"
   ]
  },
  {
   "cell_type": "code",
   "execution_count": 83,
   "metadata": {},
   "outputs": [
    {
     "data": {
      "text/plain": [
       "(69363, 10)"
      ]
     },
     "execution_count": 83,
     "metadata": {},
     "output_type": "execute_result"
    }
   ],
   "source": [
    "df_merged.shape"
   ]
  },
  {
   "cell_type": "code",
   "execution_count": 85,
   "metadata": {},
   "outputs": [
    {
     "data": {
      "text/plain": [
       "(69534, 9)"
      ]
     },
     "execution_count": 85,
     "metadata": {},
     "output_type": "execute_result"
    }
   ],
   "source": [
    "df_test.shape"
   ]
  },
  {
   "cell_type": "code",
   "execution_count": 91,
   "metadata": {},
   "outputs": [
    {
     "data": {
      "text/html": [
       "<div>\n",
       "<style scoped>\n",
       "    .dataframe tbody tr th:only-of-type {\n",
       "        vertical-align: middle;\n",
       "    }\n",
       "\n",
       "    .dataframe tbody tr th {\n",
       "        vertical-align: top;\n",
       "    }\n",
       "\n",
       "    .dataframe thead th {\n",
       "        text-align: right;\n",
       "    }\n",
       "</style>\n",
       "<table border=\"1\" class=\"dataframe\">\n",
       "  <thead>\n",
       "    <tr style=\"text-align: right;\">\n",
       "      <th></th>\n",
       "      <th>asin</th>\n",
       "      <th>helpful</th>\n",
       "      <th>overall</th>\n",
       "      <th>reviewText</th>\n",
       "      <th>reviewTime</th>\n",
       "      <th>reviewerID</th>\n",
       "      <th>reviewerName</th>\n",
       "      <th>summary</th>\n",
       "      <th>unixReviewTime</th>\n",
       "      <th>value</th>\n",
       "    </tr>\n",
       "  </thead>\n",
       "  <tbody>\n",
       "    <tr>\n",
       "      <th>0</th>\n",
       "      <td>B0047TLIBU</td>\n",
       "      <td>[31, 43]</td>\n",
       "      <td>5</td>\n",
       "      <td>Been playing this for two days now, and I am v...</td>\n",
       "      <td>03 10, 2011</td>\n",
       "      <td>A17M1HL6U2GS7M</td>\n",
       "      <td>Storylover</td>\n",
       "      <td>It feels like hanging out with old friends aga...</td>\n",
       "      <td>1299715200</td>\n",
       "      <td>5.993661e-04</td>\n",
       "    </tr>\n",
       "    <tr>\n",
       "      <th>1</th>\n",
       "      <td>B0053BCP40</td>\n",
       "      <td>[0, 0]</td>\n",
       "      <td>4</td>\n",
       "      <td>I really enjoyed playing this game, although i...</td>\n",
       "      <td>02 27, 2014</td>\n",
       "      <td>A1FGU7F9UJ264N</td>\n",
       "      <td>Kelly Randall</td>\n",
       "      <td>Fun game</td>\n",
       "      <td>1393459200</td>\n",
       "      <td>2.271945e-07</td>\n",
       "    </tr>\n",
       "    <tr>\n",
       "      <th>2</th>\n",
       "      <td>B000WCQWR6</td>\n",
       "      <td>[0, 0]</td>\n",
       "      <td>3</td>\n",
       "      <td>This was kind of a gamble and was looking for ...</td>\n",
       "      <td>07 7, 2013</td>\n",
       "      <td>A3R7M2EP1EYNVT</td>\n",
       "      <td>Thomas B. Hileman Jr.</td>\n",
       "      <td>Shoot em up</td>\n",
       "      <td>1373155200</td>\n",
       "      <td>3.205947e-02</td>\n",
       "    </tr>\n",
       "    <tr>\n",
       "      <th>3</th>\n",
       "      <td>B00498T500</td>\n",
       "      <td>[4, 4]</td>\n",
       "      <td>4</td>\n",
       "      <td>***Updated 7/7/2011 - update marked below***I ...</td>\n",
       "      <td>04 10, 2011</td>\n",
       "      <td>A369KP0JV77JYT</td>\n",
       "      <td>Jon</td>\n",
       "      <td>Fun for a group, don't pay too much for it</td>\n",
       "      <td>1302393600</td>\n",
       "      <td>6.258070e-03</td>\n",
       "    </tr>\n",
       "    <tr>\n",
       "      <th>4</th>\n",
       "      <td>B00005BIG7</td>\n",
       "      <td>[3, 3]</td>\n",
       "      <td>5</td>\n",
       "      <td>It looks like we've come a long way from past ...</td>\n",
       "      <td>07 13, 2001</td>\n",
       "      <td>ABIKTKAWOMY8</td>\n",
       "      <td>Chance Farley</td>\n",
       "      <td>One of the best fps's to ever hit a console</td>\n",
       "      <td>994982400</td>\n",
       "      <td>5.010131e-03</td>\n",
       "    </tr>\n",
       "    <tr>\n",
       "      <th>5</th>\n",
       "      <td>B002CYWJWO</td>\n",
       "      <td>[7, 8]</td>\n",
       "      <td>4</td>\n",
       "      <td>Tellurye, here with another review brought to ...</td>\n",
       "      <td>10 30, 2009</td>\n",
       "      <td>A2SYA663GK3EEJ</td>\n",
       "      <td>R. Stevens \"Fedora Technologies\"</td>\n",
       "      <td>Does the Saw universe justice, but controls ma...</td>\n",
       "      <td>1256860800</td>\n",
       "      <td>2.050861e-04</td>\n",
       "    </tr>\n",
       "    <tr>\n",
       "      <th>6</th>\n",
       "      <td>B001V9PTVE</td>\n",
       "      <td>[2, 2]</td>\n",
       "      <td>4</td>\n",
       "      <td>Fallout 2 is worth the price alone... but if y...</td>\n",
       "      <td>09 6, 2009</td>\n",
       "      <td>A39AUQ3IP3C8KI</td>\n",
       "      <td>J. Nicholson</td>\n",
       "      <td>Worth it (even if it was just FO2)</td>\n",
       "      <td>1252195200</td>\n",
       "      <td>6.256847e-09</td>\n",
       "    </tr>\n",
       "    <tr>\n",
       "      <th>7</th>\n",
       "      <td>B00DBDPOZ4</td>\n",
       "      <td>[1, 1]</td>\n",
       "      <td>5</td>\n",
       "      <td>As I'm not a fan of AA batteries, this accesso...</td>\n",
       "      <td>12 4, 2013</td>\n",
       "      <td>A22N09ZP9D77DM</td>\n",
       "      <td>D. Alvarado</td>\n",
       "      <td>Great upgrade over the Xbox 360 version.</td>\n",
       "      <td>1386115200</td>\n",
       "      <td>1.186235e-01</td>\n",
       "    </tr>\n",
       "    <tr>\n",
       "      <th>8</th>\n",
       "      <td>B0009A4EV2</td>\n",
       "      <td>[4, 4]</td>\n",
       "      <td>5</td>\n",
       "      <td>Next to the Final Fantasy series, the Dragon Q...</td>\n",
       "      <td>03 22, 2007</td>\n",
       "      <td>AJKWF4W7QD4NS</td>\n",
       "      <td>N. Durham \"Big Evil\"</td>\n",
       "      <td>One of the best games, ever, for the PS2</td>\n",
       "      <td>1174521600</td>\n",
       "      <td>4.627793e-01</td>\n",
       "    </tr>\n",
       "    <tr>\n",
       "      <th>9</th>\n",
       "      <td>B00002EQAP</td>\n",
       "      <td>[0, 0]</td>\n",
       "      <td>5</td>\n",
       "      <td>This game is so great, not just for the crazy ...</td>\n",
       "      <td>08 20, 2013</td>\n",
       "      <td>A1T4HGVX32QIYC</td>\n",
       "      <td>Will Ramirez</td>\n",
       "      <td>Great Game</td>\n",
       "      <td>1376956800</td>\n",
       "      <td>4.788158e-09</td>\n",
       "    </tr>\n",
       "    <tr>\n",
       "      <th>10</th>\n",
       "      <td>B004AM5RAW</td>\n",
       "      <td>[0, 0]</td>\n",
       "      <td>5</td>\n",
       "      <td>Good mouse for gaming, it's very useful if you...</td>\n",
       "      <td>09 1, 2013</td>\n",
       "      <td>A3GI4SKQXZOJI1</td>\n",
       "      <td>Stephano</td>\n",
       "      <td>Good Mouse</td>\n",
       "      <td>1377993600</td>\n",
       "      <td>1.315297e-07</td>\n",
       "    </tr>\n",
       "    <tr>\n",
       "      <th>11</th>\n",
       "      <td>B002I0J8FI</td>\n",
       "      <td>[2, 3]</td>\n",
       "      <td>4</td>\n",
       "      <td>Huge Metal Gear Solid fan here. Never was a hu...</td>\n",
       "      <td>02 28, 2013</td>\n",
       "      <td>A9LNEKS8QPIBO</td>\n",
       "      <td>M. Clark \"Nerd Alert\"</td>\n",
       "      <td>\"Over-the-Top\" doesn't begin to describe it</td>\n",
       "      <td>1362009600</td>\n",
       "      <td>1.492688e-07</td>\n",
       "    </tr>\n",
       "    <tr>\n",
       "      <th>12</th>\n",
       "      <td>B009JBFF9C</td>\n",
       "      <td>[1, 1]</td>\n",
       "      <td>4</td>\n",
       "      <td>This is the first PS3 shooter I played.  It's ...</td>\n",
       "      <td>01 10, 2013</td>\n",
       "      <td>A3PSCL2RXFINQ0</td>\n",
       "      <td>Dave A. \"Saki302\"</td>\n",
       "      <td>Decent game- typical shooter, but done well.</td>\n",
       "      <td>1357776000</td>\n",
       "      <td>3.878589e-08</td>\n",
       "    </tr>\n",
       "    <tr>\n",
       "      <th>13</th>\n",
       "      <td>B0045U9Q9M</td>\n",
       "      <td>[30, 30]</td>\n",
       "      <td>5</td>\n",
       "      <td>I really enjoyed this seek and find game.  You...</td>\n",
       "      <td>12 9, 2010</td>\n",
       "      <td>A20L9N5ZJZIQXN</td>\n",
       "      <td>Carter's Mom</td>\n",
       "      <td>A great seek and find game with excellent stor...</td>\n",
       "      <td>1291852800</td>\n",
       "      <td>2.332182e-02</td>\n",
       "    </tr>\n",
       "    <tr>\n",
       "      <th>14</th>\n",
       "      <td>B003O6E6NE</td>\n",
       "      <td>[0, 0]</td>\n",
       "      <td>4</td>\n",
       "      <td>I played the first Bioshock game when it final...</td>\n",
       "      <td>02 5, 2014</td>\n",
       "      <td>A3NM1I571IVU6</td>\n",
       "      <td>M. Seyam \"Mr.Chill-EE\"</td>\n",
       "      <td>So good I bought it twice!</td>\n",
       "      <td>1391558400</td>\n",
       "      <td>2.416154e-01</td>\n",
       "    </tr>\n",
       "    <tr>\n",
       "      <th>15</th>\n",
       "      <td>B002I0J82G</td>\n",
       "      <td>[0, 0]</td>\n",
       "      <td>5</td>\n",
       "      <td>I love BF3.  I play it more than any other gam...</td>\n",
       "      <td>12 5, 2012</td>\n",
       "      <td>AU8292VLTT87L</td>\n",
       "      <td>C. Sherwood</td>\n",
       "      <td>Awesome GAME!!</td>\n",
       "      <td>1354665600</td>\n",
       "      <td>2.930419e-05</td>\n",
       "    </tr>\n",
       "    <tr>\n",
       "      <th>16</th>\n",
       "      <td>B0007OSKVU</td>\n",
       "      <td>[0, 0]</td>\n",
       "      <td>5</td>\n",
       "      <td>My son and I saw this game previewed somewhere...</td>\n",
       "      <td>01 18, 2008</td>\n",
       "      <td>AQ5A10N61H758</td>\n",
       "      <td>Gankaku \"Lisa Akari\"</td>\n",
       "      <td>Smash It All!</td>\n",
       "      <td>1200614400</td>\n",
       "      <td>3.726458e-07</td>\n",
       "    </tr>\n",
       "    <tr>\n",
       "      <th>17</th>\n",
       "      <td>B0001JSSLS</td>\n",
       "      <td>[6, 15]</td>\n",
       "      <td>3</td>\n",
       "      <td>That's the word that most aptly describes this...</td>\n",
       "      <td>04 19, 2004</td>\n",
       "      <td>AGKJU4CBYSY1Y</td>\n",
       "      <td>Dennis Laycock</td>\n",
       "      <td>Bizarre</td>\n",
       "      <td>1082332800</td>\n",
       "      <td>2.795526e-05</td>\n",
       "    </tr>\n",
       "    <tr>\n",
       "      <th>18</th>\n",
       "      <td>B00005B70Y</td>\n",
       "      <td>[2, 2]</td>\n",
       "      <td>3</td>\n",
       "      <td>Don't get me wrong...I enjoyed this game. Afte...</td>\n",
       "      <td>11 13, 2001</td>\n",
       "      <td>A3H04M0RPD0T3H</td>\n",
       "      <td>Mercury \"Merc2k\"</td>\n",
       "      <td>Good game but somewhat lacking....</td>\n",
       "      <td>1005609600</td>\n",
       "      <td>3.437079e-04</td>\n",
       "    </tr>\n",
       "    <tr>\n",
       "      <th>19</th>\n",
       "      <td>B002I08VDI</td>\n",
       "      <td>[0, 2]</td>\n",
       "      <td>5</td>\n",
       "      <td>I thought this game was going to be boring. It...</td>\n",
       "      <td>04 3, 2011</td>\n",
       "      <td>ANGM5YEJGP38I</td>\n",
       "      <td>A. Fischer</td>\n",
       "      <td>Pilotwings Resort: My Review</td>\n",
       "      <td>1301788800</td>\n",
       "      <td>2.695134e-04</td>\n",
       "    </tr>\n",
       "  </tbody>\n",
       "</table>\n",
       "</div>"
      ],
      "text/plain": [
       "          asin   helpful  overall  \\\n",
       "0   B0047TLIBU  [31, 43]        5   \n",
       "1   B0053BCP40    [0, 0]        4   \n",
       "2   B000WCQWR6    [0, 0]        3   \n",
       "3   B00498T500    [4, 4]        4   \n",
       "4   B00005BIG7    [3, 3]        5   \n",
       "5   B002CYWJWO    [7, 8]        4   \n",
       "6   B001V9PTVE    [2, 2]        4   \n",
       "7   B00DBDPOZ4    [1, 1]        5   \n",
       "8   B0009A4EV2    [4, 4]        5   \n",
       "9   B00002EQAP    [0, 0]        5   \n",
       "10  B004AM5RAW    [0, 0]        5   \n",
       "11  B002I0J8FI    [2, 3]        4   \n",
       "12  B009JBFF9C    [1, 1]        4   \n",
       "13  B0045U9Q9M  [30, 30]        5   \n",
       "14  B003O6E6NE    [0, 0]        4   \n",
       "15  B002I0J82G    [0, 0]        5   \n",
       "16  B0007OSKVU    [0, 0]        5   \n",
       "17  B0001JSSLS   [6, 15]        3   \n",
       "18  B00005B70Y    [2, 2]        3   \n",
       "19  B002I08VDI    [0, 2]        5   \n",
       "\n",
       "                                           reviewText   reviewTime  \\\n",
       "0   Been playing this for two days now, and I am v...  03 10, 2011   \n",
       "1   I really enjoyed playing this game, although i...  02 27, 2014   \n",
       "2   This was kind of a gamble and was looking for ...   07 7, 2013   \n",
       "3   ***Updated 7/7/2011 - update marked below***I ...  04 10, 2011   \n",
       "4   It looks like we've come a long way from past ...  07 13, 2001   \n",
       "5   Tellurye, here with another review brought to ...  10 30, 2009   \n",
       "6   Fallout 2 is worth the price alone... but if y...   09 6, 2009   \n",
       "7   As I'm not a fan of AA batteries, this accesso...   12 4, 2013   \n",
       "8   Next to the Final Fantasy series, the Dragon Q...  03 22, 2007   \n",
       "9   This game is so great, not just for the crazy ...  08 20, 2013   \n",
       "10  Good mouse for gaming, it's very useful if you...   09 1, 2013   \n",
       "11  Huge Metal Gear Solid fan here. Never was a hu...  02 28, 2013   \n",
       "12  This is the first PS3 shooter I played.  It's ...  01 10, 2013   \n",
       "13  I really enjoyed this seek and find game.  You...   12 9, 2010   \n",
       "14  I played the first Bioshock game when it final...   02 5, 2014   \n",
       "15  I love BF3.  I play it more than any other gam...   12 5, 2012   \n",
       "16  My son and I saw this game previewed somewhere...  01 18, 2008   \n",
       "17  That's the word that most aptly describes this...  04 19, 2004   \n",
       "18  Don't get me wrong...I enjoyed this game. Afte...  11 13, 2001   \n",
       "19  I thought this game was going to be boring. It...   04 3, 2011   \n",
       "\n",
       "        reviewerID                      reviewerName  \\\n",
       "0   A17M1HL6U2GS7M                        Storylover   \n",
       "1   A1FGU7F9UJ264N                     Kelly Randall   \n",
       "2   A3R7M2EP1EYNVT             Thomas B. Hileman Jr.   \n",
       "3   A369KP0JV77JYT                               Jon   \n",
       "4     ABIKTKAWOMY8                     Chance Farley   \n",
       "5   A2SYA663GK3EEJ  R. Stevens \"Fedora Technologies\"   \n",
       "6   A39AUQ3IP3C8KI                      J. Nicholson   \n",
       "7   A22N09ZP9D77DM                       D. Alvarado   \n",
       "8    AJKWF4W7QD4NS              N. Durham \"Big Evil\"   \n",
       "9   A1T4HGVX32QIYC                      Will Ramirez   \n",
       "10  A3GI4SKQXZOJI1                          Stephano   \n",
       "11   A9LNEKS8QPIBO             M. Clark \"Nerd Alert\"   \n",
       "12  A3PSCL2RXFINQ0                 Dave A. \"Saki302\"   \n",
       "13  A20L9N5ZJZIQXN                      Carter's Mom   \n",
       "14   A3NM1I571IVU6            M. Seyam \"Mr.Chill-EE\"   \n",
       "15   AU8292VLTT87L                       C. Sherwood   \n",
       "16   AQ5A10N61H758              Gankaku \"Lisa Akari\"   \n",
       "17   AGKJU4CBYSY1Y                    Dennis Laycock   \n",
       "18  A3H04M0RPD0T3H                  Mercury \"Merc2k\"   \n",
       "19   ANGM5YEJGP38I                        A. Fischer   \n",
       "\n",
       "                                              summary  unixReviewTime  \\\n",
       "0   It feels like hanging out with old friends aga...      1299715200   \n",
       "1                                            Fun game      1393459200   \n",
       "2                                         Shoot em up      1373155200   \n",
       "3          Fun for a group, don't pay too much for it      1302393600   \n",
       "4         One of the best fps's to ever hit a console       994982400   \n",
       "5   Does the Saw universe justice, but controls ma...      1256860800   \n",
       "6                  Worth it (even if it was just FO2)      1252195200   \n",
       "7            Great upgrade over the Xbox 360 version.      1386115200   \n",
       "8            One of the best games, ever, for the PS2      1174521600   \n",
       "9                                          Great Game      1376956800   \n",
       "10                                         Good Mouse      1377993600   \n",
       "11        \"Over-the-Top\" doesn't begin to describe it      1362009600   \n",
       "12       Decent game- typical shooter, but done well.      1357776000   \n",
       "13  A great seek and find game with excellent stor...      1291852800   \n",
       "14                         So good I bought it twice!      1391558400   \n",
       "15                                     Awesome GAME!!      1354665600   \n",
       "16                                      Smash It All!      1200614400   \n",
       "17                                            Bizarre      1082332800   \n",
       "18                 Good game but somewhat lacking....      1005609600   \n",
       "19                       Pilotwings Resort: My Review      1301788800   \n",
       "\n",
       "           value  \n",
       "0   5.993661e-04  \n",
       "1   2.271945e-07  \n",
       "2   3.205947e-02  \n",
       "3   6.258070e-03  \n",
       "4   5.010131e-03  \n",
       "5   2.050861e-04  \n",
       "6   6.256847e-09  \n",
       "7   1.186235e-01  \n",
       "8   4.627793e-01  \n",
       "9   4.788158e-09  \n",
       "10  1.315297e-07  \n",
       "11  1.492688e-07  \n",
       "12  3.878589e-08  \n",
       "13  2.332182e-02  \n",
       "14  2.416154e-01  \n",
       "15  2.930419e-05  \n",
       "16  3.726458e-07  \n",
       "17  2.795526e-05  \n",
       "18  3.437079e-04  \n",
       "19  2.695134e-04  "
      ]
     },
     "execution_count": 91,
     "metadata": {},
     "output_type": "execute_result"
    }
   ],
   "source": [
    "df_merged.head(20)"
   ]
  },
  {
   "cell_type": "code",
   "execution_count": 101,
   "metadata": {},
   "outputs": [
    {
     "data": {
      "text/plain": [
       "4.226522013061119"
      ]
     },
     "execution_count": 101,
     "metadata": {},
     "output_type": "execute_result"
    }
   ],
   "source": [
    "mean_squared_error(df_merged.overall, df_merged.value) ** 0.5"
   ]
  },
  {
   "cell_type": "code",
   "execution_count": 105,
   "metadata": {},
   "outputs": [
    {
     "data": {
      "text/plain": [
       "17259"
      ]
     },
     "execution_count": 105,
     "metadata": {},
     "output_type": "execute_result"
    }
   ],
   "source": [
    "sum((df_merged.overall - df_merged.value) < 3)"
   ]
  },
  {
   "cell_type": "code",
   "execution_count": 109,
   "metadata": {},
   "outputs": [],
   "source": [
    "idx = ((df_merged.overall - df_merged.value < 1) & (df_merged.overall > 1))"
   ]
  },
  {
   "cell_type": "code",
   "execution_count": 110,
   "metadata": {},
   "outputs": [
    {
     "data": {
      "text/plain": [
       "(23, 10)"
      ]
     },
     "execution_count": 110,
     "metadata": {},
     "output_type": "execute_result"
    }
   ],
   "source": [
    "df_merged[idx].shape"
   ]
  }
 ],
 "metadata": {
  "kernelspec": {
   "display_name": "Python 3",
   "language": "python",
   "name": "python3"
  },
  "language_info": {
   "codemirror_mode": {
    "name": "ipython",
    "version": 3
   },
   "file_extension": ".py",
   "mimetype": "text/x-python",
   "name": "python",
   "nbconvert_exporter": "python",
   "pygments_lexer": "ipython3",
   "version": "3.5.5"
  }
 },
 "nbformat": 4,
 "nbformat_minor": 2
}
