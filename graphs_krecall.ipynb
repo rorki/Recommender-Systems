{
 "cells": [
  {
   "cell_type": "markdown",
   "metadata": {},
   "source": [
    "## Recall@K graphs for predictors"
   ]
  },
  {
   "cell_type": "code",
   "execution_count": 1,
   "metadata": {},
   "outputs": [],
   "source": [
    "# all aux imports\n",
    "import pandas as pd\n",
    "import numpy as np\n",
    "import pickle\n",
    "import random\n",
    "import glob\n",
    "from pathlib import Path\n",
    "import csv\n",
    "from collections import namedtuple, defaultdict\n",
    "import os\n",
    "import pandas as pd\n",
    "import matplotlib.pyplot as plt\n",
    "import seaborn as sns\n",
    "sns.set()\n",
    "sns.set_style(style='whitegrid')\n",
    "\n",
    "%matplotlib inline"
   ]
  },
  {
   "cell_type": "code",
   "execution_count": 2,
   "metadata": {},
   "outputs": [],
   "source": [
    "XP_NAMES = ['baselines', 'sdae_optimized']\n",
    "XP_PATHS = ['./xps/%s/' % name for name in XP_NAMES]"
   ]
  },
  {
   "cell_type": "code",
   "execution_count": 3,
   "metadata": {},
   "outputs": [
    {
     "data": {
      "text/plain": [
       "['./xps/baselines/', './xps/sdae_optimized/']"
      ]
     },
     "execution_count": 3,
     "metadata": {},
     "output_type": "execute_result"
    }
   ],
   "source": [
    "XP_PATHS"
   ]
  },
  {
   "cell_type": "code",
   "execution_count": 4,
   "metadata": {},
   "outputs": [],
   "source": [
    "## load categories of amazon DS\n",
    "\n",
    "parent_path = r'D:\\Datasets\\amazon_reviews\\gzips'\n",
    "files = [Path(f) for f in glob.glob(parent_path  + r\"\\*.gz\", recursive=False)]\n",
    "categories = [' '.join(file.stem.split('_')[1:-1]) for file in files]"
   ]
  },
  {
   "cell_type": "code",
   "execution_count": 5,
   "metadata": {},
   "outputs": [
    {
     "data": {
      "text/plain": [
       "['Books',\n",
       " 'CDs and Vinyl',\n",
       " 'Cell Phones and Accessories',\n",
       " 'Clothing Shoes and Jewelry',\n",
       " 'Electronics',\n",
       " 'Health and Personal Care',\n",
       " 'Home and Kitchen',\n",
       " 'Kindle Store',\n",
       " 'Movies and TV',\n",
       " 'Sports and Outdoors',\n",
       " 'Toys and Games',\n",
       " 'Video Games']"
      ]
     },
     "execution_count": 5,
     "metadata": {},
     "output_type": "execute_result"
    }
   ],
   "source": [
    "categories"
   ]
  },
  {
   "cell_type": "code",
   "execution_count": 6,
   "metadata": {},
   "outputs": [],
   "source": [
    "predictors = ['Normal Predictor', 'CDL-SDAE', 'SVD-15']"
   ]
  },
  {
   "cell_type": "code",
   "execution_count": 7,
   "metadata": {},
   "outputs": [],
   "source": [
    "lookup_paths =  [path + f for path in XP_PATHS for f in os.listdir(path)] "
   ]
  },
  {
   "cell_type": "code",
   "execution_count": 8,
   "metadata": {},
   "outputs": [
    {
     "data": {
      "text/plain": [
       "['./xps/baselines/.ipynb_checkpoints',\n",
       " './xps/baselines/kpr_Normal Predictor_Books.csv',\n",
       " './xps/baselines/kpr_Normal Predictor_CDs and Vinyl.csv',\n",
       " './xps/baselines/kpr_Normal Predictor_Cell Phones and Accessories.csv',\n",
       " './xps/baselines/kpr_Normal Predictor_Clothing Shoes and Jewelry.csv',\n",
       " './xps/baselines/kpr_Normal Predictor_Electronics.csv',\n",
       " './xps/baselines/kpr_Normal Predictor_Health and Personal Care.csv',\n",
       " './xps/baselines/kpr_Normal Predictor_Home and Kitchen.csv',\n",
       " './xps/baselines/kpr_Normal Predictor_Kindle Store.csv',\n",
       " './xps/baselines/kpr_Normal Predictor_Movies and TV.csv',\n",
       " './xps/baselines/kpr_Normal Predictor_Sports and Outdoors.csv',\n",
       " './xps/baselines/kpr_Normal Predictor_Toys and Games.csv',\n",
       " './xps/baselines/kpr_Normal Predictor_Video Games.csv',\n",
       " './xps/baselines/kpr_SVD-15_Books.csv',\n",
       " './xps/baselines/kpr_SVD-15_CDs and Vinyl.csv',\n",
       " './xps/baselines/kpr_SVD-15_Cell Phones and Accessories.csv',\n",
       " './xps/baselines/kpr_SVD-15_Clothing Shoes and Jewelry.csv',\n",
       " './xps/baselines/kpr_SVD-15_Electronics.csv',\n",
       " './xps/baselines/kpr_SVD-15_Health and Personal Care.csv',\n",
       " './xps/baselines/kpr_SVD-15_Home and Kitchen.csv',\n",
       " './xps/baselines/kpr_SVD-15_Kindle Store.csv',\n",
       " './xps/baselines/kpr_SVD-15_Movies and TV.csv',\n",
       " './xps/baselines/kpr_SVD-15_Sports and Outdoors.csv',\n",
       " './xps/baselines/kpr_SVD-15_Toys and Games.csv',\n",
       " './xps/baselines/kpr_SVD-15_Video Games.csv',\n",
       " './xps/baselines/kpr_SVD-30_Books.csv',\n",
       " './xps/baselines/kpr_SVD-30_CDs and Vinyl.csv',\n",
       " './xps/baselines/kpr_SVD-30_Cell Phones and Accessories.csv',\n",
       " './xps/baselines/kpr_SVD-30_Clothing Shoes and Jewelry.csv',\n",
       " './xps/baselines/kpr_SVD-30_Electronics.csv',\n",
       " './xps/baselines/kpr_SVD-30_Health and Personal Care.csv',\n",
       " './xps/baselines/kpr_SVD-30_Home and Kitchen.csv',\n",
       " './xps/baselines/kpr_SVD-30_Kindle Store.csv',\n",
       " './xps/baselines/kpr_SVD-30_Movies and TV.csv',\n",
       " './xps/baselines/kpr_SVD-30_Sports and Outdoors.csv',\n",
       " './xps/baselines/kpr_SVD-30_Toys and Games.csv',\n",
       " './xps/baselines/kpr_SVD-30_Video Games.csv',\n",
       " './xps/baselines/Normal Predictor.csv',\n",
       " './xps/baselines/SVD-15.csv',\n",
       " './xps/baselines/SVD-30.csv',\n",
       " './xps/sdae_optimized/CDL-SDAE.csv',\n",
       " './xps/sdae_optimized/kpr_CDL-SDAE_Video Games.csv']"
      ]
     },
     "execution_count": 8,
     "metadata": {},
     "output_type": "execute_result"
    }
   ],
   "source": [
    "lookup_paths"
   ]
  },
  {
   "cell_type": "code",
   "execution_count": 9,
   "metadata": {},
   "outputs": [
    {
     "name": "stdout",
     "output_type": "stream",
     "text": [
      "No file found for kpr_CDL-SDAE_Books.csv\n",
      "No file found for kpr_CDL-SDAE_CDs and Vinyl.csv\n",
      "No file found for kpr_CDL-SDAE_Cell Phones and Accessories.csv\n",
      "No file found for kpr_CDL-SDAE_Clothing Shoes and Jewelry.csv\n",
      "No file found for kpr_CDL-SDAE_Electronics.csv\n",
      "No file found for kpr_CDL-SDAE_Health and Personal Care.csv\n",
      "No file found for kpr_CDL-SDAE_Home and Kitchen.csv\n",
      "No file found for kpr_CDL-SDAE_Kindle Store.csv\n",
      "No file found for kpr_CDL-SDAE_Movies and TV.csv\n",
      "No file found for kpr_CDL-SDAE_Sports and Outdoors.csv\n",
      "No file found for kpr_CDL-SDAE_Toys and Games.csv\n"
     ]
    }
   ],
   "source": [
    "## Load DataFrames\n",
    "df_per_cat = {}\n",
    "for cat in categories:\n",
    "    dfs = []\n",
    "    for p in predictors:\n",
    "        file_name = 'kpr_%s_%s.csv' % (p, cat)\n",
    "        file_paths = [lp for lp in lookup_paths if lp.endswith(file_name)]\n",
    "        if len(file_paths) != 0:\n",
    "            df  = pd.read_csv(file_paths[0])\n",
    "            dfs.append(df)\n",
    "        else:\n",
    "            print('No file found for %s' % file_name)\n",
    "    #complete_df = pd.merge(*dfs, on ='k')\n",
    "    df_per_cat[cat] = dfs"
   ]
  },
  {
   "cell_type": "code",
   "execution_count": 10,
   "metadata": {},
   "outputs": [
    {
     "data": {
      "text/plain": [
       "dict_keys(['Books', 'Movies and TV', 'Toys and Games', 'Clothing Shoes and Jewelry', 'Electronics', 'Video Games', 'Kindle Store', 'CDs and Vinyl', 'Health and Personal Care', 'Cell Phones and Accessories', 'Sports and Outdoors', 'Home and Kitchen'])"
      ]
     },
     "execution_count": 10,
     "metadata": {},
     "output_type": "execute_result"
    }
   ],
   "source": [
    "df_per_cat.keys()"
   ]
  },
  {
   "cell_type": "markdown",
   "metadata": {},
   "source": [
    "## Visualize categories"
   ]
  },
  {
   "cell_type": "code",
   "execution_count": 11,
   "metadata": {},
   "outputs": [],
   "source": [
    "def viz_cat(cat, label='recall'):\n",
    "    f, ax = plt.subplots()#figsize=(8, 5))\n",
    "    ax.set(xlim=(0, 20), ylim = (0, 1))\n",
    "\n",
    "    labels = []\n",
    "    for df in df_per_cat[cat]: \n",
    "        sns.lineplot(y=label, x = 'k', palette='deep', data=df.sort_values(by='k'), ax = ax)\n",
    "        labels.append(df.iloc[0].predictor)\n",
    "\n",
    "    plt.legend(labels, loc='lower right')\n",
    "    ax.set(xlabel='M', ylabel=label[0].upper() + label[1:])\n",
    "    plt.tight_layout()\n"
   ]
  },
  {
   "cell_type": "code",
   "execution_count": 97,
   "metadata": {},
   "outputs": [
    {
     "data": {
      "image/png": "[encoded data removed]",
      "text/plain": [
       "<Figure size 432x288 with 1 Axes>"
      ]
     },
     "metadata": {},
     "output_type": "display_data"
    }
   ],
   "source": [
    "viz_cat('Books')"
   ]
  },
  {
   "cell_type": "code",
   "execution_count": 13,
   "metadata": {},
   "outputs": [
    {
     "data": {
      "image/png": "[encoded data removed]",
      "text/plain": [
       "<Figure size 432x288 with 1 Axes>"
      ]
     },
     "metadata": {},
     "output_type": "display_data"
    }
   ],
   "source": [
    "viz_cat('Video Games', 'precision')"
   ]
  },
  {
   "cell_type": "code",
   "execution_count": null,
   "metadata": {},
   "outputs": [],
   "source": []
  }
 ],
 "metadata": {
  "kernelspec": {
   "display_name": "Python 3",
   "language": "python",
   "name": "python3"
  },
  "language_info": {
   "codemirror_mode": {
    "name": "ipython",
    "version": 3
   },
   "file_extension": ".py",
   "mimetype": "text/x-python",
   "name": "python",
   "nbconvert_exporter": "python",
   "pygments_lexer": "ipython3",
   "version": "3.5.5"
  }
 },
 "nbformat": 4,
 "nbformat_minor": 2
}
