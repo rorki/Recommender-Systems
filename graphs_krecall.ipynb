{
 "cells": [
  {
   "cell_type": "markdown",
   "metadata": {},
   "source": [
    "## Recall@K graphs for predictors"
   ]
  },
  {
   "cell_type": "code",
   "execution_count": 1,
   "metadata": {},
   "outputs": [],
   "source": [
    "# all aux imports\n",
    "import pandas as pd\n",
    "import numpy as np\n",
    "import pickle\n",
    "import random\n",
    "import glob\n",
    "from pathlib import Path\n",
    "import csv\n",
    "from collections import namedtuple, defaultdict\n",
    "import os\n",
    "import pandas as pd\n",
    "import matplotlib.pyplot as plt\n",
    "import seaborn as sns\n",
    "sns.set()\n",
    "sns.set_style(style='whitegrid')\n",
    "\n",
    "%matplotlib inline"
   ]
  },
  {
   "cell_type": "code",
   "execution_count": 2,
   "metadata": {},
   "outputs": [],
   "source": [
    "XP_NAME = 'baselines'\n",
    "XP_PATH = './xps/%s/' % XP_NAME"
   ]
  },
  {
   "cell_type": "code",
   "execution_count": 3,
   "metadata": {},
   "outputs": [
    {
     "data": {
      "text/plain": [
       "'./xps/baselines/'"
      ]
     },
     "execution_count": 3,
     "metadata": {},
     "output_type": "execute_result"
    }
   ],
   "source": [
    "XP_PATH"
   ]
  },
  {
   "cell_type": "code",
   "execution_count": 4,
   "metadata": {},
   "outputs": [],
   "source": [
    "## load categories of amazon DS\n",
    "\n",
    "parent_path = r'D:\\Datasets\\amazon_reviews\\gzips'\n",
    "files = [Path(f) for f in glob.glob(parent_path  + r\"\\*.gz\", recursive=False)]\n",
    "categories = [' '.join(file.stem.split('_')[1:-1]) for file in files]"
   ]
  },
  {
   "cell_type": "code",
   "execution_count": 5,
   "metadata": {},
   "outputs": [
    {
     "data": {
      "text/plain": [
       "['Books',\n",
       " 'CDs and Vinyl',\n",
       " 'Cell Phones and Accessories',\n",
       " 'Clothing Shoes and Jewelry',\n",
       " 'Electronics',\n",
       " 'Health and Personal Care',\n",
       " 'Home and Kitchen',\n",
       " 'Kindle Store',\n",
       " 'Movies and TV',\n",
       " 'Sports and Outdoors',\n",
       " 'Toys and Games',\n",
       " 'Video Games']"
      ]
     },
     "execution_count": 5,
     "metadata": {},
     "output_type": "execute_result"
    }
   ],
   "source": [
    "categories"
   ]
  },
  {
   "cell_type": "code",
   "execution_count": 6,
   "metadata": {},
   "outputs": [],
   "source": [
    "predictors = ['Normal Predictor']"
   ]
  },
  {
   "cell_type": "code",
   "execution_count": 7,
   "metadata": {},
   "outputs": [],
   "source": [
    "## Load DataFrames\n",
    "df_per_cat = {}\n",
    "for cat in categories:\n",
    "    dfs = []\n",
    "    for p in predictors:\n",
    "        file_name = 'kpr_%s_%s.csv' % (p, cat)\n",
    "        \n",
    "        df  = pd.read_csv(XP_PATH + file_name)\n",
    "        dfs.append(df)\n",
    "    \n",
    "    #complete_df = pd.merge(*dfs, on ='k')\n",
    "    df_per_cat[cat] = dfs"
   ]
  },
  {
   "cell_type": "code",
   "execution_count": 8,
   "metadata": {},
   "outputs": [
    {
     "data": {
      "text/plain": [
       "dict_keys(['Movies and TV', 'Toys and Games', 'CDs and Vinyl', 'Health and Personal Care', 'Clothing Shoes and Jewelry', 'Sports and Outdoors', 'Kindle Store', 'Home and Kitchen', 'Electronics', 'Cell Phones and Accessories', 'Video Games', 'Books'])"
      ]
     },
     "execution_count": 8,
     "metadata": {},
     "output_type": "execute_result"
    }
   ],
   "source": [
    "df_per_cat.keys()"
   ]
  },
  {
   "cell_type": "markdown",
   "metadata": {},
   "source": [
    "## Visualize categories"
   ]
  },
  {
   "cell_type": "code",
   "execution_count": 9,
   "metadata": {},
   "outputs": [],
   "source": [
    "def viz_cat(cat):\n",
    "    f, ax = plt.subplots()#figsize=(8, 5))\n",
    "    ax.set(xlim=(0, 200), ylim = (0, 1))\n",
    "\n",
    "    labels = []\n",
    "    for df in df_per_cat[cat]: \n",
    "        sns.lineplot(y='recall', x = 'k', palette='deep', data=df.sort_values(by='k'), ax = ax)\n",
    "        labels.append(df.iloc[0].predictor)\n",
    "\n",
    "    plt.legend(labels, loc='lower right')\n",
    "    ax.set(xlabel='M', ylabel='Recall')\n",
    "    plt.tight_layout()\n"
   ]
  },
  {
   "cell_type": "code",
   "execution_count": 10,
   "metadata": {},
   "outputs": [
    {
     "data": {
      "image/png": "[encoded data removed]",
      "text/plain": [
       "<Figure size 432x288 with 1 Axes>"
      ]
     },
     "metadata": {},
     "output_type": "display_data"
    }
   ],
   "source": [
    "viz_cat('Books')"
   ]
  },
  {
   "cell_type": "code",
   "execution_count": 11,
   "metadata": {},
   "outputs": [
    {
     "data": {
      "image/png": "[encoded data removed]",
      "text/plain": [
       "<Figure size 432x288 with 1 Axes>"
      ]
     },
     "metadata": {},
     "output_type": "display_data"
    }
   ],
   "source": [
    "viz_cat('Electronics')"
   ]
  }
 ],
 "metadata": {
  "kernelspec": {
   "display_name": "Python 3",
   "language": "python",
   "name": "python3"
  },
  "language_info": {
   "codemirror_mode": {
    "name": "ipython",
    "version": 3
   },
   "file_extension": ".py",
   "mimetype": "text/x-python",
   "name": "python",
   "nbconvert_exporter": "python",
   "pygments_lexer": "ipython3",
   "version": "3.5.5"
  }
 },
 "nbformat": 4,
 "nbformat_minor": 2
}
